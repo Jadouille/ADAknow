{
 "cells": [
  {
   "cell_type": "markdown",
   "metadata": {
    "toc": true
   },
   "source": [
    "<h1>Table of Contents<span class=\"tocSkip\"></span></h1>\n",
    "<div class=\"toc\"><ul class=\"toc-item\"><li><span><a href=\"#DATA-SET:-Chicago's-Food-Inspection\" data-toc-modified-id=\"DATA-SET:-Chicago's-Food-Inspection-1\"><span class=\"toc-item-num\">1&nbsp;&nbsp;</span>DATA SET: Chicago's Food Inspection</a></span></li><li><span><a href=\"#Data-Overview\" data-toc-modified-id=\"Data-Overview-2\"><span class=\"toc-item-num\">2&nbsp;&nbsp;</span>Data Overview</a></span></li><li><span><a href=\"#Treatment-of-the-data\" data-toc-modified-id=\"Treatment-of-the-data-3\"><span class=\"toc-item-num\">3&nbsp;&nbsp;</span>Treatment of the data</a></span><ul class=\"toc-item\"><li><span><a href=\"#inspection_id\" data-toc-modified-id=\"inspection_id-3.1\"><span class=\"toc-item-num\">3.1&nbsp;&nbsp;</span>inspection_id</a></span></li><li><span><a href=\"#DBA-name\" data-toc-modified-id=\"DBA-name-3.2\"><span class=\"toc-item-num\">3.2&nbsp;&nbsp;</span>DBA name</a></span></li><li><span><a href=\"#AKA-Name\" data-toc-modified-id=\"AKA-Name-3.3\"><span class=\"toc-item-num\">3.3&nbsp;&nbsp;</span>AKA Name</a></span></li><li><span><a href=\"#License-Number\" data-toc-modified-id=\"License-Number-3.4\"><span class=\"toc-item-num\">3.4&nbsp;&nbsp;</span>License Number</a></span></li><li><span><a href=\"#Facility-Type\" data-toc-modified-id=\"Facility-Type-3.5\"><span class=\"toc-item-num\">3.5&nbsp;&nbsp;</span>Facility Type</a></span></li><li><span><a href=\"#Risk\" data-toc-modified-id=\"Risk-3.6\"><span class=\"toc-item-num\">3.6&nbsp;&nbsp;</span>Risk</a></span></li><li><span><a href=\"#Address\" data-toc-modified-id=\"Address-3.7\"><span class=\"toc-item-num\">3.7&nbsp;&nbsp;</span>Address</a></span></li><li><span><a href=\"#City\" data-toc-modified-id=\"City-3.8\"><span class=\"toc-item-num\">3.8&nbsp;&nbsp;</span>City</a></span></li><li><span><a href=\"#State\" data-toc-modified-id=\"State-3.9\"><span class=\"toc-item-num\">3.9&nbsp;&nbsp;</span>State</a></span></li><li><span><a href=\"#Location\" data-toc-modified-id=\"Location-3.10\"><span class=\"toc-item-num\">3.10&nbsp;&nbsp;</span>Location</a></span></li><li><span><a href=\"#Inspection-type\" data-toc-modified-id=\"Inspection-type-3.11\"><span class=\"toc-item-num\">3.11&nbsp;&nbsp;</span>Inspection type</a></span></li></ul></li><li><span><a href=\"#Data-Exploration\" data-toc-modified-id=\"Data-Exploration-4\"><span class=\"toc-item-num\">4&nbsp;&nbsp;</span>Data Exploration</a></span><ul class=\"toc-item\"><li><span><a href=\"#Missing-Data\" data-toc-modified-id=\"Missing-Data-4.1\"><span class=\"toc-item-num\">4.1&nbsp;&nbsp;</span>Missing Data</a></span></li><li><span><a href=\"#Inspections-by-type--of-business\" data-toc-modified-id=\"Inspections-by-type--of-business-4.2\"><span class=\"toc-item-num\">4.2&nbsp;&nbsp;</span>Inspections by type  of business</a></span></li><li><span><a href=\"#Relationship-between-columns\" data-toc-modified-id=\"Relationship-between-columns-4.3\"><span class=\"toc-item-num\">4.3&nbsp;&nbsp;</span>Relationship between columns</a></span></li><li><span><a href=\"#Where-are-the-inspections-located?\" data-toc-modified-id=\"Where-are-the-inspections-located?-4.4\"><span class=\"toc-item-num\">4.4&nbsp;&nbsp;</span>Where are the inspections located?</a></span></li></ul></li><li><span><a href=\"#Ethnicity-Dataset\" data-toc-modified-id=\"Ethnicity-Dataset-5\"><span class=\"toc-item-num\">5&nbsp;&nbsp;</span>Ethnicity Dataset</a></span><ul class=\"toc-item\"><li><span><a href=\"#Read-Data\" data-toc-modified-id=\"Read-Data-5.1\"><span class=\"toc-item-num\">5.1&nbsp;&nbsp;</span>Read Data</a></span><ul class=\"toc-item\"><li><span><a href=\"#Ethnicity-Dataframe\" data-toc-modified-id=\"Ethnicity-Dataframe-5.1.1\"><span class=\"toc-item-num\">5.1.1&nbsp;&nbsp;</span>Ethnicity Dataframe</a></span></li><li><span><a href=\"#Boundaries-for-the-map\" data-toc-modified-id=\"Boundaries-for-the-map-5.1.2\"><span class=\"toc-item-num\">5.1.2&nbsp;&nbsp;</span>Boundaries for the map</a></span><ul class=\"toc-item\"><li><span><a href=\"#Create-geojson-file\" data-toc-modified-id=\"Create-geojson-file-5.1.2.1\"><span class=\"toc-item-num\">5.1.2.1&nbsp;&nbsp;</span>Create geojson file</a></span></li></ul></li><li><span><a href=\"#Chicago-inspections\" data-toc-modified-id=\"Chicago-inspections-5.1.3\"><span class=\"toc-item-num\">5.1.3&nbsp;&nbsp;</span>Chicago inspections</a></span></li></ul></li></ul></li><li><span><a href=\"#Creating-map\" data-toc-modified-id=\"Creating-map-6\"><span class=\"toc-item-num\">6&nbsp;&nbsp;</span>Creating map</a></span><ul class=\"toc-item\"><li><span><a href=\"#Total-density\" data-toc-modified-id=\"Total-density-6.1\"><span class=\"toc-item-num\">6.1&nbsp;&nbsp;</span>Total density</a></span></li><li><span><a href=\"#White-population-alone\" data-toc-modified-id=\"White-population-alone-6.2\"><span class=\"toc-item-num\">6.2&nbsp;&nbsp;</span>White population alone</a></span></li><li><span><a href=\"#Hispanic-or-Latino\" data-toc-modified-id=\"Hispanic-or-Latino-6.3\"><span class=\"toc-item-num\">6.3&nbsp;&nbsp;</span>Hispanic or Latino</a></span></li></ul></li></ul></div>"
   ]
  },
  {
   "cell_type": "code",
   "execution_count": 1,
   "metadata": {
    "ExecuteTime": {
     "end_time": "2019-11-25T15:03:06.825034Z",
     "start_time": "2019-11-25T15:03:00.071328Z"
    }
   },
   "outputs": [],
   "source": [
    "# Data Manipulation Libraries\n",
    "import pandas as pd\n",
    "import numpy as np\n",
    "import pickle \n",
    "from itertools import combinations\n",
    "from pyjarowinkler import distance\n",
    "\n",
    "# NLP Libraries\n",
    "from nltk.corpus import wordnet as wn\n",
    "from nltk.tokenize import RegexpTokenizer\n",
    "from nltk.corpus import stopwords\n",
    "from nltk.stem import WordNetLemmatizer\n",
    "\n",
    "# Data Visualisation Libraries\n",
    "from matplotlib import pyplot as plt\n",
    "import seaborn as sns\n",
    "from IPython.display import HTML\n",
    "\n",
    "# Geographical Data Libraries\n",
    "import geopandas as gpd\n",
    "import folium\n",
    "import pgeocode\n",
    "import shapefile\n",
    "from json import dumps\n",
    "\n",
    "import warnings\n",
    "warnings.filterwarnings(\"ignore\")"
   ]
  },
  {
   "cell_type": "markdown",
   "metadata": {},
   "source": [
    "# DATA SET: Chicago's Food Inspection"
   ]
  },
  {
   "cell_type": "markdown",
   "metadata": {},
   "source": [
    "Chicago's Food Inspection Dataset is derived from a larger initiative from the local authorities of Chicago to make Government's data publicly available to everyone. Other similar datasets are available at https://data.cityofchicago.org\n",
    "\n",
    "This dataset, in particular, is generated from inspections of restaurants and other food establishments in Chicago from January 1, 2010, to the present. Inspections are performed by staff from the Chicago Department of Public Health’s Food Protection Program using a standardized procedure. The results of the inspection are inputted into a database, then reviewed and approved by a State of Illinois Licensed Environmental Health Practitioner (LEHP).\n",
    "\n",
    "- __Data Owner__: Chicago Department of Public Health\n",
    "- __Time Period__: 2010 - Present\n",
    "- __Frequency__: This database was updated with information from new inspections each Friday.\n"
   ]
  },
  {
   "cell_type": "markdown",
   "metadata": {},
   "source": [
    "# Data Overview"
   ]
  },
  {
   "cell_type": "markdown",
   "metadata": {},
   "source": [
    "First of all, we are going to understand the dataset and its content. Initial analyis on the food-inspections dataset in Chicago follows below:"
   ]
  },
  {
   "cell_type": "code",
   "execution_count": 2,
   "metadata": {
    "ExecuteTime": {
     "end_time": "2019-11-25T15:03:09.728492Z",
     "start_time": "2019-11-25T15:03:06.827029Z"
    }
   },
   "outputs": [
    {
     "data": {
      "text/html": [
       "<div>\n",
       "<style scoped>\n",
       "    .dataframe tbody tr th:only-of-type {\n",
       "        vertical-align: middle;\n",
       "    }\n",
       "\n",
       "    .dataframe tbody tr th {\n",
       "        vertical-align: top;\n",
       "    }\n",
       "\n",
       "    .dataframe thead th {\n",
       "        text-align: right;\n",
       "    }\n",
       "</style>\n",
       "<table border=\"1\" class=\"dataframe\">\n",
       "  <thead>\n",
       "    <tr style=\"text-align: right;\">\n",
       "      <th></th>\n",
       "      <th>Inspection ID</th>\n",
       "      <th>DBA Name</th>\n",
       "      <th>AKA Name</th>\n",
       "      <th>License #</th>\n",
       "      <th>Facility Type</th>\n",
       "      <th>Risk</th>\n",
       "      <th>Address</th>\n",
       "      <th>City</th>\n",
       "      <th>State</th>\n",
       "      <th>Zip</th>\n",
       "      <th>...</th>\n",
       "      <th>Results</th>\n",
       "      <th>Violations</th>\n",
       "      <th>Latitude</th>\n",
       "      <th>Longitude</th>\n",
       "      <th>Location</th>\n",
       "      <th>Historical Wards 2003-2015</th>\n",
       "      <th>Zip Codes</th>\n",
       "      <th>Community Areas</th>\n",
       "      <th>Census Tracts</th>\n",
       "      <th>Wards</th>\n",
       "    </tr>\n",
       "  </thead>\n",
       "  <tbody>\n",
       "    <tr>\n",
       "      <th>0</th>\n",
       "      <td>2320977</td>\n",
       "      <td>TODD APPEL BAR AND COCKTAIL</td>\n",
       "      <td>TODD APPEL BAR AND COCKTAIL</td>\n",
       "      <td>2589615.0</td>\n",
       "      <td>Grocery Store</td>\n",
       "      <td>Risk 2 (Medium)</td>\n",
       "      <td>5868 N LINCOLN AVE</td>\n",
       "      <td>CHICAGO</td>\n",
       "      <td>IL</td>\n",
       "      <td>60659.0</td>\n",
       "      <td>...</td>\n",
       "      <td>No Entry</td>\n",
       "      <td>NaN</td>\n",
       "      <td>41.988060</td>\n",
       "      <td>-87.703704</td>\n",
       "      <td>{'latitude': '-87.70370445181302', 'longitude'...</td>\n",
       "      <td>NaN</td>\n",
       "      <td>NaN</td>\n",
       "      <td>NaN</td>\n",
       "      <td>NaN</td>\n",
       "      <td>NaN</td>\n",
       "    </tr>\n",
       "    <tr>\n",
       "      <th>1</th>\n",
       "      <td>2320927</td>\n",
       "      <td>Sayre Language Acad.</td>\n",
       "      <td>Sayre Language Acad.</td>\n",
       "      <td>29271.0</td>\n",
       "      <td>School</td>\n",
       "      <td>Risk 1 (High)</td>\n",
       "      <td>1850 N Newland</td>\n",
       "      <td>CHICAGO</td>\n",
       "      <td>IL</td>\n",
       "      <td>60707.0</td>\n",
       "      <td>...</td>\n",
       "      <td>Fail</td>\n",
       "      <td>10. ADEQUATE HANDWASHING SINKS PROPERLY SUPPLI...</td>\n",
       "      <td>41.914124</td>\n",
       "      <td>-87.798757</td>\n",
       "      <td>{'latitude': '-87.79875666766955', 'longitude'...</td>\n",
       "      <td>NaN</td>\n",
       "      <td>NaN</td>\n",
       "      <td>NaN</td>\n",
       "      <td>NaN</td>\n",
       "      <td>NaN</td>\n",
       "    </tr>\n",
       "    <tr>\n",
       "      <th>2</th>\n",
       "      <td>2320911</td>\n",
       "      <td>Hitch Elementary School</td>\n",
       "      <td>Hitch Elementary School</td>\n",
       "      <td>23811.0</td>\n",
       "      <td>School</td>\n",
       "      <td>Risk 1 (High)</td>\n",
       "      <td>5625 N McVicker (6032W)</td>\n",
       "      <td>CHICAGO</td>\n",
       "      <td>IL</td>\n",
       "      <td>60646.0</td>\n",
       "      <td>...</td>\n",
       "      <td>Fail</td>\n",
       "      <td>10. ADEQUATE HANDWASHING SINKS PROPERLY SUPPLI...</td>\n",
       "      <td>41.983678</td>\n",
       "      <td>-87.779086</td>\n",
       "      <td>{'latitude': '-87.77908614427155', 'longitude'...</td>\n",
       "      <td>NaN</td>\n",
       "      <td>NaN</td>\n",
       "      <td>NaN</td>\n",
       "      <td>NaN</td>\n",
       "      <td>NaN</td>\n",
       "    </tr>\n",
       "    <tr>\n",
       "      <th>3</th>\n",
       "      <td>2320918</td>\n",
       "      <td>BEEFSTEAK</td>\n",
       "      <td>BEEFSTEAK</td>\n",
       "      <td>2698445.0</td>\n",
       "      <td>Restaurant</td>\n",
       "      <td>Risk 1 (High)</td>\n",
       "      <td>303 E SUPERIOR ST</td>\n",
       "      <td>CHICAGO</td>\n",
       "      <td>IL</td>\n",
       "      <td>60611.0</td>\n",
       "      <td>...</td>\n",
       "      <td>Pass</td>\n",
       "      <td>39. CONTAMINATION PREVENTED DURING FOOD PREPAR...</td>\n",
       "      <td>41.895692</td>\n",
       "      <td>-87.620143</td>\n",
       "      <td>{'latitude': '-87.62014286048188', 'longitude'...</td>\n",
       "      <td>NaN</td>\n",
       "      <td>NaN</td>\n",
       "      <td>NaN</td>\n",
       "      <td>NaN</td>\n",
       "      <td>NaN</td>\n",
       "    </tr>\n",
       "    <tr>\n",
       "      <th>4</th>\n",
       "      <td>2320916</td>\n",
       "      <td>ST. CONSTANCE ELEMENTARY SCHOOL</td>\n",
       "      <td>ST. CONSTANCE ELEMENTARY SCHOOL</td>\n",
       "      <td>1878492.0</td>\n",
       "      <td>School</td>\n",
       "      <td>Risk 1 (High)</td>\n",
       "      <td>5841 W STRONG</td>\n",
       "      <td>CHICAGO</td>\n",
       "      <td>IL</td>\n",
       "      <td>60630.0</td>\n",
       "      <td>...</td>\n",
       "      <td>No Entry</td>\n",
       "      <td>NaN</td>\n",
       "      <td>41.970176</td>\n",
       "      <td>-87.775099</td>\n",
       "      <td>{'latitude': '-87.77509944904432', 'longitude'...</td>\n",
       "      <td>NaN</td>\n",
       "      <td>NaN</td>\n",
       "      <td>NaN</td>\n",
       "      <td>NaN</td>\n",
       "      <td>NaN</td>\n",
       "    </tr>\n",
       "  </tbody>\n",
       "</table>\n",
       "<p>5 rows × 22 columns</p>\n",
       "</div>"
      ],
      "text/plain": [
       "   Inspection ID                         DBA Name  \\\n",
       "0        2320977      TODD APPEL BAR AND COCKTAIL   \n",
       "1        2320927             Sayre Language Acad.   \n",
       "2        2320911          Hitch Elementary School   \n",
       "3        2320918                        BEEFSTEAK   \n",
       "4        2320916  ST. CONSTANCE ELEMENTARY SCHOOL   \n",
       "\n",
       "                          AKA Name  License #  Facility Type             Risk  \\\n",
       "0      TODD APPEL BAR AND COCKTAIL  2589615.0  Grocery Store  Risk 2 (Medium)   \n",
       "1             Sayre Language Acad.    29271.0         School    Risk 1 (High)   \n",
       "2          Hitch Elementary School    23811.0         School    Risk 1 (High)   \n",
       "3                        BEEFSTEAK  2698445.0     Restaurant    Risk 1 (High)   \n",
       "4  ST. CONSTANCE ELEMENTARY SCHOOL  1878492.0         School    Risk 1 (High)   \n",
       "\n",
       "                    Address     City State      Zip  ...   Results  \\\n",
       "0       5868 N LINCOLN AVE   CHICAGO    IL  60659.0  ...  No Entry   \n",
       "1           1850 N Newland   CHICAGO    IL  60707.0  ...      Fail   \n",
       "2  5625 N McVicker (6032W)   CHICAGO    IL  60646.0  ...      Fail   \n",
       "3        303 E SUPERIOR ST   CHICAGO    IL  60611.0  ...      Pass   \n",
       "4            5841 W STRONG   CHICAGO    IL  60630.0  ...  No Entry   \n",
       "\n",
       "                                          Violations   Latitude  Longitude  \\\n",
       "0                                                NaN  41.988060 -87.703704   \n",
       "1  10. ADEQUATE HANDWASHING SINKS PROPERLY SUPPLI...  41.914124 -87.798757   \n",
       "2  10. ADEQUATE HANDWASHING SINKS PROPERLY SUPPLI...  41.983678 -87.779086   \n",
       "3  39. CONTAMINATION PREVENTED DURING FOOD PREPAR...  41.895692 -87.620143   \n",
       "4                                                NaN  41.970176 -87.775099   \n",
       "\n",
       "                                            Location  \\\n",
       "0  {'latitude': '-87.70370445181302', 'longitude'...   \n",
       "1  {'latitude': '-87.79875666766955', 'longitude'...   \n",
       "2  {'latitude': '-87.77908614427155', 'longitude'...   \n",
       "3  {'latitude': '-87.62014286048188', 'longitude'...   \n",
       "4  {'latitude': '-87.77509944904432', 'longitude'...   \n",
       "\n",
       "   Historical Wards 2003-2015 Zip Codes  Community Areas  Census Tracts  Wards  \n",
       "0                         NaN       NaN              NaN            NaN    NaN  \n",
       "1                         NaN       NaN              NaN            NaN    NaN  \n",
       "2                         NaN       NaN              NaN            NaN    NaN  \n",
       "3                         NaN       NaN              NaN            NaN    NaN  \n",
       "4                         NaN       NaN              NaN            NaN    NaN  \n",
       "\n",
       "[5 rows x 22 columns]"
      ]
     },
     "execution_count": 2,
     "metadata": {},
     "output_type": "execute_result"
    }
   ],
   "source": [
    "chicago_df = pd.read_csv('./data/food-inspections.csv', delimiter=',')\n",
    "chicago_df.head()"
   ]
  },
  {
   "cell_type": "markdown",
   "metadata": {},
   "source": [
    "As we can see, this dataset has 22 different columns, of different type:\n",
    "- **Integer columns**: `'Inspection ID'`, `'License #'`, `'Zip'`\n",
    "- **Floating point columns**: `'Latitude'`, `'Longitude'`\n",
    "- **Date columns**: `'Inspection Date'`\n",
    "- **String Columns**: `'Results'`\\*, `'DBA Name'`, `'Address'`, `'Risk'`\\*, `'Facility Type'`\\*, `'City'`\\*, `'State'`\\*, `'Location'`, `'AKA Name'`, `'Inspection Type'`\\*, `'Violations'`^, where:\n",
    "   - \\*= Categorical\n",
    "   - ^= Too many categories to be called categorical (142431)\n",
    "- **Unknown data-type columns**: `'Wards'`, `'Community Areas'`, `'Zip Codes'`, `'Historical Wards 2003-2015'`, `'Census Tracts'`\n",
    "\n",
    "The contents of the columns whose meaning is not immediate are explained below:\n",
    "\n",
    "- __DBA__: ‘Doing business as.’ This is the legal name of the establishment.\n",
    "- __AKA__: ‘Also known as.’ This is the name the public would know the establishment as.\n",
    "- __License number__: This is a unique number assigned to the establishment for the purposes of licensing by the Department of Business Affairs and Consumer Protection.\n",
    "- __Type of facility__: Each establishment is described by one of the following: bakery, banquet hall, candy store, caterer, coffee shop, day care center (for ages less than 2), day care center (for ages 2 – 6), day care center (combo, for ages less than 2 and 2 – 6 combined), gas station, Golden Diner, grocery store, hospital, long term care center(nursing home), liquor store, mobile food dispenser, restaurant, paleteria, school, shelter, tavern, social club, wholesaler, or Wrigley Field Rooftop.\n",
    "- __Risk category of facility__: Each establishment is categorized as to its risk of adversely affecting the public’s health, with 1 being the highest and 3 the lowest. The frequency of inspection is tied to this risk, with risk 1 establishments inspected most frequently and risk 3 least frequently.\n",
    "- __Street address, city, state and zip code of facility__: This data provides a full address for each business.\n",
    "- __Inspection date__: This is the date the inspection occurred. A particular establishment is likely to have multiple inspections which are denoted by different inspection dates.\n",
    "- __Inspection type__: An inspection can be one of the following types: \n",
    " - *canvass*: the most common type of inspection performed at a frequency relative to the risk of the establishment.\n",
    " - *consultation*: when the inspection is done at the request of the owner prior to the opening of the establishment. \n",
    " - *complaint*: when the inspection is done in response to a complaint against the establishment.\n",
    " - *license*: when the inspection is done as a requirement for the establishment to receive its license to operate.\n",
    " - *suspect food poisoning* when the inspection is done in response to one or more persons claiming to have gotten ill as a result of eating at the establishment (a specific type of complaintbased inspection).\n",
    " - *task-force inspection* when an inspection of a bar or tavern is done.\n",
    " \n",
    " Re-inspections can occur for most types of these inspections and are indicated as such.\n",
    "- __Results__: An inspection can pass, pass with conditions or fail. Establishments receiving a ‘pass’ were found to have no critical or serious violations (violation number 1-14 and 15- 29, respectively). Establishments receiving a ‘pass with conditions’ were found to have critical or serious violations, but these were corrected during the inspection. Establishments receiving a ‘fail’ were found to have critical or serious violations that were not correctable during the inspection. An establishment receiving a ‘fail’ does not necessarily mean the establishment’s licensed is suspended. Establishments found to be out of business or not located are indicated as such.\n",
    "- __Violations__: An establishment can receive one or more of 45 distinct violations (violation numbers 1-44 and 70). For each violation number listed for a given establishment, the requirement the establishment must meet in order for it to NOT receive a violation is noted, followed by a specific description of the findings that caused the violation to be issued.\n"
   ]
  },
  {
   "cell_type": "code",
   "execution_count": 3,
   "metadata": {
    "ExecuteTime": {
     "end_time": "2019-11-25T15:03:13.052047Z",
     "start_time": "2019-11-25T15:03:09.731484Z"
    }
   },
   "outputs": [
    {
     "data": {
      "text/html": [
       "<div>\n",
       "<style scoped>\n",
       "    .dataframe tbody tr th:only-of-type {\n",
       "        vertical-align: middle;\n",
       "    }\n",
       "\n",
       "    .dataframe tbody tr th {\n",
       "        vertical-align: top;\n",
       "    }\n",
       "\n",
       "    .dataframe thead th {\n",
       "        text-align: right;\n",
       "    }\n",
       "</style>\n",
       "<table border=\"1\" class=\"dataframe\">\n",
       "  <thead>\n",
       "    <tr style=\"text-align: right;\">\n",
       "      <th></th>\n",
       "      <th>mins</th>\n",
       "      <th>maxs</th>\n",
       "    </tr>\n",
       "    <tr>\n",
       "      <th>Column</th>\n",
       "      <th></th>\n",
       "      <th></th>\n",
       "    </tr>\n",
       "  </thead>\n",
       "  <tbody>\n",
       "    <tr>\n",
       "      <th>Inspection ID</th>\n",
       "      <td>44247</td>\n",
       "      <td>2341211</td>\n",
       "    </tr>\n",
       "    <tr>\n",
       "      <th>DBA Name</th>\n",
       "      <td>#1 CHINA EXPRESS, LTD.</td>\n",
       "      <td>vitino pizzeria</td>\n",
       "    </tr>\n",
       "    <tr>\n",
       "      <th>License #</th>\n",
       "      <td>0</td>\n",
       "      <td>1e+07</td>\n",
       "    </tr>\n",
       "    <tr>\n",
       "      <th>Address</th>\n",
       "      <td></td>\n",
       "      <td>N2660 HAYTON RD</td>\n",
       "    </tr>\n",
       "    <tr>\n",
       "      <th>Zip</th>\n",
       "      <td>10014</td>\n",
       "      <td>60827</td>\n",
       "    </tr>\n",
       "    <tr>\n",
       "      <th>Inspection Date</th>\n",
       "      <td>2010-01-04T00:00:00.000</td>\n",
       "      <td>2019-11-01T00:00:00.000</td>\n",
       "    </tr>\n",
       "    <tr>\n",
       "      <th>Results</th>\n",
       "      <td>Business Not Located</td>\n",
       "      <td>Pass w/ Conditions</td>\n",
       "    </tr>\n",
       "    <tr>\n",
       "      <th>Latitude</th>\n",
       "      <td>41.6447</td>\n",
       "      <td>42.0211</td>\n",
       "    </tr>\n",
       "    <tr>\n",
       "      <th>Longitude</th>\n",
       "      <td>-87.9144</td>\n",
       "      <td>-87.5251</td>\n",
       "    </tr>\n",
       "    <tr>\n",
       "      <th>Historical Wards 2003-2015</th>\n",
       "      <td>NaN</td>\n",
       "      <td>NaN</td>\n",
       "    </tr>\n",
       "    <tr>\n",
       "      <th>Zip Codes</th>\n",
       "      <td>NaN</td>\n",
       "      <td>NaN</td>\n",
       "    </tr>\n",
       "    <tr>\n",
       "      <th>Community Areas</th>\n",
       "      <td>NaN</td>\n",
       "      <td>NaN</td>\n",
       "    </tr>\n",
       "    <tr>\n",
       "      <th>Census Tracts</th>\n",
       "      <td>NaN</td>\n",
       "      <td>NaN</td>\n",
       "    </tr>\n",
       "    <tr>\n",
       "      <th>Wards</th>\n",
       "      <td>NaN</td>\n",
       "      <td>NaN</td>\n",
       "    </tr>\n",
       "  </tbody>\n",
       "</table>\n",
       "</div>"
      ],
      "text/plain": [
       "                                               mins                     maxs\n",
       "Column                                                                      \n",
       "Inspection ID                                 44247                  2341211\n",
       "DBA Name                     #1 CHINA EXPRESS, LTD.          vitino pizzeria\n",
       "License #                                         0                    1e+07\n",
       "Address                                                     N2660 HAYTON RD \n",
       "Zip                                           10014                    60827\n",
       "Inspection Date             2010-01-04T00:00:00.000  2019-11-01T00:00:00.000\n",
       "Results                        Business Not Located       Pass w/ Conditions\n",
       "Latitude                                    41.6447                  42.0211\n",
       "Longitude                                  -87.9144                 -87.5251\n",
       "Historical Wards 2003-2015                      NaN                      NaN\n",
       "Zip Codes                                       NaN                      NaN\n",
       "Community Areas                                 NaN                      NaN\n",
       "Census Tracts                                   NaN                      NaN\n",
       "Wards                                           NaN                      NaN"
      ]
     },
     "execution_count": 3,
     "metadata": {},
     "output_type": "execute_result"
    }
   ],
   "source": [
    "# get basic min/max statistics to get a feeling of some column's values range\n",
    "basic_stats = (pd.Series(chicago_df.min(), name='mins').to_frame()\n",
    "               .join(pd.Series(chicago_df.max(), name='maxs')))\n",
    "basic_stats.index.name = 'Column'\n",
    "basic_stats"
   ]
  },
  {
   "cell_type": "markdown",
   "metadata": {},
   "source": [
    "We observe there are 5 columns filled with NaN values: `Historical`, `Wards 2003-2015`, `Zip Codes`, `Community Areas`, `Census Tracts`, `Wards`. \n",
    "\n",
    "We are going to remove these columns from our data frame. From now on, we will only work with the dataframe where these colums have been removed (*'chicago_df_noNan'*)."
   ]
  },
  {
   "cell_type": "code",
   "execution_count": 4,
   "metadata": {
    "ExecuteTime": {
     "end_time": "2019-11-25T15:03:22.673681Z",
     "start_time": "2019-11-25T15:03:22.642764Z"
    }
   },
   "outputs": [],
   "source": [
    "chicago_df_noNan = chicago_df.drop(columns=[\"Historical Wards 2003-2015\",\n",
    "                                            \"Zip Codes\",\n",
    "                                            \"Community Areas\",\n",
    "                                            \"Census Tracts\",\n",
    "                                            \"Wards\"])"
   ]
  },
  {
   "cell_type": "code",
   "execution_count": 5,
   "metadata": {
    "ExecuteTime": {
     "end_time": "2019-11-25T15:03:26.407770Z",
     "start_time": "2019-11-25T15:03:26.389816Z"
    }
   },
   "outputs": [
    {
     "data": {
      "text/html": [
       "<div>\n",
       "<style scoped>\n",
       "    .dataframe tbody tr th:only-of-type {\n",
       "        vertical-align: middle;\n",
       "    }\n",
       "\n",
       "    .dataframe tbody tr th {\n",
       "        vertical-align: top;\n",
       "    }\n",
       "\n",
       "    .dataframe thead th {\n",
       "        text-align: right;\n",
       "    }\n",
       "</style>\n",
       "<table border=\"1\" class=\"dataframe\">\n",
       "  <thead>\n",
       "    <tr style=\"text-align: right;\">\n",
       "      <th></th>\n",
       "      <th>Inspection ID</th>\n",
       "      <th>DBA Name</th>\n",
       "      <th>AKA Name</th>\n",
       "      <th>License #</th>\n",
       "      <th>Facility Type</th>\n",
       "      <th>Risk</th>\n",
       "      <th>Address</th>\n",
       "      <th>City</th>\n",
       "      <th>State</th>\n",
       "      <th>Zip</th>\n",
       "      <th>Inspection Date</th>\n",
       "      <th>Inspection Type</th>\n",
       "      <th>Results</th>\n",
       "      <th>Violations</th>\n",
       "      <th>Latitude</th>\n",
       "      <th>Longitude</th>\n",
       "      <th>Location</th>\n",
       "    </tr>\n",
       "  </thead>\n",
       "  <tbody>\n",
       "    <tr>\n",
       "      <th>0</th>\n",
       "      <td>2320977</td>\n",
       "      <td>TODD APPEL BAR AND COCKTAIL</td>\n",
       "      <td>TODD APPEL BAR AND COCKTAIL</td>\n",
       "      <td>2589615.0</td>\n",
       "      <td>Grocery Store</td>\n",
       "      <td>Risk 2 (Medium)</td>\n",
       "      <td>5868 N LINCOLN AVE</td>\n",
       "      <td>CHICAGO</td>\n",
       "      <td>IL</td>\n",
       "      <td>60659.0</td>\n",
       "      <td>2019-11-01T00:00:00.000</td>\n",
       "      <td>Canvass</td>\n",
       "      <td>No Entry</td>\n",
       "      <td>NaN</td>\n",
       "      <td>41.988060</td>\n",
       "      <td>-87.703704</td>\n",
       "      <td>{'latitude': '-87.70370445181302', 'longitude'...</td>\n",
       "    </tr>\n",
       "    <tr>\n",
       "      <th>1</th>\n",
       "      <td>2320927</td>\n",
       "      <td>Sayre Language Acad.</td>\n",
       "      <td>Sayre Language Acad.</td>\n",
       "      <td>29271.0</td>\n",
       "      <td>School</td>\n",
       "      <td>Risk 1 (High)</td>\n",
       "      <td>1850 N Newland</td>\n",
       "      <td>CHICAGO</td>\n",
       "      <td>IL</td>\n",
       "      <td>60707.0</td>\n",
       "      <td>2019-11-01T00:00:00.000</td>\n",
       "      <td>Canvass</td>\n",
       "      <td>Fail</td>\n",
       "      <td>10. ADEQUATE HANDWASHING SINKS PROPERLY SUPPLI...</td>\n",
       "      <td>41.914124</td>\n",
       "      <td>-87.798757</td>\n",
       "      <td>{'latitude': '-87.79875666766955', 'longitude'...</td>\n",
       "    </tr>\n",
       "    <tr>\n",
       "      <th>2</th>\n",
       "      <td>2320911</td>\n",
       "      <td>Hitch Elementary School</td>\n",
       "      <td>Hitch Elementary School</td>\n",
       "      <td>23811.0</td>\n",
       "      <td>School</td>\n",
       "      <td>Risk 1 (High)</td>\n",
       "      <td>5625 N McVicker (6032W)</td>\n",
       "      <td>CHICAGO</td>\n",
       "      <td>IL</td>\n",
       "      <td>60646.0</td>\n",
       "      <td>2019-11-01T00:00:00.000</td>\n",
       "      <td>Canvass Re-Inspection</td>\n",
       "      <td>Fail</td>\n",
       "      <td>10. ADEQUATE HANDWASHING SINKS PROPERLY SUPPLI...</td>\n",
       "      <td>41.983678</td>\n",
       "      <td>-87.779086</td>\n",
       "      <td>{'latitude': '-87.77908614427155', 'longitude'...</td>\n",
       "    </tr>\n",
       "    <tr>\n",
       "      <th>3</th>\n",
       "      <td>2320918</td>\n",
       "      <td>BEEFSTEAK</td>\n",
       "      <td>BEEFSTEAK</td>\n",
       "      <td>2698445.0</td>\n",
       "      <td>Restaurant</td>\n",
       "      <td>Risk 1 (High)</td>\n",
       "      <td>303 E SUPERIOR ST</td>\n",
       "      <td>CHICAGO</td>\n",
       "      <td>IL</td>\n",
       "      <td>60611.0</td>\n",
       "      <td>2019-11-01T00:00:00.000</td>\n",
       "      <td>License</td>\n",
       "      <td>Pass</td>\n",
       "      <td>39. CONTAMINATION PREVENTED DURING FOOD PREPAR...</td>\n",
       "      <td>41.895692</td>\n",
       "      <td>-87.620143</td>\n",
       "      <td>{'latitude': '-87.62014286048188', 'longitude'...</td>\n",
       "    </tr>\n",
       "    <tr>\n",
       "      <th>4</th>\n",
       "      <td>2320916</td>\n",
       "      <td>ST. CONSTANCE ELEMENTARY SCHOOL</td>\n",
       "      <td>ST. CONSTANCE ELEMENTARY SCHOOL</td>\n",
       "      <td>1878492.0</td>\n",
       "      <td>School</td>\n",
       "      <td>Risk 1 (High)</td>\n",
       "      <td>5841 W STRONG</td>\n",
       "      <td>CHICAGO</td>\n",
       "      <td>IL</td>\n",
       "      <td>60630.0</td>\n",
       "      <td>2019-11-01T00:00:00.000</td>\n",
       "      <td>Canvass</td>\n",
       "      <td>No Entry</td>\n",
       "      <td>NaN</td>\n",
       "      <td>41.970176</td>\n",
       "      <td>-87.775099</td>\n",
       "      <td>{'latitude': '-87.77509944904432', 'longitude'...</td>\n",
       "    </tr>\n",
       "  </tbody>\n",
       "</table>\n",
       "</div>"
      ],
      "text/plain": [
       "   Inspection ID                         DBA Name  \\\n",
       "0        2320977      TODD APPEL BAR AND COCKTAIL   \n",
       "1        2320927             Sayre Language Acad.   \n",
       "2        2320911          Hitch Elementary School   \n",
       "3        2320918                        BEEFSTEAK   \n",
       "4        2320916  ST. CONSTANCE ELEMENTARY SCHOOL   \n",
       "\n",
       "                          AKA Name  License #  Facility Type             Risk  \\\n",
       "0      TODD APPEL BAR AND COCKTAIL  2589615.0  Grocery Store  Risk 2 (Medium)   \n",
       "1             Sayre Language Acad.    29271.0         School    Risk 1 (High)   \n",
       "2          Hitch Elementary School    23811.0         School    Risk 1 (High)   \n",
       "3                        BEEFSTEAK  2698445.0     Restaurant    Risk 1 (High)   \n",
       "4  ST. CONSTANCE ELEMENTARY SCHOOL  1878492.0         School    Risk 1 (High)   \n",
       "\n",
       "                    Address     City State      Zip          Inspection Date  \\\n",
       "0       5868 N LINCOLN AVE   CHICAGO    IL  60659.0  2019-11-01T00:00:00.000   \n",
       "1           1850 N Newland   CHICAGO    IL  60707.0  2019-11-01T00:00:00.000   \n",
       "2  5625 N McVicker (6032W)   CHICAGO    IL  60646.0  2019-11-01T00:00:00.000   \n",
       "3        303 E SUPERIOR ST   CHICAGO    IL  60611.0  2019-11-01T00:00:00.000   \n",
       "4            5841 W STRONG   CHICAGO    IL  60630.0  2019-11-01T00:00:00.000   \n",
       "\n",
       "         Inspection Type   Results  \\\n",
       "0                Canvass  No Entry   \n",
       "1                Canvass      Fail   \n",
       "2  Canvass Re-Inspection      Fail   \n",
       "3                License      Pass   \n",
       "4                Canvass  No Entry   \n",
       "\n",
       "                                          Violations   Latitude  Longitude  \\\n",
       "0                                                NaN  41.988060 -87.703704   \n",
       "1  10. ADEQUATE HANDWASHING SINKS PROPERLY SUPPLI...  41.914124 -87.798757   \n",
       "2  10. ADEQUATE HANDWASHING SINKS PROPERLY SUPPLI...  41.983678 -87.779086   \n",
       "3  39. CONTAMINATION PREVENTED DURING FOOD PREPAR...  41.895692 -87.620143   \n",
       "4                                                NaN  41.970176 -87.775099   \n",
       "\n",
       "                                            Location  \n",
       "0  {'latitude': '-87.70370445181302', 'longitude'...  \n",
       "1  {'latitude': '-87.79875666766955', 'longitude'...  \n",
       "2  {'latitude': '-87.77908614427155', 'longitude'...  \n",
       "3  {'latitude': '-87.62014286048188', 'longitude'...  \n",
       "4  {'latitude': '-87.77509944904432', 'longitude'...  "
      ]
     },
     "execution_count": 5,
     "metadata": {},
     "output_type": "execute_result"
    }
   ],
   "source": [
    "chicago_df_noNan.head()"
   ]
  },
  {
   "cell_type": "markdown",
   "metadata": {},
   "source": [
    "# Treatment of the data\n",
    "In this part, the following columns of the data are examined and cleaned:\n",
    "Inspection ID', 'DBA Name', 'AKA Name', 'License #', 'Facility Type',\n",
    "       'Risk', 'Address', 'City', 'State'"
   ]
  },
  {
   "cell_type": "markdown",
   "metadata": {},
   "source": [
    "## inspection_id\n",
    "Some inspections have been inserted twice in the dataset and need to be deleted to avoid duplicates."
   ]
  },
  {
   "cell_type": "code",
   "execution_count": 6,
   "metadata": {
    "ExecuteTime": {
     "end_time": "2019-11-25T15:03:36.469992Z",
     "start_time": "2019-11-25T15:03:36.465007Z"
    }
   },
   "outputs": [],
   "source": [
    "# Create more coding friendly coding names\n",
    "og_columns = chicago_df_noNan.columns\n",
    "columns = [\n",
    "    'inspection_id', 'dba_name', 'aka_name', 'bou', \n",
    "    'facility_type', 'risk', 'address', 'city', 'state', \n",
    "    'zip', 'inspection_date', 'inspection_type', 'results', \n",
    "    'violations', 'latitude', 'longitude', 'location'\n",
    "]\n",
    "chicago_df_noNan.columns = columns"
   ]
  },
  {
   "cell_type": "code",
   "execution_count": 7,
   "metadata": {
    "ExecuteTime": {
     "end_time": "2019-11-25T15:03:38.065065Z",
     "start_time": "2019-11-25T15:03:38.061075Z"
    }
   },
   "outputs": [],
   "source": [
    "inspection_id = chicago_df_noNan['inspection_id']"
   ]
  },
  {
   "cell_type": "markdown",
   "metadata": {},
   "source": [
    "We first verify that no entry has a null id"
   ]
  },
  {
   "cell_type": "code",
   "execution_count": 8,
   "metadata": {
    "ExecuteTime": {
     "end_time": "2019-11-25T15:03:38.802245Z",
     "start_time": "2019-11-25T15:03:38.777313Z"
    }
   },
   "outputs": [
    {
     "data": {
      "text/plain": [
       "0"
      ]
     },
     "execution_count": 8,
     "metadata": {},
     "output_type": "execute_result"
    }
   ],
   "source": [
    "sum(inspection_id.isnull())"
   ]
  },
  {
   "cell_type": "markdown",
   "metadata": {},
   "source": [
    "Then, we check for duplicate entries"
   ]
  },
  {
   "cell_type": "code",
   "execution_count": 9,
   "metadata": {
    "ExecuteTime": {
     "end_time": "2019-11-25T15:03:40.118678Z",
     "start_time": "2019-11-25T15:03:39.620936Z"
    }
   },
   "outputs": [],
   "source": [
    "duplicated = chicago_df_noNan.duplicated(keep='first')"
   ]
  },
  {
   "cell_type": "code",
   "execution_count": 10,
   "metadata": {
    "ExecuteTime": {
     "end_time": "2019-11-25T15:03:40.555135Z",
     "start_time": "2019-11-25T15:03:40.120674Z"
    }
   },
   "outputs": [
    {
     "name": "stdout",
     "output_type": "stream",
     "text": [
      "195212\n",
      "128\n",
      "195084\n"
     ]
    }
   ],
   "source": [
    "print(len(chicago_df_noNan))\n",
    "print(np.sum(duplicated))\n",
    "chicago_df_noNan = chicago_df_noNan.drop_duplicates()\n",
    "print(len(chicago_df_noNan)) "
   ]
  },
  {
   "cell_type": "markdown",
   "metadata": {},
   "source": [
    "## DBA name"
   ]
  },
  {
   "cell_type": "code",
   "execution_count": 11,
   "metadata": {
    "ExecuteTime": {
     "end_time": "2019-11-25T15:03:42.662823Z",
     "start_time": "2019-11-25T15:03:42.624384Z"
    }
   },
   "outputs": [
    {
     "data": {
      "text/plain": [
       "0"
      ]
     },
     "execution_count": 11,
     "metadata": {},
     "output_type": "execute_result"
    }
   ],
   "source": [
    "# Checking if there are any null entries\n",
    "sum(chicago_df_noNan['dba_name'].isnull())"
   ]
  },
  {
   "cell_type": "code",
   "execution_count": 12,
   "metadata": {
    "ExecuteTime": {
     "end_time": "2019-11-25T15:03:43.589766Z",
     "start_time": "2019-11-25T15:03:43.469088Z"
    }
   },
   "outputs": [
    {
     "name": "stdout",
     "output_type": "stream",
     "text": [
      "Number of unique restaurants in the dataset when the names are case sensitive: 27519\n",
      "Number of unique restaurants when the names are not case sensitive: 27233\n"
     ]
    }
   ],
   "source": [
    "# Standardising the name of the chain by lowering the cases\n",
    "print('Number of unique restaurants in the dataset when the names are case sensitive:', len(chicago_df_noNan['dba_name'].unique()))\n",
    "chicago_df_noNan['dba_name'] = chicago_df_noNan['dba_name'].str.lower()\n",
    "print('Number of unique restaurants when the names are not case sensitive:', len(chicago_df_noNan['dba_name'].unique()))"
   ]
  },
  {
   "cell_type": "markdown",
   "metadata": {
    "ExecuteTime": {
     "end_time": "2019-11-04T17:33:41.756617Z",
     "start_time": "2019-11-04T17:33:41.559145Z"
    }
   },
   "source": [
    "## AKA Name\n",
    "In this part, we cast all aka names into lower case, and replace the null entries by their DBA names"
   ]
  },
  {
   "cell_type": "code",
   "execution_count": 13,
   "metadata": {
    "ExecuteTime": {
     "end_time": "2019-11-25T15:03:45.004799Z",
     "start_time": "2019-11-25T15:03:44.975846Z"
    }
   },
   "outputs": [
    {
     "data": {
      "text/plain": [
       "array(['TODD APPEL BAR AND COCKTAIL', 'Sayre Language Acad.',\n",
       "       'Hitch Elementary School', ..., 'SAFAH FOOD & LIQUOR INC',\n",
       "       'MAKIA FOOD', 'RAINBOW GROCERY'], dtype=object)"
      ]
     },
     "execution_count": 13,
     "metadata": {},
     "output_type": "execute_result"
    }
   ],
   "source": [
    "chicago_df_noNan['aka_name'].unique()"
   ]
  },
  {
   "cell_type": "code",
   "execution_count": 14,
   "metadata": {
    "ExecuteTime": {
     "end_time": "2019-11-25T15:03:45.396856Z",
     "start_time": "2019-11-25T15:03:45.379901Z"
    },
    "scrolled": true
   },
   "outputs": [
    {
     "name": "stdout",
     "output_type": "stream",
     "text": [
      "Number of entries without an AKA name: 2451\n"
     ]
    }
   ],
   "source": [
    "print('Number of entries without an AKA name:', len(chicago_df_noNan[chicago_df_noNan['aka_name'].isnull()]))"
   ]
  },
  {
   "cell_type": "code",
   "execution_count": 15,
   "metadata": {
    "ExecuteTime": {
     "end_time": "2019-11-25T15:03:45.812250Z",
     "start_time": "2019-11-25T15:03:45.675615Z"
    }
   },
   "outputs": [],
   "source": [
    "# Replacing null entries with their dba name\n",
    "temp0 = chicago_df_noNan[chicago_df_noNan['aka_name'].isnull()]\n",
    "temp0['aka_name'] = temp0['dba_name']\n",
    "temp1 = chicago_df_noNan[~chicago_df_noNan['aka_name'].isnull()]\n",
    "chicago_df_noNan = temp1.append(temp0)"
   ]
  },
  {
   "cell_type": "code",
   "execution_count": 16,
   "metadata": {
    "ExecuteTime": {
     "end_time": "2019-11-25T15:03:47.507762Z",
     "start_time": "2019-11-25T15:03:47.322205Z"
    }
   },
   "outputs": [
    {
     "name": "stdout",
     "output_type": "stream",
     "text": [
      "Number of unique names with case sensitivity: 27188\n",
      "Number of unique names without case sensitivity: 26712\n"
     ]
    }
   ],
   "source": [
    "print('Number of unique names with case sensitivity:', len(chicago_df_noNan['aka_name'].unique()))\n",
    "temp = chicago_df_noNan['aka_name'].str.lower()\n",
    "print('Number of unique names without case sensitivity:', len(temp.unique()))\n",
    "chicago_df_noNan['aka_name'] = chicago_df_noNan['aka_name'].str.lower()"
   ]
  },
  {
   "cell_type": "markdown",
   "metadata": {},
   "source": [
    "## License Number\n",
    "Some business don't have a license number. In this dataframe, we create a boolean column, indicating if the business has a license number or not"
   ]
  },
  {
   "cell_type": "code",
   "execution_count": 17,
   "metadata": {
    "ExecuteTime": {
     "end_time": "2019-11-25T15:03:47.990913Z",
     "start_time": "2019-11-25T15:03:47.920101Z"
    },
    "scrolled": true
   },
   "outputs": [
    {
     "name": "stdout",
     "output_type": "stream",
     "text": [
      "There are  17 entries without a license number\n"
     ]
    }
   ],
   "source": [
    "print('There are ', len(chicago_df_noNan[chicago_df_noNan['license'].isnull()]), 'entries without a license number')"
   ]
  },
  {
   "cell_type": "code",
   "execution_count": 18,
   "metadata": {
    "ExecuteTime": {
     "end_time": "2019-11-25T15:03:48.411783Z",
     "start_time": "2019-11-25T15:03:48.403804Z"
    }
   },
   "outputs": [],
   "source": [
    "chicago_df_noNan['has_license'] = ~chicago_df_noNan['license'].isnull()"
   ]
  },
  {
   "cell_type": "markdown",
   "metadata": {},
   "source": [
    "## Facility Type\n",
    "Some types of facilities only contain one establishment, either because it is a very niche category, or because it was entered in a way that the similar entries don't match because of spelling or specificity. In order to group those categories, we match the facility types grouping less than 40 establishments to the most similar category according to the Jaro Winkler distance. If none of the categories are a match (distance smaller than 0.70), we place them into misc (miscellaneous)."
   ]
  },
  {
   "cell_type": "code",
   "execution_count": 19,
   "metadata": {
    "ExecuteTime": {
     "end_time": "2019-11-25T15:03:54.127879Z",
     "start_time": "2019-11-25T15:03:54.031098Z"
    }
   },
   "outputs": [],
   "source": [
    "# Turn Nan values into a string to be able to operate on the column\n",
    "# Standardising the facility types to lower case categories\n",
    "chicago_df_noNan['facility_type']\n",
    "len(chicago_df_noNan['facility_type'].unique())\n",
    "chicago_df_noNan['facility_type'] = chicago_df_noNan['facility_type'].fillna('not available')\n",
    "chicago_df_noNan['facility_type'] = chicago_df_noNan['facility_type'].str.lower()"
   ]
  },
  {
   "cell_type": "code",
   "execution_count": 20,
   "metadata": {
    "ExecuteTime": {
     "end_time": "2019-11-25T15:03:54.558605Z",
     "start_time": "2019-11-25T15:03:54.553617Z"
    }
   },
   "outputs": [
    {
     "data": {
      "text/plain": [
       "195084"
      ]
     },
     "execution_count": 20,
     "metadata": {},
     "output_type": "execute_result"
    }
   ],
   "source": [
    "len(chicago_df_noNan)"
   ]
  },
  {
   "cell_type": "code",
   "execution_count": 21,
   "metadata": {
    "ExecuteTime": {
     "end_time": "2019-11-25T15:03:56.477992Z",
     "start_time": "2019-11-25T15:03:56.460040Z"
    }
   },
   "outputs": [
    {
     "name": "stdout",
     "output_type": "stream",
     "text": [
      "Number of facility types before standardising: 441\n"
     ]
    }
   ],
   "source": [
    "print('Number of facility types before standardising:', len(chicago_df_noNan['facility_type'].unique()))"
   ]
  },
  {
   "cell_type": "code",
   "execution_count": 22,
   "metadata": {
    "ExecuteTime": {
     "end_time": "2019-11-25T15:03:56.847919Z",
     "start_time": "2019-11-25T15:03:56.826975Z"
    }
   },
   "outputs": [
    {
     "data": {
      "text/plain": [
       "array(['mexican candy store', 'not for profit', 'live butcher',\n",
       "       'meat market', 'drug treatment facility',\n",
       "       'shared kitchen user (long trem)', 'restaurant/liquor',\n",
       "       'golf course conncession stand', 'np-kiosk',\n",
       "       'day care combo (1586)', 'liquor consumption on premises.',\n",
       "       'mobil food 1315', 'watermelon house', 'assissted living',\n",
       "       'nutrition store', 'daycare 1586', 'food pantry/church',\n",
       "       'paleteria /icecream shop', 'bakery/restaurant',\n",
       "       'unlicensed facility', '(convenience store)', 'peddler',\n",
       "       'hooka bar', 'kids cafe',\n",
       "       'prepackage meal distributor (1006 retail)',\n",
       "       'gift/card shop with candy', '(gas station)',\n",
       "       'coffee vending machine', 'drug store/w/ food', 'commiasary',\n",
       "       'grocery/liquor', 'ice cream parlor', 'produce stand',\n",
       "       \"farmer's market\", 'produce vendor', 'pharmacy/grocery',\n",
       "       'soup kitchen', 'hooka lounge', 'candy maker', 'tavern/liquor',\n",
       "       'incubator', 'wholesale bakery', \"kids cafe'\",\n",
       "       'exercise and nutrition bar', 'church/special event',\n",
       "       'restaurant and liquor',\n",
       "       'commissary for soft serve ice cream trucks', 'day care 1023',\n",
       "       'retail store', 'mobile dessert vendor', 'mobile dessert cart',\n",
       "       'cat/liquor', 'alternative school', 'grocery store/deli',\n",
       "       'church/after school program', 'after school care',\n",
       "       'general store', 'rooftop patio', 'linited business', 'religious',\n",
       "       'candy'], dtype=object)"
      ]
     },
     "execution_count": 22,
     "metadata": {},
     "output_type": "execute_result"
    }
   ],
   "source": [
    "# get an idea of the facility types, before standardising\n",
    "chicago_df_noNan['facility_type'].unique()[380:]"
   ]
  },
  {
   "cell_type": "code",
   "execution_count": 23,
   "metadata": {
    "ExecuteTime": {
     "end_time": "2019-11-25T15:04:01.831417Z",
     "start_time": "2019-11-25T15:04:00.968806Z"
    }
   },
   "outputs": [],
   "source": [
    "facility_count = chicago_df_noNan['facility_type'].value_counts()\n",
    "\n",
    "i = 0\n",
    "\n",
    "facility_types = []\n",
    "small_types = {}\n",
    "\n",
    "# Retrieving the main categories, and identifying the smallest ones\n",
    "for facility in facility_count.index:\n",
    "    if facility_count[facility] > 40:\n",
    "        facility_types.append(facility)\n",
    "    elif facility_count[facility] <= 40:\n",
    "        small_types[facility] = ''\n",
    "\n",
    "# Matching the small categories to the principal ones\n",
    "for small in small_types:\n",
    "    distances = []\n",
    "    for facility in facility_types:\n",
    "        dist = distance.get_jaro_distance(small, facility)\n",
    "        distances.append(dist)\n",
    "    index = np.argmax(distances)\n",
    "    if distances[index] > 0.70:\n",
    "        small_types[small] = facility_types[index]\n",
    "    else:\n",
    "        small_types[small] = 'misc'\n"
   ]
  },
  {
   "cell_type": "code",
   "execution_count": 24,
   "metadata": {
    "ExecuteTime": {
     "end_time": "2019-11-25T15:04:02.359056Z",
     "start_time": "2019-11-25T15:04:02.355071Z"
    }
   },
   "outputs": [
    {
     "name": "stdout",
     "output_type": "stream",
     "text": [
      "Minority categories and their match in the main category pool:\n",
      "{'store': 'misc', 'church': 'misc', 'restaurant/bar': 'restaurant', 'rooftop': 'misc', 'ice cream shop': 'coffee shop', \"1023 childern's services facility\": \"children's services facility\", 'church kitchen': 'shared kitchen', 'cooking school': 'charter school', 'commissary': 'misc', 'bar': 'bakery', 'assisted living': 'misc', 'culinary school': 'charter school', 'pop-up establishment host-tier ii': 'misc', \"1023-children's services facility\": \"children's services facility\", 'grocery & restaurant': 'grocery/restaurant', 'restaurant/grocery store': 'restaurant', 'roof tops': 'misc', 'theater': 'shelter', 'mobile desserts vendor': 'mobile frozen desserts vendor', 'restaurant/gas station': 'restaurant', 'nursing home': 'misc', 'gas station/mini mart': 'gas station', 'grocery store/gas station': 'grocery store', 'roof top': 'misc', 'after school program': 'private school', 'wrigley roof top': 'misc', 'paleteria': 'cafeteria', 'hotel': 'shelter', 'grocery(sushi prep)': 'grocery store', 'fitness center': 'misc', 'supportive living': 'misc', 'mobile food truck': 'mobile food dispenser', 'brewery': 'misc', 'long term care facility': 'long term care', 'rooftops': 'misc', 'wrigley rooftop': 'misc', 'theatre': 'shelter', 'grocery store/bakery': 'grocery store', 'university cafeteria': 'misc', '1023': 'misc', 'public shcool': 'private school', 'health/ juice bar': 'misc', 'slaughter house/ grocery': 'misc', 'movie theatre': 'mobile prepared food vendor', 'airport lounge': 'misc', 'juice bar': 'misc', 'gas station/restaurant': 'gas station', 'daycare night': 'daycare', 'banquet facility': 'banquet hall', \"o'hare kiosk\": 'navy pier kiosk', 'grocery and butcher': 'grocery store', 'candy/gelato': 'misc', 'college': 'convenience', 'employee kitchen': 'misc', 'grocery store/taqueria': 'grocery store', 'wine store': 'misc', 'church/special events': 'misc', 'commissary for soft serve ice cream trucks': 'misc', 'assisted living senior care': 'misc', 'gas station/store': 'gas station', 'custom poultry slaughter': 'misc', 'bakery/deli': 'bakery', 'riverwalk': 'misc', 'mobile frozen desserts dispenser-non-motorized': 'mobile frozen desserts vendor', 'banquet rooms': 'banquet', 'pastry school': 'private school', 'movie theater': 'misc', 'restaurant/hospital': 'restaurant', 'banquet dining': 'banquet', 'grocery& restaurant': 'grocery/restaurant', 'grocery store/cooking school': 'grocery store', 'rehab center': 'restaurant', 'other': 'misc', \"1023 childern's service facility\": \"children's services facility\", 'dollar store': 'misc', 'grocery/bakery': 'grocery/restaurant', 'grocery/gas station': 'grocery/restaurant', 'warehouse': 'wholesale', 'brewpub': 'misc', 'senior day care': 'misc', 'restuarant and bar': 'restaurant', 'city of chicago college': 'misc', 'convenience/drug store': 'convenience store', 'restaurant.banquet halls': 'restaurant', 'coffee cart': 'coffee shop', 'ice cream': 'misc', 'lounge/banquet hall': 'misc', 'mobile food': 'mobile food preparer', 'childrens services facility': \"children's services facility\", 'poultry slaughter': 'misc', 'grocery': 'grocery store', 'rest/grocery': 'grocery store', 'pantry': 'misc', 'grocery store/ restaurant': 'grocery store', 'herbalife': 'misc', 'banquet room': 'banquet', 'event space': 'misc', 'grocery/service gas station': 'grocery/restaurant', \"1023 childern's service s facility\": \"children's services facility\", 'grocery/butcher': 'grocery store', 'banquets': 'banquet', 'culinary arts school': 'charter school', 'restaurant(protein shake bar)': 'restaurant', 'butcher shop': 'charter school', 'meat packing': 'misc', 'banquet/kitchen': 'banquet', 'rest/rooftop': 'restaurant', 'a-not-for-profit chef training program': 'misc', 'charity aid kitchen': 'charter school', 'banquet hall/catering': 'banquet hall', 'donut shop': 'coffee shop', 'supportive living facility': 'misc', 'rest/gym': 'restaurant', 'drug/food store': 'misc', 'grocery store / gas station': 'grocery store', 'tavern grill': 'tavern', 'cafe/store': 'cafeteria', 'night club': 'misc', 'before and after school program': 'misc', 'tea brewing': 'catering', \"childern's service facility\": \"children's services facility\", 'regulated business': 'misc', 'candy store': 'misc', 'school cafeteria': 'school', 'fish market': 'misc', 'mobile frozen dessert vendor': 'mobile frozen desserts vendor', 'day care 2-14': 'daycare', 'restaurant/bakery': 'restaurant', 'retail store offers cooking classes': 'misc', 'dining hall': 'misc', 'room service': 'misc', 'truck': 'misc', 'pool': 'school', 'grocery/cafe': 'grocery store', 'northerly island': 'misc', 'catering/cafe': 'catering', 'theater & restaurant': 'misc', 'daycare combo': 'daycare combo 1586', 'grocery/taqueria': 'grocery/restaurant', 'daycare 2-6, under 6': 'daycare (2 - 6 years)', 'herbal life shop': 'misc', 'daycare 2 yrs to 12 yrs': 'daycare (2 years)', 'grocery/dollar store': 'grocery/restaurant', 'wine tasting bar': 'misc', 'coffee kiosk': 'coffee shop', 'pharmacy/grocery': 'misc', \"1023 children's services facility\": \"children's services facility\", 'church (special events)': \"children's services facility\", 'charter school cafeteria': 'charter school', 'liquor store': 'liquor', 'not-for-profit club': 'misc', 'hot dog station': 'misc', 'distribution center': 'misc', 'juice and salad bar': 'misc', 'bar/grill': 'misc', 'french market space': 'misc', 'deli': 'misc', '15 monts to 5 years old': 'misc', 'gas station /grocery': 'gas station', 'riverwalk cafe': 'misc', 'snack shop': 'coffee shop', 'grocery store/deli': 'grocery store', 'herbal medicine': 'misc', 'teaching school': 'charter school', 'health care store': 'misc', 'social club': 'misc', 'grocery/drug store': 'grocery store', 'smokehouse': 'misc', 'packaged liquor': 'misc', \"childern's services  facility\": \"children's services facility\", 'coffee  shop': 'coffee shop', 'gas station/store grocery': 'gas station', 'frozen dessert pushcarts': 'misc', 'weight loss program': 'misc', 'newsstand': 'misc', 'laundromat': 'misc', 'day care 1023': 'daycare', 'video store': 'misc', 'cold/frozen food storage': 'misc', 'retail store': 'restaurant', 'theater/bar': 'shelter', 'restaurant/grocery': 'restaurant', 'beverage/silverware warehouse': 'misc', 'retail food/gas station': 'misc', 'drug store': 'misc', 'candy shop': 'coffee shop', 'animal shelter cafe permit': 'misc', 'drug/grocery store': 'grocery store', 'push carts': 'misc', 'bowling lanes/banquets': 'misc', 'pharmacy': 'misc', 'coffee vending machine': 'coffee shop', 'convenient store': 'convenience store', 'mexican candy store': 'misc', 'drug store/grocery': 'misc', 'grocery/tavern': 'grocery/restaurant', 'long-term care facility': 'long term care', 'hostel': 'hospital', 'golf course conncession stand': 'misc', 'food pantry': 'misc', 'long-term care': 'long term care', 'vending commissary': 'misc', 'herbal life': 'misc', 'sushi counter': 'misc', 'church/day care': 'misc', 'coffee': 'coffee shop', 'day care': 'daycare', 'gas station/food': 'gas station', 'hooka lounge': 'misc', 'watermelon house': 'misc', 'lounge': 'long term care', 'mfd truck': 'misc', 'prep inside school': 'private school', 'commisary restaurant': 'grocery/restaurant', 'packaged food distribution': 'misc', 'tavern/restaurant': 'tavern', 'herabalife': 'misc', 'unlicensed facility': 'misc', 'gym store': 'misc', 'mobile frozen dessert dispenser_non  motorized.': 'mobile frozen desserts vendor', 'fitness studio': 'misc', 'chinese herbs': \"children's services facility\", 'non -profit': 'misc', 'shuffleboard club with bar': 'misc', 'liquor/coffee kiosk': 'liquor', 'music venue': 'misc', 'herbalcal': 'misc', 'tavern/store': 'tavern', 'cell phone store': 'misc', 'ice cream parlor': 'misc', 'illegal vendor': 'misc', 'catered events': 'catering', 'gas': 'gas station', 'candy': 'misc', '1005 nursing home': 'misc', 'mobilprepared food vendor': 'mobile prepared food vendor', 'tent rstaurant': 'restaurant', 'church/special event': 'misc', 'temporary kiosk': 'misc', 'health center': 'misc', 'herbalife/zumba': 'misc', 'exercise and nutrition bar': 'misc', 'live butcher': 'live poultry', 'dollar & grocery store': 'misc', 'gelato shop': 'coffee shop', 'adult family care center': 'misc', 'daycare 6 wks-5yrs': 'daycare', 'smoothie bar': 'misc', 'bakery/grocery': 'bakery', 'adult daycare': 'misc', 'golf course': 'golden diner', 'banquets/room service': 'banquet', 'retail': 'restaurant', 'pre packaged': 'misc', 'coffee/tea': 'coffee shop', 'dollar tree': 'misc', 'paleteria /icecream shop': 'misc', 'high school kitchen': 'misc', 'pop-up food establishment user-tier iii': 'misc', 'herbal remedy': 'misc', 'restaurant/bar/theater': 'restaurant', 'convnience store': 'convenience store', 'bakery/restaurant': 'bakery', 'charter school/cafeteria': 'charter school', '(gas station)': 'gas station', 'food pantry/church': 'misc', 'grocery/ restaurant': 'grocery/restaurant', 'vending machine': 'misc', 'main kitchen': 'shared kitchen', 'deli/grocery store': 'grocery store', 'hot dog cart': 'misc', 'massage bar': 'misc', 'not for profit': 'not available', 'cafe': 'cafeteria', 'tea store': 'misc', '1584-day care above 2 years': 'daycare above and under 2 years', 'grocery/deli': 'grocery store', 'kitchen demo': 'misc', 'vfw hall': 'misc', 'popcorn shop': 'misc', 'museum/gallery': 'misc', 'grocery(gas station)': 'grocery/restaurant', 'gym': 'misc', 'nutrition/herbalife': 'misc', 'bakery/ restaurant': 'bakery', 'liqour brewery tasting': 'liquor', 'herbal drinks': 'misc', 'blockbuster video': 'misc', 'assissted living': 'misc', 'gas station/ grocery store': 'gas station', 'restaurant/liquor': 'restaurant', 'nutrition store': 'misc', 'popcorn corn': 'misc', 'gas station /subway mini mart.': 'gas station', 'general store': 'grocery store', 'food booth': 'misc', 'childern activity facility': \"children's services facility\", 'summer feeding': 'misc', 'youth housing': 'misc', 'distributor': 'misc', 'grocery store /pharmacy': 'grocery store', 'liquore store/bar': 'liquor', 'urban farm': 'misc', 'packaged health foods': 'misc', 'culinary class rooms': 'misc', 'liquor consumption on premises.': 'liquor', 'summer feeding prep area': 'misc', 'event venu': 'misc', '1475 liquor': 'misc', 'catering and wholesale': 'catering', 'tobacco store': 'misc', 'retail wine/wine bar': 'misc', 'art gallery w/wine and beer': 'misc', 'unused storage': 'misc', 'candy maker': 'daycare', 'mobile frozen dessert disp/non-motorized': 'mobile frozen desserts vendor', 'pushcart': 'misc', 'produce stand': 'misc', 'boys and girls club': 'misc', 'tavern/bar': 'tavern', 'linited business': 'misc', 'gas station/convenience store': 'gas station', 'helicopter terminal': 'shelter', 'daycare 1586': 'daycare combo 1586', 'soup kitchen': 'shared kitchen', 'gas station store': 'gas station', 'clothing store': 'misc', 'pop-up food establishment user-tier ii': 'misc', 'drug store/w/ food': 'misc', 'herbal store': 'misc', 'incubator': 'misc', 'tavern/liquor': 'tavern', 'religious': 'misc', 'protein shake bar': 'misc', 'hooka bar': 'misc', 'tavern/1006': 'tavern', 'non-for profit basement kit': 'misc', 'mobile food desserts vendor': 'mobile prepared food vendor', 'restaurant and liquor': 'restaurant', 'spa': 'misc', 'tavern-liquor': 'tavern', 'day spa': 'daycare', 'cat/liquor': 'catering', 'dollar store with grocery': 'misc', 'after school care': 'private school', 'mobil food 1315': 'mobile food preparer', 'shakes/teas': 'shelter', 'gift/card shop with candy': 'misc', 'furniture store': 'misc', 'wholesale & retail': 'wholesale', 'drug treatment facility': 'misc', 'catered liquor': 'catering', 'convenience/gas station': 'convenience', 'assisted living facility': \"children's services facility\", 'car wash': 'charter school', 'tap room/tavern/liquor store': 'misc', 'herbalife nutrition': 'misc', 'wholesale bakery': 'wholesale', 'dollar store selling grocery': 'misc', 'herbal': 'misc', 'book store': 'misc', \"farmer's market\": 'misc', 'prepackage meal distributor (1006 retail)': 'misc', 'chicago park district': \"children's services facility\", 'nail shop': 'misc', 'grocery/liquor': 'grocery store', 'deli/bakery': 'misc', 'food vending machines': 'misc', 'herbalife store': 'misc', \"kids cafe'\": 'kiosk', '(convenience store)': 'convenience store', 'frozen desserts dispenser -non motorized': 'misc', 'mobile dessert vendor': 'mobile frozen desserts vendor', 'repackaging plant': 'misc', 'produce vendor': 'private school', 'art gallery': 'misc', 'internet cafe': 'misc', 'prepacakaged foods': 'misc', 'church/after school program': 'charter school', 'service gas station': 'misc', 'coffee roaster': 'coffee shop', 'mobile frozen desserts dispenser-non- motorized': 'mobile frozen desserts vendor', 'gift shop': 'coffee shop', 'shared kitchen user (long trem)': 'shared kitchen user (long term)', 'frozen desserts dispenser-non-motorized': 'misc', 'np-kiosk': 'misc', 'mobile dessert cart': 'mobile food dispenser', 'commiasary': 'misc', 'meat market': 'misc', 'alternative school': 'private school', 'health center/nutrition classes': 'misc', 'peddler': 'shelter', 'gas station/grocery': 'gas station', 'day care combo (1586)': 'daycare combo 1586', 'kids cafe': 'kiosk', 'rooftop patio': 'misc', 'grocery/liquor store': 'grocery/restaurant', 'service bar/theatre': 'misc', 'mobile frozen desserts dispenser-non-motor': 'mobile frozen desserts vendor'}\n"
     ]
    }
   ],
   "source": [
    "print('Minority categories and their match in the main category pool:')\n",
    "print(small_types)"
   ]
  },
  {
   "cell_type": "code",
   "execution_count": 25,
   "metadata": {
    "ExecuteTime": {
     "end_time": "2019-11-25T15:04:02.837743Z",
     "start_time": "2019-11-25T15:04:02.778390Z"
    }
   },
   "outputs": [],
   "source": [
    "# Replacing the minority categories by majority ones in the dataframe\n",
    "chicago_df_noNan['new_facility_type'] = chicago_df_noNan['facility_type']\n",
    "\n",
    "def get_new_facility(x):\n",
    "    if x not in small_types:\n",
    "        return x\n",
    "    else:\n",
    "        return small_types[x]\n",
    "    \n",
    "chicago_df_noNan['new_facility_type'] = chicago_df_noNan['new_facility_type'].apply(get_new_facility)"
   ]
  },
  {
   "cell_type": "code",
   "execution_count": 26,
   "metadata": {
    "ExecuteTime": {
     "end_time": "2019-11-25T15:04:03.348094Z",
     "start_time": "2019-11-25T15:04:03.331107Z"
    }
   },
   "outputs": [
    {
     "name": "stdout",
     "output_type": "stream",
     "text": [
      "Number of facilities in the dataset after matching minority types to majority types: 43\n"
     ]
    }
   ],
   "source": [
    "print('Number of facilities in the dataset after matching minority types to majority types:', len(chicago_df_noNan['new_facility_type'].unique()))"
   ]
  },
  {
   "cell_type": "markdown",
   "metadata": {},
   "source": [
    "## Risk\n",
    "Filled nan values by Risk -1 and change risk 'All' to risk 4 (All), so that we can extract the data numerically if we want later\n"
   ]
  },
  {
   "cell_type": "code",
   "execution_count": 27,
   "metadata": {
    "ExecuteTime": {
     "end_time": "2019-11-25T15:04:05.110056Z",
     "start_time": "2019-11-25T15:04:04.901580Z"
    }
   },
   "outputs": [],
   "source": [
    "chicago_df_noNan['risk'].unique()\n",
    "chicago_df_noNan['risk'] = chicago_df_noNan['risk'].fillna('Risk -1 (None)')\n",
    "chicago_df_noNan['risk'] = chicago_df_noNan['risk'].str.replace('All', 'Risk 4 (All)')"
   ]
  },
  {
   "cell_type": "code",
   "execution_count": 28,
   "metadata": {
    "ExecuteTime": {
     "end_time": "2019-11-25T15:04:05.193684Z",
     "start_time": "2019-11-25T15:04:05.178724Z"
    }
   },
   "outputs": [
    {
     "data": {
      "text/plain": [
       "array(['Risk 2 (Medium)', 'Risk 1 (High)', 'Risk 3 (Low)',\n",
       "       'Risk -1 (None)', 'Risk 4 (All)'], dtype=object)"
      ]
     },
     "execution_count": 28,
     "metadata": {},
     "output_type": "execute_result"
    }
   ],
   "source": [
    "chicago_df_noNan['risk'].unique()"
   ]
  },
  {
   "cell_type": "markdown",
   "metadata": {},
   "source": [
    "## Address"
   ]
  },
  {
   "cell_type": "code",
   "execution_count": 29,
   "metadata": {
    "ExecuteTime": {
     "end_time": "2019-11-25T15:04:06.579420Z",
     "start_time": "2019-11-25T15:04:06.565458Z"
    },
    "scrolled": true
   },
   "outputs": [
    {
     "data": {
      "text/plain": [
       "array(['CHICAGO', nan, 'chicago', 'Chicago', 'GRIFFITH', 'NEW YORK',\n",
       "       'SCHAUMBURG', 'ELMHURST', 'ALGONQUIN', 'NEW HOLSTEIN', 'CCHICAGO',\n",
       "       'NILES NILES', 'EVANSTON', 'CHICAGO.', 'CHESTNUT STREET',\n",
       "       'LANSING', 'CHICAGOCHICAGO', 'WILMETTE', 'WHEATON',\n",
       "       'CHICAGOHICAGO', 'ROSEMONT', 'CHicago', 'CALUMET CITY',\n",
       "       'PLAINFIELD', 'HIGHLAND PARK', 'PALOS PARK', 'ELK GROVE VILLAGE',\n",
       "       'CICERO', 'BRIDGEVIEW', 'OAK PARK', 'MAYWOOD', 'LAKE BLUFF',\n",
       "       '312CHICAGO', 'SCHILLER PARK', 'SKOKIE', 'BEDFORD PARK',\n",
       "       'BANNOCKBURNDEERFIELD', 'CHCICAGO', 'BLOOMINGDALE', 'Norridge',\n",
       "       'CHARLES A HAYES', 'CHCHICAGO', 'CHICAGOI', 'SUMMIT',\n",
       "       'OOLYMPIA FIELDS', 'WESTMONT', 'CHICAGO HEIGHTS', 'JUSTICE',\n",
       "       'TINLEY PARK', 'LOMBARD', 'EAST HAZEL CREST', 'COUNTRY CLUB HILLS',\n",
       "       'STREAMWOOD', 'BOLINGBROOK', 'INACTIVE', 'BERWYN', 'BURNHAM',\n",
       "       'DES PLAINES', 'LAKE ZURICH', 'OLYMPIA FIELDS', 'OAK LAWN',\n",
       "       'BLUE ISLAND', 'GLENCOE', 'FRANKFORT', 'NAPERVILLE', 'BROADVIEW',\n",
       "       'WORTH', 'Maywood', 'ALSIP', 'alsip', 'EVERGREEN PARK'],\n",
       "      dtype=object)"
      ]
     },
     "execution_count": 29,
     "metadata": {},
     "output_type": "execute_result"
    }
   ],
   "source": [
    "chicago_df_noNan['city'].unique()"
   ]
  },
  {
   "cell_type": "code",
   "execution_count": 30,
   "metadata": {
    "ExecuteTime": {
     "end_time": "2019-11-25T15:04:06.955975Z",
     "start_time": "2019-11-25T15:04:06.951983Z"
    }
   },
   "outputs": [],
   "source": [
    "def split_address(address):\n",
    "    liste = address.upper().split(' ')\n",
    "    nr = liste[0]\n",
    "    cardinal = liste[1]\n",
    "    reste = ' '.join(liste[2:])\n",
    "    liste = nr + ('*') + cardinal + '*' + reste\n",
    "    return liste"
   ]
  },
  {
   "cell_type": "code",
   "execution_count": 31,
   "metadata": {
    "ExecuteTime": {
     "end_time": "2019-11-25T15:04:08.688995Z",
     "start_time": "2019-11-25T15:04:07.994853Z"
    }
   },
   "outputs": [],
   "source": [
    "temp = chicago_df_noNan['address'].apply(split_address)\n",
    "temp = temp.str.split('*', expand=True)\n"
   ]
  },
  {
   "cell_type": "markdown",
   "metadata": {},
   "source": [
    "## City"
   ]
  },
  {
   "cell_type": "code",
   "execution_count": 32,
   "metadata": {
    "ExecuteTime": {
     "end_time": "2019-11-25T15:04:09.026604Z",
     "start_time": "2019-11-25T15:04:08.926870Z"
    }
   },
   "outputs": [
    {
     "name": "stdout",
     "output_type": "stream",
     "text": [
      "71\n",
      "66\n"
     ]
    }
   ],
   "source": [
    "print(len(chicago_df_noNan['city'].unique()))\n",
    "chicago_df_noNan['city'] = chicago_df_noNan['city'].str.lower()\n",
    "print(len(chicago_df_noNan['city'].unique()))"
   ]
  },
  {
   "cell_type": "code",
   "execution_count": 33,
   "metadata": {
    "ExecuteTime": {
     "end_time": "2019-11-25T15:04:10.457999Z",
     "start_time": "2019-11-25T15:04:10.324808Z"
    }
   },
   "outputs": [],
   "source": [
    "chicago_df_noNan['city'].unique()\n",
    "chicago_df_noNan['city'] = chicago_df_noNan['city'].replace('cchicago', 'chicago').replace('chicago.', 'chicago')\n",
    "chicago_df_noNan['city'] = chicago_df_noNan['city'].replace('chicagochicago', 'chicago')\n",
    "chicago_df_noNan['city'] = chicago_df_noNan['city'].replace('chicagohicago', 'chicago')\n",
    "chicago_df_noNan['city'] = chicago_df_noNan['city'].replace('312chicago', 'chicago').replace('chicagoi', 'chicago')\n",
    "chicago_df_noNan['city'] = chicago_df_noNan['city'].replace('chchicago', 'chicago')\n",
    "chicago_df_noNan['city'] = chicago_df_noNan['city'].replace('chcicago', 'chicago')\n",
    "chicago_df_noNan['city'] = chicago_df_noNan['city'].fillna('chicago')"
   ]
  },
  {
   "cell_type": "code",
   "execution_count": 34,
   "metadata": {
    "ExecuteTime": {
     "end_time": "2019-11-25T15:04:10.674423Z",
     "start_time": "2019-11-25T15:04:10.658465Z"
    },
    "scrolled": true
   },
   "outputs": [
    {
     "data": {
      "text/plain": [
       "array(['algonquin', 'alsip', 'bannockburndeerfield', 'bedford park',\n",
       "       'berwyn', 'bloomingdale', 'blue island', 'bolingbrook',\n",
       "       'bridgeview', 'broadview', 'burnham', 'calumet city',\n",
       "       'charles a hayes', 'chestnut street', 'chicago', 'chicago heights',\n",
       "       'cicero', 'country club hills', 'des plaines', 'east hazel crest',\n",
       "       'elk grove village', 'elmhurst', 'evanston', 'evergreen park',\n",
       "       'frankfort', 'glencoe', 'griffith', 'highland park', 'inactive',\n",
       "       'justice', 'lake bluff', 'lake zurich', 'lansing', 'lombard',\n",
       "       'maywood', 'naperville', 'new holstein', 'new york', 'niles niles',\n",
       "       'norridge', 'oak lawn', 'oak park', 'olympia fields',\n",
       "       'oolympia fields', 'palos park', 'plainfield', 'rosemont',\n",
       "       'schaumburg', 'schiller park', 'skokie', 'streamwood', 'summit',\n",
       "       'tinley park', 'westmont', 'wheaton', 'wilmette', 'worth'],\n",
       "      dtype=object)"
      ]
     },
     "execution_count": 34,
     "metadata": {},
     "output_type": "execute_result"
    }
   ],
   "source": [
    "np.sort(chicago_df_noNan['city'].unique())"
   ]
  },
  {
   "cell_type": "code",
   "execution_count": 35,
   "metadata": {
    "ExecuteTime": {
     "end_time": "2019-11-25T15:04:11.186069Z",
     "start_time": "2019-11-25T15:04:11.172106Z"
    }
   },
   "outputs": [],
   "source": [
    "cities = pd.read_csv('./data/listsChicago.csv', sep=';', header=None)\n",
    "cities[0] = cities[0].str.lower()\n",
    "cities = cities[0].values"
   ]
  },
  {
   "cell_type": "code",
   "execution_count": 36,
   "metadata": {
    "ExecuteTime": {
     "end_time": "2019-11-25T15:04:15.434327Z",
     "start_time": "2019-11-25T15:04:12.328712Z"
    }
   },
   "outputs": [],
   "source": [
    "outs = []\n",
    "ins = []\n",
    "for city in chicago_df_noNan['city'].unique():\n",
    "    if city not in cities:\n",
    "        outs.append(city)\n",
    "        chicago_df_noNan = chicago_df_noNan[chicago_df_noNan['city'] != city]\n",
    "    else:\n",
    "        ins.append(city)"
   ]
  },
  {
   "cell_type": "code",
   "execution_count": 37,
   "metadata": {
    "ExecuteTime": {
     "end_time": "2019-11-25T15:04:15.440310Z",
     "start_time": "2019-11-25T15:04:15.436321Z"
    }
   },
   "outputs": [
    {
     "name": "stdout",
     "output_type": "stream",
     "text": [
      "Here are the real cities from Chicago!\n",
      "['chicago', 'cicero', 'bridgeview', 'oak park', 'maywood', 'bedford park', 'berwyn', 'oak lawn', 'broadview', 'evergreen park']\n"
     ]
    }
   ],
   "source": [
    "print('Here are the real cities from Chicago!')\n",
    "print(ins)"
   ]
  },
  {
   "cell_type": "markdown",
   "metadata": {},
   "source": [
    "## State\n",
    " We make sure that all our remaining entries are from Chicago in Illinois! "
   ]
  },
  {
   "cell_type": "code",
   "execution_count": 38,
   "metadata": {
    "ExecuteTime": {
     "end_time": "2019-11-25T15:04:36.121842Z",
     "start_time": "2019-11-25T15:04:36.109873Z"
    }
   },
   "outputs": [
    {
     "name": "stdout",
     "output_type": "stream",
     "text": [
      "['IL' nan]\n"
     ]
    }
   ],
   "source": [
    "print(chicago_df_noNan['state'].unique())"
   ]
  },
  {
   "cell_type": "code",
   "execution_count": 39,
   "metadata": {
    "ExecuteTime": {
     "end_time": "2019-11-25T15:04:36.818660Z",
     "start_time": "2019-11-25T15:04:36.798713Z"
    }
   },
   "outputs": [
    {
     "name": "stdout",
     "output_type": "stream",
     "text": [
      "['IL']\n"
     ]
    }
   ],
   "source": [
    "chicago_df_noNan['state'] = np.where(chicago_df_noNan['state'].isnull(), 'IL', chicago_df_noNan['state'])\n",
    "print(chicago_df_noNan['state'].unique())"
   ]
  },
  {
   "cell_type": "markdown",
   "metadata": {},
   "source": [
    "## Location"
   ]
  },
  {
   "cell_type": "code",
   "execution_count": 40,
   "metadata": {
    "ExecuteTime": {
     "end_time": "2019-11-25T15:04:39.219285Z",
     "start_time": "2019-11-25T15:04:39.215294Z"
    }
   },
   "outputs": [],
   "source": [
    "missing_longitude_indices = chicago_df_noNan['longitude'].isna()"
   ]
  },
  {
   "cell_type": "code",
   "execution_count": 41,
   "metadata": {
    "ExecuteTime": {
     "end_time": "2019-11-25T15:04:40.011753Z",
     "start_time": "2019-11-25T15:04:40.005769Z"
    }
   },
   "outputs": [
    {
     "data": {
      "text/plain": [
       "555"
      ]
     },
     "execution_count": 41,
     "metadata": {},
     "output_type": "execute_result"
    }
   ],
   "source": [
    "np.sum(missing_longitude_indices)"
   ]
  },
  {
   "cell_type": "code",
   "execution_count": 42,
   "metadata": {
    "ExecuteTime": {
     "end_time": "2019-11-25T15:04:51.625931Z",
     "start_time": "2019-11-25T15:04:51.615958Z"
    },
    "scrolled": true
   },
   "outputs": [
    {
     "data": {
      "text/plain": [
       "latitude    555\n",
       "location    555\n",
       "dtype: int64"
      ]
     },
     "execution_count": 42,
     "metadata": {},
     "output_type": "execute_result"
    }
   ],
   "source": [
    "chicago_df_noNan[missing_longitude_indices][['latitude', 'location']].isna().sum()"
   ]
  },
  {
   "cell_type": "markdown",
   "metadata": {},
   "source": [
    "We can conclude that all location attributes are missing together"
   ]
  },
  {
   "cell_type": "code",
   "execution_count": 43,
   "metadata": {
    "ExecuteTime": {
     "end_time": "2019-11-25T15:04:52.452530Z",
     "start_time": "2019-11-25T15:04:52.444552Z"
    }
   },
   "outputs": [
    {
     "data": {
      "text/plain": [
       "3"
      ]
     },
     "execution_count": 43,
     "metadata": {},
     "output_type": "execute_result"
    }
   ],
   "source": [
    "# Find how many of the rows with missing location attributes have missing zip code also\n",
    "np.sum(chicago_df_noNan['longitude'].isna() & chicago_df_noNan['zip'].isna())"
   ]
  },
  {
   "cell_type": "code",
   "execution_count": 44,
   "metadata": {
    "ExecuteTime": {
     "end_time": "2019-11-25T15:04:54.223749Z",
     "start_time": "2019-11-25T15:04:54.218765Z"
    }
   },
   "outputs": [],
   "source": [
    "# Define methods that performs geocoding using the zipcode\n",
    "\n",
    "def geocode_zip_code(zip_code):\n",
    "    nomi = pgeocode.Nominatim('us')\n",
    "    nomi_query = nomi.query_postal_code(int(zip_code))\n",
    "    return pd.Series([nomi_query.latitude, nomi_query.longitude])"
   ]
  },
  {
   "cell_type": "code",
   "execution_count": 45,
   "metadata": {
    "ExecuteTime": {
     "end_time": "2019-11-25T15:06:30.423813Z",
     "start_time": "2019-11-25T15:04:54.701962Z"
    }
   },
   "outputs": [],
   "source": [
    "# Perform geocoding using the zipcode\n",
    "missing_longitude_indices_with_zip = chicago_df_noNan['longitude'].isna() & chicago_df_noNan['zip'].notna()\n",
    "missing_locations = chicago_df_noNan.loc[missing_longitude_indices_with_zip, 'zip'].apply(geocode_zip_code)"
   ]
  },
  {
   "cell_type": "code",
   "execution_count": 46,
   "metadata": {
    "ExecuteTime": {
     "end_time": "2019-11-25T15:06:30.444757Z",
     "start_time": "2019-11-25T15:06:30.425808Z"
    }
   },
   "outputs": [],
   "source": [
    "chicago_df_noNan.loc[missing_longitude_indices_with_zip, 'latitude'] = missing_locations[0]\n",
    "chicago_df_noNan.loc[missing_longitude_indices_with_zip, 'longitude'] = missing_locations[1]"
   ]
  },
  {
   "cell_type": "code",
   "execution_count": 47,
   "metadata": {
    "ExecuteTime": {
     "end_time": "2019-11-25T15:06:30.452736Z",
     "start_time": "2019-11-25T15:06:30.446752Z"
    }
   },
   "outputs": [],
   "source": [
    "missing_longitude_indices = chicago_df_noNan['latitude'].isna()"
   ]
  },
  {
   "cell_type": "code",
   "execution_count": 48,
   "metadata": {
    "ExecuteTime": {
     "end_time": "2019-11-25T15:06:30.464704Z",
     "start_time": "2019-11-25T15:06:30.455728Z"
    }
   },
   "outputs": [
    {
     "data": {
      "text/plain": [
       "3"
      ]
     },
     "execution_count": 48,
     "metadata": {},
     "output_type": "execute_result"
    }
   ],
   "source": [
    "np.sum(missing_longitude_indices)"
   ]
  },
  {
   "cell_type": "markdown",
   "metadata": {},
   "source": [
    "We have filled most of the missing locations by using geocoding using the zipcode which would help us define the areas, other geocoders using the address leading to more accurate locations exist but they either require keys such as google maps or require better address format such as open street maps which does not work for of all our examples"
   ]
  },
  {
   "cell_type": "code",
   "execution_count": 49,
   "metadata": {
    "ExecuteTime": {
     "end_time": "2019-11-25T15:06:36.771100Z",
     "start_time": "2019-11-25T15:06:30.467696Z"
    }
   },
   "outputs": [],
   "source": [
    "# Create a groupedby data frame on the name and aggeragate to find the count of missing longitude and total counts for each group\n",
    "exp_df = chicago_df_noNan[['longitude', 'dba_name']].groupby('dba_name').agg({\"longitude\": [lambda x: x.isnull().sum()], 'dba_name':'count'})"
   ]
  },
  {
   "cell_type": "code",
   "execution_count": 50,
   "metadata": {
    "ExecuteTime": {
     "end_time": "2019-11-25T15:06:36.778051Z",
     "start_time": "2019-11-25T15:06:36.772065Z"
    }
   },
   "outputs": [],
   "source": [
    "# rename column for more intutive view\n",
    "exp_df.columns.set_levels(['nulls_count', 'count'],level=1,inplace=True)"
   ]
  },
  {
   "cell_type": "code",
   "execution_count": 51,
   "metadata": {
    "ExecuteTime": {
     "end_time": "2019-11-25T15:06:36.800988Z",
     "start_time": "2019-11-25T15:06:36.780045Z"
    }
   },
   "outputs": [
    {
     "data": {
      "text/plain": [
       "2.0"
      ]
     },
     "execution_count": 51,
     "metadata": {},
     "output_type": "execute_result"
    }
   ],
   "source": [
    "# Identify how many entries with missing locations have other entries for the same place with the location not missing\n",
    "\n",
    "bool_1 = (exp_df['longitude']['nulls_count'] != 0)\n",
    "bool_2 = (exp_df['dba_name']['count'] != exp_df['longitude']['nulls_count'])\n",
    "\n",
    "np.sum(exp_df[ bool_1.values & bool_2.values]['longitude']['nulls_count'])"
   ]
  },
  {
   "cell_type": "code",
   "execution_count": 52,
   "metadata": {
    "ExecuteTime": {
     "end_time": "2019-11-25T15:07:28.277995Z",
     "start_time": "2019-11-25T15:07:28.184216Z"
    }
   },
   "outputs": [],
   "source": [
    "# use restaurants with multiple entries where some have their location fields to fill the same restaurant entries with missing location\n",
    "\n",
    "missing_location_names = chicago_df_noNan.loc[missing_longitude_indices]['dba_name']\n",
    "\n",
    "for index, name in missing_location_names.items():\n",
    "    similar_entries = chicago_df_noNan[(chicago_df_noNan['dba_name'] == name) & (chicago_df_noNan['dba_name'].notna())] \n",
    "    chicago_df_noNan.at[index, 'latitude'] = similar_entries.iloc[0]['latitude']\n",
    "    chicago_df_noNan.at[index, 'longitude'] = similar_entries.iloc[0]['longitude']\n",
    "    chicago_df_noNan.at[index, 'zip'] = similar_entries.iloc[0]['zip']"
   ]
  },
  {
   "cell_type": "code",
   "execution_count": 53,
   "metadata": {
    "ExecuteTime": {
     "end_time": "2019-11-25T15:07:28.556194Z",
     "start_time": "2019-11-25T15:07:28.550212Z"
    }
   },
   "outputs": [],
   "source": [
    "missing_longitude_indices = chicago_df_noNan['latitude'].isna()"
   ]
  },
  {
   "cell_type": "code",
   "execution_count": 54,
   "metadata": {
    "ExecuteTime": {
     "end_time": "2019-11-25T15:07:28.919399Z",
     "start_time": "2019-11-25T15:07:28.912411Z"
    }
   },
   "outputs": [
    {
     "data": {
      "text/plain": [
       "1"
      ]
     },
     "execution_count": 54,
     "metadata": {},
     "output_type": "execute_result"
    }
   ],
   "source": [
    "np.sum(missing_longitude_indices)"
   ]
  },
  {
   "cell_type": "code",
   "execution_count": 55,
   "metadata": {
    "ExecuteTime": {
     "end_time": "2019-11-25T15:07:29.260494Z",
     "start_time": "2019-11-25T15:07:29.255506Z"
    }
   },
   "outputs": [
    {
     "data": {
      "text/plain": [
       "Index(['inspection_id', 'dba_name', 'aka_name', 'license', 'facility_type',\n",
       "       'risk', 'address', 'city', 'state', 'zip', 'inspection_date',\n",
       "       'inspection_type', 'results', 'violations', 'latitude', 'longitude',\n",
       "       'location', 'has_license', 'new_facility_type'],\n",
       "      dtype='object')"
      ]
     },
     "execution_count": 55,
     "metadata": {},
     "output_type": "execute_result"
    }
   ],
   "source": [
    "chicago_df_noNan.columns"
   ]
  },
  {
   "cell_type": "markdown",
   "metadata": {},
   "source": [
    "## Inspection type"
   ]
  },
  {
   "cell_type": "markdown",
   "metadata": {},
   "source": [
    "Here we clean the inspection type data by:\n",
    "1. Casefolding\n",
    "1. Removing digits because the examples were for different task forces which are very similar\n",
    "1. Removing stopwords that made sense in our dataset\n",
    "1. Correcting spelling\n",
    "1. Lemmatization of words"
   ]
  },
  {
   "cell_type": "code",
   "execution_count": 56,
   "metadata": {
    "ExecuteTime": {
     "end_time": "2019-11-25T15:07:35.932180Z",
     "start_time": "2019-11-25T15:07:35.859345Z"
    }
   },
   "outputs": [],
   "source": [
    "# lowercase everything\n",
    "chicago_df_noNan['inspection_type'] = chicago_df_noNan['inspection_type'].str.lower()"
   ]
  },
  {
   "cell_type": "code",
   "execution_count": 57,
   "metadata": {
    "ExecuteTime": {
     "end_time": "2019-11-25T15:07:36.616312Z",
     "start_time": "2019-11-25T15:07:36.195839Z"
    }
   },
   "outputs": [
    {
     "data": {
      "text/plain": [
       "[('canvass', 'canvass re-inspection'),\n",
       " ('canvass', 'canvass special events'),\n",
       " ('canvass', 'canvass school/special event'),\n",
       " ('canvass', 'canvas'),\n",
       " ('canvass', 'canvass re inspection of close up'),\n",
       " ('canvass', 'canvass/special event'),\n",
       " ('canvass', 'canvass for rib fest'),\n",
       " ('canvass re-inspection', 'complaint re-inspection'),\n",
       " ('canvass re-inspection', 'license re-inspection'),\n",
       " ('canvass re-inspection', 'recent inspection'),\n",
       " ('canvass re-inspection', 'non-inspection'),\n",
       " ('canvass re-inspection', 'complaint-fire re-inspection'),\n",
       " ('canvass re-inspection', 'canvass special events'),\n",
       " ('canvass re-inspection', 'canvass school/special event'),\n",
       " ('canvass re-inspection', 'canvas'),\n",
       " ('canvass re-inspection', 'canvass re inspection of close up'),\n",
       " ('canvass re-inspection', 'canvass/special event'),\n",
       " ('canvass re-inspection', 'recall inspection'),\n",
       " ('canvass re-inspection', 'canvass for rib fest'),\n",
       " ('license', 'license re-inspection'),\n",
       " ('license', 'license-task force'),\n",
       " ('license', 'license task 1474'),\n",
       " ('license', 'license renewal inspection for daycare'),\n",
       " ('license', 'license renewal for daycare'),\n",
       " ('license', 'license request'),\n",
       " ('license', 'license task force / not -for-profit clu'),\n",
       " ('license', 'license task force / not -for-profit club'),\n",
       " ('license', 'license/not ready'),\n",
       " ('license', 'license daycare 1586'),\n",
       " ('license', 'license canceled by owner'),\n",
       " ('license', 'license consultation'),\n",
       " ('license', 'license wrong address'),\n",
       " ('complaint re-inspection', 'complaint'),\n",
       " ('complaint re-inspection', 'license re-inspection'),\n",
       " ('complaint re-inspection', 'recent inspection'),\n",
       " ('complaint re-inspection', 'complaint-fire re-inspection'),\n",
       " ('complaint re-inspection', 'complaint-fire'),\n",
       " ('complaint re-inspection', 'corrective action'),\n",
       " ('complaint re-inspection', 'pre-license consultation'),\n",
       " ('complaint re-inspection', '1315 license reinspection'),\n",
       " ('complaint re-inspection', 'close-up/complaint reinspection'),\n",
       " ('complaint re-inspection', 'recall inspection'),\n",
       " ('complaint', 'consultation'),\n",
       " ('complaint', 'complaint-fire re-inspection'),\n",
       " ('complaint', 'complaint-fire'),\n",
       " ('complaint', 'sfp/complaint'),\n",
       " ('license re-inspection', 'recent inspection'),\n",
       " ('license re-inspection', 'license-task force'),\n",
       " ('license re-inspection', 'complaint-fire re-inspection'),\n",
       " ('license re-inspection', 'pre-license consultation'),\n",
       " ('license re-inspection', 'license task 1474'),\n",
       " ('license re-inspection', '1315 license reinspection'),\n",
       " ('license re-inspection', 'sfp recently inspected'),\n",
       " ('license re-inspection', 'license renewal inspection for daycare'),\n",
       " ('license re-inspection', 'license renewal for daycare'),\n",
       " ('license re-inspection', 'license request'),\n",
       " ('license re-inspection', 'license task force / not -for-profit clu'),\n",
       " ('license re-inspection', 'license task force / not -for-profit club'),\n",
       " ('license re-inspection', 'license/not ready'),\n",
       " ('license re-inspection', 'license daycare 1586'),\n",
       " ('license re-inspection', 'recall inspection'),\n",
       " ('license re-inspection', 'license canceled by owner'),\n",
       " ('license re-inspection', 'license consultation'),\n",
       " ('license re-inspection', 'license wrong address'),\n",
       " ('recent inspection', 'pre-license consultation'),\n",
       " ('recent inspection', 'recall inspection'),\n",
       " ('recent inspection', 'reinspection of 48 hour notice'),\n",
       " ('recent inspection', 'reinspection'),\n",
       " ('recent inspection', 're-inspection of close-up'),\n",
       " ('short form complaint', 'fire complaint'),\n",
       " ('short form complaint', 'short form fire-complaint'),\n",
       " ('short form complaint', 'smoking complaint'),\n",
       " ('short form complaint', 'no entry-short complaint)'),\n",
       " ('suspected food poisoning', 'suspected food poisoning re-inspection'),\n",
       " ('not ready', 'no entry'),\n",
       " ('consultation', 'corrective action'),\n",
       " ('special events (festivals)', 'canvass special events'),\n",
       " ('special events (festivals)', 'special task force'),\n",
       " ('fire complaint', 'fire'),\n",
       " ('fire complaint', 'fire/complain'),\n",
       " ('fire complaint', 'sfp/complaint'),\n",
       " ('fire complaint', 'finish complaint inspection from 5-18-10'),\n",
       " ('fire', 'fire/complain'),\n",
       " ('tag removal', 'task force'),\n",
       " ('license-task force', 'license task 1474'),\n",
       " ('license-task force', 'license renewal inspection for daycare'),\n",
       " ('license-task force', 'license renewal for daycare'),\n",
       " ('license-task force', 'license request'),\n",
       " ('license-task force', 'license task force / not -for-profit clu'),\n",
       " ('license-task force', 'license task force / not -for-profit club'),\n",
       " ('license-task force', 'license/not ready'),\n",
       " ('license-task force', 'license daycare 1586'),\n",
       " ('license-task force', 'special task force'),\n",
       " ('license-task force', 'liqour task force not ready'),\n",
       " ('license-task force', 'license canceled by owner'),\n",
       " ('license-task force', 'license consultation'),\n",
       " ('license-task force', 'license wrong address'),\n",
       " ('complaint-fire re-inspection', 'complaint-fire'),\n",
       " ('complaint-fire re-inspection', 'pre-license consultation'),\n",
       " ('complaint-fire re-inspection', 'close-up/complaint reinspection'),\n",
       " ('short form fire-complaint', 'smoking complaint'),\n",
       " ('short form fire-complaint', 'no entry-short complaint)'),\n",
       " ('kitchen closed for renovation', 'reinspection of 48 hour notice'),\n",
       " ('task force liquor 1475', 'package liquor 1474'),\n",
       " ('task force liquor 1475', 'task force liquor 1470'),\n",
       " ('task force liquor 1475', 'task force for liquor 1474'),\n",
       " ('task force liquor 1475', 'task force liquor inspection 1474'),\n",
       " ('task force liquor 1475', 'task force liquor catering'),\n",
       " ('task force liquor 1475', 'task force night'),\n",
       " ('task force liquor 1475', 'taskforce'),\n",
       " ('task force liquor 1475', 'taste of chicago'),\n",
       " ('task force liquor 1475', 'task force'),\n",
       " ('task force liquor 1475', 'task force liquor (1481)'),\n",
       " ('task force liquor 1475', 'task force not ready'),\n",
       " ('task force liquor 1475', 'task force liquor 1474'),\n",
       " ('task force liquor 1475', 'task force package goods 1474'),\n",
       " ('task force liquor 1475', 'task force(1470) liquor tavern'),\n",
       " ('task force liquor 1475', 'task force package liquor'),\n",
       " ('package liquor 1474', 'task force liquor 1470'),\n",
       " ('package liquor 1474', 'license task 1474'),\n",
       " ('package liquor 1474', 'task force for liquor 1474'),\n",
       " ('package liquor 1474', 'task force liquor 1474'),\n",
       " ('pre-license consultation', 'close-up/complaint reinspection'),\n",
       " ('pre-license consultation', 'recall inspection'),\n",
       " ('pre-license consultation', 're-inspection of close-up'),\n",
       " ('pre-license consultation', 'license consultation'),\n",
       " ('canvass special events', 'canvass school/special event'),\n",
       " ('canvass special events', 'canvas'),\n",
       " ('canvass special events', 'canvass re inspection of close up'),\n",
       " ('canvass special events', 'canvass/special event'),\n",
       " ('canvass special events', 'canvass for rib fest'),\n",
       " ('canvass school/special event', 'canvas'),\n",
       " ('canvass school/special event', 'canvass re inspection of close up'),\n",
       " ('canvass school/special event', 'canvass/special event'),\n",
       " ('canvass school/special event', 'canvass for rib fest'),\n",
       " ('out of business', 'out ofbusiness'),\n",
       " ('no entry', 'no entry-short complaint)'),\n",
       " ('task force liquor 1470', 'task force for liquor 1474'),\n",
       " ('task force liquor 1470', 'task force liquor inspection 1474'),\n",
       " ('task force liquor 1470', 'task force liquor catering'),\n",
       " ('task force liquor 1470', 'task force night'),\n",
       " ('task force liquor 1470', 'taskforce'),\n",
       " ('task force liquor 1470', 'taste of chicago'),\n",
       " ('task force liquor 1470', 'task force'),\n",
       " ('task force liquor 1470', 'task force liquor (1481)'),\n",
       " ('task force liquor 1470', 'task force not ready'),\n",
       " ('task force liquor 1470', 'task force liquor 1474'),\n",
       " ('task force liquor 1470', 'task force package goods 1474'),\n",
       " ('task force liquor 1470', 'task force(1470) liquor tavern'),\n",
       " ('task force liquor 1470', 'task force package liquor'),\n",
       " ('sample collection', 'illegal operation'),\n",
       " ('license task 1474', 'license renewal inspection for daycare'),\n",
       " ('license task 1474', 'license renewal for daycare'),\n",
       " ('license task 1474', 'license request'),\n",
       " ('license task 1474', 'license task force / not -for-profit clu'),\n",
       " ('license task 1474', 'license task force / not -for-profit club'),\n",
       " ('license task 1474', 'license/not ready'),\n",
       " ('license task 1474', 'license daycare 1586'),\n",
       " ('license task 1474', 'license canceled by owner'),\n",
       " ('license task 1474', 'license consultation'),\n",
       " ('license task 1474', 'license wrong address'),\n",
       " ('fire/complain', 'sfp/complaint'),\n",
       " ('fire/complain', 'finish complaint inspection from 5-18-10'),\n",
       " ('task force for liquor 1474', 'task force liquor inspection 1474'),\n",
       " ('task force for liquor 1474', 'task force liquor catering'),\n",
       " ('task force for liquor 1474', 'task force night'),\n",
       " ('task force for liquor 1474', 'taskforce'),\n",
       " ('task force for liquor 1474', 'taste of chicago'),\n",
       " ('task force for liquor 1474', 'task force'),\n",
       " ('task force for liquor 1474', 'task force liquor (1481)'),\n",
       " ('task force for liquor 1474', 'task force not ready'),\n",
       " ('task force for liquor 1474', 'task force liquor 1474'),\n",
       " ('task force for liquor 1474', 'task force package goods 1474'),\n",
       " ('task force for liquor 1474', 'task force(1470) liquor tavern'),\n",
       " ('task force for liquor 1474', 'task force package liquor'),\n",
       " ('task force liquor inspection 1474', 'task force liquor catering'),\n",
       " ('task force liquor inspection 1474', 'task force night'),\n",
       " ('task force liquor inspection 1474', 'taskforce'),\n",
       " ('task force liquor inspection 1474', 'taste of chicago'),\n",
       " ('task force liquor inspection 1474', 'task force'),\n",
       " ('task force liquor inspection 1474', 'task force liquor (1481)'),\n",
       " ('task force liquor inspection 1474', 'task force not ready'),\n",
       " ('task force liquor inspection 1474', 'task force liquor 1474'),\n",
       " ('task force liquor inspection 1474', 'task force package goods 1474'),\n",
       " ('task force liquor inspection 1474', 'task force(1470) liquor tavern'),\n",
       " ('task force liquor inspection 1474', 'task force package liquor'),\n",
       " ('task force liquor catering', 'task force night'),\n",
       " ('task force liquor catering', 'taskforce'),\n",
       " ('task force liquor catering', 'taste of chicago'),\n",
       " ('task force liquor catering', 'task force'),\n",
       " ('task force liquor catering', 'task force liquor (1481)'),\n",
       " ('task force liquor catering', 'task force not ready'),\n",
       " ('task force liquor catering', 'liqour task force not ready'),\n",
       " ('task force liquor catering', 'task force liquor 1474'),\n",
       " ('task force liquor catering', 'task force package goods 1474'),\n",
       " ('task force liquor catering', 'task force(1470) liquor tavern'),\n",
       " ('task force liquor catering', 'task force package liquor'),\n",
       " ('sfp', 'sfp/complaint'),\n",
       " ('sfp', 'sfp recently inspected'),\n",
       " ('canvas', 'canvass re inspection of close up'),\n",
       " ('canvas', 'canvass/special event'),\n",
       " ('canvas', 'canvass for rib fest'),\n",
       " ('sfp/complaint', 'smoking complaint'),\n",
       " ('sfp/complaint', 'close-up/complaint reinspection'),\n",
       " ('task force night', 'taskforce'),\n",
       " ('task force night', 'taste of chicago'),\n",
       " ('task force night', 'task force'),\n",
       " ('task force night', 'task force liquor (1481)'),\n",
       " ('task force night', 'task force not ready'),\n",
       " ('task force night', 'task force liquor 1474'),\n",
       " ('task force night', 'task force package goods 1474'),\n",
       " ('task force night', 'task force(1470) liquor tavern'),\n",
       " ('task force night', 'task force package liquor'),\n",
       " ('expansion', 'reinspection'),\n",
       " ('license renewal inspection for daycare', 'license renewal for daycare'),\n",
       " ('license renewal inspection for daycare', 'license request'),\n",
       " ('license renewal inspection for daycare',\n",
       "  'license task force / not -for-profit clu'),\n",
       " ('license renewal inspection for daycare',\n",
       "  'license task force / not -for-profit club'),\n",
       " ('license renewal inspection for daycare', 'license/not ready'),\n",
       " ('license renewal inspection for daycare', 'license daycare 1586'),\n",
       " ('license renewal inspection for daycare', 'liqour task force not ready'),\n",
       " ('license renewal inspection for daycare', 'license canceled by owner'),\n",
       " ('license renewal inspection for daycare', 'license consultation'),\n",
       " ('license renewal inspection for daycare', 'license wrong address'),\n",
       " ('license renewal for daycare', 'license request'),\n",
       " ('license renewal for daycare', 'license task force / not -for-profit clu'),\n",
       " ('license renewal for daycare', 'license task force / not -for-profit club'),\n",
       " ('license renewal for daycare', 'license/not ready'),\n",
       " ('license renewal for daycare', 'license daycare 1586'),\n",
       " ('license renewal for daycare', 'day care license renewal'),\n",
       " ('license renewal for daycare', 'liqour task force not ready'),\n",
       " ('license renewal for daycare', 'license canceled by owner'),\n",
       " ('license renewal for daycare', 'license consultation'),\n",
       " ('license renewal for daycare', 'license wrong address'),\n",
       " ('canvass re inspection of close up', 'canvass/special event'),\n",
       " ('canvass re inspection of close up', 'canvass for rib fest'),\n",
       " ('canvass re inspection of close up', 're-inspection of close-up'),\n",
       " ('license request', 'license task force / not -for-profit clu'),\n",
       " ('license request', 'license task force / not -for-profit club'),\n",
       " ('license request', 'license/not ready'),\n",
       " ('license request', 'license daycare 1586'),\n",
       " ('license request', 'license canceled by owner'),\n",
       " ('license request', 'license consultation'),\n",
       " ('license request', 'license wrong address'),\n",
       " ('taskforce', 'taste of chicago'),\n",
       " ('taskforce', 'task force'),\n",
       " ('taskforce', 'task force liquor (1481)'),\n",
       " ('taskforce', 'task force not ready'),\n",
       " ('taskforce', 'task force liquor 1474'),\n",
       " ('taskforce', 'task force package goods 1474'),\n",
       " ('taskforce', 'task force(1470) liquor tavern'),\n",
       " ('taskforce', 'task force package liquor'),\n",
       " ('license task force / not -for-profit clu',\n",
       "  'license task force / not -for-profit club'),\n",
       " ('license task force / not -for-profit clu', 'license/not ready'),\n",
       " ('license task force / not -for-profit clu', 'license daycare 1586'),\n",
       " ('license task force / not -for-profit clu', 'liqour task force not ready'),\n",
       " ('license task force / not -for-profit clu', 'license canceled by owner'),\n",
       " ('license task force / not -for-profit clu', 'license consultation'),\n",
       " ('license task force / not -for-profit clu', 'license wrong address'),\n",
       " ('license task force / not -for-profit club', 'license/not ready'),\n",
       " ('license task force / not -for-profit club', 'license daycare 1586'),\n",
       " ('license task force / not -for-profit club', 'liqour task force not ready'),\n",
       " ('license task force / not -for-profit club', 'license canceled by owner'),\n",
       " ('license task force / not -for-profit club', 'license consultation'),\n",
       " ('license task force / not -for-profit club', 'license wrong address'),\n",
       " ('license/not ready', 'license daycare 1586'),\n",
       " ('license/not ready', 'license canceled by owner'),\n",
       " ('license/not ready', 'license consultation'),\n",
       " ('license/not ready', 'license wrong address'),\n",
       " ('citf', 'citation re-issued'),\n",
       " ('kids cafe', \"kids cafe'\"),\n",
       " ('license daycare 1586', 'license canceled by owner'),\n",
       " ('license daycare 1586', 'license consultation'),\n",
       " ('license daycare 1586', 'license wrong address'),\n",
       " ('canvass/special event', 'canvass for rib fest'),\n",
       " ('day care license renewal', 'license canceled by owner'),\n",
       " ('liquor catering', 'liqour task force not ready'),\n",
       " ('taste of chicago', 'task force'),\n",
       " ('taste of chicago', 'task force liquor (1481)'),\n",
       " ('taste of chicago', 'task force not ready'),\n",
       " ('taste of chicago', 'task force liquor 1474'),\n",
       " ('taste of chicago', 'task force package goods 1474'),\n",
       " ('taste of chicago', 'task force(1470) liquor tavern'),\n",
       " ('taste of chicago', 'task force package liquor'),\n",
       " ('recall inspection', 'reinspection'),\n",
       " ('recall inspection', 're-inspection of close-up'),\n",
       " ('recall inspection', 'illegal operation'),\n",
       " ('reinspection of 48 hour notice', 'reinspection'),\n",
       " ('reinspection of 48 hour notice', 're-inspection of close-up'),\n",
       " ('reinspection', 're-inspection of close-up'),\n",
       " ('task force', 'task force liquor (1481)'),\n",
       " ('task force', 'task force not ready'),\n",
       " ('task force', 'task force liquor 1474'),\n",
       " ('task force', 'task force package goods 1474'),\n",
       " ('task force', 'task force(1470) liquor tavern'),\n",
       " ('task force', 'task force package liquor'),\n",
       " ('task force liquor (1481)', 'task force not ready'),\n",
       " ('task force liquor (1481)', 'task force liquor 1474'),\n",
       " ('task force liquor (1481)', 'task force package goods 1474'),\n",
       " ('task force liquor (1481)', 'task force(1470) liquor tavern'),\n",
       " ('task force liquor (1481)', 'task force package liquor'),\n",
       " ('task force not ready', 'liqour task force not ready'),\n",
       " ('task force not ready', 'task force liquor 1474'),\n",
       " ('task force not ready', 'task force package goods 1474'),\n",
       " ('task force not ready', 'task force(1470) liquor tavern'),\n",
       " ('task force not ready', 'task force package liquor'),\n",
       " ('task force liquor 1474', 'task force package goods 1474'),\n",
       " ('task force liquor 1474', 'task force(1470) liquor tavern'),\n",
       " ('task force liquor 1474', 'task force package liquor'),\n",
       " ('task force package goods 1474', 'task force(1470) liquor tavern'),\n",
       " ('task force package goods 1474', 'task force package liquor'),\n",
       " ('license canceled by owner', 'license consultation'),\n",
       " ('license canceled by owner', 'license wrong address'),\n",
       " ('license consultation', 'license wrong address'),\n",
       " ('task force(1470) liquor tavern', 'task force package liquor')]"
      ]
     },
     "execution_count": 57,
     "metadata": {},
     "output_type": "execute_result"
    }
   ],
   "source": [
    "# Check similar entries\n",
    "check_series = chicago_df_noNan['inspection_type']\n",
    "iteratable = combinations(check_series.unique(), r=2)\n",
    "inconsistent_pairs = [pair for pair in iteratable if distance.get_jaro_distance(str(pair[0]), str(pair[1])) > 0.7]\n",
    "inconsistent_pairs"
   ]
  },
  {
   "cell_type": "code",
   "execution_count": 58,
   "metadata": {
    "ExecuteTime": {
     "end_time": "2019-11-25T15:07:38.819577Z",
     "start_time": "2019-11-25T15:07:38.806611Z"
    }
   },
   "outputs": [],
   "source": [
    "# Identify methods for cleaning the text\n",
    "\n",
    "# Remove digit sequences\n",
    "def remove_digits(list_):\n",
    "    list_ = [i for i in list_ if not i.isdigit()] \n",
    "    return list_\n",
    "\n",
    "# Remove stopwords\n",
    "def remove_stopwords(list_, verbrose=False):\n",
    "    # Set of stop words that made sense with our data the predefined removed words we may need\n",
    "    stop_words = ['by', 'for', 'and', 'from', 'of']\n",
    "    filtered_sentence = [w for w in list_ if not w in stop_words]\n",
    "    if verbrose and len(list_) > len(filtered_sentence):\n",
    "        print(\"Removed Stopwords\")\n",
    "        print(list_)\n",
    "        print(filtered_sentence)\n",
    "    return filtered_sentence\n",
    "\n",
    "# Identify sentence with misspelling\n",
    "def is_misspelled(list_):\n",
    "    stop_words = set(stopwords.words('english'))\n",
    "    for word in list_:\n",
    "        if len(wn.synsets(word)) == 0 and word not in stop_words:\n",
    "            return True\n",
    "    return False\n",
    "\n",
    "# Correct sentences with misspellings\n",
    "def correct_misspellings(list_):\n",
    "    # Correction dictionary that made sense for our data because the dataset is using abbreviations we do not want to remove\n",
    "    correct_dict = {'reinspection': ['re', 'inspection'], 'clu': ['club'], 'questionaire': ['questionaire'], 'taskforce': ['task', 'force']}\n",
    "    misspelled = list(set(list_).intersection(correct_dict.keys()))\n",
    "    for word in misspelled:\n",
    "        index = list_.index(word)\n",
    "        list_[index:index+1] = correct_dict[word]\n",
    "        \n",
    "    return list_    \n",
    "\n",
    "# Lemmatizing words in sentences\n",
    "def lemmatization(list_):\n",
    "    lemmatizer = WordNetLemmatizer() \n",
    "    return [lemmatizer.lemmatize(word) for word in list_]\n",
    "\n",
    "# Define jaccard similarity to compare cleaned strings\n",
    "def jaccard_similarity(string1, string2):\n",
    "    list1 = string1.split(' ')\n",
    "    list2 = string2.split(' ')\n",
    "    intersection = len(list(set(list1).intersection(list2)))\n",
    "    union = (len(list1) + len(list2)) - intersection\n",
    "    return float(intersection) / union"
   ]
  },
  {
   "cell_type": "code",
   "execution_count": 59,
   "metadata": {
    "ExecuteTime": {
     "end_time": "2019-11-25T15:07:41.451941Z",
     "start_time": "2019-11-25T15:07:39.237538Z"
    },
    "scrolled": true
   },
   "outputs": [],
   "source": [
    "# Inspect problems on the unique items first to identify misspellings\n",
    "tokenizer = RegexpTokenizer(r'\\w+')\n",
    "unique_inspection_type = pd.DataFrame(chicago_df_noNan['inspection_type'].unique(), columns=['inspection_type'])\n",
    "unique_inspection_type['inspection_type'] = unique_inspection_type['inspection_type'].map(str)\n",
    "unique_inspection_type['inspection_type'] = unique_inspection_type['inspection_type'].map(tokenizer.tokenize)\n",
    "unique_inspection_type['inspection_type'] = unique_inspection_type['inspection_type'].map(remove_digits)\n",
    "unique_inspection_type['inspection_type'] = unique_inspection_type['inspection_type'].map(remove_stopwords)\n",
    "unique_inspection_type['mispelled'] = unique_inspection_type['inspection_type'].apply(is_misspelled)"
   ]
  },
  {
   "cell_type": "code",
   "execution_count": 60,
   "metadata": {
    "ExecuteTime": {
     "end_time": "2019-11-25T15:07:41.462913Z",
     "start_time": "2019-11-25T15:07:41.453936Z"
    }
   },
   "outputs": [
    {
     "name": "stdout",
     "output_type": "stream",
     "text": [
      "                             inspection_type  mispelled\n",
      "28              [pre, license, consultation]       True\n",
      "39                   [license, reinspection]       True\n",
      "42                                     [sfp]       True\n",
      "44                          [sfp, complaint]       True\n",
      "48                [sfp, recently, inspected]       True\n",
      "54                               [taskforce]       True\n",
      "55  [license, task, force, not, profit, clu]       True\n",
      "59                                    [citf]       True\n",
      "70                     [haccp, questionaire]       True\n",
      "71                         [out, ofbusiness]       True\n",
      "72      [close, up, complaint, reinspection]       True\n",
      "77              [reinspection, hour, notice]       True\n",
      "78                            [reinspection]       True\n",
      "80                      [canvass, rib, fest]       True\n",
      "86         [liqour, task, force, not, ready]       True\n"
     ]
    }
   ],
   "source": [
    "with pd.option_context('display.max_rows', None, 'display.max_columns', None):  # more options can be specified also\n",
    "    print(unique_inspection_type[unique_inspection_type['mispelled']])"
   ]
  },
  {
   "cell_type": "code",
   "execution_count": 61,
   "metadata": {
    "ExecuteTime": {
     "end_time": "2019-11-25T15:09:45.325332Z",
     "start_time": "2019-11-25T15:07:42.179943Z"
    }
   },
   "outputs": [],
   "source": [
    "# Clean full dataset\n",
    "chicago_df_noNan['inspection_type'] = chicago_df_noNan['inspection_type'].map(str)\n",
    "chicago_df_noNan['inspection_type'] = chicago_df_noNan['inspection_type'].map(tokenizer.tokenize)\n",
    "chicago_df_noNan['inspection_type'] = chicago_df_noNan['inspection_type'].map(remove_digits)\n",
    "chicago_df_noNan['inspection_type'] = chicago_df_noNan['inspection_type'].map(remove_stopwords)\n",
    "chicago_df_noNan['mispelled'] = chicago_df_noNan['inspection_type'].apply(is_misspelled)\n",
    "chicago_df_noNan[chicago_df_noNan['mispelled']]['inspection_type'] = chicago_df_noNan[chicago_df_noNan['mispelled']]['inspection_type'].map(correct_misspellings)\n",
    "chicago_df_noNan['mispelled'] = chicago_df_noNan['inspection_type'].apply(is_misspelled)\n",
    "chicago_df_noNan['inspection_type'] = chicago_df_noNan['inspection_type'].map(lemmatization)\n",
    "chicago_df_noNan['inspection_type'] = chicago_df_noNan['inspection_type'].map(' '.join)"
   ]
  },
  {
   "cell_type": "code",
   "execution_count": 62,
   "metadata": {
    "ExecuteTime": {
     "end_time": "2019-11-25T15:09:45.363201Z",
     "start_time": "2019-11-25T15:09:45.326300Z"
    }
   },
   "outputs": [
    {
     "data": {
      "text/plain": [
       "[('complaint re inspection', 'complaint fire re inspection'),\n",
       " ('short form complaint', 'short form fire complaint'),\n",
       " ('fire complaint', 'complaint fire'),\n",
       " ('task force liquor', 'task force liquor inspection'),\n",
       " ('task force liquor', 'task force liquor catering'),\n",
       " ('task force liquor', 'task force liquor tavern'),\n",
       " ('task force liquor', 'task force package liquor'),\n",
       " ('canvas special event', 'canvas school special event'),\n",
       " ('license renewal inspection daycare', 'license renewal daycare'),\n",
       " ('canvas re inspection close up', 're inspection close up'),\n",
       " ('close up complaint re inspection', 're inspection close up'),\n",
       " ('task force not ready', 'liqour task force not ready')]"
      ]
     },
     "execution_count": 62,
     "metadata": {},
     "output_type": "execute_result"
    }
   ],
   "source": [
    "# Look for similar inspection_types\n",
    "iteratable = combinations(chicago_df_noNan['inspection_type'].unique(), r=2)\n",
    "inconsistent_pairs = [pair for pair in iteratable if jaccard_similarity(str(pair[0]), str(pair[1])) > 0.7]\n",
    "inconsistent_pairs"
   ]
  },
  {
   "cell_type": "code",
   "execution_count": 63,
   "metadata": {
    "ExecuteTime": {
     "end_time": "2019-11-25T15:09:45.432047Z",
     "start_time": "2019-11-25T15:09:45.366192Z"
    }
   },
   "outputs": [],
   "source": [
    "# Drop flag column after cleaning\n",
    "chicago_df_noNan = chicago_df_noNan.drop(columns=['mispelled'], axis=1)"
   ]
  },
  {
   "cell_type": "markdown",
   "metadata": {},
   "source": [
    "Now after cleaning there still seem to be different entries that look very similar, However, since we do not know if they will help or not, we will them for now."
   ]
  },
  {
   "cell_type": "markdown",
   "metadata": {},
   "source": [
    "# Data Exploration"
   ]
  },
  {
   "cell_type": "markdown",
   "metadata": {},
   "source": [
    "## Missing Data"
   ]
  },
  {
   "cell_type": "markdown",
   "metadata": {},
   "source": [
    "Let us first evaluate how our dataset looks like, after the cleaning."
   ]
  },
  {
   "cell_type": "code",
   "execution_count": 64,
   "metadata": {
    "ExecuteTime": {
     "end_time": "2019-11-25T15:09:49.249336Z",
     "start_time": "2019-11-25T15:09:48.889566Z"
    }
   },
   "outputs": [
    {
     "name": "stdout",
     "output_type": "stream",
     "text": [
      "Number of total entries in dataframe: 194925\n"
     ]
    },
    {
     "data": {
      "text/html": [
       "<div>\n",
       "<style scoped>\n",
       "    .dataframe tbody tr th:only-of-type {\n",
       "        vertical-align: middle;\n",
       "    }\n",
       "\n",
       "    .dataframe tbody tr th {\n",
       "        vertical-align: top;\n",
       "    }\n",
       "\n",
       "    .dataframe thead th {\n",
       "        text-align: right;\n",
       "    }\n",
       "</style>\n",
       "<table border=\"1\" class=\"dataframe\">\n",
       "  <thead>\n",
       "    <tr style=\"text-align: right;\">\n",
       "      <th></th>\n",
       "      <th>Total</th>\n",
       "      <th>Percentage</th>\n",
       "    </tr>\n",
       "    <tr>\n",
       "      <th>Column</th>\n",
       "      <th></th>\n",
       "      <th></th>\n",
       "    </tr>\n",
       "  </thead>\n",
       "  <tbody>\n",
       "    <tr>\n",
       "      <th>violations</th>\n",
       "      <td>51679</td>\n",
       "      <td>26.512248</td>\n",
       "    </tr>\n",
       "    <tr>\n",
       "      <th>location</th>\n",
       "      <td>555</td>\n",
       "      <td>0.284725</td>\n",
       "    </tr>\n",
       "    <tr>\n",
       "      <th>zip</th>\n",
       "      <td>48</td>\n",
       "      <td>0.024625</td>\n",
       "    </tr>\n",
       "    <tr>\n",
       "      <th>license</th>\n",
       "      <td>17</td>\n",
       "      <td>0.008721</td>\n",
       "    </tr>\n",
       "    <tr>\n",
       "      <th>longitude</th>\n",
       "      <td>1</td>\n",
       "      <td>0.000513</td>\n",
       "    </tr>\n",
       "    <tr>\n",
       "      <th>latitude</th>\n",
       "      <td>1</td>\n",
       "      <td>0.000513</td>\n",
       "    </tr>\n",
       "    <tr>\n",
       "      <th>address</th>\n",
       "      <td>0</td>\n",
       "      <td>0.000000</td>\n",
       "    </tr>\n",
       "    <tr>\n",
       "      <th>dba_name</th>\n",
       "      <td>0</td>\n",
       "      <td>0.000000</td>\n",
       "    </tr>\n",
       "    <tr>\n",
       "      <th>aka_name</th>\n",
       "      <td>0</td>\n",
       "      <td>0.000000</td>\n",
       "    </tr>\n",
       "    <tr>\n",
       "      <th>facility_type</th>\n",
       "      <td>0</td>\n",
       "      <td>0.000000</td>\n",
       "    </tr>\n",
       "    <tr>\n",
       "      <th>risk</th>\n",
       "      <td>0</td>\n",
       "      <td>0.000000</td>\n",
       "    </tr>\n",
       "    <tr>\n",
       "      <th>new_facility_type</th>\n",
       "      <td>0</td>\n",
       "      <td>0.000000</td>\n",
       "    </tr>\n",
       "    <tr>\n",
       "      <th>city</th>\n",
       "      <td>0</td>\n",
       "      <td>0.000000</td>\n",
       "    </tr>\n",
       "    <tr>\n",
       "      <th>state</th>\n",
       "      <td>0</td>\n",
       "      <td>0.000000</td>\n",
       "    </tr>\n",
       "    <tr>\n",
       "      <th>has_license</th>\n",
       "      <td>0</td>\n",
       "      <td>0.000000</td>\n",
       "    </tr>\n",
       "    <tr>\n",
       "      <th>inspection_date</th>\n",
       "      <td>0</td>\n",
       "      <td>0.000000</td>\n",
       "    </tr>\n",
       "    <tr>\n",
       "      <th>inspection_type</th>\n",
       "      <td>0</td>\n",
       "      <td>0.000000</td>\n",
       "    </tr>\n",
       "    <tr>\n",
       "      <th>results</th>\n",
       "      <td>0</td>\n",
       "      <td>0.000000</td>\n",
       "    </tr>\n",
       "    <tr>\n",
       "      <th>inspection_id</th>\n",
       "      <td>0</td>\n",
       "      <td>0.000000</td>\n",
       "    </tr>\n",
       "  </tbody>\n",
       "</table>\n",
       "</div>"
      ],
      "text/plain": [
       "                   Total  Percentage\n",
       "Column                              \n",
       "violations         51679   26.512248\n",
       "location             555    0.284725\n",
       "zip                   48    0.024625\n",
       "license               17    0.008721\n",
       "longitude              1    0.000513\n",
       "latitude               1    0.000513\n",
       "address                0    0.000000\n",
       "dba_name               0    0.000000\n",
       "aka_name               0    0.000000\n",
       "facility_type          0    0.000000\n",
       "risk                   0    0.000000\n",
       "new_facility_type      0    0.000000\n",
       "city                   0    0.000000\n",
       "state                  0    0.000000\n",
       "has_license            0    0.000000\n",
       "inspection_date        0    0.000000\n",
       "inspection_type        0    0.000000\n",
       "results                0    0.000000\n",
       "inspection_id          0    0.000000"
      ]
     },
     "execution_count": 64,
     "metadata": {},
     "output_type": "execute_result"
    }
   ],
   "source": [
    "# get missing data percentages\n",
    "total = chicago_df_noNan.isnull().sum().sort_values(ascending=False)\n",
    "percentage = (100*(chicago_df_noNan.isnull().sum()/chicago_df_noNan.isnull().count() \n",
    "                  ).sort_values(ascending=False))\n",
    "missing_data = pd.concat([total, percentage], axis=1, keys=['Total', 'Percentage'])\n",
    "missing_data.index.name = 'Column'\n",
    "print(\"Number of total entries in dataframe: {}\".format(chicago_df_noNan.shape[0]))\n",
    "missing_data"
   ]
  },
  {
   "cell_type": "markdown",
   "metadata": {},
   "source": [
    "From this table, we can obtain some interesting data. \n",
    "\n",
    "For instance, from a **total number of 195212** reports of inspections submitted, 143452 *(= 195212-51760)* violations were found out. This corresponds to **a rate of 73.48% violations found** in the inspections made."
   ]
  },
  {
   "cell_type": "markdown",
   "metadata": {},
   "source": [
    "## Inspections by type  of business"
   ]
  },
  {
   "cell_type": "markdown",
   "metadata": {},
   "source": [
    "First, we'll want to see how inspections are distributed by type of business:"
   ]
  },
  {
   "cell_type": "code",
   "execution_count": 65,
   "metadata": {
    "ExecuteTime": {
     "end_time": "2019-11-25T15:09:53.325012Z",
     "start_time": "2019-11-25T15:09:53.300078Z"
    }
   },
   "outputs": [
    {
     "data": {
      "text/plain": [
       "restaurant                      130191\n",
       "grocery store                    25031\n",
       "school                           12095\n",
       "not available                     4777\n",
       "children's services facility      3161\n",
       "Name: new_facility_type, dtype: int64"
      ]
     },
     "execution_count": 65,
     "metadata": {},
     "output_type": "execute_result"
    }
   ],
   "source": [
    "# Inspections by type of restaurant\n",
    "nInspectionsByType = chicago_df_noNan[\"new_facility_type\"].value_counts()\n",
    "nInspectionsByType.head()"
   ]
  },
  {
   "cell_type": "code",
   "execution_count": 66,
   "metadata": {
    "ExecuteTime": {
     "end_time": "2019-11-25T15:09:55.306808Z",
     "start_time": "2019-11-25T15:09:54.214890Z"
    }
   },
   "outputs": [
    {
     "data": {
      "image/png": "[encoded data removed]",
      "text/plain": [
       "<Figure size 432x288 with 1 Axes>"
      ]
     },
     "metadata": {
      "needs_background": "light"
     },
     "output_type": "display_data"
    }
   ],
   "source": [
    "nInspectionsByType.plot.bar()\n",
    "plt.xticks(fontsize=7)\n",
    "plt.title(\"Inspections by (treated) type of facility\")\n",
    "plt.ylabel(\"(Logarithmic) number of inspections\")\n",
    "plt.yscale('log')\n",
    "plt.show()"
   ]
  },
  {
   "cell_type": "markdown",
   "metadata": {},
   "source": [
    "The plot above presents the number of inspections by type of business - one pertinent observation would be that most of the inspections correspond to restaurants."
   ]
  },
  {
   "cell_type": "markdown",
   "metadata": {},
   "source": [
    "## Relationship between columns"
   ]
  },
  {
   "cell_type": "markdown",
   "metadata": {},
   "source": [
    "Let us see how the columns of the dataset are related. \n",
    "\n",
    "To start, we will plot the correlations between every pair of columns in order to see how they can be connected to each other."
   ]
  },
  {
   "cell_type": "code",
   "execution_count": 67,
   "metadata": {
    "ExecuteTime": {
     "end_time": "2019-11-25T15:10:40.022464Z",
     "start_time": "2019-11-25T15:09:57.262696Z"
    }
   },
   "outputs": [
    {
     "data": {
      "image/png": "[encoded data removed]",
      "text/plain": [
       "<Figure size 1080x1080 with 42 Axes>"
      ]
     },
     "metadata": {},
     "output_type": "display_data"
    }
   ],
   "source": [
    "sns.set()\n",
    "sns.pairplot(chicago_df_noNan.dropna())\n",
    "plt.show()"
   ]
  },
  {
   "cell_type": "markdown",
   "metadata": {},
   "source": [
    "From the previous plot, we can extract some interesting results:\n",
    "- The plot (`Latitude`, `Longitude`) gives us a sense of the city's shape, as it becomes a plot of the data points in space (for comparison, an map of the can also be found further bellow). Furthermore, both `Longitude` and `Latitude` are approximately naturally distributed in their value range. \n",
    "- The `Zip` address is concentrated at 60000, which is not surprising as Chicago's zip codes are concentrated at around 60600. The histogram plot easily evidencies the presence of at least two outliers, due to it's unexpected x-axis value range - these may be restaurants in the outskirts of the city.\n",
    "- We would expect a uniform distribution for the `Inspection ID`, but the plotted histogram may reflect a national-scale license attribution system.\n",
    "- Finally, inspections seem to be pretty uniformly dispersed throughout the different `License #` values, whose histogram also evidencies one outlier.\n",
    "\n",
    "After looking at this plot, we may ask which of these variable are linearly correlated. And this is the next question we are going to answer from our dataset."
   ]
  },
  {
   "cell_type": "markdown",
   "metadata": {
    "ExecuteTime": {
     "end_time": "2019-11-22T13:21:43.630870Z",
     "start_time": "2019-11-22T13:21:43.138644Z"
    }
   },
   "source": [
    "## Where are the inspections located?"
   ]
  },
  {
   "cell_type": "markdown",
   "metadata": {},
   "source": [
    "Previously, we saw the plot of `('Latitude', 'Longitude')` already creates a basic map with the location of the businesses within the city.\n",
    "\n",
    "Let's formalize this map and understand better where the businesses subject to inspections are located"
   ]
  },
  {
   "cell_type": "code",
   "execution_count": 68,
   "metadata": {
    "ExecuteTime": {
     "end_time": "2019-11-25T15:10:40.046399Z",
     "start_time": "2019-11-25T15:10:40.023461Z"
    }
   },
   "outputs": [
    {
     "data": {
      "text/html": [
       "<div>\n",
       "<style scoped>\n",
       "    .dataframe tbody tr th:only-of-type {\n",
       "        vertical-align: middle;\n",
       "    }\n",
       "\n",
       "    .dataframe tbody tr th {\n",
       "        vertical-align: top;\n",
       "    }\n",
       "\n",
       "    .dataframe thead th {\n",
       "        text-align: right;\n",
       "    }\n",
       "</style>\n",
       "<table border=\"1\" class=\"dataframe\">\n",
       "  <thead>\n",
       "    <tr style=\"text-align: right;\">\n",
       "      <th></th>\n",
       "      <th>zip</th>\n",
       "      <th>nInspections</th>\n",
       "    </tr>\n",
       "  </thead>\n",
       "  <tbody>\n",
       "    <tr>\n",
       "      <th>0</th>\n",
       "      <td>60153</td>\n",
       "      <td>16</td>\n",
       "    </tr>\n",
       "    <tr>\n",
       "      <th>1</th>\n",
       "      <td>60155</td>\n",
       "      <td>1</td>\n",
       "    </tr>\n",
       "    <tr>\n",
       "      <th>2</th>\n",
       "      <td>60302</td>\n",
       "      <td>5</td>\n",
       "    </tr>\n",
       "  </tbody>\n",
       "</table>\n",
       "</div>"
      ],
      "text/plain": [
       "     zip  nInspections\n",
       "0  60153            16\n",
       "1  60155             1\n",
       "2  60302             5"
      ]
     },
     "execution_count": 68,
     "metadata": {},
     "output_type": "execute_result"
    }
   ],
   "source": [
    "# New DataFrame with the zip codes and #inspections per zip code\n",
    "businessesByZip = chicago_df_noNan.groupby('zip')[['inspection_id']].count()\n",
    "businessesByZip = businessesByZip.rename(columns={'inspection_id':'nInspections'})\n",
    "businessesByZip.reset_index(inplace=True)\n",
    "businessesByZip['zip'] = businessesByZip['zip'].astype(int).astype('str')\n",
    "businessesByZip.head(3)"
   ]
  },
  {
   "cell_type": "code",
   "execution_count": 69,
   "metadata": {
    "ExecuteTime": {
     "end_time": "2019-11-25T15:14:38.641756Z",
     "start_time": "2019-11-25T15:14:37.736600Z"
    }
   },
   "outputs": [
    {
     "data": {
      "text/html": [
       "<iframe src=./data/maps/BusinessPerZipMap.html width=700 height=450></iframe>"
      ],
      "text/plain": [
       "<IPython.core.display.HTML object>"
      ]
     },
     "execution_count": 69,
     "metadata": {},
     "output_type": "execute_result"
    }
   ],
   "source": [
    "m = folium.Map(location=[41.8781, -87.6298])\n",
    "zip_geo = f'./data/zipCodesBoundaries.geojson'\n",
    "\n",
    "folium.Choropleth(\n",
    "    geo_data=zip_geo,\n",
    "    name='choropleth',\n",
    "    data=businessesByZip,\n",
    "    columns=['zip','nInspections'],\n",
    "    key_on='feature.properties.zip',\n",
    "    fill_color='BuPu',\n",
    "    fill_opacity=0.7,\n",
    "    line_opacity=0.2,\n",
    "    legend_name='Businesses per zip'\n",
    ").add_to(m)\n",
    "\n",
    "folium.LayerControl().add_to(m)\n",
    "\n",
    "m.save('./data/maps/BusinessPerZipMap.html')\n",
    "\n",
    "HTML('<iframe src=./data/maps/BusinessPerZipMap.html width=700 height=450></iframe>')"
   ]
  },
  {
   "cell_type": "markdown",
   "metadata": {},
   "source": [
    "This map contains the number of inspections made by zip code area, and reflects how the majority of inspections are located in downtown Chicago"
   ]
  },
  {
   "cell_type": "code",
   "execution_count": 71,
   "metadata": {
    "ExecuteTime": {
     "end_time": "2019-11-25T15:16:01.239893Z",
     "start_time": "2019-11-25T15:15:58.790727Z"
    }
   },
   "outputs": [],
   "source": [
    "# Saving the data to avoid rerunning the entire notebook\n",
    "with open('./data/chicago_processed.pkl', 'wb') as fp:\n",
    "    pickle.dump(chicago_df_noNan, fp)"
   ]
  },
  {
   "cell_type": "markdown",
   "metadata": {},
   "source": [
    "# Ethnicity Dataset"
   ]
  },
  {
   "cell_type": "markdown",
   "metadata": {},
   "source": [
    "## Read Data"
   ]
  },
  {
   "cell_type": "markdown",
   "metadata": {},
   "source": [
    "### Ethnicity Dataframe\n",
    "This data contains the data about the amount of people from a specific ethnicity per group block. It contains 8 columns:\n",
    "- **Integer columns**: `'Innumber'`, `'CIT_EST'`, `'CIT_MOE'`, `'CVAP_EST'`, `'CVAP_MODE'`\n",
    "    - `'Innumber'` : categorical\n",
    "- **String Columns**: `'GEONAME'`, `'lntitle'`, `'geoid'` where all are categorical\n",
    "\n",
    "The contents of the columns whose meaning is not immediate are explained below:\n",
    "\n",
    "- __GEONAME__: The name of the geographic area\n",
    "- __lntitle__: The description of the line, which can be one of the following:\n",
    " - Not Hispanic or Latino\n",
    " - American Indian or Alaska Native Alone\n",
    " - Asian Alone\n",
    " - Black or African American Alone\n",
    " - Native Hawaiian or Other Pacific Islander Alone\n",
    " - White Alone\n",
    " - American Indian or Alaska Native and White\n",
    " - Asian and White\n",
    " - Black or African American and White\n",
    " - American Indian or Alaska Native and Black or African American\n",
    " - Remainder of Two or More Race Responses\n",
    " - Hispanic or Latino\n",
    "- __geoid__: Identification number of the geographic are, in the following format *15000USsscccttttttb* where:\n",
    " - ss: two-digit state FIPS code\n",
    " - ccc: three-digit county FIPS code\n",
    " - tttttt: sixdigit tract group code\n",
    " - b: one-digit block group code\n",
    "- __lnnumber__: Number of the category of lntitle\n",
    "- __CIT_EST__: Rounded estimate of the total number of United States citizens for that geographic area and group\n",
    "- __CIT_MOE__: The margin of error for the total number of United States citizens for that geographic area and group.\n",
    "- __CVAP_EST__: Rounded estimate of the total number of United States citizens 18 years of age or older for that geographic area and group\n",
    "- __CVAP_MOE__: The margin of error for the total number of United States citizens 18 years of age or older for that geographic area and group.\n",
    "\n",
    "\n",
    "<br>\n",
    "This data has been retrieved at the <a href='https://www.census.gov/data/datasets/2016/dec/rdo/2013-2017-CVAP.html'> United States Census Bureau Website </a>, where the metadata is also available."
   ]
  },
  {
   "cell_type": "code",
   "execution_count": 72,
   "metadata": {
    "ExecuteTime": {
     "end_time": "2019-11-25T15:16:22.520856Z",
     "start_time": "2019-11-25T15:16:18.801412Z"
    }
   },
   "outputs": [
    {
     "data": {
      "text/html": [
       "<div>\n",
       "<style scoped>\n",
       "    .dataframe tbody tr th:only-of-type {\n",
       "        vertical-align: middle;\n",
       "    }\n",
       "\n",
       "    .dataframe tbody tr th {\n",
       "        vertical-align: top;\n",
       "    }\n",
       "\n",
       "    .dataframe thead th {\n",
       "        text-align: right;\n",
       "    }\n",
       "</style>\n",
       "<table border=\"1\" class=\"dataframe\">\n",
       "  <thead>\n",
       "    <tr style=\"text-align: right;\">\n",
       "      <th></th>\n",
       "      <th>GEONAME</th>\n",
       "      <th>lntitle</th>\n",
       "      <th>geoid</th>\n",
       "      <th>lnnumber</th>\n",
       "      <th>CIT_EST</th>\n",
       "      <th>CIT_MOE</th>\n",
       "      <th>CVAP_EST</th>\n",
       "      <th>CVAP_MOE</th>\n",
       "    </tr>\n",
       "  </thead>\n",
       "  <tbody>\n",
       "    <tr>\n",
       "      <th>0</th>\n",
       "      <td>Block Group 1, Census Tract 201, Autauga Count...</td>\n",
       "      <td>Total</td>\n",
       "      <td>15000US010010201001</td>\n",
       "      <td>1</td>\n",
       "      <td>675</td>\n",
       "      <td>225</td>\n",
       "      <td>510</td>\n",
       "      <td>158</td>\n",
       "    </tr>\n",
       "    <tr>\n",
       "      <th>1</th>\n",
       "      <td>Block Group 1, Census Tract 201, Autauga Count...</td>\n",
       "      <td>Not Hispanic or Latino</td>\n",
       "      <td>15000US010010201001</td>\n",
       "      <td>2</td>\n",
       "      <td>675</td>\n",
       "      <td>225</td>\n",
       "      <td>510</td>\n",
       "      <td>158</td>\n",
       "    </tr>\n",
       "    <tr>\n",
       "      <th>2</th>\n",
       "      <td>Block Group 1, Census Tract 201, Autauga Count...</td>\n",
       "      <td>American Indian or Alaska Native Alone</td>\n",
       "      <td>15000US010010201001</td>\n",
       "      <td>3</td>\n",
       "      <td>0</td>\n",
       "      <td>11</td>\n",
       "      <td>0</td>\n",
       "      <td>11</td>\n",
       "    </tr>\n",
       "    <tr>\n",
       "      <th>3</th>\n",
       "      <td>Block Group 1, Census Tract 201, Autauga Count...</td>\n",
       "      <td>Asian Alone</td>\n",
       "      <td>15000US010010201001</td>\n",
       "      <td>4</td>\n",
       "      <td>0</td>\n",
       "      <td>11</td>\n",
       "      <td>0</td>\n",
       "      <td>11</td>\n",
       "    </tr>\n",
       "    <tr>\n",
       "      <th>4</th>\n",
       "      <td>Block Group 1, Census Tract 201, Autauga Count...</td>\n",
       "      <td>Black or African American Alone</td>\n",
       "      <td>15000US010010201001</td>\n",
       "      <td>5</td>\n",
       "      <td>25</td>\n",
       "      <td>28</td>\n",
       "      <td>25</td>\n",
       "      <td>28</td>\n",
       "    </tr>\n",
       "  </tbody>\n",
       "</table>\n",
       "</div>"
      ],
      "text/plain": [
       "                                             GEONAME  \\\n",
       "0  Block Group 1, Census Tract 201, Autauga Count...   \n",
       "1  Block Group 1, Census Tract 201, Autauga Count...   \n",
       "2  Block Group 1, Census Tract 201, Autauga Count...   \n",
       "3  Block Group 1, Census Tract 201, Autauga Count...   \n",
       "4  Block Group 1, Census Tract 201, Autauga Count...   \n",
       "\n",
       "                                  lntitle                geoid  lnnumber  \\\n",
       "0                                   Total  15000US010010201001         1   \n",
       "1                  Not Hispanic or Latino  15000US010010201001         2   \n",
       "2  American Indian or Alaska Native Alone  15000US010010201001         3   \n",
       "3                             Asian Alone  15000US010010201001         4   \n",
       "4         Black or African American Alone  15000US010010201001         5   \n",
       "\n",
       "   CIT_EST  CIT_MOE  CVAP_EST  CVAP_MOE  \n",
       "0      675      225       510       158  \n",
       "1      675      225       510       158  \n",
       "2        0       11         0        11  \n",
       "3        0       11         0        11  \n",
       "4       25       28        25        28  "
      ]
     },
     "execution_count": 72,
     "metadata": {},
     "output_type": "execute_result"
    }
   ],
   "source": [
    "ethnicity_df = pd.read_csv('./data/ethnicity/BlockGr.csv', sep=',', encoding=\"ISO-8859-1\")\n",
    "ethnicity_df.head()"
   ]
  },
  {
   "cell_type": "code",
   "execution_count": 73,
   "metadata": {
    "ExecuteTime": {
     "end_time": "2019-11-25T15:16:25.630477Z",
     "start_time": "2019-11-25T15:16:22.523843Z"
    }
   },
   "outputs": [
    {
     "data": {
      "text/html": [
       "<div>\n",
       "<style scoped>\n",
       "    .dataframe tbody tr th:only-of-type {\n",
       "        vertical-align: middle;\n",
       "    }\n",
       "\n",
       "    .dataframe tbody tr th {\n",
       "        vertical-align: top;\n",
       "    }\n",
       "\n",
       "    .dataframe thead th {\n",
       "        text-align: right;\n",
       "    }\n",
       "</style>\n",
       "<table border=\"1\" class=\"dataframe\">\n",
       "  <thead>\n",
       "    <tr style=\"text-align: right;\">\n",
       "      <th></th>\n",
       "      <th>GEONAME</th>\n",
       "      <th>lntitle</th>\n",
       "      <th>geoid</th>\n",
       "      <th>lnnumber</th>\n",
       "      <th>CIT_EST</th>\n",
       "      <th>CIT_MOE</th>\n",
       "      <th>CVAP_EST</th>\n",
       "      <th>CVAP_MOE</th>\n",
       "    </tr>\n",
       "  </thead>\n",
       "  <tbody>\n",
       "    <tr>\n",
       "      <th>697372</th>\n",
       "      <td>Block Group 1, Census Tract 9601, Cook County,...</td>\n",
       "      <td>Total</td>\n",
       "      <td>15000US130759601001</td>\n",
       "      <td>1</td>\n",
       "      <td>1375</td>\n",
       "      <td>170</td>\n",
       "      <td>915</td>\n",
       "      <td>113</td>\n",
       "    </tr>\n",
       "    <tr>\n",
       "      <th>697373</th>\n",
       "      <td>Block Group 1, Census Tract 9601, Cook County,...</td>\n",
       "      <td>Not Hispanic or Latino</td>\n",
       "      <td>15000US130759601001</td>\n",
       "      <td>2</td>\n",
       "      <td>1260</td>\n",
       "      <td>178</td>\n",
       "      <td>885</td>\n",
       "      <td>113</td>\n",
       "    </tr>\n",
       "    <tr>\n",
       "      <th>697374</th>\n",
       "      <td>Block Group 1, Census Tract 9601, Cook County,...</td>\n",
       "      <td>American Indian or Alaska Native Alone</td>\n",
       "      <td>15000US130759601001</td>\n",
       "      <td>3</td>\n",
       "      <td>0</td>\n",
       "      <td>13</td>\n",
       "      <td>0</td>\n",
       "      <td>13</td>\n",
       "    </tr>\n",
       "    <tr>\n",
       "      <th>697375</th>\n",
       "      <td>Block Group 1, Census Tract 9601, Cook County,...</td>\n",
       "      <td>Asian Alone</td>\n",
       "      <td>15000US130759601001</td>\n",
       "      <td>4</td>\n",
       "      <td>0</td>\n",
       "      <td>13</td>\n",
       "      <td>0</td>\n",
       "      <td>13</td>\n",
       "    </tr>\n",
       "    <tr>\n",
       "      <th>697376</th>\n",
       "      <td>Block Group 1, Census Tract 9601, Cook County,...</td>\n",
       "      <td>Black or African American Alone</td>\n",
       "      <td>15000US130759601001</td>\n",
       "      <td>5</td>\n",
       "      <td>215</td>\n",
       "      <td>77</td>\n",
       "      <td>155</td>\n",
       "      <td>53</td>\n",
       "    </tr>\n",
       "  </tbody>\n",
       "</table>\n",
       "</div>"
      ],
      "text/plain": [
       "                                                  GEONAME  \\\n",
       "697372  Block Group 1, Census Tract 9601, Cook County,...   \n",
       "697373  Block Group 1, Census Tract 9601, Cook County,...   \n",
       "697374  Block Group 1, Census Tract 9601, Cook County,...   \n",
       "697375  Block Group 1, Census Tract 9601, Cook County,...   \n",
       "697376  Block Group 1, Census Tract 9601, Cook County,...   \n",
       "\n",
       "                                       lntitle                geoid  lnnumber  \\\n",
       "697372                                   Total  15000US130759601001         1   \n",
       "697373                  Not Hispanic or Latino  15000US130759601001         2   \n",
       "697374  American Indian or Alaska Native Alone  15000US130759601001         3   \n",
       "697375                             Asian Alone  15000US130759601001         4   \n",
       "697376         Black or African American Alone  15000US130759601001         5   \n",
       "\n",
       "        CIT_EST  CIT_MOE  CVAP_EST  CVAP_MOE  \n",
       "697372     1375      170       915       113  \n",
       "697373     1260      178       885       113  \n",
       "697374        0       13         0        13  \n",
       "697375        0       13         0        13  \n",
       "697376      215       77       155        53  "
      ]
     },
     "execution_count": 73,
     "metadata": {},
     "output_type": "execute_result"
    }
   ],
   "source": [
    "chicago = ethnicity_df['GEONAME'].str.extract(\"( Cook County)\") \n",
    "chicago = chicago.dropna()\n",
    "chicago = chicago.reset_index()\n",
    "ethnicity_df = ethnicity_df.iloc[chicago['index']]\n",
    "ethnicity_df.head()"
   ]
  },
  {
   "cell_type": "markdown",
   "metadata": {},
   "source": [
    "### Boundaries for the map\n",
    "This dataset is used to plot the data with folium. It contains the boundaries of the different block group used to aggregate the ethnicity data in the us voting census. Each geoid in the ethnicity dataset can be linked to the same geoid tag in this dataset. This dataset was downloaded from the <a href='https://www.census.gov/programs-surveys/acs/geography-acs/geography-boundaries-by-year.2017.html'> US Census Survey Bureau </a>.\n",
    "<br>\n",
    "We create chicago_df, a geojson file containing the boundaries present in Chicago and in the ethnicity dataset only."
   ]
  },
  {
   "cell_type": "code",
   "execution_count": 74,
   "metadata": {
    "ExecuteTime": {
     "end_time": "2019-11-25T15:16:26.656733Z",
     "start_time": "2019-11-25T15:16:25.633471Z"
    }
   },
   "outputs": [],
   "source": [
    "# Reading the shapefile format file.\n",
    "sf = shapefile.Reader(\"./data/tl_2016_17_bg.shp\")\n",
    "shapeRecs = sf.shapeRecords()"
   ]
  },
  {
   "cell_type": "code",
   "execution_count": 75,
   "metadata": {
    "ExecuteTime": {
     "end_time": "2019-11-25T15:16:26.671693Z",
     "start_time": "2019-11-25T15:16:26.660722Z"
    }
   },
   "outputs": [],
   "source": [
    "# Matching the geoid with its latitude and longitude\n",
    "def create_geoids(shapeRecs, dic_id):\n",
    "    for i in range(len(shapeRecs)):\n",
    "        geoid = shapeRecs[i].record[4]\n",
    "        lat = float(shapeRecs[i].record[10])\n",
    "        lon = float(shapeRecs[i].record[11])\n",
    "\n",
    "        dic_id[geoid] = [lat, lon]\n",
    "    return dic_id\n",
    "\n",
    "# Determining if a block group is located inside our available boundaries\n",
    "def on_the_map(geoid):\n",
    "    if geoid[-12:] in geoids:\n",
    "        return 1\n",
    "    else:\n",
    "        return -1\n",
    "\n",
    "# Inpute the latitude and longitude in the ethnicity dataframe\n",
    "def inpute_lat(geoid):\n",
    "    return geoids[geoid[-12:]][0]\n",
    "def inpute_long(geoid):\n",
    "    return geoids[geoid[-12:]][1]\n",
    "    "
   ]
  },
  {
   "cell_type": "code",
   "execution_count": 76,
   "metadata": {
    "ExecuteTime": {
     "end_time": "2019-11-25T15:16:26.890108Z",
     "start_time": "2019-11-25T15:16:26.674685Z"
    }
   },
   "outputs": [
    {
     "data": {
      "text/html": [
       "<div>\n",
       "<style scoped>\n",
       "    .dataframe tbody tr th:only-of-type {\n",
       "        vertical-align: middle;\n",
       "    }\n",
       "\n",
       "    .dataframe tbody tr th {\n",
       "        vertical-align: top;\n",
       "    }\n",
       "\n",
       "    .dataframe thead th {\n",
       "        text-align: right;\n",
       "    }\n",
       "</style>\n",
       "<table border=\"1\" class=\"dataframe\">\n",
       "  <thead>\n",
       "    <tr style=\"text-align: right;\">\n",
       "      <th></th>\n",
       "      <th>GEONAME</th>\n",
       "      <th>lntitle</th>\n",
       "      <th>geoid</th>\n",
       "      <th>lnnumber</th>\n",
       "      <th>CIT_EST</th>\n",
       "      <th>CIT_MOE</th>\n",
       "      <th>CVAP_EST</th>\n",
       "      <th>CVAP_MOE</th>\n",
       "      <th>onmap</th>\n",
       "      <th>latitude</th>\n",
       "      <th>longitude</th>\n",
       "      <th>geoid_match</th>\n",
       "    </tr>\n",
       "  </thead>\n",
       "  <tbody>\n",
       "    <tr>\n",
       "      <th>779415</th>\n",
       "      <td>Block Group 1, Census Tract 101, Cook County, ...</td>\n",
       "      <td>Total</td>\n",
       "      <td>15000US170310101001</td>\n",
       "      <td>1</td>\n",
       "      <td>580</td>\n",
       "      <td>226</td>\n",
       "      <td>495</td>\n",
       "      <td>170</td>\n",
       "      <td>1</td>\n",
       "      <td>42.022054</td>\n",
       "      <td>-87.668363</td>\n",
       "      <td>170310101001</td>\n",
       "    </tr>\n",
       "    <tr>\n",
       "      <th>779416</th>\n",
       "      <td>Block Group 1, Census Tract 101, Cook County, ...</td>\n",
       "      <td>Not Hispanic or Latino</td>\n",
       "      <td>15000US170310101001</td>\n",
       "      <td>2</td>\n",
       "      <td>495</td>\n",
       "      <td>230</td>\n",
       "      <td>425</td>\n",
       "      <td>176</td>\n",
       "      <td>1</td>\n",
       "      <td>42.022054</td>\n",
       "      <td>-87.668363</td>\n",
       "      <td>170310101001</td>\n",
       "    </tr>\n",
       "    <tr>\n",
       "      <th>779417</th>\n",
       "      <td>Block Group 1, Census Tract 101, Cook County, ...</td>\n",
       "      <td>American Indian or Alaska Native Alone</td>\n",
       "      <td>15000US170310101001</td>\n",
       "      <td>3</td>\n",
       "      <td>0</td>\n",
       "      <td>11</td>\n",
       "      <td>0</td>\n",
       "      <td>11</td>\n",
       "      <td>1</td>\n",
       "      <td>42.022054</td>\n",
       "      <td>-87.668363</td>\n",
       "      <td>170310101001</td>\n",
       "    </tr>\n",
       "    <tr>\n",
       "      <th>779418</th>\n",
       "      <td>Block Group 1, Census Tract 101, Cook County, ...</td>\n",
       "      <td>Asian Alone</td>\n",
       "      <td>15000US170310101001</td>\n",
       "      <td>4</td>\n",
       "      <td>0</td>\n",
       "      <td>11</td>\n",
       "      <td>0</td>\n",
       "      <td>11</td>\n",
       "      <td>1</td>\n",
       "      <td>42.022054</td>\n",
       "      <td>-87.668363</td>\n",
       "      <td>170310101001</td>\n",
       "    </tr>\n",
       "    <tr>\n",
       "      <th>779419</th>\n",
       "      <td>Block Group 1, Census Tract 101, Cook County, ...</td>\n",
       "      <td>Black or African American Alone</td>\n",
       "      <td>15000US170310101001</td>\n",
       "      <td>5</td>\n",
       "      <td>275</td>\n",
       "      <td>238</td>\n",
       "      <td>205</td>\n",
       "      <td>156</td>\n",
       "      <td>1</td>\n",
       "      <td>42.022054</td>\n",
       "      <td>-87.668363</td>\n",
       "      <td>170310101001</td>\n",
       "    </tr>\n",
       "  </tbody>\n",
       "</table>\n",
       "</div>"
      ],
      "text/plain": [
       "                                                  GEONAME  \\\n",
       "779415  Block Group 1, Census Tract 101, Cook County, ...   \n",
       "779416  Block Group 1, Census Tract 101, Cook County, ...   \n",
       "779417  Block Group 1, Census Tract 101, Cook County, ...   \n",
       "779418  Block Group 1, Census Tract 101, Cook County, ...   \n",
       "779419  Block Group 1, Census Tract 101, Cook County, ...   \n",
       "\n",
       "                                       lntitle                geoid  lnnumber  \\\n",
       "779415                                   Total  15000US170310101001         1   \n",
       "779416                  Not Hispanic or Latino  15000US170310101001         2   \n",
       "779417  American Indian or Alaska Native Alone  15000US170310101001         3   \n",
       "779418                             Asian Alone  15000US170310101001         4   \n",
       "779419         Black or African American Alone  15000US170310101001         5   \n",
       "\n",
       "        CIT_EST  CIT_MOE  CVAP_EST  CVAP_MOE  onmap   latitude  longitude  \\\n",
       "779415      580      226       495       170      1  42.022054 -87.668363   \n",
       "779416      495      230       425       176      1  42.022054 -87.668363   \n",
       "779417        0       11         0        11      1  42.022054 -87.668363   \n",
       "779418        0       11         0        11      1  42.022054 -87.668363   \n",
       "779419      275      238       205       156      1  42.022054 -87.668363   \n",
       "\n",
       "         geoid_match  \n",
       "779415  170310101001  \n",
       "779416  170310101001  \n",
       "779417  170310101001  \n",
       "779418  170310101001  \n",
       "779419  170310101001  "
      ]
     },
     "execution_count": 76,
     "metadata": {},
     "output_type": "execute_result"
    }
   ],
   "source": [
    "# Adding the columns latitude and longitude to our ethnicity dataset\n",
    "geoids = {}\n",
    "geoids = create_geoids(shapeRecs, geoids)\n",
    "chicago_df = ethnicity_df.copy()\n",
    "chicago_df[\"onmap\"] = chicago_df[\"geoid\"].apply(on_the_map)\n",
    "chicago_df = chicago_df[chicago_df[\"onmap\"] == 1]\n",
    "\n",
    "chicago_df[\"latitude\"] = chicago_df[\"geoid\"].apply(inpute_lat)\n",
    "chicago_df[\"longitude\"] = chicago_df[\"geoid\"].apply(inpute_long)\n",
    "chicago_df[\"geoid_match\"] = chicago_df['geoid'].str[-12:]\n",
    "chicago_df.head()"
   ]
  },
  {
   "cell_type": "markdown",
   "metadata": {},
   "source": [
    "#### Create geojson file\n",
    "This cell should only be ran once, if you are only in possessions of the shp file."
   ]
  },
  {
   "cell_type": "code",
   "execution_count": 77,
   "metadata": {
    "ExecuteTime": {
     "end_time": "2019-11-25T15:17:19.520225Z",
     "start_time": "2019-11-25T15:16:27.561388Z"
    }
   },
   "outputs": [],
   "source": [
    "reader = shapefile.Reader(\"./data/tl_2016_17_bg.shp\")\n",
    "fields = reader.fields[1:]\n",
    "field_names = [field[0] for field in fields]\n",
    "buffer = []\n",
    "for sr in reader.shapeRecords():\n",
    "    if sr.record[4] in chicago_df['geoid_match'].unique():\n",
    "        atr = dict(zip(field_names, sr.record))\n",
    "        geom = sr.shape.__geo_interface__\n",
    "        buffer.append(dict(type=\"Feature\", \\\n",
    "        geometry=geom, properties=atr)) \n",
    "\n",
    "# write the GeoJSON file\n",
    "geojson = open(\"./data/usBlocksGroups.geojson\", \"w\")\n",
    "geojson.write(dumps({\"type\": \"FeatureCollection\",\\\n",
    "\"features\": buffer}, indent=2))\n",
    "geojson.close()"
   ]
  },
  {
   "cell_type": "markdown",
   "metadata": {},
   "source": [
    "### Chicago inspections\n",
    "Here, we load the processed inspection dataset processed above, and only keep those entries where the latitude exists. We are allowed to do this, because the amount of null entries is trivial."
   ]
  },
  {
   "cell_type": "code",
   "execution_count": 78,
   "metadata": {
    "ExecuteTime": {
     "end_time": "2019-11-25T15:17:21.073179Z",
     "start_time": "2019-11-25T15:17:19.527206Z"
    }
   },
   "outputs": [
    {
     "name": "stdout",
     "output_type": "stream",
     "text": [
      "194925\n",
      "194924\n"
     ]
    }
   ],
   "source": [
    "with open('./data/chicago_processed.pkl', 'rb') as fp:\n",
    "    chicago_inspections = pickle.load(fp)\n",
    "chicago_inspections.head()\n",
    "print(len(chicago_inspections))\n",
    "chicago_inspections = chicago_inspections[~chicago_inspections['latitude'].isnull()]\n",
    "print(len(chicago_inspections))"
   ]
  },
  {
   "cell_type": "markdown",
   "metadata": {},
   "source": [
    "# Creating map"
   ]
  },
  {
   "cell_type": "markdown",
   "metadata": {
    "ExecuteTime": {
     "end_time": "2019-11-24T11:31:50.542860Z",
     "start_time": "2019-11-24T11:31:50.526875Z"
    }
   },
   "source": [
    "In this section, we visualise the correlation between different ethnicities and different results. Our create map function plots a choropleth map of the ethnicity density per group block, as well as a bubbles representing the amount of restaurant having <span style=\"color:lightgreen\">passed</span> or <span style=\"color:crimson\">failed</span> the inspection, as well as those <span style=\"color:maroon\">out of business</span>. \n",
    "<br>\n",
    "In order to not be biased by the absolute values of the population per block group, we compute a normalising factor, namely the total density"
   ]
  },
  {
   "cell_type": "code",
   "execution_count": 79,
   "metadata": {
    "ExecuteTime": {
     "end_time": "2019-11-25T15:18:36.689336Z",
     "start_time": "2019-11-25T15:18:12.143446Z"
    }
   },
   "outputs": [],
   "source": [
    "# Normalising factor\n",
    "geoid_normalising = {}\n",
    "for geoid in chicago_df['geoid'].unique():\n",
    "    norm = chicago_df[chicago_df['geoid'] == geoid]\n",
    "    norm = norm[norm['lntitle'] == \"Total\"]\n",
    "    geoid_normalising[geoid] = norm['CIT_EST'].values[0]\n",
    "    \n",
    "def inpute_normalisation_factor(geoid):\n",
    "    return geoid_normalising[geoid]\n",
    "\n",
    "chicago_df['normalisation_factor'] = chicago_df['geoid']\n",
    "chicago_df['normalisation_factor'] = chicago_df['normalisation_factor'].apply(inpute_normalisation_factor)\n"
   ]
  },
  {
   "cell_type": "code",
   "execution_count": 80,
   "metadata": {
    "ExecuteTime": {
     "end_time": "2019-11-25T15:18:45.794914Z",
     "start_time": "2019-11-25T15:18:45.772973Z"
    }
   },
   "outputs": [
    {
     "data": {
      "text/html": [
       "<div>\n",
       "<style scoped>\n",
       "    .dataframe tbody tr th:only-of-type {\n",
       "        vertical-align: middle;\n",
       "    }\n",
       "\n",
       "    .dataframe tbody tr th {\n",
       "        vertical-align: top;\n",
       "    }\n",
       "\n",
       "    .dataframe thead th {\n",
       "        text-align: right;\n",
       "    }\n",
       "</style>\n",
       "<table border=\"1\" class=\"dataframe\">\n",
       "  <thead>\n",
       "    <tr style=\"text-align: right;\">\n",
       "      <th></th>\n",
       "      <th>GEONAME</th>\n",
       "      <th>lntitle</th>\n",
       "      <th>geoid</th>\n",
       "      <th>lnnumber</th>\n",
       "      <th>CIT_EST</th>\n",
       "      <th>CIT_MOE</th>\n",
       "      <th>CVAP_EST</th>\n",
       "      <th>CVAP_MOE</th>\n",
       "      <th>onmap</th>\n",
       "      <th>latitude</th>\n",
       "      <th>longitude</th>\n",
       "      <th>geoid_match</th>\n",
       "      <th>normalisation_factor</th>\n",
       "      <th>normalised_estimation</th>\n",
       "    </tr>\n",
       "  </thead>\n",
       "  <tbody>\n",
       "    <tr>\n",
       "      <th>779415</th>\n",
       "      <td>Block Group 1, Census Tract 101, Cook County, ...</td>\n",
       "      <td>Total</td>\n",
       "      <td>15000US170310101001</td>\n",
       "      <td>1</td>\n",
       "      <td>580</td>\n",
       "      <td>226</td>\n",
       "      <td>495</td>\n",
       "      <td>170</td>\n",
       "      <td>1</td>\n",
       "      <td>42.022054</td>\n",
       "      <td>-87.668363</td>\n",
       "      <td>170310101001</td>\n",
       "      <td>580</td>\n",
       "      <td>100.000000</td>\n",
       "    </tr>\n",
       "    <tr>\n",
       "      <th>779416</th>\n",
       "      <td>Block Group 1, Census Tract 101, Cook County, ...</td>\n",
       "      <td>Not Hispanic or Latino</td>\n",
       "      <td>15000US170310101001</td>\n",
       "      <td>2</td>\n",
       "      <td>495</td>\n",
       "      <td>230</td>\n",
       "      <td>425</td>\n",
       "      <td>176</td>\n",
       "      <td>1</td>\n",
       "      <td>42.022054</td>\n",
       "      <td>-87.668363</td>\n",
       "      <td>170310101001</td>\n",
       "      <td>580</td>\n",
       "      <td>85.344828</td>\n",
       "    </tr>\n",
       "    <tr>\n",
       "      <th>779417</th>\n",
       "      <td>Block Group 1, Census Tract 101, Cook County, ...</td>\n",
       "      <td>American Indian or Alaska Native Alone</td>\n",
       "      <td>15000US170310101001</td>\n",
       "      <td>3</td>\n",
       "      <td>0</td>\n",
       "      <td>11</td>\n",
       "      <td>0</td>\n",
       "      <td>11</td>\n",
       "      <td>1</td>\n",
       "      <td>42.022054</td>\n",
       "      <td>-87.668363</td>\n",
       "      <td>170310101001</td>\n",
       "      <td>580</td>\n",
       "      <td>0.000000</td>\n",
       "    </tr>\n",
       "    <tr>\n",
       "      <th>779418</th>\n",
       "      <td>Block Group 1, Census Tract 101, Cook County, ...</td>\n",
       "      <td>Asian Alone</td>\n",
       "      <td>15000US170310101001</td>\n",
       "      <td>4</td>\n",
       "      <td>0</td>\n",
       "      <td>11</td>\n",
       "      <td>0</td>\n",
       "      <td>11</td>\n",
       "      <td>1</td>\n",
       "      <td>42.022054</td>\n",
       "      <td>-87.668363</td>\n",
       "      <td>170310101001</td>\n",
       "      <td>580</td>\n",
       "      <td>0.000000</td>\n",
       "    </tr>\n",
       "    <tr>\n",
       "      <th>779419</th>\n",
       "      <td>Block Group 1, Census Tract 101, Cook County, ...</td>\n",
       "      <td>Black or African American Alone</td>\n",
       "      <td>15000US170310101001</td>\n",
       "      <td>5</td>\n",
       "      <td>275</td>\n",
       "      <td>238</td>\n",
       "      <td>205</td>\n",
       "      <td>156</td>\n",
       "      <td>1</td>\n",
       "      <td>42.022054</td>\n",
       "      <td>-87.668363</td>\n",
       "      <td>170310101001</td>\n",
       "      <td>580</td>\n",
       "      <td>47.413793</td>\n",
       "    </tr>\n",
       "  </tbody>\n",
       "</table>\n",
       "</div>"
      ],
      "text/plain": [
       "                                                  GEONAME  \\\n",
       "779415  Block Group 1, Census Tract 101, Cook County, ...   \n",
       "779416  Block Group 1, Census Tract 101, Cook County, ...   \n",
       "779417  Block Group 1, Census Tract 101, Cook County, ...   \n",
       "779418  Block Group 1, Census Tract 101, Cook County, ...   \n",
       "779419  Block Group 1, Census Tract 101, Cook County, ...   \n",
       "\n",
       "                                       lntitle                geoid  lnnumber  \\\n",
       "779415                                   Total  15000US170310101001         1   \n",
       "779416                  Not Hispanic or Latino  15000US170310101001         2   \n",
       "779417  American Indian or Alaska Native Alone  15000US170310101001         3   \n",
       "779418                             Asian Alone  15000US170310101001         4   \n",
       "779419         Black or African American Alone  15000US170310101001         5   \n",
       "\n",
       "        CIT_EST  CIT_MOE  CVAP_EST  CVAP_MOE  onmap   latitude  longitude  \\\n",
       "779415      580      226       495       170      1  42.022054 -87.668363   \n",
       "779416      495      230       425       176      1  42.022054 -87.668363   \n",
       "779417        0       11         0        11      1  42.022054 -87.668363   \n",
       "779418        0       11         0        11      1  42.022054 -87.668363   \n",
       "779419      275      238       205       156      1  42.022054 -87.668363   \n",
       "\n",
       "         geoid_match  normalisation_factor  normalised_estimation  \n",
       "779415  170310101001                   580             100.000000  \n",
       "779416  170310101001                   580              85.344828  \n",
       "779417  170310101001                   580               0.000000  \n",
       "779418  170310101001                   580               0.000000  \n",
       "779419  170310101001                   580              47.413793  "
      ]
     },
     "execution_count": 80,
     "metadata": {},
     "output_type": "execute_result"
    }
   ],
   "source": [
    "chicago_df['normalised_estimation'] = chicago_df['CIT_EST']\n",
    "chicago_df['normalised_estimation'] = 100 * chicago_df['normalised_estimation'] / chicago_df['normalisation_factor']\n",
    "chicago_df.head()"
   ]
  },
  {
   "cell_type": "code",
   "execution_count": 110,
   "metadata": {
    "ExecuteTime": {
     "end_time": "2019-11-25T15:52:46.327180Z",
     "start_time": "2019-11-25T15:52:46.297407Z"
    }
   },
   "outputs": [],
   "source": [
    "def create_map(chicago_df, ethnicity, chicago_inspection, result, total=False, count=False):\n",
    "    \"\"\"\n",
    "    result : list of the index to plot (1: Pass, 2:Fail, 3:Out of business)\n",
    "    \"\"\"\n",
    "    # Plotting the density of the population\n",
    "    ethnicity_density = chicago_df[chicago_df['lntitle'] == ethnicity]\n",
    "    if total==True:\n",
    "        ethnicity_density['normalised_estimation'] = np.sqrt(np.sqrt(ethnicity_density['CIT_EST']))\n",
    "    ethnicity_density = ethnicity_density.groupby(\"geoid_match\").sum()[\"normalised_estimation\"].reset_index()    \n",
    "    ethnicity_density['normalised_estimation'] = ethnicity_density['normalised_estimation'].astype(float)\n",
    "    \n",
    "    \n",
    "    chicago_map = folium.Map(location=[41.806167, -87.985366])\n",
    "    folium.Choropleth(geo_data=\"./data/usBlocksGroups.geojson\",\n",
    "                        name =\"choropleth\",\n",
    "                        data=ethnicity_density, # my dataset\n",
    "                        columns=['geoid_match', 'normalised_estimation'], # zip code is here for matching the geojson zipcode, sales price is the column that changes the color of zipcode areas\n",
    "                        key_on='feature.properties.GEOID', # this path contains zipcodes in str type, this zipcodes should match with our ZIP CODE column\n",
    "                        fill_color='YlGnBu', \n",
    "                        fill_opacity=0.7, \n",
    "                        line_opacity=0.2,\n",
    "                        legend_name='Population Density'\n",
    "                     ).add_to(chicago_map)##\n",
    "\n",
    "    \n",
    "    if 1 in result:\n",
    "        # Plotting the amount of restaurants whose result during the inspection was \"result\"\n",
    "        results = chicago_inspection[chicago_inspection['results']=='Pass']\n",
    "        zip_latitude = {}\n",
    "        for zipcode in results['zip'].unique():\n",
    "            temp = results[results[\"zip\"] == zipcode]\n",
    "            if len(temp) !=0:\n",
    "                lat = temp.iloc[0]['latitude']\n",
    "                long = temp.iloc[0]['longitude']\n",
    "                zip_latitude[zipcode] = [lat, long]\n",
    "\n",
    "        if not count:\n",
    "            bubbles = results.groupby('zip').nunique()[['license']].reset_index()\n",
    "        else:\n",
    "            bubbles = results.groupby('zip').count()[['license']].reset_index()\n",
    "            \n",
    "\n",
    "        for i in range(len(bubbles)):\n",
    "            zipcode = bubbles.iloc[i]['zip']\n",
    "            location = zip_latitude[zipcode]\n",
    "            name = str(bubbles.iloc[i]['zip'])\n",
    "            folium.Circle(\n",
    "                location=location,\n",
    "                popup=name,\n",
    "                radius = bubbles.iloc[i]['license']/3,\n",
    "                color='lightgreen',\n",
    "                fill=True,\n",
    "                fill_color='lightgreen'\n",
    "\n",
    "            ).add_to(chicago_map)\n",
    "        \n",
    "    # Plotting the amount of restaurants whose result during the inspection was \"result\"\n",
    "    if 2 in result:\n",
    "        results = chicago_inspection[chicago_inspection['results']=='Fail']\n",
    "        zip_latitude = {}\n",
    "        for zipcode in results['zip'].unique():\n",
    "            temp = results[results[\"zip\"] == zipcode]\n",
    "            if len(temp) !=0:\n",
    "                lat = temp.iloc[0]['latitude']\n",
    "                long = temp.iloc[0]['longitude']\n",
    "                zip_latitude[zipcode] = [lat, long]\n",
    "\n",
    "        if not count:\n",
    "            bubbles = results.groupby('zip').nunique()[['license']].reset_index()\n",
    "        else:\n",
    "            bubbles = results.groupby('zip').count()[['license']].reset_index()\n",
    "\n",
    "        for i in range(len(bubbles)):\n",
    "            zipcode = bubbles.iloc[i]['zip']\n",
    "            location = zip_latitude[zipcode]\n",
    "            name = str(bubbles.iloc[i]['zip'])\n",
    "            folium.Circle(\n",
    "                location=location,\n",
    "                popup=name,\n",
    "                radius = bubbles.iloc[i]['license']/3,\n",
    "                color='crimson',\n",
    "                fill=True,\n",
    "                fill_color='crimson'\n",
    "\n",
    "            ).add_to(chicago_map)\n",
    "\n",
    "        \n",
    "    # Plotting the amount of restaurants whose result during the inspection was \"result\"\n",
    "    if 3 in result:\n",
    "        results = chicago_inspection[chicago_inspection['results']=='Out of Business']\n",
    "        zip_latitude = {}\n",
    "        for zipcode in results['zip'].unique():\n",
    "            temp = results[results[\"zip\"] == zipcode]\n",
    "            if len(temp) !=0:\n",
    "                lat = temp.iloc[0]['latitude']\n",
    "                long = temp.iloc[0]['longitude']\n",
    "                zip_latitude[zipcode] = [lat, long]\n",
    "\n",
    "        if not count:\n",
    "            bubbles = results.groupby('zip').nunique()[['license']].reset_index()\n",
    "        else:\n",
    "            bubbles = results.groupby('zip').count()[['license']].reset_index()\n",
    "        for i in range(len(bubbles)):\n",
    "            zipcode = bubbles.iloc[i]['zip']\n",
    "            location = zip_latitude[zipcode]\n",
    "            name = str(bubbles.iloc[i]['zip'])\n",
    "            folium.Circle(\n",
    "                location=location,\n",
    "                popup=name,\n",
    "                radius = bubbles.iloc[i]['license']/3,\n",
    "                color='maroon',\n",
    "                fill=True,\n",
    "                fill_color='maroon'\n",
    "\n",
    "            ).add_to(chicago_map)\n",
    "\n",
    "\n",
    "    folium.LayerControl().add_to(chicago_map)\n",
    "    return chicago_map\n",
    "\n",
    "\n"
   ]
  },
  {
   "cell_type": "markdown",
   "metadata": {},
   "source": [
    "## Total density\n",
    "In the following map, we can observe that most business who went bankrupt or had to close are centralised around the populated area of Chicago. However, business that have passed the inspection are more evenly spread accross different areas of Chicago. <par>\n",
    "In the following maps, we plot first the occurences of passed/failed/out of business inspections, then the occurences of businesse who have received a pass/fail/went out of business. We can thus observe that, because the number of passed inspections is higher then the number of businesses who passed an inspection, we can thus infer that businesses that have passed an inspections will still be inspected later on to check for consistency.\n",
    "<br> In the other sections, we will focus on plotting the businesses occurences, rather than the inspections occurences"
   ]
  },
  {
   "cell_type": "code",
   "execution_count": 111,
   "metadata": {
    "ExecuteTime": {
     "end_time": "2019-11-25T15:52:52.747441Z",
     "start_time": "2019-11-25T15:52:47.047513Z"
    }
   },
   "outputs": [
    {
     "data": {
      "text/html": [
       "<iframe src=./data/maps/ethnicity_total_map_inspections.html width=700 height=450></iframe>"
      ],
      "text/plain": [
       "<IPython.core.display.HTML object>"
      ]
     },
     "execution_count": 111,
     "metadata": {},
     "output_type": "execute_result"
    }
   ],
   "source": [
    "ethnicity = 'Total'\n",
    "ethnicity_total_map = create_map(chicago_df, ethnicity, chicago_inspections, [1, 2, 3], True, True)\n",
    "ethnicity_total_map.save('./maps/ethnicity_total_map_inspections.html')\n",
    "\n",
    "HTML('<iframe src=./maps/ethnicity_total_map_inspections.html width=700 height=450></iframe>')"
   ]
  },
  {
   "cell_type": "code",
   "execution_count": 112,
   "metadata": {
    "ExecuteTime": {
     "end_time": "2019-11-25T15:53:16.497417Z",
     "start_time": "2019-11-25T15:53:04.357449Z"
    }
   },
   "outputs": [
    {
     "data": {
      "text/html": [
       "<iframe src=./data/maps/ethnicity_total_map_businesses.html width=700 height=450></iframe>"
      ],
      "text/plain": [
       "<IPython.core.display.HTML object>"
      ]
     },
     "execution_count": 112,
     "metadata": {},
     "output_type": "execute_result"
    }
   ],
   "source": [
    "ethnicity = 'Total'\n",
    "ethnicity_total_map = create_map(chicago_df, ethnicity, chicago_inspections, [1, 2, 3], True)\n",
    "ethnicity_total_map.save('./maps/ethnicity_total_map_businesses.html')\n",
    "\n",
    "HTML('<iframe src=./maps/ethnicity_total_map_businesses.html width=700 height=450></iframe>')"
   ]
  },
  {
   "cell_type": "markdown",
   "metadata": {},
   "source": [
    "## White population alone\n",
    "It looks like where there exists a cluster of restaurants that have been inspected in the center of Chicago. In that cluster, it seems that the restaurants that have mostly gone out of business are located in areas where more than 83% of the population is white. However, we have not normalised this data by the number of restaurants, nor have we looked into more precise correlation algorithms and formulae. This will be inspected in more details in milestone 2.\n",
    "Another possibility is that they were more complaints in those neighbourhood, hence this tendency."
   ]
  },
  {
   "cell_type": "code",
   "execution_count": 113,
   "metadata": {
    "ExecuteTime": {
     "end_time": "2019-11-25T15:53:39.407076Z",
     "start_time": "2019-11-25T15:53:31.557592Z"
    }
   },
   "outputs": [
    {
     "data": {
      "text/html": [
       "<iframe src=./data/maps/ethnicity_white_map.html width=700 height=450></iframe>"
      ],
      "text/plain": [
       "<IPython.core.display.HTML object>"
      ]
     },
     "execution_count": 113,
     "metadata": {},
     "output_type": "execute_result"
    }
   ],
   "source": [
    "ethnicity = 'White Alone'\n",
    "ethnicity_total_map = create_map(chicago_df, ethnicity, chicago_inspections, [1,2,3])\n",
    "ethnicity_total_map.save('./maps/ethnicity_white_map.html')\n",
    "\n",
    "HTML('<iframe src=./maps/ethnicity_white_map.html width=700 height=450></iframe>')"
   ]
  },
  {
   "cell_type": "markdown",
   "metadata": {},
   "source": [
    "## Hispanic or Latino\n",
    "On the following map, we can observe that the amount of inspected restaurants is considerately smaller than in the neighbourhood were the population is mostly white. Whether it is related to the absolute oamount of restaurants located in those areas or because the inspections are targetted in \"white neighbourhood\" will be further inspected by crossing the google review dataset (which will give us an overview of the existing restaurants, inspected or not). We can observe that in the places where the latino and hispanic population is more than 67% of the group blocks, the restaurants located on the eastern side of those blocks tend to pass the inspections, while those located on the western side ten to fail or go out of business."
   ]
  },
  {
   "cell_type": "code",
   "execution_count": 114,
   "metadata": {
    "ExecuteTime": {
     "end_time": "2019-11-25T15:53:49.527279Z",
     "start_time": "2019-11-25T15:53:39.407076Z"
    }
   },
   "outputs": [
    {
     "data": {
      "text/html": [
       "<iframe src=./data/maps/ethnicity_hispanic_latino_map.html width=700 height=450></iframe>"
      ],
      "text/plain": [
       "<IPython.core.display.HTML object>"
      ]
     },
     "execution_count": 114,
     "metadata": {},
     "output_type": "execute_result"
    }
   ],
   "source": [
    "ethnicity = 'Hispanic or Latino'\n",
    "ethnicity_total_map = create_map(chicago_df, ethnicity, chicago_inspections, [1,2,3])\n",
    "ethnicity_total_map.save('./maps/ethnicity_hispanic_latino_map.html')\n",
    "\n",
    "HTML('<iframe src=./maps/ethnicity_hispanic_latino_map.html width=700 height=450></iframe>')"
   ]
  },
  {
   "cell_type": "code",
   "execution_count": 115,
   "metadata": {
    "ExecuteTime": {
     "end_time": "2019-11-25T15:53:58.317480Z",
     "start_time": "2019-11-25T15:53:49.527279Z"
    }
   },
   "outputs": [
    {
     "data": {
      "text/html": [
       "<iframe src=./data/maps/ethnicity_black_african_map.html width=700 height=450></iframe>"
      ],
      "text/plain": [
       "<IPython.core.display.HTML object>"
      ]
     },
     "execution_count": 115,
     "metadata": {},
     "output_type": "execute_result"
    }
   ],
   "source": [
    "ethnicity = 'Black or African American Alone'\n",
    "ethnicity_total_map = create_map(chicago_df, ethnicity, chicago_inspections, [1,2,3])\n",
    "ethnicity_total_map.save('./maps/ethnicity_black_african_map.html')\n",
    "\n",
    "HTML('<iframe src=./maps/ethnicity_black_african_map.html width=700 height=450></iframe>')\n"
   ]
  }
 ],
 "metadata": {
  "kernelspec": {
   "display_name": "Python 3",
   "language": "python",
   "name": "python3"
  },
  "language_info": {
   "codemirror_mode": {
    "name": "ipython",
    "version": 3
   },
   "file_extension": ".py",
   "mimetype": "text/x-python",
   "name": "python",
   "nbconvert_exporter": "python",
   "pygments_lexer": "ipython3",
   "version": "3.6.9"
  },
  "toc": {
   "base_numbering": 1,
   "nav_menu": {},
   "number_sections": true,
   "sideBar": true,
   "skip_h1_title": false,
   "title_cell": "Table of Contents",
   "title_sidebar": "Contents",
   "toc_cell": true,
   "toc_position": {},
   "toc_section_display": true,
   "toc_window_display": false
  }
 },
 "nbformat": 4,
 "nbformat_minor": 2
}
