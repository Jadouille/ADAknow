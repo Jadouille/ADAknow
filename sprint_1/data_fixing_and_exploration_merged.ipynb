{
 "cells": [
  {
   "cell_type": "markdown",
   "metadata": {
    "toc": true
   },
   "source": [
    "<h1>Table of Contents<span class=\"tocSkip\"></span></h1>\n",
    "<div class=\"toc\"><ul class=\"toc-item\"><li><span><a href=\"#DATA-SET:-Chicago's-Food-Inspection\" data-toc-modified-id=\"DATA-SET:-Chicago's-Food-Inspection-1\"><span class=\"toc-item-num\">1&nbsp;&nbsp;</span>DATA SET: Chicago's Food Inspection</a></span></li><li><span><a href=\"#DATA-EXPLORATION\" data-toc-modified-id=\"DATA-EXPLORATION-2\"><span class=\"toc-item-num\">2&nbsp;&nbsp;</span>DATA EXPLORATION</a></span><ul class=\"toc-item\"><li><span><a href=\"#Let's-get-some-feeling-of-the-numbers\" data-toc-modified-id=\"Let's-get-some-feeling-of-the-numbers-2.1\"><span class=\"toc-item-num\">2.1&nbsp;&nbsp;</span>Let's get some feeling of the numbers</a></span><ul class=\"toc-item\"><li><span><a href=\"#Missing-data\" data-toc-modified-id=\"Missing-data-2.1.1\"><span class=\"toc-item-num\">2.1.1&nbsp;&nbsp;</span>Missing data</a></span></li><li><span><a href=\"#Inspections-by-type--of-business\" data-toc-modified-id=\"Inspections-by-type--of-business-2.1.2\"><span class=\"toc-item-num\">2.1.2&nbsp;&nbsp;</span>Inspections by type  of business</a></span></li><li><span><a href=\"#Relationship-between-columns\" data-toc-modified-id=\"Relationship-between-columns-2.1.3\"><span class=\"toc-item-num\">2.1.3&nbsp;&nbsp;</span>Relationship between columns</a></span></li><li><span><a href=\"#Where-are-the-inspections-located?\" data-toc-modified-id=\"Where-are-the-inspections-located?-2.1.4\"><span class=\"toc-item-num\">2.1.4&nbsp;&nbsp;</span>Where are the inspections located?</a></span></li></ul></li></ul></li></ul></div>"
   ]
  },
  {
   "cell_type": "code",
   "execution_count": 1,
   "metadata": {},
   "outputs": [],
   "source": [
    "import pandas as pd\n",
    "import numpy as np\n",
    "import pickle \n",
    "from matplotlib import pyplot as plt\n",
    "import warnings\n",
    "from pyjarowinkler import distance\n",
    "import geopandas as gpd\n",
    "import folium\n",
    "import seaborn as sns\n",
    "import pgeocode\n",
    "warnings.filterwarnings(\"ignore\")"
   ]
  },
  {
   "cell_type": "markdown",
   "metadata": {},
   "source": [
    "# DATA SET: Chicago's Food Inspection"
   ]
  },
  {
   "cell_type": "markdown",
   "metadata": {},
   "source": [
    "Chicago's Food Inspection Dataset is derived from a larger initiative from the local authorities of Chicago to make Government's data publicly available to everyone. Other similar datasets are available at https://data.cityofchicago.org\n",
    "\n",
    "This dataset, in particular, is generated from inspections of restaurants and other food establishments in Chicago from January 1, 2010, to the present. Inspections are performed by staff from the Chicago Department of Public Health’s Food Protection Program using a standardized procedure. The results of the inspection are inputted into a database, then reviewed and approved by a State of Illinois Licensed Environmental Health Practitioner (LEHP).\n",
    "\n",
    "- __Data Owner__: Chicago Department of Public Health\n",
    "- __Time Period__: 2010 - Present\n",
    "- __Frequency__: This database was updated with information from new inspections each Friday.\n"
   ]
  },
  {
   "cell_type": "markdown",
   "metadata": {},
   "source": [
    "# DATA EXPLORATION"
   ]
  },
  {
   "cell_type": "markdown",
   "metadata": {},
   "source": [
    "First of all, we are going to understand the dataset and its content. Initial analyis on the food-inspections dataset in Chicago follows below:"
   ]
  },
  {
   "cell_type": "code",
   "execution_count": 2,
   "metadata": {
    "ExecuteTime": {
     "end_time": "2019-11-09T11:28:43.265141Z",
     "start_time": "2019-11-09T11:28:40.232058Z"
    }
   },
   "outputs": [
    {
     "data": {
      "text/html": [
       "<div>\n",
       "<style scoped>\n",
       "    .dataframe tbody tr th:only-of-type {\n",
       "        vertical-align: middle;\n",
       "    }\n",
       "\n",
       "    .dataframe tbody tr th {\n",
       "        vertical-align: top;\n",
       "    }\n",
       "\n",
       "    .dataframe thead th {\n",
       "        text-align: right;\n",
       "    }\n",
       "</style>\n",
       "<table border=\"1\" class=\"dataframe\">\n",
       "  <thead>\n",
       "    <tr style=\"text-align: right;\">\n",
       "      <th></th>\n",
       "      <th>Inspection ID</th>\n",
       "      <th>DBA Name</th>\n",
       "      <th>AKA Name</th>\n",
       "      <th>License #</th>\n",
       "      <th>Facility Type</th>\n",
       "      <th>Risk</th>\n",
       "      <th>Address</th>\n",
       "      <th>City</th>\n",
       "      <th>State</th>\n",
       "      <th>Zip</th>\n",
       "      <th>...</th>\n",
       "      <th>Results</th>\n",
       "      <th>Violations</th>\n",
       "      <th>Latitude</th>\n",
       "      <th>Longitude</th>\n",
       "      <th>Location</th>\n",
       "      <th>Historical Wards 2003-2015</th>\n",
       "      <th>Zip Codes</th>\n",
       "      <th>Community Areas</th>\n",
       "      <th>Census Tracts</th>\n",
       "      <th>Wards</th>\n",
       "    </tr>\n",
       "  </thead>\n",
       "  <tbody>\n",
       "    <tr>\n",
       "      <td>0</td>\n",
       "      <td>2345318</td>\n",
       "      <td>SUBWAY</td>\n",
       "      <td>SUBWAY</td>\n",
       "      <td>2529116.0</td>\n",
       "      <td>Restaurant</td>\n",
       "      <td>Risk 1 (High)</td>\n",
       "      <td>2620 N NARRAGANSETT AVE</td>\n",
       "      <td>CHICAGO</td>\n",
       "      <td>IL</td>\n",
       "      <td>60639.0</td>\n",
       "      <td>...</td>\n",
       "      <td>Pass w/ Conditions</td>\n",
       "      <td>3. MANAGEMENT, FOOD EMPLOYEE AND CONDITIONAL E...</td>\n",
       "      <td>41.927995</td>\n",
       "      <td>-87.785752</td>\n",
       "      <td>{'latitude': '-87.78575236468352', 'longitude'...</td>\n",
       "      <td>NaN</td>\n",
       "      <td>NaN</td>\n",
       "      <td>NaN</td>\n",
       "      <td>NaN</td>\n",
       "      <td>NaN</td>\n",
       "    </tr>\n",
       "    <tr>\n",
       "      <td>1</td>\n",
       "      <td>2345321</td>\n",
       "      <td>GOPUFF</td>\n",
       "      <td>GOPUFF</td>\n",
       "      <td>2684560.0</td>\n",
       "      <td>Grocery Store</td>\n",
       "      <td>Risk 3 (Low)</td>\n",
       "      <td>1801 W WARNER AVE</td>\n",
       "      <td>CHICAGO</td>\n",
       "      <td>IL</td>\n",
       "      <td>60613.0</td>\n",
       "      <td>...</td>\n",
       "      <td>Pass</td>\n",
       "      <td>NaN</td>\n",
       "      <td>41.956846</td>\n",
       "      <td>-87.674395</td>\n",
       "      <td>{'latitude': '-87.6743946694658', 'longitude':...</td>\n",
       "      <td>NaN</td>\n",
       "      <td>NaN</td>\n",
       "      <td>NaN</td>\n",
       "      <td>NaN</td>\n",
       "      <td>NaN</td>\n",
       "    </tr>\n",
       "    <tr>\n",
       "      <td>2</td>\n",
       "      <td>2345334</td>\n",
       "      <td>LA MICHOACANA  ICE CREAM SHOP</td>\n",
       "      <td>LA MICHOACANA ICE CREAM SHOP</td>\n",
       "      <td>2698396.0</td>\n",
       "      <td>Restaurant</td>\n",
       "      <td>Risk 1 (High)</td>\n",
       "      <td>3591-3597 N MILWAUKEE AVE</td>\n",
       "      <td>CHICAGO</td>\n",
       "      <td>IL</td>\n",
       "      <td>60641.0</td>\n",
       "      <td>...</td>\n",
       "      <td>Pass w/ Conditions</td>\n",
       "      <td>3. MANAGEMENT, FOOD EMPLOYEE AND CONDITIONAL E...</td>\n",
       "      <td>41.946140</td>\n",
       "      <td>-87.735183</td>\n",
       "      <td>{'latitude': '-87.73518301995274', 'longitude'...</td>\n",
       "      <td>NaN</td>\n",
       "      <td>NaN</td>\n",
       "      <td>NaN</td>\n",
       "      <td>NaN</td>\n",
       "      <td>NaN</td>\n",
       "    </tr>\n",
       "    <tr>\n",
       "      <td>3</td>\n",
       "      <td>2345339</td>\n",
       "      <td>THE CREPE SHOP</td>\n",
       "      <td>THE CREPE SHOP</td>\n",
       "      <td>2699005.0</td>\n",
       "      <td>Restaurant</td>\n",
       "      <td>Risk 1 (High)</td>\n",
       "      <td>2934 N BROADWAY</td>\n",
       "      <td>CHICAGO</td>\n",
       "      <td>IL</td>\n",
       "      <td>60657.0</td>\n",
       "      <td>...</td>\n",
       "      <td>Fail</td>\n",
       "      <td>10. ADEQUATE HANDWASHING SINKS PROPERLY SUPPLI...</td>\n",
       "      <td>41.935930</td>\n",
       "      <td>-87.644407</td>\n",
       "      <td>{'latitude': '-87.64440716256712', 'longitude'...</td>\n",
       "      <td>NaN</td>\n",
       "      <td>NaN</td>\n",
       "      <td>NaN</td>\n",
       "      <td>NaN</td>\n",
       "      <td>NaN</td>\n",
       "    </tr>\n",
       "    <tr>\n",
       "      <td>4</td>\n",
       "      <td>2345319</td>\n",
       "      <td>GOPUFF</td>\n",
       "      <td>GOPUFF</td>\n",
       "      <td>2684558.0</td>\n",
       "      <td>Grocery Store</td>\n",
       "      <td>Risk 3 (Low)</td>\n",
       "      <td>1801 W WARNER AVE</td>\n",
       "      <td>CHICAGO</td>\n",
       "      <td>IL</td>\n",
       "      <td>60613.0</td>\n",
       "      <td>...</td>\n",
       "      <td>Pass</td>\n",
       "      <td>39. CONTAMINATION PREVENTED DURING FOOD PREPAR...</td>\n",
       "      <td>41.956846</td>\n",
       "      <td>-87.674395</td>\n",
       "      <td>{'latitude': '-87.6743946694658', 'longitude':...</td>\n",
       "      <td>NaN</td>\n",
       "      <td>NaN</td>\n",
       "      <td>NaN</td>\n",
       "      <td>NaN</td>\n",
       "      <td>NaN</td>\n",
       "    </tr>\n",
       "  </tbody>\n",
       "</table>\n",
       "<p>5 rows × 22 columns</p>\n",
       "</div>"
      ],
      "text/plain": [
       "   Inspection ID                       DBA Name                      AKA Name  \\\n",
       "0        2345318                         SUBWAY                        SUBWAY   \n",
       "1        2345321                         GOPUFF                        GOPUFF   \n",
       "2        2345334  LA MICHOACANA  ICE CREAM SHOP  LA MICHOACANA ICE CREAM SHOP   \n",
       "3        2345339                 THE CREPE SHOP                THE CREPE SHOP   \n",
       "4        2345319                         GOPUFF                        GOPUFF   \n",
       "\n",
       "   License #  Facility Type           Risk                     Address  \\\n",
       "0  2529116.0     Restaurant  Risk 1 (High)    2620 N NARRAGANSETT AVE    \n",
       "1  2684560.0  Grocery Store   Risk 3 (Low)          1801 W WARNER AVE    \n",
       "2  2698396.0     Restaurant  Risk 1 (High)  3591-3597 N MILWAUKEE AVE    \n",
       "3  2699005.0     Restaurant  Risk 1 (High)            2934 N BROADWAY    \n",
       "4  2684558.0  Grocery Store   Risk 3 (Low)          1801 W WARNER AVE    \n",
       "\n",
       "      City State      Zip  ...             Results  \\\n",
       "0  CHICAGO    IL  60639.0  ...  Pass w/ Conditions   \n",
       "1  CHICAGO    IL  60613.0  ...                Pass   \n",
       "2  CHICAGO    IL  60641.0  ...  Pass w/ Conditions   \n",
       "3  CHICAGO    IL  60657.0  ...                Fail   \n",
       "4  CHICAGO    IL  60613.0  ...                Pass   \n",
       "\n",
       "                                          Violations   Latitude  Longitude  \\\n",
       "0  3. MANAGEMENT, FOOD EMPLOYEE AND CONDITIONAL E...  41.927995 -87.785752   \n",
       "1                                                NaN  41.956846 -87.674395   \n",
       "2  3. MANAGEMENT, FOOD EMPLOYEE AND CONDITIONAL E...  41.946140 -87.735183   \n",
       "3  10. ADEQUATE HANDWASHING SINKS PROPERLY SUPPLI...  41.935930 -87.644407   \n",
       "4  39. CONTAMINATION PREVENTED DURING FOOD PREPAR...  41.956846 -87.674395   \n",
       "\n",
       "                                            Location  \\\n",
       "0  {'latitude': '-87.78575236468352', 'longitude'...   \n",
       "1  {'latitude': '-87.6743946694658', 'longitude':...   \n",
       "2  {'latitude': '-87.73518301995274', 'longitude'...   \n",
       "3  {'latitude': '-87.64440716256712', 'longitude'...   \n",
       "4  {'latitude': '-87.6743946694658', 'longitude':...   \n",
       "\n",
       "   Historical Wards 2003-2015 Zip Codes  Community Areas  Census Tracts  Wards  \n",
       "0                         NaN       NaN              NaN            NaN    NaN  \n",
       "1                         NaN       NaN              NaN            NaN    NaN  \n",
       "2                         NaN       NaN              NaN            NaN    NaN  \n",
       "3                         NaN       NaN              NaN            NaN    NaN  \n",
       "4                         NaN       NaN              NaN            NaN    NaN  \n",
       "\n",
       "[5 rows x 22 columns]"
      ]
     },
     "execution_count": 2,
     "metadata": {},
     "output_type": "execute_result"
    }
   ],
   "source": [
    "chicago_df = pd.read_csv('../data/food-inspections.csv', delimiter=',')\n",
    "chicago_df.head()"
   ]
  },
  {
   "cell_type": "code",
   "execution_count": 3,
   "metadata": {
    "ExecuteTime": {
     "end_time": "2019-11-09T11:28:43.281502Z",
     "start_time": "2019-11-09T11:28:43.272439Z"
    }
   },
   "outputs": [
    {
     "data": {
      "text/plain": [
       "Index(['Inspection ID', 'DBA Name', 'AKA Name', 'License #', 'Facility Type',\n",
       "       'Risk', 'Address', 'City', 'State', 'Zip', 'Inspection Date',\n",
       "       'Inspection Type', 'Results', 'Violations', 'Latitude', 'Longitude',\n",
       "       'Location', 'Historical Wards 2003-2015', 'Zip Codes',\n",
       "       'Community Areas', 'Census Tracts', 'Wards'],\n",
       "      dtype='object')"
      ]
     },
     "execution_count": 3,
     "metadata": {},
     "output_type": "execute_result"
    }
   ],
   "source": [
    "chicago_df.columns"
   ]
  },
  {
   "cell_type": "markdown",
   "metadata": {},
   "source": [
    "As we can see, this dataset has 22 different columns, of different type:\n",
    "- **Integer columns**: `'Inspection ID'`, `'License #'`, `'Zip'`\n",
    "- **Floating point columns**: `'Latitude'`, `'Longitude'`\n",
    "- **Date columns**: `'Inspection Date'`\n",
    "- **String Columns**: `'Results'`\\*, `'DBA Name'`, `'Address'`, `'Risk'`\\*, `'Facility Type'`\\*, `'City'`\\*, `'State'`\\*, `'Location'`, `'AKA Name'`, `'Inspection Type'`\\*, `'Violations'`^, where:\n",
    "   - \\*= Categorical\n",
    "   - ^= Too many categories to be called categorical (142431)\n",
    "- **Unknown data-type columns**: `'Wards'`, `'Community Areas'`, `'Zip Codes'`, `'Historical Wards 2003-2015'`, `'Census Tracts'`\n",
    "\n",
    "The contents of the columns whose meaning is not immediate are explained below:\n",
    "\n",
    "- __DBA__: ‘Doing business as.’ This is the legal name of the establishment.\n",
    "- __AKA__: ‘Also known as.’ This is the name the public would know the establishment as.\n",
    "- __License number__: This is a unique number assigned to the establishment for the purposes of licensing by the Department of Business Affairs and Consumer Protection.\n",
    "- __Type of facility__: Each establishment is described by one of the following: bakery, banquet hall, candy store, caterer, coffee shop, day care center (for ages less than 2), day care center (for ages 2 – 6), day care center (combo, for ages less than 2 and 2 – 6 combined), gas station, Golden Diner, grocery store, hospital, long term care center(nursing home), liquor store, mobile food dispenser, restaurant, paleteria, school, shelter, tavern, social club, wholesaler, or Wrigley Field Rooftop.\n",
    "- __Risk category of facility__: Each establishment is categorized as to its risk of adversely affecting the public’s health, with 1 being the highest and 3 the lowest. The frequency of inspection is tied to this risk, with risk 1 establishments inspected most frequently and risk 3 least frequently.\n",
    "- __Street address, city, state and zip code of facility__: This data provides a full address for each business.\n",
    "- __Inspection date__: This is the date the inspection occurred. A particular establishment is likely to have multiple inspections which are denoted by different inspection dates.\n",
    "- __Inspection type__: An inspection can be one of the following types: \n",
    " - *canvass*: the most common type of inspection performed at a frequency relative to the risk of the establishment.\n",
    " - *consultation*: when the inspection is done at the request of the owner prior to the opening of the establishment. \n",
    " - *complaint*: when the inspection is done in response to a complaint against the establishment.\n",
    " - *license*: when the inspection is done as a requirement for the establishment to receive its license to operate.\n",
    " - *suspect food poisoning* when the inspection is done in response to one or more persons claiming to have gotten ill as a result of eating at the establishment (a specific type of complaintbased inspection).\n",
    " - *task-force inspection* when an inspection of a bar or tavern is done.\n",
    " \n",
    " Re-inspections can occur for most types of these inspections and are indicated as such.\n",
    "- __Results__: An inspection can pass, pass with conditions or fail. Establishments receiving a ‘pass’ were found to have no critical or serious violations (violation number 1-14 and 15- 29, respectively). Establishments receiving a ‘pass with conditions’ were found to have critical or serious violations, but these were corrected during the inspection. Establishments receiving a ‘fail’ were found to have critical or serious violations that were not correctable during the inspection. An establishment receiving a ‘fail’ does not necessarily mean the establishment’s licensed is suspended. Establishments found to be out of business or not located are indicated as such.\n",
    "- __Violations__: An establishment can receive one or more of 45 distinct violations (violation numbers 1-44 and 70). For each violation number listed for a given establishment, the requirement the establishment must meet in order for it to NOT receive a violation is noted, followed by a specific description of the findings that caused the violation to be issued.\n"
   ]
  },
  {
   "cell_type": "code",
   "execution_count": 4,
   "metadata": {
    "ExecuteTime": {
     "end_time": "2019-11-09T11:28:48.230120Z",
     "start_time": "2019-11-09T11:28:43.285934Z"
    }
   },
   "outputs": [
    {
     "data": {
      "text/html": [
       "<div>\n",
       "<style scoped>\n",
       "    .dataframe tbody tr th:only-of-type {\n",
       "        vertical-align: middle;\n",
       "    }\n",
       "\n",
       "    .dataframe tbody tr th {\n",
       "        vertical-align: top;\n",
       "    }\n",
       "\n",
       "    .dataframe thead th {\n",
       "        text-align: right;\n",
       "    }\n",
       "</style>\n",
       "<table border=\"1\" class=\"dataframe\">\n",
       "  <thead>\n",
       "    <tr style=\"text-align: right;\">\n",
       "      <th></th>\n",
       "      <th>mins</th>\n",
       "      <th>maxs</th>\n",
       "    </tr>\n",
       "    <tr>\n",
       "      <th>Column</th>\n",
       "      <th></th>\n",
       "      <th></th>\n",
       "    </tr>\n",
       "  </thead>\n",
       "  <tbody>\n",
       "    <tr>\n",
       "      <td>Inspection ID</td>\n",
       "      <td>44247</td>\n",
       "      <td>2345339</td>\n",
       "    </tr>\n",
       "    <tr>\n",
       "      <td>DBA Name</td>\n",
       "      <td>#1 CHINA EXPRESS, LTD.</td>\n",
       "      <td>vitino pizzeria</td>\n",
       "    </tr>\n",
       "    <tr>\n",
       "      <td>License #</td>\n",
       "      <td>0</td>\n",
       "      <td>1e+07</td>\n",
       "    </tr>\n",
       "    <tr>\n",
       "      <td>Address</td>\n",
       "      <td></td>\n",
       "      <td>N2660 HAYTON RD</td>\n",
       "    </tr>\n",
       "    <tr>\n",
       "      <td>Zip</td>\n",
       "      <td>10014</td>\n",
       "      <td>60827</td>\n",
       "    </tr>\n",
       "    <tr>\n",
       "      <td>Inspection Date</td>\n",
       "      <td>2010-01-04T00:00:00.000</td>\n",
       "      <td>2019-11-08T00:00:00.000</td>\n",
       "    </tr>\n",
       "    <tr>\n",
       "      <td>Results</td>\n",
       "      <td>Business Not Located</td>\n",
       "      <td>Pass w/ Conditions</td>\n",
       "    </tr>\n",
       "    <tr>\n",
       "      <td>Latitude</td>\n",
       "      <td>41.6447</td>\n",
       "      <td>42.0211</td>\n",
       "    </tr>\n",
       "    <tr>\n",
       "      <td>Longitude</td>\n",
       "      <td>-87.9144</td>\n",
       "      <td>-87.5251</td>\n",
       "    </tr>\n",
       "    <tr>\n",
       "      <td>Historical Wards 2003-2015</td>\n",
       "      <td>NaN</td>\n",
       "      <td>NaN</td>\n",
       "    </tr>\n",
       "    <tr>\n",
       "      <td>Zip Codes</td>\n",
       "      <td>NaN</td>\n",
       "      <td>NaN</td>\n",
       "    </tr>\n",
       "    <tr>\n",
       "      <td>Community Areas</td>\n",
       "      <td>NaN</td>\n",
       "      <td>NaN</td>\n",
       "    </tr>\n",
       "    <tr>\n",
       "      <td>Census Tracts</td>\n",
       "      <td>NaN</td>\n",
       "      <td>NaN</td>\n",
       "    </tr>\n",
       "    <tr>\n",
       "      <td>Wards</td>\n",
       "      <td>NaN</td>\n",
       "      <td>NaN</td>\n",
       "    </tr>\n",
       "  </tbody>\n",
       "</table>\n",
       "</div>"
      ],
      "text/plain": [
       "                                               mins                     maxs\n",
       "Column                                                                      \n",
       "Inspection ID                                 44247                  2345339\n",
       "DBA Name                     #1 CHINA EXPRESS, LTD.          vitino pizzeria\n",
       "License #                                         0                    1e+07\n",
       "Address                                                     N2660 HAYTON RD \n",
       "Zip                                           10014                    60827\n",
       "Inspection Date             2010-01-04T00:00:00.000  2019-11-08T00:00:00.000\n",
       "Results                        Business Not Located       Pass w/ Conditions\n",
       "Latitude                                    41.6447                  42.0211\n",
       "Longitude                                  -87.9144                 -87.5251\n",
       "Historical Wards 2003-2015                      NaN                      NaN\n",
       "Zip Codes                                       NaN                      NaN\n",
       "Community Areas                                 NaN                      NaN\n",
       "Census Tracts                                   NaN                      NaN\n",
       "Wards                                           NaN                      NaN"
      ]
     },
     "execution_count": 4,
     "metadata": {},
     "output_type": "execute_result"
    }
   ],
   "source": [
    "# get basic min/max statistics to get a feeling of some column's values range\n",
    "basic_stats = (pd.Series(chicago_df.min(), name='mins').to_frame()\n",
    "               .join(pd.Series(chicago_df.max(), name='maxs')))\n",
    "basic_stats.index.name = 'Column'\n",
    "basic_stats"
   ]
  },
  {
   "cell_type": "markdown",
   "metadata": {},
   "source": [
    "We observe there are 5 columns filled with NaN values: `Historical`, `Wards 2003-2015`, `Zip Codes`, `Community Areas`, `Census Tracts`, `Wards`. \n",
    "\n",
    "We are going to remove these columns from our data frame. From now on, we will only work with the dataframe where these colums have been removed (*'chicago_df_noNan'*)."
   ]
  },
  {
   "cell_type": "code",
   "execution_count": 5,
   "metadata": {
    "ExecuteTime": {
     "end_time": "2019-11-09T11:28:48.319974Z",
     "start_time": "2019-11-09T11:28:48.234597Z"
    }
   },
   "outputs": [],
   "source": [
    "chicago_df_noNan = chicago_df.drop(columns=[\"Historical Wards 2003-2015\",\n",
    "                                            \"Zip Codes\",\n",
    "                                            \"Community Areas\",\n",
    "                                            \"Census Tracts\",\n",
    "                                            \"Wards\"])"
   ]
  },
  {
   "cell_type": "code",
   "execution_count": 6,
   "metadata": {},
   "outputs": [
    {
     "data": {
      "text/html": [
       "<div>\n",
       "<style scoped>\n",
       "    .dataframe tbody tr th:only-of-type {\n",
       "        vertical-align: middle;\n",
       "    }\n",
       "\n",
       "    .dataframe tbody tr th {\n",
       "        vertical-align: top;\n",
       "    }\n",
       "\n",
       "    .dataframe thead th {\n",
       "        text-align: right;\n",
       "    }\n",
       "</style>\n",
       "<table border=\"1\" class=\"dataframe\">\n",
       "  <thead>\n",
       "    <tr style=\"text-align: right;\">\n",
       "      <th></th>\n",
       "      <th>Inspection ID</th>\n",
       "      <th>DBA Name</th>\n",
       "      <th>AKA Name</th>\n",
       "      <th>License #</th>\n",
       "      <th>Facility Type</th>\n",
       "      <th>Risk</th>\n",
       "      <th>Address</th>\n",
       "      <th>City</th>\n",
       "      <th>State</th>\n",
       "      <th>Zip</th>\n",
       "      <th>Inspection Date</th>\n",
       "      <th>Inspection Type</th>\n",
       "      <th>Results</th>\n",
       "      <th>Violations</th>\n",
       "      <th>Latitude</th>\n",
       "      <th>Longitude</th>\n",
       "      <th>Location</th>\n",
       "    </tr>\n",
       "  </thead>\n",
       "  <tbody>\n",
       "    <tr>\n",
       "      <td>0</td>\n",
       "      <td>2345318</td>\n",
       "      <td>SUBWAY</td>\n",
       "      <td>SUBWAY</td>\n",
       "      <td>2529116.0</td>\n",
       "      <td>Restaurant</td>\n",
       "      <td>Risk 1 (High)</td>\n",
       "      <td>2620 N NARRAGANSETT AVE</td>\n",
       "      <td>CHICAGO</td>\n",
       "      <td>IL</td>\n",
       "      <td>60639.0</td>\n",
       "      <td>2019-11-08T00:00:00.000</td>\n",
       "      <td>Canvass Re-Inspection</td>\n",
       "      <td>Pass w/ Conditions</td>\n",
       "      <td>3. MANAGEMENT, FOOD EMPLOYEE AND CONDITIONAL E...</td>\n",
       "      <td>41.927995</td>\n",
       "      <td>-87.785752</td>\n",
       "      <td>{'latitude': '-87.78575236468352', 'longitude'...</td>\n",
       "    </tr>\n",
       "    <tr>\n",
       "      <td>1</td>\n",
       "      <td>2345321</td>\n",
       "      <td>GOPUFF</td>\n",
       "      <td>GOPUFF</td>\n",
       "      <td>2684560.0</td>\n",
       "      <td>Grocery Store</td>\n",
       "      <td>Risk 3 (Low)</td>\n",
       "      <td>1801 W WARNER AVE</td>\n",
       "      <td>CHICAGO</td>\n",
       "      <td>IL</td>\n",
       "      <td>60613.0</td>\n",
       "      <td>2019-11-08T00:00:00.000</td>\n",
       "      <td>License Re-Inspection</td>\n",
       "      <td>Pass</td>\n",
       "      <td>NaN</td>\n",
       "      <td>41.956846</td>\n",
       "      <td>-87.674395</td>\n",
       "      <td>{'latitude': '-87.6743946694658', 'longitude':...</td>\n",
       "    </tr>\n",
       "    <tr>\n",
       "      <td>2</td>\n",
       "      <td>2345334</td>\n",
       "      <td>LA MICHOACANA  ICE CREAM SHOP</td>\n",
       "      <td>LA MICHOACANA ICE CREAM SHOP</td>\n",
       "      <td>2698396.0</td>\n",
       "      <td>Restaurant</td>\n",
       "      <td>Risk 1 (High)</td>\n",
       "      <td>3591-3597 N MILWAUKEE AVE</td>\n",
       "      <td>CHICAGO</td>\n",
       "      <td>IL</td>\n",
       "      <td>60641.0</td>\n",
       "      <td>2019-11-08T00:00:00.000</td>\n",
       "      <td>License</td>\n",
       "      <td>Pass w/ Conditions</td>\n",
       "      <td>3. MANAGEMENT, FOOD EMPLOYEE AND CONDITIONAL E...</td>\n",
       "      <td>41.946140</td>\n",
       "      <td>-87.735183</td>\n",
       "      <td>{'latitude': '-87.73518301995274', 'longitude'...</td>\n",
       "    </tr>\n",
       "    <tr>\n",
       "      <td>3</td>\n",
       "      <td>2345339</td>\n",
       "      <td>THE CREPE SHOP</td>\n",
       "      <td>THE CREPE SHOP</td>\n",
       "      <td>2699005.0</td>\n",
       "      <td>Restaurant</td>\n",
       "      <td>Risk 1 (High)</td>\n",
       "      <td>2934 N BROADWAY</td>\n",
       "      <td>CHICAGO</td>\n",
       "      <td>IL</td>\n",
       "      <td>60657.0</td>\n",
       "      <td>2019-11-08T00:00:00.000</td>\n",
       "      <td>License</td>\n",
       "      <td>Fail</td>\n",
       "      <td>10. ADEQUATE HANDWASHING SINKS PROPERLY SUPPLI...</td>\n",
       "      <td>41.935930</td>\n",
       "      <td>-87.644407</td>\n",
       "      <td>{'latitude': '-87.64440716256712', 'longitude'...</td>\n",
       "    </tr>\n",
       "    <tr>\n",
       "      <td>4</td>\n",
       "      <td>2345319</td>\n",
       "      <td>GOPUFF</td>\n",
       "      <td>GOPUFF</td>\n",
       "      <td>2684558.0</td>\n",
       "      <td>Grocery Store</td>\n",
       "      <td>Risk 3 (Low)</td>\n",
       "      <td>1801 W WARNER AVE</td>\n",
       "      <td>CHICAGO</td>\n",
       "      <td>IL</td>\n",
       "      <td>60613.0</td>\n",
       "      <td>2019-11-08T00:00:00.000</td>\n",
       "      <td>License Re-Inspection</td>\n",
       "      <td>Pass</td>\n",
       "      <td>39. CONTAMINATION PREVENTED DURING FOOD PREPAR...</td>\n",
       "      <td>41.956846</td>\n",
       "      <td>-87.674395</td>\n",
       "      <td>{'latitude': '-87.6743946694658', 'longitude':...</td>\n",
       "    </tr>\n",
       "  </tbody>\n",
       "</table>\n",
       "</div>"
      ],
      "text/plain": [
       "   Inspection ID                       DBA Name                      AKA Name  \\\n",
       "0        2345318                         SUBWAY                        SUBWAY   \n",
       "1        2345321                         GOPUFF                        GOPUFF   \n",
       "2        2345334  LA MICHOACANA  ICE CREAM SHOP  LA MICHOACANA ICE CREAM SHOP   \n",
       "3        2345339                 THE CREPE SHOP                THE CREPE SHOP   \n",
       "4        2345319                         GOPUFF                        GOPUFF   \n",
       "\n",
       "   License #  Facility Type           Risk                     Address  \\\n",
       "0  2529116.0     Restaurant  Risk 1 (High)    2620 N NARRAGANSETT AVE    \n",
       "1  2684560.0  Grocery Store   Risk 3 (Low)          1801 W WARNER AVE    \n",
       "2  2698396.0     Restaurant  Risk 1 (High)  3591-3597 N MILWAUKEE AVE    \n",
       "3  2699005.0     Restaurant  Risk 1 (High)            2934 N BROADWAY    \n",
       "4  2684558.0  Grocery Store   Risk 3 (Low)          1801 W WARNER AVE    \n",
       "\n",
       "      City State      Zip          Inspection Date        Inspection Type  \\\n",
       "0  CHICAGO    IL  60639.0  2019-11-08T00:00:00.000  Canvass Re-Inspection   \n",
       "1  CHICAGO    IL  60613.0  2019-11-08T00:00:00.000  License Re-Inspection   \n",
       "2  CHICAGO    IL  60641.0  2019-11-08T00:00:00.000                License   \n",
       "3  CHICAGO    IL  60657.0  2019-11-08T00:00:00.000                License   \n",
       "4  CHICAGO    IL  60613.0  2019-11-08T00:00:00.000  License Re-Inspection   \n",
       "\n",
       "              Results                                         Violations  \\\n",
       "0  Pass w/ Conditions  3. MANAGEMENT, FOOD EMPLOYEE AND CONDITIONAL E...   \n",
       "1                Pass                                                NaN   \n",
       "2  Pass w/ Conditions  3. MANAGEMENT, FOOD EMPLOYEE AND CONDITIONAL E...   \n",
       "3                Fail  10. ADEQUATE HANDWASHING SINKS PROPERLY SUPPLI...   \n",
       "4                Pass  39. CONTAMINATION PREVENTED DURING FOOD PREPAR...   \n",
       "\n",
       "    Latitude  Longitude                                           Location  \n",
       "0  41.927995 -87.785752  {'latitude': '-87.78575236468352', 'longitude'...  \n",
       "1  41.956846 -87.674395  {'latitude': '-87.6743946694658', 'longitude':...  \n",
       "2  41.946140 -87.735183  {'latitude': '-87.73518301995274', 'longitude'...  \n",
       "3  41.935930 -87.644407  {'latitude': '-87.64440716256712', 'longitude'...  \n",
       "4  41.956846 -87.674395  {'latitude': '-87.6743946694658', 'longitude':...  "
      ]
     },
     "execution_count": 6,
     "metadata": {},
     "output_type": "execute_result"
    }
   ],
   "source": [
    "chicago_df_noNan.head()"
   ]
  },
  {
   "cell_type": "markdown",
   "metadata": {},
   "source": [
    "# Examination of the data\n",
    "In this part, the following columns of the data are examined and cleaned:\n",
    "Inspection ID', 'DBA Name', 'AKA Name', 'License #', 'Facility Type',\n",
    "       'Risk', 'Address', 'City', 'State'"
   ]
  },
  {
   "cell_type": "markdown",
   "metadata": {},
   "source": [
    "## inspection_id\n",
    "Some inspections have been inserted twice in the dataset and need to be deleted to avoid duplicates."
   ]
  },
  {
   "cell_type": "code",
   "execution_count": 7,
   "metadata": {},
   "outputs": [],
   "source": [
    "# Create more coding friendly coding names :D\n",
    "og_columns = chicago_df_noNan.columns\n",
    "columns = [\n",
    "    'inspection_id', 'dba_name', 'aka_name', 'license', \n",
    "    'facility_type', 'risk', 'address', 'city', 'state', \n",
    "    'zip', 'inspection_date', 'inspection_type', 'results', \n",
    "    'violations', 'latitude', 'longitude', 'location'\n",
    "]\n",
    "chicago_df_noNan.columns = columns"
   ]
  },
  {
   "cell_type": "code",
   "execution_count": 8,
   "metadata": {},
   "outputs": [],
   "source": [
    "inspection_id = chicago_df_noNan['inspection_id']"
   ]
  },
  {
   "cell_type": "markdown",
   "metadata": {},
   "source": [
    "We first verify that no entry has a null id"
   ]
  },
  {
   "cell_type": "code",
   "execution_count": 9,
   "metadata": {
    "ExecuteTime": {
     "end_time": "2019-11-11T17:24:28.369074Z",
     "start_time": "2019-11-11T17:24:28.332067Z"
    }
   },
   "outputs": [
    {
     "data": {
      "text/plain": [
       "0"
      ]
     },
     "execution_count": 9,
     "metadata": {},
     "output_type": "execute_result"
    }
   ],
   "source": [
    "sum(inspection_id.isnull())"
   ]
  },
  {
   "cell_type": "markdown",
   "metadata": {},
   "source": [
    "Then, we check for duplicate entries"
   ]
  },
  {
   "cell_type": "code",
   "execution_count": 10,
   "metadata": {
    "ExecuteTime": {
     "end_time": "2019-11-11T17:24:31.771125Z",
     "start_time": "2019-11-11T17:24:29.676966Z"
    }
   },
   "outputs": [],
   "source": [
    "duplicated = chicago_df_noNan.duplicated(keep='first')"
   ]
  },
  {
   "cell_type": "code",
   "execution_count": 11,
   "metadata": {
    "ExecuteTime": {
     "end_time": "2019-11-11T10:32:07.190608Z",
     "start_time": "2019-11-11T10:32:06.987803Z"
    }
   },
   "outputs": [
    {
     "name": "stdout",
     "output_type": "stream",
     "text": [
      "195736\n",
      "205\n",
      "195531\n"
     ]
    }
   ],
   "source": [
    "print(len(chicago_df_noNan))\n",
    "print(np.sum(duplicated))\n",
    "chicago_df_noNan = chicago_df_noNan.drop_duplicates()\n",
    "print(len(chicago_df_noNan)) "
   ]
  },
  {
   "cell_type": "markdown",
   "metadata": {},
   "source": [
    "## DBA name"
   ]
  },
  {
   "cell_type": "code",
   "execution_count": 12,
   "metadata": {
    "ExecuteTime": {
     "end_time": "2019-11-11T10:32:12.611229Z",
     "start_time": "2019-11-11T10:32:12.548921Z"
    }
   },
   "outputs": [
    {
     "data": {
      "text/plain": [
       "0"
      ]
     },
     "execution_count": 12,
     "metadata": {},
     "output_type": "execute_result"
    }
   ],
   "source": [
    "# Checking if there are any null entries\n",
    "sum(chicago_df_noNan['dba_name'].isnull())"
   ]
  },
  {
   "cell_type": "code",
   "execution_count": 13,
   "metadata": {
    "ExecuteTime": {
     "end_time": "2019-11-11T10:32:14.329568Z",
     "start_time": "2019-11-11T10:32:14.204852Z"
    }
   },
   "outputs": [
    {
     "name": "stdout",
     "output_type": "stream",
     "text": [
      "Number of unique restaurants in the dataset when the names are case sensitive: 27545\n",
      "Number of unique restaurants when the names are not case sensitive: 27259\n"
     ]
    }
   ],
   "source": [
    "# Standardising the name of the chain by lowering the cases\n",
    "print('Number of unique restaurants in the dataset when the names are case sensitive:', len(chicago_df_noNan['dba_name'].unique()))\n",
    "chicago_df_noNan['dba_name'] = chicago_df_noNan['dba_name'].str.lower()\n",
    "print('Number of unique restaurants when the names are not case sensitive:', len(chicago_df_noNan['dba_name'].unique()))"
   ]
  },
  {
   "cell_type": "markdown",
   "metadata": {
    "ExecuteTime": {
     "end_time": "2019-11-04T17:33:41.756617Z",
     "start_time": "2019-11-04T17:33:41.559145Z"
    }
   },
   "source": [
    "## AKA Name\n",
    "In this part, we cast all aka names into lower case, and replace the null entries by their DBA names"
   ]
  },
  {
   "cell_type": "code",
   "execution_count": 14,
   "metadata": {
    "ExecuteTime": {
     "end_time": "2019-11-11T10:32:17.388766Z",
     "start_time": "2019-11-11T10:32:17.342178Z"
    }
   },
   "outputs": [
    {
     "data": {
      "text/plain": [
       "array(['SUBWAY', 'GOPUFF', 'LA MICHOACANA ICE CREAM SHOP', ...,\n",
       "       'SAFAH FOOD & LIQUOR INC', 'MAKIA FOOD', 'RAINBOW GROCERY'],\n",
       "      dtype=object)"
      ]
     },
     "execution_count": 14,
     "metadata": {},
     "output_type": "execute_result"
    }
   ],
   "source": [
    "chicago_df_noNan['aka_name'].unique()"
   ]
  },
  {
   "cell_type": "code",
   "execution_count": 15,
   "metadata": {
    "ExecuteTime": {
     "end_time": "2019-11-11T10:32:18.216729Z",
     "start_time": "2019-11-11T10:32:18.201075Z"
    },
    "scrolled": true
   },
   "outputs": [
    {
     "name": "stdout",
     "output_type": "stream",
     "text": [
      "Number of entries without an AKA name: 2456\n"
     ]
    }
   ],
   "source": [
    "print('Number of entries without an AKA name:', len(chicago_df_noNan[chicago_df_noNan['aka_name'].isnull()]))"
   ]
  },
  {
   "cell_type": "code",
   "execution_count": 16,
   "metadata": {
    "ExecuteTime": {
     "end_time": "2019-11-11T10:32:19.790441Z",
     "start_time": "2019-11-11T10:32:19.649679Z"
    }
   },
   "outputs": [],
   "source": [
    "# Replacing null entries with their dba name\n",
    "temp0 = chicago_df_noNan[chicago_df_noNan['aka_name'].isnull()]\n",
    "temp0['aka_name'] = temp0['dba_name']\n",
    "temp1 = chicago_df_noNan[~chicago_df_noNan['aka_name'].isnull()]\n",
    "chicago_df_noNan = temp1.append(temp0)"
   ]
  },
  {
   "cell_type": "code",
   "execution_count": 17,
   "metadata": {
    "ExecuteTime": {
     "end_time": "2019-11-11T10:32:20.087076Z",
     "start_time": "2019-11-11T10:32:19.899819Z"
    }
   },
   "outputs": [
    {
     "name": "stdout",
     "output_type": "stream",
     "text": [
      "Number of unique names with case sensitivity: 27211\n",
      "Number of unique names without case sensitivity: 26734\n"
     ]
    }
   ],
   "source": [
    "print('Number of unique names with case sensitivity:', len(chicago_df_noNan['aka_name'].unique()))\n",
    "temp = chicago_df_noNan['aka_name'].str.lower()\n",
    "print('Number of unique names without case sensitivity:', len(temp.unique()))\n",
    "chicago_df_noNan['aka_name'] = chicago_df_noNan['aka_name'].str.lower()"
   ]
  },
  {
   "cell_type": "markdown",
   "metadata": {},
   "source": [
    "## License Number\n",
    "Some business don't have a license number. In this dataframe, we create a boolean column, indicating if the business has a license number or not"
   ]
  },
  {
   "cell_type": "code",
   "execution_count": 18,
   "metadata": {
    "ExecuteTime": {
     "end_time": "2019-11-11T10:32:24.101785Z",
     "start_time": "2019-11-11T10:32:23.992407Z"
    },
    "scrolled": true
   },
   "outputs": [
    {
     "name": "stdout",
     "output_type": "stream",
     "text": [
      "There are  17 entries without a license number\n"
     ]
    }
   ],
   "source": [
    "print('There are ', len(chicago_df_noNan[chicago_df_noNan['license'].isnull()]), 'entries without a license number')"
   ]
  },
  {
   "cell_type": "code",
   "execution_count": 19,
   "metadata": {
    "ExecuteTime": {
     "end_time": "2019-11-11T10:32:24.476698Z",
     "start_time": "2019-11-11T10:32:24.445425Z"
    }
   },
   "outputs": [],
   "source": [
    "chicago_df_noNan['has_license'] = ~chicago_df_noNan['license'].isnull()"
   ]
  },
  {
   "cell_type": "markdown",
   "metadata": {},
   "source": [
    "## Facility Type\n",
    "Some types of facilities only contain one establishment, either because it is a very niche category, or because it was entered in a way that the similar entries don't match because of spelling or specificity. In order to group those categories, we match the facility types grouping less than 40 estiablishments to the most similar category according to the Jaro Winkler distance. If none of the categories are a match (distance smaller than 0.70), we place them into misc (miscellaneous)."
   ]
  },
  {
   "cell_type": "code",
   "execution_count": 20,
   "metadata": {
    "ExecuteTime": {
     "end_time": "2019-11-11T10:48:37.380553Z",
     "start_time": "2019-11-11T10:48:37.286763Z"
    }
   },
   "outputs": [],
   "source": [
    "# Turn Nan values into a string to be able to operate on the column\n",
    "# Standardising the facility types to lower case categories\n",
    "chicago_df_noNan['facility_type']\n",
    "len(chicago_df_noNan['facility_type'].unique())\n",
    "chicago_df_noNan['facility_type'] = chicago_df_noNan['facility_type'].fillna('not available')\n",
    "chicago_df_noNan['facility_type'] = chicago_df_noNan['facility_type'].str.lower()"
   ]
  },
  {
   "cell_type": "code",
   "execution_count": 21,
   "metadata": {
    "ExecuteTime": {
     "end_time": "2019-11-11T10:48:40.520377Z",
     "start_time": "2019-11-11T10:48:40.504758Z"
    }
   },
   "outputs": [
    {
     "data": {
      "text/plain": [
       "195531"
      ]
     },
     "execution_count": 21,
     "metadata": {},
     "output_type": "execute_result"
    }
   ],
   "source": [
    "len(chicago_df_noNan)"
   ]
  },
  {
   "cell_type": "code",
   "execution_count": 22,
   "metadata": {
    "ExecuteTime": {
     "end_time": "2019-11-11T10:49:06.549857Z",
     "start_time": "2019-11-11T10:49:06.518823Z"
    }
   },
   "outputs": [
    {
     "name": "stdout",
     "output_type": "stream",
     "text": [
      "Number of facility types before standardising: 441\n"
     ]
    }
   ],
   "source": [
    "print('Number of facility types before standardising:', len(chicago_df_noNan['facility_type'].unique()))"
   ]
  },
  {
   "cell_type": "code",
   "execution_count": 23,
   "metadata": {
    "ExecuteTime": {
     "end_time": "2019-11-11T10:49:09.674124Z",
     "start_time": "2019-11-11T10:49:09.642933Z"
    }
   },
   "outputs": [
    {
     "data": {
      "text/plain": [
       "array(['restaurant', 'grocery store', \"children's services facility\",\n",
       "       'liquor', 'bakery', 'coffee shop', 'daycare (2 - 6 years)',\n",
       "       'pop-up food establishment user-tier ii', 'not available',\n",
       "       'school', 'daycare above and under 2 years', 'live poultry',\n",
       "       '15 monts to 5 years old', 'gas station/grocery',\n",
       "       'daycare (under 2 years)', 'long term care',\n",
       "       'mobile food preparer', 'ice cream', 'charter school',\n",
       "       'pop-up establishment host-tier ii', 'tavern', 'catering',\n",
       "       'paleteria', 'mobile food dispenser',\n",
       "       'childrens services facility', 'brewery', 'restaurant/bar', 'gym',\n",
       "       \"childern's service facility\", 'banquet', 'golden diner',\n",
       "       'grocery store /pharmacy', 'daycare combo 1586', 'hospital',\n",
       "       'assisted living', 'airport lounge',\n",
       "       \"1023 children's services facility\", 'private school',\n",
       "       'cooking school', 'mobile frozen desserts vendor', 'sushi counter',\n",
       "       'daycare night', 'banquet hall', 'after school program',\n",
       "       'gas station', 'dollar tree', 'grocery/restaurant',\n",
       "       'fitness center', 'event space', 'grocery & restaurant',\n",
       "       'commisary restaurant', 'dollar store with grocery',\n",
       "       'shared kitchen', 'grocery store/cooking school',\n",
       "       'not-for-profit club', 'wholesale', 'church (special events)',\n",
       "       'theatre', 'ice cream shop', 'store', 'herbal life',\n",
       "       'special event', 'wrigley rooftop', 'rooftop', 'senior day care',\n",
       "       'catered liquor', 'daycare', 'high school kitchen', 'smoothie bar',\n",
       "       'roof tops', 'other', 'shared kitchen user (long term)',\n",
       "       'rooftops', 'roof top', 'pop-up food establishment user-tier iii',\n",
       "       'distribution center', \"1023-children's services facility\",\n",
       "       'mobile prepared food vendor', 'shelter', 'bar', \"o'hare kiosk\",\n",
       "       'stadium', 'culinary school', 'grocery/tavern', 'church kitchen',\n",
       "       'deli/bakery', \"1023 childern's services facility\", 'grocery/deli',\n",
       "       'commissary', 'tavern/store', 'supportive living',\n",
       "       'french market space', 'shared kitchen user (short term)',\n",
       "       'grocery/service gas station', 'restaurant/gas station',\n",
       "       'liquor/coffee kiosk', 'frozen dessert pushcarts', 'church',\n",
       "       'tea brewing', 'health/ juice bar', 'banquet hall/catering',\n",
       "       'food booth', 'poultry slaughter', 'dining hall',\n",
       "       'theater & restaurant', 'gym store', 'church/special events',\n",
       "       'slaughter house/ grocery', 'adult daycare', 'grocery/bakery',\n",
       "       'gas station/convenience store', 'custom poultry slaughter',\n",
       "       'culinary class rooms', 'helicopter terminal', 'candy shop',\n",
       "       'health care store', 'mobile food',\n",
       "       \"1023 childern's service facility\", 'herbalife',\n",
       "       'grocery/taqueria', 'day care 2-14', 'daycare (2 years)',\n",
       "       'mobile desserts vendor', 'nursing home', '1475 liquor',\n",
       "       'food pantry', 'vending commissary', 'charter school cafeteria',\n",
       "       'assisted living facility', 'restaurant/grocery store',\n",
       "       'public shcool', 'event venu', 'regulated business', 'cafeteria',\n",
       "       'tavern grill', 'prep inside school', 'convenience store',\n",
       "       'grocery(gas station)', 'banquet room', 'dollar store', 'brewpub',\n",
       "       'supportive living facility', 'candy/gelato', 'tobacco store',\n",
       "       'juice bar', 'packaged health foods', 'grocery(sushi prep)',\n",
       "       'school cafeteria', 'cafe/store', 'banquet facility',\n",
       "       'animal shelter cafe permit', 'rehab center',\n",
       "       'grocery/gas station', 'lounge', 'fitness studio',\n",
       "       'beverage/silverware warehouse', 'grocery store/gas station',\n",
       "       'vending machine', 'kiosk', 'convenient store', 'herbal medicine',\n",
       "       'gas station/store', 'assisted living senior care', 'drug store',\n",
       "       'retail store offers cooking classes', 'banquets',\n",
       "       'banquet dining', 'grocery store/bakery', 'riverwalk', 'college',\n",
       "       'youth housing', 'banquet/kitchen', 'theater',\n",
       "       'a-not-for-profit chef training program',\n",
       "       'restaurant.banquet halls', 'grocery/dollar store',\n",
       "       'internet cafe', 'charity aid kitchen', 'hotel', 'shakes/teas',\n",
       "       'clothing store', 'navy pier kiosk', 'shuffleboard club with bar',\n",
       "       'coffee kiosk', 'warehouse', 'push carts', 'butcher shop',\n",
       "       'movie theater', 'retail', 'university cafeteria', 'laundromat',\n",
       "       'pastry school', 'chinese herbs', 'daycare 2 yrs to 12 yrs',\n",
       "       'herbalife store', 'cold/frozen food storage',\n",
       "       'grocery& restaurant', 'gas station/mini mart',\n",
       "       'juice and salad bar', 'before and after school program',\n",
       "       'herbal life shop', 'coffee cart', 'furniture store',\n",
       "       'candy store', 'meat packing', 'lounge/banquet hall',\n",
       "       'fish market', 'gas station/food', 'grocery', 'rest/gym',\n",
       "       'banquet rooms', 'teaching school', 'popcorn corn', 'hostel',\n",
       "       'movie theatre', 'herbal drinks', 'coffee  shop',\n",
       "       'herbalife nutrition', 'donut shop', 'liqour brewery tasting',\n",
       "       'gift shop', 'summer feeding prep area', 'convenience/drug store',\n",
       "       'rest/grocery', 'northerly island', 'herabalife',\n",
       "       'grocery and butcher', 'deli/grocery store', 'wholesale & retail',\n",
       "       'grocery/drug store', 'mfd truck', 'wrigley roof top',\n",
       "       'daycare combo', 'herbalife/zumba',\n",
       "       'restaurant(protein shake bar)', 'pre packaged',\n",
       "       'weight loss program', 'employee kitchen', 'hot dog station',\n",
       "       'kitchen demo', 'restaurant/bar/theater', 'truck', 'coffee/tea',\n",
       "       'herbalcal', \"childern's services  facility\", 'health center',\n",
       "       'mobilprepared food vendor', 'daycare 6 wks-5yrs', 'convenience',\n",
       "       'retail wine/wine bar', 'golf course conncession stand',\n",
       "       'dollar & grocery store', 'social club', 'mobile food truck',\n",
       "       'gas', 'gas station/restaurant', 'snack shop',\n",
       "       'prepacakaged foods', 'smokehouse', '1023',\n",
       "       'tap room/tavern/liquor store', 'culinary arts school',\n",
       "       'long-term care', 'art gallery', 'mobile frozen dessert vendor',\n",
       "       'museum/gallery', 'spa', 'night club', 'coffee roaster',\n",
       "       'distributor', 'gelato shop', 'bakery/deli',\n",
       "       'gas station/store grocery', 'gas station store', 'liquor store',\n",
       "       'herbal', 'grocery/cafe', 'tea store', 'drug/food store',\n",
       "       'service bar/theatre', 'retail food/gas station',\n",
       "       'restaurant/hospital', 'grocery store / gas station', 'urban farm',\n",
       "       'massage bar', 'cell phone store', 'herbal remedy',\n",
       "       'nutrition/herbalife', 'convenience/gas station',\n",
       "       'grocery/ restaurant', 'grocery store/ restaurant',\n",
       "       'adult family care center', 'pushcart', 'city of chicago college',\n",
       "       'long term care facility', 'temporary kiosk',\n",
       "       \"1023 childern's service s facility\", 'bowling lanes/banquets',\n",
       "       'rest/rooftop', 'unused storage', 'mobile food desserts vendor',\n",
       "       'golf course', 'drug/grocery store', 'grocery/liquor store',\n",
       "       'gas station/ grocery store', 'vfw hall', 'packaged liquor',\n",
       "       'wine store', 'packaged food distribution', 'restaurant/bakery',\n",
       "       'bakery/grocery', 'art gallery w/wine and beer', 'video store',\n",
       "       'health center/nutrition classes', 'bar/grill', 'hot dog cart',\n",
       "       '1584-day care above 2 years', 'day care', 'catering/cafe', 'deli',\n",
       "       '1005 nursing home', 'music venue', 'newsstand',\n",
       "       'protein shake bar', 'drug store/grocery', 'wine tasting bar',\n",
       "       'popcorn shop', 'day spa', 'riverwalk cafe', 'pantry',\n",
       "       'main kitchen', 'coffee',\n",
       "       'mobile frozen dessert disp/non-motorized', 'restaurant/grocery',\n",
       "       'catered events', 'childern activity facility', 'non -profit',\n",
       "       'catering and wholesale', 'pharmacy', 'repackaging plant',\n",
       "       'gas station /grocery', 'theater/bar', 'book store',\n",
       "       'charter school/cafeteria', 'grocery store/taqueria',\n",
       "       'restuarant and bar', 'illegal vendor',\n",
       "       'gas station /subway mini mart.', 'car wash', 'cafe',\n",
       "       'convnience store', 'tavern/restaurant', 'tent rstaurant',\n",
       "       'tavern-liquor', 'food vending machines', 'chicago park district',\n",
       "       'tavern/1006', 'room service', 'service gas station',\n",
       "       'herbal store', 'boys and girls club', 'tavern/bar',\n",
       "       'long-term care facility', 'liquore store/bar',\n",
       "       'mobile frozen desserts dispenser-non-motorized',\n",
       "       'frozen desserts dispenser-non-motorized', 'pool',\n",
       "       'blockbuster video', 'banquets/room service', 'summer feeding',\n",
       "       'mobile frozen desserts dispenser-non- motorized',\n",
       "       'mobile frozen dessert dispenser_non  motorized.',\n",
       "       'mobile frozen desserts dispenser-non-motor',\n",
       "       'frozen desserts dispenser -non motorized', 'church/day care',\n",
       "       'grocery/butcher', 'nail shop', 'daycare 2-6, under 6',\n",
       "       'dollar store selling grocery', 'non-for profit basement kit',\n",
       "       'bakery/ restaurant', 'mexican candy store', 'not for profit',\n",
       "       'live butcher', 'meat market', 'drug treatment facility',\n",
       "       'shared kitchen user (long trem)', 'restaurant/liquor', 'np-kiosk',\n",
       "       'day care combo (1586)', 'liquor consumption on premises.',\n",
       "       'mobil food 1315', 'watermelon house', 'assissted living',\n",
       "       'nutrition store', 'daycare 1586', 'food pantry/church',\n",
       "       'paleteria /icecream shop', 'bakery/restaurant',\n",
       "       'unlicensed facility', '(convenience store)', 'peddler',\n",
       "       'hooka bar', 'kids cafe',\n",
       "       'prepackage meal distributor (1006 retail)',\n",
       "       'gift/card shop with candy', '(gas station)',\n",
       "       'coffee vending machine', 'drug store/w/ food', 'commiasary',\n",
       "       'grocery/liquor', 'ice cream parlor', 'produce stand',\n",
       "       \"farmer's market\", 'produce vendor', 'pharmacy/grocery',\n",
       "       'soup kitchen', 'hooka lounge', 'candy maker', 'tavern/liquor',\n",
       "       'incubator', 'wholesale bakery', \"kids cafe'\",\n",
       "       'exercise and nutrition bar', 'church/special event',\n",
       "       'restaurant and liquor',\n",
       "       'commissary for soft serve ice cream trucks', 'day care 1023',\n",
       "       'retail store', 'mobile dessert vendor', 'mobile dessert cart',\n",
       "       'cat/liquor', 'alternative school', 'grocery store/deli',\n",
       "       'church/after school program', 'after school care',\n",
       "       'general store', 'rooftop patio', 'linited business', 'religious',\n",
       "       'candy'], dtype=object)"
      ]
     },
     "execution_count": 23,
     "metadata": {},
     "output_type": "execute_result"
    }
   ],
   "source": [
    "(chicago_df_noNan['facility_type'].unique())"
   ]
  },
  {
   "cell_type": "code",
   "execution_count": 24,
   "metadata": {
    "ExecuteTime": {
     "end_time": "2019-11-11T10:50:21.564260Z",
     "start_time": "2019-11-11T10:50:20.923593Z"
    }
   },
   "outputs": [],
   "source": [
    "facility_count = chicago_df_noNan['facility_type'].value_counts()\n",
    "\n",
    "i = 0\n",
    "\n",
    "facility_types = []\n",
    "small_types = {}\n",
    "\n",
    "# Retrieving the main categories, and identifying the smallest ones\n",
    "for facility in facility_count.index:\n",
    "    if facility_count[facility] > 40:\n",
    "        facility_types.append(facility)\n",
    "    elif facility_count[facility] <= 40:\n",
    "        small_types[facility] = ''\n",
    "\n",
    "# Matching the small categories to the principal ones\n",
    "for small in small_types:\n",
    "    distances = []\n",
    "    for facility in facility_types:\n",
    "        dist = distance.get_jaro_distance(small, facility)\n",
    "        distances.append(dist)\n",
    "    index = np.argmax(distances)\n",
    "    if distances[index] > 0.70:\n",
    "        small_types[small] = facility_types[index]\n",
    "    else:\n",
    "        small_types[small] = 'misc'\n"
   ]
  },
  {
   "cell_type": "code",
   "execution_count": 25,
   "metadata": {
    "ExecuteTime": {
     "end_time": "2019-11-11T10:50:54.433364Z",
     "start_time": "2019-11-11T10:50:54.417737Z"
    }
   },
   "outputs": [
    {
     "name": "stdout",
     "output_type": "stream",
     "text": [
      "Minority categories and their match in the main category pool:\n",
      "{'store': 'misc', 'restaurant/bar': 'restaurant', 'church': 'misc', 'rooftop': 'misc', 'ice cream shop': 'coffee shop', \"1023 childern's services facility\": \"children's services facility\", 'church kitchen': 'shared kitchen', 'commissary': 'misc', 'cooking school': 'charter school', \"1023-children's services facility\": \"children's services facility\", 'culinary school': 'charter school', 'bar': 'bakery', 'grocery & restaurant': 'grocery/restaurant', 'pop-up establishment host-tier ii': 'misc', 'assisted living': 'misc', 'restaurant/grocery store': 'restaurant', 'roof tops': 'misc', 'theater': 'shelter', 'mobile desserts vendor': 'mobile frozen desserts vendor', 'restaurant/gas station': 'restaurant', 'nursing home': 'misc', 'paleteria': 'cafeteria', 'supportive living': 'misc', 'grocery store/gas station': 'grocery store', 'gas station/mini mart': 'gas station', 'roof top': 'misc', 'wrigley roof top': 'misc', 'after school program': 'private school', 'fitness center': 'misc', 'mobile food truck': 'mobile food dispenser', 'grocery(sushi prep)': 'grocery store', 'hotel': 'shelter', 'rooftops': 'misc', 'brewery': 'misc', 'long term care facility': 'long term care', 'theatre': 'shelter', 'wrigley rooftop': 'misc', 'university cafeteria': 'misc', 'grocery store/bakery': 'grocery store', '1023': 'misc', 'movie theatre': 'mobile prepared food vendor', 'gas station/restaurant': 'gas station', 'airport lounge': 'misc', 'health/ juice bar': 'misc', 'juice bar': 'misc', 'public shcool': 'private school', 'slaughter house/ grocery': 'misc', 'banquet facility': 'banquet hall', 'daycare night': 'daycare', 'wine store': 'misc', 'assisted living senior care': 'misc', 'employee kitchen': 'misc', 'candy/gelato': 'misc', 'riverwalk': 'misc', 'grocery store/taqueria': 'grocery store', 'church/special events': 'misc', 'grocery and butcher': 'grocery store', 'gas station/store': 'gas station', 'college': 'convenience', \"o'hare kiosk\": 'navy pier kiosk', 'commissary for soft serve ice cream trucks': 'misc', 'mobile frozen desserts dispenser-non-motorized': 'mobile frozen desserts vendor', 'banquet rooms': 'banquet', 'grocery& restaurant': 'grocery/restaurant', 'banquet dining': 'banquet', 'pastry school': 'private school', 'custom poultry slaughter': 'misc', 'movie theater': 'misc', 'restaurant/hospital': 'restaurant', 'bakery/deli': 'bakery', 'brewpub': 'misc', 'rehab center': 'restaurant', 'grocery store/cooking school': 'grocery store', 'grocery/bakery': 'grocery/restaurant', \"1023 childern's service facility\": \"children's services facility\", 'other': 'misc', 'warehouse': 'wholesale', 'grocery': 'grocery store', 'dollar store': 'misc', 'grocery/gas station': 'grocery/restaurant', 'ice cream': 'misc', 'childrens services facility': \"children's services facility\", 'rest/grocery': 'grocery store', 'city of chicago college': 'misc', 'senior day care': 'misc', 'poultry slaughter': 'misc', 'herbalife': 'misc', 'mobile food': 'mobile food preparer', 'coffee cart': 'coffee shop', 'grocery store/ restaurant': 'grocery store', 'pantry': 'misc', 'restaurant.banquet halls': 'restaurant', 'convenience/drug store': 'convenience store', 'lounge/banquet hall': 'misc', 'restuarant and bar': 'restaurant', 'donut shop': 'coffee shop', 'restaurant(protein shake bar)': 'restaurant', 'meat packing': 'misc', \"1023 childern's service s facility\": \"children's services facility\", 'grocery/butcher': 'grocery store', 'banquet/kitchen': 'banquet', 'charity aid kitchen': 'charter school', 'culinary arts school': 'charter school', 'banquet room': 'banquet', 'banquet hall/catering': 'banquet hall', 'supportive living facility': 'misc', 'rest/rooftop': 'restaurant', 'banquets': 'banquet', 'event space': 'misc', 'a-not-for-profit chef training program': 'misc', 'butcher shop': 'charter school', 'grocery/service gas station': 'grocery/restaurant', 'regulated business': 'misc', 'before and after school program': 'misc', 'school cafeteria': 'school', 'cafe/store': 'cafeteria', 'tavern grill': 'tavern', 'restaurant/bakery': 'restaurant', 'grocery store / gas station': 'grocery store', \"childern's service facility\": \"children's services facility\", 'tea brewing': 'catering', 'candy store': 'misc', 'fish market': 'misc', 'drug/food store': 'misc', 'day care 2-14': 'daycare', 'mobile frozen dessert vendor': 'mobile frozen desserts vendor', 'retail store offers cooking classes': 'misc', 'rest/gym': 'restaurant', 'night club': 'misc', 'hot dog station': 'misc', 'dining hall': 'misc', 'liquor store': 'liquor', 'church (special events)': \"children's services facility\", 'pool': 'school', 'daycare 2 yrs to 12 yrs': 'daycare (2 years)', 'grocery/dollar store': 'grocery/restaurant', 'truck': 'misc', 'not-for-profit club': 'misc', 'grocery/cafe': 'grocery store', 'herbal life shop': 'misc', 'coffee kiosk': 'coffee shop', 'charter school cafeteria': 'charter school', 'pharmacy/grocery': 'misc', 'daycare 2-6, under 6': 'daycare (2 - 6 years)', 'grocery/taqueria': 'grocery/restaurant', 'wine tasting bar': 'misc', '15 monts to 5 years old': 'misc', 'northerly island': 'misc', 'daycare combo': 'daycare combo 1586', 'catering/cafe': 'catering', \"1023 children's services facility\": \"children's services facility\", 'room service': 'misc', 'theater & restaurant': 'misc', 'health care store': 'misc', 'herbal medicine': 'misc', 'riverwalk cafe': 'misc', 'bar/grill': 'misc', 'coffee  shop': 'coffee shop', \"childern's services  facility\": \"children's services facility\", 'social club': 'misc', 'juice and salad bar': 'misc', 'gas station/store grocery': 'gas station', 'grocery/drug store': 'grocery store', 'smokehouse': 'misc', 'distribution center': 'misc', 'deli': 'misc', 'frozen dessert pushcarts': 'misc', 'gas station /grocery': 'gas station', 'grocery store/deli': 'grocery store', 'packaged liquor': 'misc', 'golf course conncession stand': 'misc', 'teaching school': 'charter school', 'french market space': 'misc', 'snack shop': 'coffee shop', 'newsstand': 'misc', 'bowling lanes/banquets': 'misc', 'video store': 'misc', 'retail food/gas station': 'misc', 'hostel': 'hospital', 'coffee vending machine': 'coffee shop', 'animal shelter cafe permit': 'misc', 'restaurant/grocery': 'restaurant', 'food pantry': 'misc', 'drug store': 'misc', 'long-term care': 'long term care', 'beverage/silverware warehouse': 'misc', 'convenient store': 'convenience store', 'retail store': 'restaurant', 'drug/grocery store': 'grocery store', 'theater/bar': 'shelter', 'candy shop': 'coffee shop', 'vending commissary': 'misc', 'long-term care facility': 'long term care', 'day care 1023': 'daycare', 'mexican candy store': 'misc', 'exercise and nutrition bar': 'misc', 'drug store/grocery': 'misc', 'weight loss program': 'misc', 'pharmacy': 'misc', 'cold/frozen food storage': 'misc', 'laundromat': 'misc', 'grocery/tavern': 'grocery/restaurant', 'push carts': 'misc', 'herbal life': 'misc', 'commisary restaurant': 'grocery/restaurant', 'herbal remedy': 'misc', 'health center': 'misc', 'unlicensed facility': 'misc', 'shuffleboard club with bar': 'misc', 'prep inside school': 'private school', 'gas station/grocery': 'gas station', 'herabalife': 'misc', '1005 nursing home': 'misc', 'fitness studio': 'misc', 'live butcher': 'live poultry', 'mfd truck': 'misc', 'bakery/grocery': 'bakery', 'coffee/tea': 'coffee shop', 'non -profit': 'misc', 'adult family care center': 'misc', 'daycare 6 wks-5yrs': 'daycare', 'church/special event': 'misc', 'tent rstaurant': 'restaurant', 'tavern/restaurant': 'tavern', 'illegal vendor': 'misc', 'smoothie bar': 'misc', 'music venue': 'misc', 'liquor/coffee kiosk': 'liquor', 'gelato shop': 'coffee shop', 'retail': 'restaurant', 'dollar & grocery store': 'misc', 'pop-up food establishment user-tier ii': 'misc', 'packaged food distribution': 'misc', 'chinese herbs': \"children's services facility\", 'candy': 'misc', 'high school kitchen': 'misc', 'watermelon house': 'misc', 'hooka lounge': 'misc', 'sushi counter': 'misc', 'tavern/store': 'tavern', 'herbalcal': 'misc', 'lounge': 'long term care', 'mobilprepared food vendor': 'mobile prepared food vendor', 'cell phone store': 'misc', 'coffee': 'coffee shop', 'adult daycare': 'misc', 'gym store': 'misc', 'day care': 'daycare', 'catered events': 'catering', 'banquets/room service': 'banquet', 'church/day care': 'misc', 'gas station/food': 'gas station', 'temporary kiosk': 'misc', 'ice cream parlor': 'misc', 'paleteria /icecream shop': 'misc', 'mobile frozen dessert dispenser_non  motorized.': 'mobile frozen desserts vendor', 'pre packaged': 'misc', 'herbalife/zumba': 'misc', 'gas': 'gas station', 'golf course': 'golden diner', 'dollar tree': 'misc', 'candy maker': 'daycare', 'restaurant/liquor': 'restaurant', 'liquor consumption on premises.': 'liquor', 'assissted living': 'misc', 'restaurant/bar/theater': 'restaurant', 'herbal drinks': 'misc', '(gas station)': 'gas station', 'pushcart': 'misc', 'helicopter terminal': 'shelter', 'summer feeding': 'misc', 'produce stand': 'misc', 'urban farm': 'misc', 'tea store': 'misc', 'gas station /subway mini mart.': 'gas station', 'liqour brewery tasting': 'liquor', 'vfw hall': 'misc', 'blockbuster video': 'misc', 'catering and wholesale': 'catering', 'cafe': 'cafeteria', 'mobile frozen dessert disp/non-motorized': 'mobile frozen desserts vendor', 'gas station store': 'gas station', 'packaged health foods': 'misc', 'retail wine/wine bar': 'misc', 'nutrition/herbalife': 'misc', 'deli/grocery store': 'grocery store', 'main kitchen': 'shared kitchen', 'art gallery w/wine and beer': 'misc', 'tavern/bar': 'tavern', '1475 liquor': 'misc', 'food pantry/church': 'misc', 'liquore store/bar': 'liquor', 'bakery/ restaurant': 'bakery', 'childern activity facility': \"children's services facility\", 'bakery/restaurant': 'bakery', 'summer feeding prep area': 'misc', 'hot dog cart': 'misc', 'linited business': 'misc', 'kitchen demo': 'misc', 'clothing store': 'misc', 'massage bar': 'misc', 'tobacco store': 'misc', 'unused storage': 'misc', 'popcorn corn': 'misc', 'not for profit': 'not available', 'culinary class rooms': 'misc', 'vending machine': 'misc', 'grocery/deli': 'grocery store', 'gas station/ grocery store': 'gas station', 'charter school/cafeteria': 'charter school', 'event venu': 'misc', 'gas station/convenience store': 'gas station', 'youth housing': 'misc', 'pop-up food establishment user-tier iii': 'misc', 'grocery/ restaurant': 'grocery/restaurant', 'distributor': 'misc', 'grocery store /pharmacy': 'grocery store', 'daycare 1586': 'daycare combo 1586', 'soup kitchen': 'shared kitchen', 'gym': 'misc', '1584-day care above 2 years': 'daycare above and under 2 years', 'grocery(gas station)': 'grocery/restaurant', 'popcorn shop': 'misc', 'food booth': 'misc', 'general store': 'grocery store', 'nutrition store': 'misc', 'museum/gallery': 'misc', 'boys and girls club': 'misc', 'convnience store': 'convenience store', 'convenience/gas station': 'convenience', 'prepacakaged foods': 'misc', 'religious': 'misc', 'tap room/tavern/liquor store': 'misc', 'mobile frozen desserts dispenser-non-motor': 'mobile frozen desserts vendor', 'incubator': 'misc', 'mobile frozen desserts dispenser-non- motorized': 'mobile frozen desserts vendor', 'herbalife nutrition': 'misc', 'gift shop': 'coffee shop', 'prepackage meal distributor (1006 retail)': 'misc', 'gift/card shop with candy': 'misc', 'after school care': 'private school', 'non-for profit basement kit': 'misc', 'tavern/liquor': 'tavern', 'mobile dessert vendor': 'mobile frozen desserts vendor', 'herbalife store': 'misc', 'day care combo (1586)': 'daycare combo 1586', 'wholesale bakery': 'wholesale', 'service bar/theatre': 'misc', 'herbal store': 'misc', 'catered liquor': 'catering', 'drug store/w/ food': 'misc', 'rooftop patio': 'misc', 'mobile dessert cart': 'mobile food dispenser', 'frozen desserts dispenser-non-motorized': 'misc', 'chicago park district': \"children's services facility\", 'church/after school program': 'charter school', 'repackaging plant': 'misc', 'meat market': 'misc', 'kids cafe': 'kiosk', 'shakes/teas': 'shelter', 'frozen desserts dispenser -non motorized': 'misc', 'service gas station': 'misc', 'tavern/1006': 'tavern', 'art gallery': 'misc', 'internet cafe': 'misc', 'produce vendor': 'private school', 'furniture store': 'misc', 'day spa': 'daycare', 'dollar store with grocery': 'misc', 'food vending machines': 'misc', 'protein shake bar': 'misc', 'shared kitchen user (long trem)': 'shared kitchen user (long term)', 'dollar store selling grocery': 'misc', 'assisted living facility': \"children's services facility\", 'mobil food 1315': 'mobile food preparer', 'coffee roaster': 'coffee shop', 'restaurant and liquor': 'restaurant', '(convenience store)': 'convenience store', \"kids cafe'\": 'kiosk', 'drug treatment facility': 'misc', 'peddler': 'shelter', 'mobile food desserts vendor': 'mobile prepared food vendor', 'book store': 'misc', 'grocery/liquor store': 'grocery/restaurant', 'health center/nutrition classes': 'misc', 'hooka bar': 'misc', 'cat/liquor': 'catering', 'deli/bakery': 'misc', \"farmer's market\": 'misc', 'grocery/liquor': 'grocery store', 'nail shop': 'misc', 'commiasary': 'misc', 'np-kiosk': 'misc', 'herbal': 'misc', 'tavern-liquor': 'tavern', 'car wash': 'charter school', 'alternative school': 'private school', 'spa': 'misc', 'wholesale & retail': 'wholesale'}\n"
     ]
    }
   ],
   "source": [
    "print('Minority categories and their match in the main category pool:')\n",
    "print(small_types)"
   ]
  },
  {
   "cell_type": "code",
   "execution_count": 26,
   "metadata": {
    "ExecuteTime": {
     "end_time": "2019-11-11T10:51:18.445220Z",
     "start_time": "2019-11-11T10:51:18.366959Z"
    }
   },
   "outputs": [],
   "source": [
    "# Replacing the minority categories by majority ones in the dataframe\n",
    "\n",
    "chicago_df_noNan['new_facility_type'] = chicago_df_noNan['facility_type']\n",
    "\n",
    "\n",
    "def get_new_facility(x):\n",
    "    if x not in small_types:\n",
    "        return x\n",
    "    else:\n",
    "        return small_types[x]\n",
    "    \n",
    "chicago_df_noNan['new_facility_type'] = chicago_df_noNan['new_facility_type'].apply(get_new_facility)"
   ]
  },
  {
   "cell_type": "code",
   "execution_count": 27,
   "metadata": {
    "ExecuteTime": {
     "end_time": "2019-11-11T10:53:18.834580Z",
     "start_time": "2019-11-11T10:53:18.803596Z"
    }
   },
   "outputs": [
    {
     "name": "stdout",
     "output_type": "stream",
     "text": [
      "Number of facilities in the dataset after matching minority types to majority types: 43\n"
     ]
    }
   ],
   "source": [
    "print('Number of facilities in the dataset after matching minority types to majority types:', len(chicago_df_noNan['new_facility_type'].unique()))"
   ]
  },
  {
   "cell_type": "markdown",
   "metadata": {},
   "source": [
    "## Risk\n",
    "Filled nan values by Risk -1 and change risk 'All' to risk 4 (All), so that we can extract the data numerically if we want later\n"
   ]
  },
  {
   "cell_type": "code",
   "execution_count": 28,
   "metadata": {
    "ExecuteTime": {
     "end_time": "2019-11-11T10:53:56.182093Z",
     "start_time": "2019-11-11T10:53:55.994665Z"
    }
   },
   "outputs": [],
   "source": [
    "chicago_df_noNan['risk'].unique()\n",
    "chicago_df_noNan['risk'] = chicago_df_noNan['risk'].fillna('Risk -1 (None)')\n",
    "chicago_df_noNan['risk'] = chicago_df_noNan['risk'].str.replace('All', 'Risk 4 (All)')"
   ]
  },
  {
   "cell_type": "code",
   "execution_count": 29,
   "metadata": {
    "ExecuteTime": {
     "end_time": "2019-11-11T10:53:56.213366Z",
     "start_time": "2019-11-11T10:53:56.182093Z"
    }
   },
   "outputs": [
    {
     "data": {
      "text/plain": [
       "array(['Risk 1 (High)', 'Risk 3 (Low)', 'Risk 2 (Medium)', 'Risk 4 (All)',\n",
       "       'Risk -1 (None)'], dtype=object)"
      ]
     },
     "execution_count": 29,
     "metadata": {},
     "output_type": "execute_result"
    }
   ],
   "source": [
    "chicago_df_noNan['risk'].unique()"
   ]
  },
  {
   "cell_type": "markdown",
   "metadata": {},
   "source": [
    "## Address"
   ]
  },
  {
   "cell_type": "code",
   "execution_count": 30,
   "metadata": {
    "ExecuteTime": {
     "end_time": "2019-11-11T10:53:59.337602Z",
     "start_time": "2019-11-11T10:53:59.306399Z"
    },
    "scrolled": true
   },
   "outputs": [
    {
     "data": {
      "text/plain": [
       "array(['CHICAGO', nan, 'chicago', 'Chicago', 'GRIFFITH', 'NEW YORK',\n",
       "       'SCHAUMBURG', 'ELMHURST', 'ALGONQUIN', 'NEW HOLSTEIN', 'CCHICAGO',\n",
       "       'NILES NILES', 'EVANSTON', 'CHICAGO.', 'CHESTNUT STREET',\n",
       "       'LANSING', 'CHICAGOCHICAGO', 'WADSWORTH', 'WILMETTE', 'WHEATON',\n",
       "       'CHICAGOHICAGO', 'ROSEMONT', 'CHicago', 'CALUMET CITY',\n",
       "       'PLAINFIELD', 'HIGHLAND PARK', 'PALOS PARK', 'ELK GROVE VILLAGE',\n",
       "       'CICERO', 'BRIDGEVIEW', 'OAK PARK', 'MAYWOOD', 'LAKE BLUFF',\n",
       "       '312CHICAGO', 'SCHILLER PARK', 'SKOKIE', 'BEDFORD PARK',\n",
       "       'BANNOCKBURNDEERFIELD', 'CHCICAGO', 'BLOOMINGDALE', 'Norridge',\n",
       "       'CHARLES A HAYES', 'CHCHICAGO', 'CHICAGOI', 'SUMMIT',\n",
       "       'OOLYMPIA FIELDS', 'WESTMONT', 'CHICAGO HEIGHTS', 'JUSTICE',\n",
       "       'TINLEY PARK', 'LOMBARD', 'EAST HAZEL CREST', 'COUNTRY CLUB HILLS',\n",
       "       'STREAMWOOD', 'BOLINGBROOK', 'INACTIVE', 'BERWYN', 'BURNHAM',\n",
       "       'DES PLAINES', 'LAKE ZURICH', 'OLYMPIA FIELDS', 'OAK LAWN',\n",
       "       'BLUE ISLAND', 'GLENCOE', 'FRANKFORT', 'NAPERVILLE', 'BROADVIEW',\n",
       "       'WORTH', 'Maywood', 'ALSIP', 'alsip', 'EVERGREEN PARK'],\n",
       "      dtype=object)"
      ]
     },
     "execution_count": 30,
     "metadata": {},
     "output_type": "execute_result"
    }
   ],
   "source": [
    "chicago_df_noNan['city'].unique()"
   ]
  },
  {
   "cell_type": "code",
   "execution_count": 31,
   "metadata": {
    "ExecuteTime": {
     "end_time": "2019-11-11T10:53:59.978073Z",
     "start_time": "2019-11-11T10:53:59.946873Z"
    }
   },
   "outputs": [],
   "source": [
    "def split_address(address):\n",
    "    liste = address.split(' ')\n",
    "    nr = liste[0]\n",
    "    cardinal = liste[1]\n",
    "    reste = ' '.join(liste[2:])\n",
    "    liste = nr + ('*') + cardinal + '*' + reste\n",
    "    return liste"
   ]
  },
  {
   "cell_type": "code",
   "execution_count": 32,
   "metadata": {
    "ExecuteTime": {
     "end_time": "2019-11-11T10:54:02.055709Z",
     "start_time": "2019-11-11T10:54:01.243401Z"
    }
   },
   "outputs": [],
   "source": [
    "temp = chicago_df_noNan['address'].apply(split_address)\n",
    "temp = temp.str.split('*', expand=True)\n"
   ]
  },
  {
   "cell_type": "markdown",
   "metadata": {},
   "source": [
    "## City"
   ]
  },
  {
   "cell_type": "code",
   "execution_count": 33,
   "metadata": {
    "ExecuteTime": {
     "end_time": "2019-11-11T10:54:03.820944Z",
     "start_time": "2019-11-11T10:54:03.727215Z"
    }
   },
   "outputs": [
    {
     "name": "stdout",
     "output_type": "stream",
     "text": [
      "72\n",
      "67\n"
     ]
    }
   ],
   "source": [
    "print(len(chicago_df_noNan['city'].unique()))\n",
    "chicago_df_noNan['city'] = chicago_df_noNan['city'].str.lower()\n",
    "print(len(chicago_df_noNan['city'].unique()))"
   ]
  },
  {
   "cell_type": "code",
   "execution_count": 34,
   "metadata": {
    "ExecuteTime": {
     "end_time": "2019-11-11T10:54:03.977131Z",
     "start_time": "2019-11-11T10:54:03.820944Z"
    }
   },
   "outputs": [],
   "source": [
    "chicago_df_noNan['city'].unique()\n",
    "chicago_df_noNan['city'] = chicago_df_noNan['city'].replace('cchicago', 'chicago').replace('chicago.', 'chicago')\n",
    "chicago_df_noNan['city'] = chicago_df_noNan['city'].replace('chicagochicago', 'chicago')\n",
    "chicago_df_noNan['city'] = chicago_df_noNan['city'].replace('chicagohicago', 'chicago')\n",
    "chicago_df_noNan['city'] = chicago_df_noNan['city'].replace('312chicago', 'chicago').replace('chicagoi', 'chicago')\n",
    "chicago_df_noNan['city'] = chicago_df_noNan['city'].replace('chchicago', 'chicago')\n",
    "chicago_df_noNan['city'] = chicago_df_noNan['city'].replace('chcicago', 'chicago')\n",
    "chicago_df_noNan['city'] = chicago_df_noNan['city'].fillna('chicago')"
   ]
  },
  {
   "cell_type": "code",
   "execution_count": 35,
   "metadata": {
    "ExecuteTime": {
     "end_time": "2019-11-11T10:54:04.008377Z",
     "start_time": "2019-11-11T10:54:03.977131Z"
    },
    "scrolled": true
   },
   "outputs": [
    {
     "data": {
      "text/plain": [
       "array(['algonquin', 'alsip', 'bannockburndeerfield', 'bedford park',\n",
       "       'berwyn', 'bloomingdale', 'blue island', 'bolingbrook',\n",
       "       'bridgeview', 'broadview', 'burnham', 'calumet city',\n",
       "       'charles a hayes', 'chestnut street', 'chicago', 'chicago heights',\n",
       "       'cicero', 'country club hills', 'des plaines', 'east hazel crest',\n",
       "       'elk grove village', 'elmhurst', 'evanston', 'evergreen park',\n",
       "       'frankfort', 'glencoe', 'griffith', 'highland park', 'inactive',\n",
       "       'justice', 'lake bluff', 'lake zurich', 'lansing', 'lombard',\n",
       "       'maywood', 'naperville', 'new holstein', 'new york', 'niles niles',\n",
       "       'norridge', 'oak lawn', 'oak park', 'olympia fields',\n",
       "       'oolympia fields', 'palos park', 'plainfield', 'rosemont',\n",
       "       'schaumburg', 'schiller park', 'skokie', 'streamwood', 'summit',\n",
       "       'tinley park', 'wadsworth', 'westmont', 'wheaton', 'wilmette',\n",
       "       'worth'], dtype=object)"
      ]
     },
     "execution_count": 35,
     "metadata": {},
     "output_type": "execute_result"
    }
   ],
   "source": [
    "np.sort(chicago_df_noNan['city'].unique())"
   ]
  },
  {
   "cell_type": "code",
   "execution_count": 36,
   "metadata": {
    "ExecuteTime": {
     "end_time": "2019-11-11T10:54:05.258080Z",
     "start_time": "2019-11-11T10:54:05.226878Z"
    }
   },
   "outputs": [],
   "source": [
    "cities = pd.read_csv('../data/listsChicago.csv', sep=';', header=None)\n",
    "cities[0] = cities[0].str.lower()\n",
    "cities = cities[0].values"
   ]
  },
  {
   "cell_type": "code",
   "execution_count": 37,
   "metadata": {
    "ExecuteTime": {
     "end_time": "2019-11-11T10:54:08.413588Z",
     "start_time": "2019-11-11T10:54:05.461161Z"
    }
   },
   "outputs": [],
   "source": [
    "outs = []\n",
    "ins = []\n",
    "for city in chicago_df_noNan['city'].unique():\n",
    "    if city not in cities:\n",
    "        outs.append(city)\n",
    "        chicago_df_noNan = chicago_df_noNan[chicago_df_noNan['city'] != city]\n",
    "    else:\n",
    "        ins.append(city)"
   ]
  },
  {
   "cell_type": "code",
   "execution_count": 38,
   "metadata": {
    "ExecuteTime": {
     "end_time": "2019-11-11T10:54:08.429206Z",
     "start_time": "2019-11-11T10:54:08.413588Z"
    }
   },
   "outputs": [
    {
     "name": "stdout",
     "output_type": "stream",
     "text": [
      "Here are the real cities from Chicago!\n",
      "['chicago', 'cicero', 'bridgeview', 'oak park', 'maywood', 'bedford park', 'berwyn', 'oak lawn', 'broadview', 'evergreen park']\n"
     ]
    }
   ],
   "source": [
    "print('Here are the real cities from Chicago!')\n",
    "print(ins)"
   ]
  },
  {
   "cell_type": "markdown",
   "metadata": {},
   "source": [
    "## State\n",
    " We make sure that all our remaining entries are from Chicago in Illinois! "
   ]
  },
  {
   "cell_type": "code",
   "execution_count": 39,
   "metadata": {
    "ExecuteTime": {
     "end_time": "2019-11-11T10:54:08.460475Z",
     "start_time": "2019-11-11T10:54:08.429206Z"
    }
   },
   "outputs": [
    {
     "name": "stdout",
     "output_type": "stream",
     "text": [
      "['IL' nan]\n"
     ]
    }
   ],
   "source": [
    "print(chicago_df_noNan['state'].unique())\n",
    "chicago_df_noNan['state'] = np.where(chicago_df_noNan['state'].isnull(), 'IL', chicago_df_noNan['state'])\n",
    "    "
   ]
  },
  {
   "cell_type": "code",
   "execution_count": 40,
   "metadata": {
    "ExecuteTime": {
     "end_time": "2019-11-11T10:54:08.647905Z",
     "start_time": "2019-11-11T10:54:08.616696Z"
    }
   },
   "outputs": [
    {
     "name": "stdout",
     "output_type": "stream",
     "text": [
      "['IL']\n"
     ]
    }
   ],
   "source": [
    "print(chicago_df_noNan['state'].unique())"
   ]
  },
  {
   "cell_type": "markdown",
   "metadata": {},
   "source": [
    "## Location"
   ]
  },
  {
   "cell_type": "code",
   "execution_count": 41,
   "metadata": {},
   "outputs": [],
   "source": [
    "missing_longitude_indices = chicago_df_noNan['longitude'].isna()"
   ]
  },
  {
   "cell_type": "code",
   "execution_count": 42,
   "metadata": {},
   "outputs": [
    {
     "data": {
      "text/plain": [
       "556"
      ]
     },
     "execution_count": 42,
     "metadata": {},
     "output_type": "execute_result"
    }
   ],
   "source": [
    "np.sum(missing_longitude_indices)"
   ]
  },
  {
   "cell_type": "code",
   "execution_count": 43,
   "metadata": {},
   "outputs": [
    {
     "data": {
      "text/plain": [
       "latitude    556\n",
       "location    556\n",
       "dtype: int64"
      ]
     },
     "execution_count": 43,
     "metadata": {},
     "output_type": "execute_result"
    }
   ],
   "source": [
    "chicago_df_noNan[missing_longitude_indices][['latitude', 'location']].isna().sum()"
   ]
  },
  {
   "cell_type": "markdown",
   "metadata": {},
   "source": [
    "We can conclude that all location attributes are missing together"
   ]
  },
  {
   "cell_type": "code",
   "execution_count": 44,
   "metadata": {},
   "outputs": [
    {
     "data": {
      "text/plain": [
       "3"
      ]
     },
     "execution_count": 44,
     "metadata": {},
     "output_type": "execute_result"
    }
   ],
   "source": [
    "# Find how many of the rows with missing location attributes have missing zip code also\n",
    "np.sum(chicago_df_noNan['longitude'].isna() & chicago_df_noNan['zip'].isna())"
   ]
  },
  {
   "cell_type": "code",
   "execution_count": 64,
   "metadata": {},
   "outputs": [],
   "source": [
    "# Define methods that performs geocoding using the zipcode\n",
    "\n",
    "def geocode_zip_code(zip_code):\n",
    "    nomi = pgeocode.Nominatim('us')\n",
    "    nomi_query = nomi.query_postal_code(int(zip_code))\n",
    "    return pd.Series([nomi_query.latitude, nomi_query.longitude])"
   ]
  },
  {
   "cell_type": "code",
   "execution_count": 67,
   "metadata": {},
   "outputs": [],
   "source": [
    "# Perform geocoding using the zipcode\n",
    "\n",
    "missing_longitude_indices_with_zip = chicago_df_noNan['longitude'].isna() & chicago_df_noNan['zip'].notna()\n",
    "\n",
    "chicago_df_noNan.loc[missing_longitude_indices_with_zip,['latitude', 'longitude']] =\\\n",
    "    chicago_df_noNan.loc[missing_longitude_indices_with_zip, 'zip'].apply(geocode_zip_code)"
   ]
  },
  {
   "cell_type": "code",
   "execution_count": 47,
   "metadata": {},
   "outputs": [],
   "source": [
    "missing_longitude_indices = chicago_df_noNan['latitude'].isna()"
   ]
  },
  {
   "cell_type": "code",
   "execution_count": 48,
   "metadata": {},
   "outputs": [
    {
     "data": {
      "text/plain": [
       "3"
      ]
     },
     "execution_count": 48,
     "metadata": {},
     "output_type": "execute_result"
    }
   ],
   "source": [
    "np.sum(missing_longitude_indices)"
   ]
  },
  {
   "cell_type": "markdown",
   "metadata": {},
   "source": [
    "We have filled most of the missing locations by using geocoding using the zipcode which would help us define the areas, other geocoders using the address leading to more accurate locations exist but they either require keys such as google maps or require better address format such as open street maps which does not work for of all our examples"
   ]
  },
  {
   "cell_type": "code",
   "execution_count": 49,
   "metadata": {},
   "outputs": [],
   "source": [
    "# Create a groupedby data frame on the name and aggeragate to find the count of missing longitude and total counts for each group\n",
    "exp_df = chicago_df_noNan[['longitude', 'dba_name']].groupby('dba_name').agg({\"longitude\": [lambda x: x.isnull().sum()], 'dba_name':'count'})"
   ]
  },
  {
   "cell_type": "code",
   "execution_count": 50,
   "metadata": {},
   "outputs": [],
   "source": [
    "# rename column for more intutive view\n",
    "exp_df.columns.set_levels(['nulls_count', 'count'],level=1,inplace=True)"
   ]
  },
  {
   "cell_type": "code",
   "execution_count": 51,
   "metadata": {},
   "outputs": [
    {
     "data": {
      "text/plain": [
       "2.0"
      ]
     },
     "execution_count": 51,
     "metadata": {},
     "output_type": "execute_result"
    }
   ],
   "source": [
    "# Identify how many entries with missing locations have other entries for the same place with the location not missing\n",
    "\n",
    "bool_1 = (exp_df['longitude']['nulls_count'] != 0)\n",
    "bool_2 = (exp_df['dba_name']['count'] != exp_df['longitude']['nulls_count'])\n",
    "\n",
    "np.sum(exp_df[ bool_1.values & bool_2.values]['longitude']['nulls_count'])"
   ]
  },
  {
   "cell_type": "code",
   "execution_count": 52,
   "metadata": {},
   "outputs": [],
   "source": [
    "# use restaurants with multiple entries where some have their location fields to fill the same restaurant entries with missing location\n",
    "\n",
    "missing_location_names = chicago_df_noNan.loc[missing_longitude_indices]['dba_name']\n",
    "\n",
    "for index, name in missing_location_names.items():\n",
    "    similar_entries = chicago_df_noNan[(chicago_df_noNan['dba_name'] == name) & (chicago_df_noNan['dba_name'].notna())] \n",
    "    chicago_df_noNan.at[index, 'latitude'] = similar_entries.iloc[0]['latitude']\n",
    "    chicago_df_noNan.at[index, 'longitude'] = similar_entries.iloc[0]['longitude']\n",
    "    chicago_df_noNan.at[index, 'zip'] = similar_entries.iloc[0]['zip']"
   ]
  },
  {
   "cell_type": "code",
   "execution_count": 53,
   "metadata": {},
   "outputs": [],
   "source": [
    "missing_longitude_indices = chicago_df_noNan['latitude'].isna()"
   ]
  },
  {
   "cell_type": "code",
   "execution_count": 54,
   "metadata": {},
   "outputs": [
    {
     "data": {
      "text/plain": [
       "1"
      ]
     },
     "execution_count": 54,
     "metadata": {},
     "output_type": "execute_result"
    }
   ],
   "source": [
    "np.sum(missing_longitude_indices)"
   ]
  },
  {
   "cell_type": "code",
   "execution_count": 56,
   "metadata": {},
   "outputs": [
    {
     "data": {
      "text/plain": [
       "Index(['inspection_id', 'dba_name', 'aka_name', 'license', 'facility_type',\n",
       "       'risk', 'address', 'city', 'state', 'zip', 'inspection_date',\n",
       "       'inspection_type', 'results', 'violations', 'latitude', 'longitude',\n",
       "       'location', 'has_license', 'new_facility_type'],\n",
       "      dtype='object')"
      ]
     },
     "execution_count": 56,
     "metadata": {},
     "output_type": "execute_result"
    }
   ],
   "source": [
    "chicago_df_noNan.columns"
   ]
  },
  {
   "cell_type": "markdown",
   "metadata": {},
   "source": [
    "## Inspection type"
   ]
  },
  {
   "cell_type": "code",
   "execution_count": 59,
   "metadata": {},
   "outputs": [],
   "source": [
    "chicago_df_noNan['inspection_type'] = chicago_df_noNan['inspection_type'].str.lower()"
   ]
  },
  {
   "cell_type": "code",
   "execution_count": null,
   "metadata": {},
   "outputs": [],
   "source": []
  }
 ],
 "metadata": {
  "kernelspec": {
   "display_name": "Python [conda env:ada] *",
   "language": "python",
   "name": "conda-env-ada-py"
  },
  "language_info": {
   "codemirror_mode": {
    "name": "ipython",
    "version": 3
   },
   "file_extension": ".py",
   "mimetype": "text/x-python",
   "name": "python",
   "nbconvert_exporter": "python",
   "pygments_lexer": "ipython3",
   "version": "3.7.4"
  }
 },
 "nbformat": 4,
 "nbformat_minor": 2
}
