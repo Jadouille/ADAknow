{
 "cells": [
  {
   "cell_type": "code",
   "execution_count": 1,
   "metadata": {
    "ExecuteTime": {
     "end_time": "2019-11-11T17:24:19.206042Z",
     "start_time": "2019-11-11T17:24:16.807870Z"
    }
   },
   "outputs": [],
   "source": [
    "import pandas as pd\n",
    "import numpy as np\n",
    "import pickle \n",
    "from matplotlib import pyplot as plt\n",
    "import warnings\n",
    "from pyjarowinkler import distance\n",
    "warnings.filterwarnings(\"ignore\")"
   ]
  },
  {
   "cell_type": "markdown",
   "metadata": {},
   "source": [
    "# Reading the data"
   ]
  },
  {
   "cell_type": "code",
   "execution_count": 2,
   "metadata": {
    "ExecuteTime": {
     "end_time": "2019-11-11T17:24:25.618090Z",
     "start_time": "2019-11-11T17:24:20.596089Z"
    }
   },
   "outputs": [
    {
     "ename": "FileNotFoundError",
     "evalue": "[Errno 2] File b'./chicago-food-inspections/food-inspections.csv' does not exist: b'./chicago-food-inspections/food-inspections.csv'",
     "output_type": "error",
     "traceback": [
      "\u001b[0;31m---------------------------------------------------------------------------\u001b[0m",
      "\u001b[0;31mFileNotFoundError\u001b[0m                         Traceback (most recent call last)",
      "\u001b[0;32m<ipython-input-2-83ce16dce58e>\u001b[0m in \u001b[0;36m<module>\u001b[0;34m\u001b[0m\n\u001b[1;32m      6\u001b[0m     \u001b[0;34m'zip_codes'\u001b[0m\u001b[0;34m,\u001b[0m \u001b[0;34m'community_areas'\u001b[0m\u001b[0;34m,\u001b[0m \u001b[0;34m'census_tracts'\u001b[0m\u001b[0;34m,\u001b[0m \u001b[0;34m'wards'\u001b[0m\u001b[0;34m\u001b[0m\u001b[0;34m\u001b[0m\u001b[0m\n\u001b[1;32m      7\u001b[0m ]\n\u001b[0;32m----> 8\u001b[0;31m \u001b[0mchicago\u001b[0m \u001b[0;34m=\u001b[0m \u001b[0mpd\u001b[0m\u001b[0;34m.\u001b[0m\u001b[0mread_csv\u001b[0m\u001b[0;34m(\u001b[0m\u001b[0;34m'./chicago-food-inspections/food-inspections.csv'\u001b[0m\u001b[0;34m)\u001b[0m\u001b[0;34m\u001b[0m\u001b[0;34m\u001b[0m\u001b[0m\n\u001b[0m\u001b[1;32m      9\u001b[0m \u001b[0mchicago\u001b[0m\u001b[0;34m.\u001b[0m\u001b[0mcolumns\u001b[0m \u001b[0;34m=\u001b[0m \u001b[0mcolumns\u001b[0m\u001b[0;34m\u001b[0m\u001b[0;34m\u001b[0m\u001b[0m\n\u001b[1;32m     10\u001b[0m \u001b[0mchicago\u001b[0m\u001b[0;34m.\u001b[0m\u001b[0mdrop\u001b[0m\u001b[0;34m(\u001b[0m\u001b[0;34m'historical_wards_2013_2015'\u001b[0m\u001b[0;34m,\u001b[0m \u001b[0maxis\u001b[0m\u001b[0;34m=\u001b[0m\u001b[0;36m1\u001b[0m\u001b[0;34m,\u001b[0m \u001b[0minplace\u001b[0m\u001b[0;34m=\u001b[0m\u001b[0;32mTrue\u001b[0m\u001b[0;34m)\u001b[0m\u001b[0;34m\u001b[0m\u001b[0;34m\u001b[0m\u001b[0m\n",
      "\u001b[0;32m~/Anaconda3/envs/ada/lib/python3.7/site-packages/pandas/io/parsers.py\u001b[0m in \u001b[0;36mparser_f\u001b[0;34m(filepath_or_buffer, sep, delimiter, header, names, index_col, usecols, squeeze, prefix, mangle_dupe_cols, dtype, engine, converters, true_values, false_values, skipinitialspace, skiprows, skipfooter, nrows, na_values, keep_default_na, na_filter, verbose, skip_blank_lines, parse_dates, infer_datetime_format, keep_date_col, date_parser, dayfirst, cache_dates, iterator, chunksize, compression, thousands, decimal, lineterminator, quotechar, quoting, doublequote, escapechar, comment, encoding, dialect, error_bad_lines, warn_bad_lines, delim_whitespace, low_memory, memory_map, float_precision)\u001b[0m\n\u001b[1;32m    683\u001b[0m         )\n\u001b[1;32m    684\u001b[0m \u001b[0;34m\u001b[0m\u001b[0m\n\u001b[0;32m--> 685\u001b[0;31m         \u001b[0;32mreturn\u001b[0m \u001b[0m_read\u001b[0m\u001b[0;34m(\u001b[0m\u001b[0mfilepath_or_buffer\u001b[0m\u001b[0;34m,\u001b[0m \u001b[0mkwds\u001b[0m\u001b[0;34m)\u001b[0m\u001b[0;34m\u001b[0m\u001b[0;34m\u001b[0m\u001b[0m\n\u001b[0m\u001b[1;32m    686\u001b[0m \u001b[0;34m\u001b[0m\u001b[0m\n\u001b[1;32m    687\u001b[0m     \u001b[0mparser_f\u001b[0m\u001b[0;34m.\u001b[0m\u001b[0m__name__\u001b[0m \u001b[0;34m=\u001b[0m \u001b[0mname\u001b[0m\u001b[0;34m\u001b[0m\u001b[0;34m\u001b[0m\u001b[0m\n",
      "\u001b[0;32m~/Anaconda3/envs/ada/lib/python3.7/site-packages/pandas/io/parsers.py\u001b[0m in \u001b[0;36m_read\u001b[0;34m(filepath_or_buffer, kwds)\u001b[0m\n\u001b[1;32m    455\u001b[0m \u001b[0;34m\u001b[0m\u001b[0m\n\u001b[1;32m    456\u001b[0m     \u001b[0;31m# Create the parser.\u001b[0m\u001b[0;34m\u001b[0m\u001b[0;34m\u001b[0m\u001b[0;34m\u001b[0m\u001b[0m\n\u001b[0;32m--> 457\u001b[0;31m     \u001b[0mparser\u001b[0m \u001b[0;34m=\u001b[0m \u001b[0mTextFileReader\u001b[0m\u001b[0;34m(\u001b[0m\u001b[0mfp_or_buf\u001b[0m\u001b[0;34m,\u001b[0m \u001b[0;34m**\u001b[0m\u001b[0mkwds\u001b[0m\u001b[0;34m)\u001b[0m\u001b[0;34m\u001b[0m\u001b[0;34m\u001b[0m\u001b[0m\n\u001b[0m\u001b[1;32m    458\u001b[0m \u001b[0;34m\u001b[0m\u001b[0m\n\u001b[1;32m    459\u001b[0m     \u001b[0;32mif\u001b[0m \u001b[0mchunksize\u001b[0m \u001b[0;32mor\u001b[0m \u001b[0miterator\u001b[0m\u001b[0;34m:\u001b[0m\u001b[0;34m\u001b[0m\u001b[0;34m\u001b[0m\u001b[0m\n",
      "\u001b[0;32m~/Anaconda3/envs/ada/lib/python3.7/site-packages/pandas/io/parsers.py\u001b[0m in \u001b[0;36m__init__\u001b[0;34m(self, f, engine, **kwds)\u001b[0m\n\u001b[1;32m    893\u001b[0m             \u001b[0mself\u001b[0m\u001b[0;34m.\u001b[0m\u001b[0moptions\u001b[0m\u001b[0;34m[\u001b[0m\u001b[0;34m\"has_index_names\"\u001b[0m\u001b[0;34m]\u001b[0m \u001b[0;34m=\u001b[0m \u001b[0mkwds\u001b[0m\u001b[0;34m[\u001b[0m\u001b[0;34m\"has_index_names\"\u001b[0m\u001b[0;34m]\u001b[0m\u001b[0;34m\u001b[0m\u001b[0;34m\u001b[0m\u001b[0m\n\u001b[1;32m    894\u001b[0m \u001b[0;34m\u001b[0m\u001b[0m\n\u001b[0;32m--> 895\u001b[0;31m         \u001b[0mself\u001b[0m\u001b[0;34m.\u001b[0m\u001b[0m_make_engine\u001b[0m\u001b[0;34m(\u001b[0m\u001b[0mself\u001b[0m\u001b[0;34m.\u001b[0m\u001b[0mengine\u001b[0m\u001b[0;34m)\u001b[0m\u001b[0;34m\u001b[0m\u001b[0;34m\u001b[0m\u001b[0m\n\u001b[0m\u001b[1;32m    896\u001b[0m \u001b[0;34m\u001b[0m\u001b[0m\n\u001b[1;32m    897\u001b[0m     \u001b[0;32mdef\u001b[0m \u001b[0mclose\u001b[0m\u001b[0;34m(\u001b[0m\u001b[0mself\u001b[0m\u001b[0;34m)\u001b[0m\u001b[0;34m:\u001b[0m\u001b[0;34m\u001b[0m\u001b[0;34m\u001b[0m\u001b[0m\n",
      "\u001b[0;32m~/Anaconda3/envs/ada/lib/python3.7/site-packages/pandas/io/parsers.py\u001b[0m in \u001b[0;36m_make_engine\u001b[0;34m(self, engine)\u001b[0m\n\u001b[1;32m   1133\u001b[0m     \u001b[0;32mdef\u001b[0m \u001b[0m_make_engine\u001b[0m\u001b[0;34m(\u001b[0m\u001b[0mself\u001b[0m\u001b[0;34m,\u001b[0m \u001b[0mengine\u001b[0m\u001b[0;34m=\u001b[0m\u001b[0;34m\"c\"\u001b[0m\u001b[0;34m)\u001b[0m\u001b[0;34m:\u001b[0m\u001b[0;34m\u001b[0m\u001b[0;34m\u001b[0m\u001b[0m\n\u001b[1;32m   1134\u001b[0m         \u001b[0;32mif\u001b[0m \u001b[0mengine\u001b[0m \u001b[0;34m==\u001b[0m \u001b[0;34m\"c\"\u001b[0m\u001b[0;34m:\u001b[0m\u001b[0;34m\u001b[0m\u001b[0;34m\u001b[0m\u001b[0m\n\u001b[0;32m-> 1135\u001b[0;31m             \u001b[0mself\u001b[0m\u001b[0;34m.\u001b[0m\u001b[0m_engine\u001b[0m \u001b[0;34m=\u001b[0m \u001b[0mCParserWrapper\u001b[0m\u001b[0;34m(\u001b[0m\u001b[0mself\u001b[0m\u001b[0;34m.\u001b[0m\u001b[0mf\u001b[0m\u001b[0;34m,\u001b[0m \u001b[0;34m**\u001b[0m\u001b[0mself\u001b[0m\u001b[0;34m.\u001b[0m\u001b[0moptions\u001b[0m\u001b[0;34m)\u001b[0m\u001b[0;34m\u001b[0m\u001b[0;34m\u001b[0m\u001b[0m\n\u001b[0m\u001b[1;32m   1136\u001b[0m         \u001b[0;32melse\u001b[0m\u001b[0;34m:\u001b[0m\u001b[0;34m\u001b[0m\u001b[0;34m\u001b[0m\u001b[0m\n\u001b[1;32m   1137\u001b[0m             \u001b[0;32mif\u001b[0m \u001b[0mengine\u001b[0m \u001b[0;34m==\u001b[0m \u001b[0;34m\"python\"\u001b[0m\u001b[0;34m:\u001b[0m\u001b[0;34m\u001b[0m\u001b[0;34m\u001b[0m\u001b[0m\n",
      "\u001b[0;32m~/Anaconda3/envs/ada/lib/python3.7/site-packages/pandas/io/parsers.py\u001b[0m in \u001b[0;36m__init__\u001b[0;34m(self, src, **kwds)\u001b[0m\n\u001b[1;32m   1915\u001b[0m         \u001b[0mkwds\u001b[0m\u001b[0;34m[\u001b[0m\u001b[0;34m\"usecols\"\u001b[0m\u001b[0;34m]\u001b[0m \u001b[0;34m=\u001b[0m \u001b[0mself\u001b[0m\u001b[0;34m.\u001b[0m\u001b[0musecols\u001b[0m\u001b[0;34m\u001b[0m\u001b[0;34m\u001b[0m\u001b[0m\n\u001b[1;32m   1916\u001b[0m \u001b[0;34m\u001b[0m\u001b[0m\n\u001b[0;32m-> 1917\u001b[0;31m         \u001b[0mself\u001b[0m\u001b[0;34m.\u001b[0m\u001b[0m_reader\u001b[0m \u001b[0;34m=\u001b[0m \u001b[0mparsers\u001b[0m\u001b[0;34m.\u001b[0m\u001b[0mTextReader\u001b[0m\u001b[0;34m(\u001b[0m\u001b[0msrc\u001b[0m\u001b[0;34m,\u001b[0m \u001b[0;34m**\u001b[0m\u001b[0mkwds\u001b[0m\u001b[0;34m)\u001b[0m\u001b[0;34m\u001b[0m\u001b[0;34m\u001b[0m\u001b[0m\n\u001b[0m\u001b[1;32m   1918\u001b[0m         \u001b[0mself\u001b[0m\u001b[0;34m.\u001b[0m\u001b[0munnamed_cols\u001b[0m \u001b[0;34m=\u001b[0m \u001b[0mself\u001b[0m\u001b[0;34m.\u001b[0m\u001b[0m_reader\u001b[0m\u001b[0;34m.\u001b[0m\u001b[0munnamed_cols\u001b[0m\u001b[0;34m\u001b[0m\u001b[0;34m\u001b[0m\u001b[0m\n\u001b[1;32m   1919\u001b[0m \u001b[0;34m\u001b[0m\u001b[0m\n",
      "\u001b[0;32mpandas/_libs/parsers.pyx\u001b[0m in \u001b[0;36mpandas._libs.parsers.TextReader.__cinit__\u001b[0;34m()\u001b[0m\n",
      "\u001b[0;32mpandas/_libs/parsers.pyx\u001b[0m in \u001b[0;36mpandas._libs.parsers.TextReader._setup_parser_source\u001b[0;34m()\u001b[0m\n",
      "\u001b[0;31mFileNotFoundError\u001b[0m: [Errno 2] File b'./chicago-food-inspections/food-inspections.csv' does not exist: b'./chicago-food-inspections/food-inspections.csv'"
     ]
    }
   ],
   "source": [
    "columns = [\n",
    "    'inspection_id', 'dba_name', 'aka_name', 'license', \n",
    "    'facility_type', 'risk', 'address', 'city', 'state', \n",
    "    'zip', 'inspection_date', 'inspection_type', 'results', \n",
    "    'violations', 'latitude', 'longitude', 'location', 'historical_wards_2013_2015',\n",
    "    'zip_codes', 'community_areas', 'census_tracts', 'wards'\n",
    "]\n",
    "chicago = pd.read_csv('./data/food-inspections.csv')\n",
    "chicago.columns = columns\n",
    "chicago.drop('historical_wards_2013_2015', axis=1, inplace=True)\n",
    "chicago.drop('zip_codes', axis=1, inplace=True)\n",
    "chicago.drop('community_areas', axis=1, inplace=True)\n",
    "chicago.drop('census_tracts', axis=1, inplace=True)\n",
    "chicago.drop('wards', axis=1, inplace=True)\n",
    "columns = [\n",
    "    'inspection_id', 'dba_name', 'aka_name', 'license', \n",
    "    'facility_type', 'risk', 'address', 'city', 'state', \n",
    "    'zip', 'inspection_date', 'inspection_type', 'results', \n",
    "    'violations', 'latitude', 'longitude', 'location'\n",
    "]\n",
    "chicago.head()"
   ]
  },
  {
   "cell_type": "markdown",
   "metadata": {},
   "source": [
    "# Examination of the data\n",
    "In this part, the following columns of the data are examined and cleaned:\n",
    "Inspection ID', 'DBA Name', 'AKA Name', 'License #', 'Facility Type',\n",
    "       'Risk', 'Address', 'City', 'State'"
   ]
  },
  {
   "cell_type": "markdown",
   "metadata": {},
   "source": [
    "## inspection_id\n",
    "Some inspections have been inserted twice in the dataset and need to be deleted to avoid duplicates."
   ]
  },
  {
   "cell_type": "code",
   "execution_count": 3,
   "metadata": {
    "ExecuteTime": {
     "end_time": "2019-11-11T17:24:27.856695Z",
     "start_time": "2019-11-11T17:24:27.852702Z"
    }
   },
   "outputs": [],
   "source": [
    "inspection_id = chicago['inspection_id']"
   ]
  },
  {
   "cell_type": "markdown",
   "metadata": {},
   "source": [
    "We first verify that no entry has a null id"
   ]
  },
  {
   "cell_type": "code",
   "execution_count": 4,
   "metadata": {
    "ExecuteTime": {
     "end_time": "2019-11-11T17:24:28.369074Z",
     "start_time": "2019-11-11T17:24:28.332067Z"
    }
   },
   "outputs": [
    {
     "data": {
      "text/plain": [
       "0"
      ]
     },
     "execution_count": 4,
     "metadata": {},
     "output_type": "execute_result"
    }
   ],
   "source": [
    "sum(inspection_id.isnull())"
   ]
  },
  {
   "cell_type": "markdown",
   "metadata": {},
   "source": [
    "Then, we check that inspections sharing the same id were indeed duplicates and delete the redundant entries"
   ]
  },
  {
   "cell_type": "code",
   "execution_count": 5,
   "metadata": {
    "ExecuteTime": {
     "end_time": "2019-11-11T17:24:31.771125Z",
     "start_time": "2019-11-11T17:24:29.676966Z"
    }
   },
   "outputs": [],
   "source": [
    "doublons = (inspection_id.value_counts()[inspection_id.value_counts() > 1]).index\n",
    "\n",
    "redundance = []\n",
    "for doublon in doublons: \n",
    "    temp = chicago[chicago['inspection_id'] == doublon]\n",
    "    \n",
    "    if len(temp) != 2:\n",
    "        print('The id', doublon, 'has more than 2 entries!') # Checking that there are no more than 1 duplicate\n",
    "        \n",
    "    else:\n",
    "        redundant = True\n",
    "        for column in columns: # Checking all columns are the same for both entries\n",
    "            if temp.iloc[0][column] != temp.iloc[1][column]:\n",
    "                if not(np.isnan(temp.iloc[0][column]) and np.isnan(temp.iloc[1][column])):\n",
    "                    print('Two entries have the same id', doublon, 'but different entries at', column )\n",
    "                    display(temp)\n",
    "                    redundant = False\n",
    "                    tempi = temp\n",
    "                    break\n",
    "                \n",
    "        if redundant:\n",
    "            redundance.append(doublon)\n",
    "        else:\n",
    "            print(doublon)"
   ]
  },
  {
   "cell_type": "code",
   "execution_count": 8,
   "metadata": {
    "ExecuteTime": {
     "end_time": "2019-11-11T10:32:07.190608Z",
     "start_time": "2019-11-11T10:32:06.987803Z"
    }
   },
   "outputs": [
    {
     "name": "stdout",
     "output_type": "stream",
     "text": [
      "195212\n",
      "128\n",
      "195084\n"
     ]
    }
   ],
   "source": [
    "print(len(chicago))\n",
    "print(len(doublons))\n",
    "indices = []\n",
    "for doublon in doublons:\n",
    "    temp = chicago[chicago['inspection_id'] == doublon]\n",
    "    index = temp.iloc[0].name\n",
    "    indices.append(index)\n",
    "chicago.drop(indices, axis=0, inplace=True)\n",
    "print(len(chicago))    "
   ]
  },
  {
   "cell_type": "code",
   "execution_count": 9,
   "metadata": {
    "ExecuteTime": {
     "end_time": "2019-11-11T10:32:10.705404Z",
     "start_time": "2019-11-11T10:32:09.487239Z"
    }
   },
   "outputs": [],
   "source": [
    "with open('./chicago-food-inspections/chicago_data.pickle', 'wb') as fp:\n",
    "    pickle.dump(chicago, fp)"
   ]
  },
  {
   "cell_type": "markdown",
   "metadata": {},
   "source": [
    "## DBA name"
   ]
  },
  {
   "cell_type": "code",
   "execution_count": 10,
   "metadata": {
    "ExecuteTime": {
     "end_time": "2019-11-11T10:32:12.611229Z",
     "start_time": "2019-11-11T10:32:12.548921Z"
    }
   },
   "outputs": [
    {
     "data": {
      "text/plain": [
       "0"
      ]
     },
     "execution_count": 10,
     "metadata": {},
     "output_type": "execute_result"
    }
   ],
   "source": [
    "# Checking if there are any null entries\n",
    "sum(chicago['dba_name'].isnull())"
   ]
  },
  {
   "cell_type": "code",
   "execution_count": 11,
   "metadata": {
    "ExecuteTime": {
     "end_time": "2019-11-11T10:32:14.329568Z",
     "start_time": "2019-11-11T10:32:14.204852Z"
    }
   },
   "outputs": [
    {
     "name": "stdout",
     "output_type": "stream",
     "text": [
      "Number of unique restaurants in the dataset when the names are case sensitive: 27519\n",
      "Number of unique restaurants when the names are not case sensitive: 27233\n"
     ]
    }
   ],
   "source": [
    "# Standardising the name of the chain by lowering the cases\n",
    "print('Number of unique restaurants in the dataset when the names are case sensitive:', len(chicago['dba_name'].unique()))\n",
    "chicago['dba_name'] = chicago['dba_name'].str.lower()\n",
    "print('Number of unique restaurants when the names are not case sensitive:', len(chicago['dba_name'].unique()))"
   ]
  },
  {
   "cell_type": "code",
   "execution_count": 12,
   "metadata": {
    "ExecuteTime": {
     "end_time": "2019-11-11T10:32:17.185734Z",
     "start_time": "2019-11-11T10:32:15.998471Z"
    }
   },
   "outputs": [],
   "source": [
    "with open('./chicago-food-inspections/chicago_data.pickle', 'wb') as fp:\n",
    "    pickle.dump(chicago, fp)"
   ]
  },
  {
   "cell_type": "markdown",
   "metadata": {
    "ExecuteTime": {
     "end_time": "2019-11-04T17:33:41.756617Z",
     "start_time": "2019-11-04T17:33:41.559145Z"
    }
   },
   "source": [
    "## AKA Name\n",
    "In this part, we cast all aka names into lower case, and replace the null entries by their DBA names"
   ]
  },
  {
   "cell_type": "code",
   "execution_count": 13,
   "metadata": {
    "ExecuteTime": {
     "end_time": "2019-11-11T10:32:17.388766Z",
     "start_time": "2019-11-11T10:32:17.342178Z"
    }
   },
   "outputs": [
    {
     "data": {
      "text/plain": [
       "array(['TODD APPEL BAR AND COCKTAIL', 'Sayre Language Acad.',\n",
       "       'Hitch Elementary School', ..., 'SAFAH FOOD & LIQUOR INC',\n",
       "       'MAKIA FOOD', 'RAINBOW GROCERY'], dtype=object)"
      ]
     },
     "execution_count": 13,
     "metadata": {},
     "output_type": "execute_result"
    }
   ],
   "source": [
    "chicago['aka_name'].unique()"
   ]
  },
  {
   "cell_type": "code",
   "execution_count": 14,
   "metadata": {
    "ExecuteTime": {
     "end_time": "2019-11-11T10:32:18.216729Z",
     "start_time": "2019-11-11T10:32:18.201075Z"
    },
    "scrolled": true
   },
   "outputs": [
    {
     "name": "stdout",
     "output_type": "stream",
     "text": [
      "Number of entries without an AKA name: 2451\n"
     ]
    }
   ],
   "source": [
    "print('Number of entries without an AKA name:', len(chicago[chicago['aka_name'].isnull()]))"
   ]
  },
  {
   "cell_type": "code",
   "execution_count": 15,
   "metadata": {
    "ExecuteTime": {
     "end_time": "2019-11-11T10:32:19.790441Z",
     "start_time": "2019-11-11T10:32:19.649679Z"
    }
   },
   "outputs": [],
   "source": [
    "# Replacing null entries with their dba name\n",
    "temp0 = chicago[chicago['aka_name'].isnull()]\n",
    "temp0['aka_name'] = temp0['dba_name']\n",
    "temp1 = chicago[~chicago['aka_name'].isnull()]\n",
    "chicago = temp1.append(temp0)"
   ]
  },
  {
   "cell_type": "code",
   "execution_count": 16,
   "metadata": {
    "ExecuteTime": {
     "end_time": "2019-11-11T10:32:20.087076Z",
     "start_time": "2019-11-11T10:32:19.899819Z"
    }
   },
   "outputs": [
    {
     "name": "stdout",
     "output_type": "stream",
     "text": [
      "Number of unique names with case sensitivity: 27188\n",
      "Number of unique names without case sensitivity: 26712\n"
     ]
    }
   ],
   "source": [
    "print('Number of unique names with case sensitivity:', len(chicago['aka_name'].unique()))\n",
    "temp = chicago['aka_name'].str.lower()\n",
    "print('Number of unique names without case sensitivity:', len(temp.unique()))\n",
    "chicago['aka_name'] = chicago['aka_name'].str.lower()"
   ]
  },
  {
   "cell_type": "code",
   "execution_count": 17,
   "metadata": {
    "ExecuteTime": {
     "end_time": "2019-11-11T10:32:22.789594Z",
     "start_time": "2019-11-11T10:32:21.383954Z"
    }
   },
   "outputs": [],
   "source": [
    "with open('./chicago-food-inspections/chicago_data.pickle', 'wb') as fp:\n",
    "    pickle.dump(chicago, fp)"
   ]
  },
  {
   "cell_type": "markdown",
   "metadata": {},
   "source": [
    "## License Number\n",
    "Some business don't have a license number. In this dataframe, we create a boolean column, indicating if the business has a license number or not"
   ]
  },
  {
   "cell_type": "code",
   "execution_count": 18,
   "metadata": {
    "ExecuteTime": {
     "end_time": "2019-11-11T10:32:24.101785Z",
     "start_time": "2019-11-11T10:32:23.992407Z"
    },
    "scrolled": true
   },
   "outputs": [
    {
     "name": "stdout",
     "output_type": "stream",
     "text": [
      "There are  17 entries without a license number\n"
     ]
    }
   ],
   "source": [
    "print('There are ', len(chicago[chicago['license'].isnull()]), 'entries without a license number')"
   ]
  },
  {
   "cell_type": "code",
   "execution_count": 19,
   "metadata": {
    "ExecuteTime": {
     "end_time": "2019-11-11T10:32:24.476698Z",
     "start_time": "2019-11-11T10:32:24.445425Z"
    }
   },
   "outputs": [],
   "source": [
    "chicago['has_license'] = ~chicago['license'].isnull()"
   ]
  },
  {
   "cell_type": "code",
   "execution_count": 20,
   "metadata": {
    "ExecuteTime": {
     "end_time": "2019-11-11T10:32:26.279193Z",
     "start_time": "2019-11-11T10:32:24.710994Z"
    }
   },
   "outputs": [],
   "source": [
    "with open('./chicago-food-inspections/chicago_data.pickle', 'wb') as fp:\n",
    "    pickle.dump(chicago, fp)"
   ]
  },
  {
   "cell_type": "markdown",
   "metadata": {},
   "source": [
    "## Facility Type\n",
    "Some types of facilities only contain one establishment, either because it is a very niche category, or because it was entered in a way that the similar entries don't match because of spelling or specificity. In order to group those categories, we match the facility types grouping less than 40 estiablishments to the most similar category according to the Jaro Winkler distance. If none of the categories are a match (distance smaller than 0.70), we place them into misc (miscellaneous)."
   ]
  },
  {
   "cell_type": "code",
   "execution_count": 40,
   "metadata": {
    "ExecuteTime": {
     "end_time": "2019-11-11T10:48:37.380553Z",
     "start_time": "2019-11-11T10:48:37.286763Z"
    }
   },
   "outputs": [],
   "source": [
    "# Turn Nan values into a string to be able to operate on the column\n",
    "# Standardising the facility types to lower case categories\n",
    "chicago['facility_type']\n",
    "len(chicago['facility_type'].unique())\n",
    "chicago['facility_type'] = chicago['facility_type'].fillna('not available')\n",
    "chicago['facility_type'] = chicago['facility_type'].str.lower()"
   ]
  },
  {
   "cell_type": "code",
   "execution_count": 41,
   "metadata": {
    "ExecuteTime": {
     "end_time": "2019-11-11T10:48:40.520377Z",
     "start_time": "2019-11-11T10:48:40.504758Z"
    }
   },
   "outputs": [
    {
     "data": {
      "text/plain": [
       "195084"
      ]
     },
     "execution_count": 41,
     "metadata": {},
     "output_type": "execute_result"
    }
   ],
   "source": [
    "len(chicago)"
   ]
  },
  {
   "cell_type": "code",
   "execution_count": 42,
   "metadata": {
    "ExecuteTime": {
     "end_time": "2019-11-11T10:49:06.549857Z",
     "start_time": "2019-11-11T10:49:06.518823Z"
    }
   },
   "outputs": [
    {
     "name": "stdout",
     "output_type": "stream",
     "text": [
      "Number of facility types before standardising: 441\n"
     ]
    }
   ],
   "source": [
    "print('Number of facility types before standardising:', len(chicago['facility_type'].unique()))"
   ]
  },
  {
   "cell_type": "code",
   "execution_count": 43,
   "metadata": {
    "ExecuteTime": {
     "end_time": "2019-11-11T10:49:09.674124Z",
     "start_time": "2019-11-11T10:49:09.642933Z"
    }
   },
   "outputs": [
    {
     "data": {
      "text/plain": [
       "array(['grocery store', 'school', 'restaurant',\n",
       "       \"children's services facility\", 'daycare above and under 2 years',\n",
       "       'bakery', 'mobile food preparer', 'daycare (2 - 6 years)',\n",
       "       'not available', 'ice cream', 'long term care',\n",
       "       'pop-up establishment host-tier ii', 'liquor', 'live poultry',\n",
       "       'tavern', 'paleteria', 'catering', 'mobile food dispenser',\n",
       "       'childrens services facility', 'brewery', 'gym', 'charter school',\n",
       "       'banquet', \"childern's service facility\", 'golden diner',\n",
       "       'grocery store /pharmacy', 'daycare combo 1586', 'assisted living',\n",
       "       'hospital', 'airport lounge', \"1023 children's services facility\",\n",
       "       'private school', 'cooking school', 'daycare (under 2 years)',\n",
       "       'mobile frozen desserts vendor', 'daycare night', 'sushi counter',\n",
       "       'banquet hall', 'after school program', 'dollar tree',\n",
       "       'gas station', 'grocery/restaurant', 'fitness center',\n",
       "       'grocery & restaurant', 'event space', 'commisary restaurant',\n",
       "       'dollar store with grocery', 'not-for-profit club',\n",
       "       'grocery store/cooking school', 'shared kitchen', 'wholesale',\n",
       "       'church (special events)', 'theatre', 'ice cream shop', 'store',\n",
       "       'herbal life', 'wrigley rooftop', 'rooftop', 'senior day care',\n",
       "       'catered liquor', 'high school kitchen', 'daycare', 'smoothie bar',\n",
       "       'roof tops', 'gas station/grocery', 'special event',\n",
       "       'shared kitchen user (long term)', 'other', 'roof top', 'rooftops',\n",
       "       'coffee shop', 'pop-up food establishment user-tier iii',\n",
       "       'distribution center', \"1023-children's services facility\",\n",
       "       'mobile prepared food vendor', 'shelter', 'bar', \"o'hare kiosk\",\n",
       "       'stadium', 'grocery/tavern', 'culinary school', 'church kitchen',\n",
       "       'deli/bakery', \"1023 childern's services facility\", 'grocery/deli',\n",
       "       'commissary', 'tavern/store', 'french market space',\n",
       "       'supportive living', 'shared kitchen user (short term)',\n",
       "       'grocery/service gas station', 'restaurant/gas station',\n",
       "       'liquor/coffee kiosk', 'frozen dessert pushcarts', 'church',\n",
       "       'tea brewing', 'banquet hall/catering', 'health/ juice bar',\n",
       "       'food booth', 'poultry slaughter', 'dining hall',\n",
       "       'theater & restaurant', 'gym store', 'church/special events',\n",
       "       'adult daycare', 'slaughter house/ grocery', 'grocery/bakery',\n",
       "       'gas station/convenience store', 'culinary class rooms',\n",
       "       'helicopter terminal', 'custom poultry slaughter', 'candy shop',\n",
       "       'health care store', 'mobile food', 'grocery/taqueria',\n",
       "       \"1023 childern's service facility\", 'herbalife', 'day care 2-14',\n",
       "       'restaurant/bar', 'daycare (2 years)', 'mobile desserts vendor',\n",
       "       'nursing home', '1475 liquor', 'food pantry', 'vending commissary',\n",
       "       'charter school cafeteria', 'assisted living facility',\n",
       "       'restaurant/grocery store', 'public shcool', 'event venu',\n",
       "       'regulated business', 'pop-up food establishment user-tier ii',\n",
       "       'cafeteria', 'tavern grill', 'prep inside school',\n",
       "       'convenience store', 'grocery(gas station)', 'banquet room',\n",
       "       'dollar store', 'brewpub', 'supportive living facility',\n",
       "       'candy/gelato', 'tobacco store', 'juice bar',\n",
       "       'packaged health foods', 'grocery(sushi prep)', 'school cafeteria',\n",
       "       'cafe/store', 'banquet facility', 'animal shelter cafe permit',\n",
       "       'rehab center', 'lounge', 'grocery/gas station', 'fitness studio',\n",
       "       '15 monts to 5 years old', 'beverage/silverware warehouse',\n",
       "       'grocery store/gas station', 'kiosk', 'convenient store',\n",
       "       'vending machine', 'herbal medicine', 'gas station/store',\n",
       "       'drug store', 'assisted living senior care',\n",
       "       'retail store offers cooking classes', 'banquets',\n",
       "       'banquet dining', 'grocery store/bakery', 'college',\n",
       "       'youth housing', 'banquet/kitchen', 'theater',\n",
       "       'a-not-for-profit chef training program',\n",
       "       'restaurant.banquet halls', 'grocery/dollar store',\n",
       "       'internet cafe', 'charity aid kitchen', 'hotel', 'shakes/teas',\n",
       "       'clothing store', 'navy pier kiosk', 'shuffleboard club with bar',\n",
       "       'coffee kiosk', 'warehouse', 'butcher shop', 'push carts',\n",
       "       'movie theater', 'retail', 'university cafeteria', 'laundromat',\n",
       "       'chinese herbs', 'pastry school', 'daycare 2 yrs to 12 yrs',\n",
       "       'herbalife store', 'cold/frozen food storage',\n",
       "       'grocery& restaurant', 'gas station/mini mart',\n",
       "       'juice and salad bar', 'before and after school program',\n",
       "       'herbal life shop', 'coffee cart', 'furniture store',\n",
       "       'candy store', 'meat packing', 'lounge/banquet hall',\n",
       "       'fish market', 'gas station/food', 'grocery', 'rest/gym',\n",
       "       'banquet rooms', 'teaching school', 'popcorn corn', 'hostel',\n",
       "       'movie theatre', 'herbal drinks', 'coffee  shop',\n",
       "       'herbalife nutrition', 'donut shop', 'liqour brewery tasting',\n",
       "       'gift shop', 'summer feeding prep area', 'convenience/drug store',\n",
       "       'rest/grocery', 'northerly island', 'herabalife',\n",
       "       'grocery and butcher', 'deli/grocery store', 'wholesale & retail',\n",
       "       'grocery/drug store', 'mfd truck', 'wrigley roof top',\n",
       "       'daycare combo', 'herbalife/zumba',\n",
       "       'restaurant(protein shake bar)', 'pre packaged',\n",
       "       'weight loss program', 'employee kitchen', 'hot dog station',\n",
       "       'kitchen demo', 'restaurant/bar/theater', 'truck', 'herbalcal',\n",
       "       'coffee/tea', \"childern's services  facility\", 'health center',\n",
       "       'riverwalk', 'mobilprepared food vendor', 'daycare 6 wks-5yrs',\n",
       "       'convenience', 'retail wine/wine bar', 'dollar & grocery store',\n",
       "       'social club', 'mobile food truck', 'gas',\n",
       "       'gas station/restaurant', 'snack shop', 'prepacakaged foods',\n",
       "       'smokehouse', '1023', 'tap room/tavern/liquor store',\n",
       "       'culinary arts school', 'long-term care', 'art gallery',\n",
       "       'mobile frozen dessert vendor', 'museum/gallery', 'spa',\n",
       "       'night club', 'coffee roaster', 'distributor', 'gelato shop',\n",
       "       'bakery/deli', 'gas station store', 'gas station/store grocery',\n",
       "       'liquor store', 'herbal', 'grocery/cafe', 'tea store',\n",
       "       'drug/food store', 'service bar/theatre',\n",
       "       'retail food/gas station', 'restaurant/hospital',\n",
       "       'grocery store / gas station', 'urban farm', 'massage bar',\n",
       "       'cell phone store', 'herbal remedy', 'nutrition/herbalife',\n",
       "       'convenience/gas station', 'grocery/ restaurant',\n",
       "       'grocery store/ restaurant', 'adult family care center',\n",
       "       'pushcart', 'city of chicago college', 'long term care facility',\n",
       "       'temporary kiosk', \"1023 childern's service s facility\",\n",
       "       'bowling lanes/banquets', 'rest/rooftop', 'unused storage',\n",
       "       'mobile food desserts vendor', 'golf course', 'drug/grocery store',\n",
       "       'grocery/liquor store', 'vfw hall', 'gas station/ grocery store',\n",
       "       'packaged liquor', 'wine store', 'packaged food distribution',\n",
       "       'restaurant/bakery', 'bakery/grocery',\n",
       "       'art gallery w/wine and beer', 'video store',\n",
       "       'health center/nutrition classes', 'bar/grill', 'hot dog cart',\n",
       "       '1584-day care above 2 years', 'day care', 'catering/cafe', 'deli',\n",
       "       '1005 nursing home', 'music venue', 'newsstand',\n",
       "       'protein shake bar', 'drug store/grocery', 'wine tasting bar',\n",
       "       'popcorn shop', 'day spa', 'riverwalk cafe', 'pantry',\n",
       "       'main kitchen', 'coffee',\n",
       "       'mobile frozen dessert disp/non-motorized', 'restaurant/grocery',\n",
       "       'catered events', 'non -profit', 'childern activity facility',\n",
       "       'catering and wholesale', 'pharmacy', 'repackaging plant',\n",
       "       'gas station /grocery', 'theater/bar', 'book store',\n",
       "       'charter school/cafeteria', 'grocery store/taqueria',\n",
       "       'restuarant and bar', 'gas station /subway mini mart.',\n",
       "       'illegal vendor', 'car wash', 'cafe', 'convnience store',\n",
       "       'tent rstaurant', 'tavern/restaurant', 'tavern-liquor',\n",
       "       'food vending machines', 'chicago park district', 'tavern/1006',\n",
       "       'room service', 'service gas station', 'herbal store',\n",
       "       'boys and girls club', 'tavern/bar', 'long-term care facility',\n",
       "       'liquore store/bar',\n",
       "       'mobile frozen desserts dispenser-non-motorized',\n",
       "       'frozen desserts dispenser-non-motorized', 'pool',\n",
       "       'blockbuster video', 'banquets/room service', 'summer feeding',\n",
       "       'mobile frozen dessert dispenser_non  motorized.',\n",
       "       'frozen desserts dispenser -non motorized',\n",
       "       'mobile frozen desserts dispenser-non- motorized',\n",
       "       'mobile frozen desserts dispenser-non-motor', 'church/day care',\n",
       "       'grocery/butcher', 'nail shop', 'dollar store selling grocery',\n",
       "       'daycare 2-6, under 6', 'non-for profit basement kit',\n",
       "       'bakery/ restaurant', 'mexican candy store', 'not for profit',\n",
       "       'live butcher', 'meat market', 'drug treatment facility',\n",
       "       'shared kitchen user (long trem)', 'restaurant/liquor',\n",
       "       'golf course conncession stand', 'np-kiosk',\n",
       "       'day care combo (1586)', 'liquor consumption on premises.',\n",
       "       'mobil food 1315', 'watermelon house', 'assissted living',\n",
       "       'nutrition store', 'daycare 1586', 'food pantry/church',\n",
       "       'paleteria /icecream shop', 'bakery/restaurant',\n",
       "       'unlicensed facility', '(convenience store)', 'peddler',\n",
       "       'hooka bar', 'kids cafe',\n",
       "       'prepackage meal distributor (1006 retail)',\n",
       "       'gift/card shop with candy', '(gas station)',\n",
       "       'coffee vending machine', 'drug store/w/ food', 'commiasary',\n",
       "       'grocery/liquor', 'ice cream parlor', 'produce stand',\n",
       "       \"farmer's market\", 'produce vendor', 'pharmacy/grocery',\n",
       "       'soup kitchen', 'hooka lounge', 'candy maker', 'tavern/liquor',\n",
       "       'incubator', 'wholesale bakery', \"kids cafe'\",\n",
       "       'exercise and nutrition bar', 'church/special event',\n",
       "       'restaurant and liquor',\n",
       "       'commissary for soft serve ice cream trucks', 'day care 1023',\n",
       "       'retail store', 'mobile dessert vendor', 'mobile dessert cart',\n",
       "       'cat/liquor', 'alternative school', 'grocery store/deli',\n",
       "       'church/after school program', 'after school care',\n",
       "       'general store', 'rooftop patio', 'linited business', 'religious',\n",
       "       'candy'], dtype=object)"
      ]
     },
     "execution_count": 43,
     "metadata": {},
     "output_type": "execute_result"
    }
   ],
   "source": [
    "(chicago['facility_type'].unique())"
   ]
  },
  {
   "cell_type": "code",
   "execution_count": 44,
   "metadata": {
    "ExecuteTime": {
     "end_time": "2019-11-11T10:50:21.564260Z",
     "start_time": "2019-11-11T10:50:20.923593Z"
    }
   },
   "outputs": [],
   "source": [
    "facility_count = chicago['facility_type'].value_counts()\n",
    "\n",
    "i = 0\n",
    "\n",
    "facility_types = []\n",
    "small_types = {}\n",
    "\n",
    "# Retrieving the main categories, and identifying the smallest ones\n",
    "for facility in facility_count.index:\n",
    "    if facility_count[facility] > 40:\n",
    "        facility_types.append(facility)\n",
    "    elif facility_count[facility] <= 40:\n",
    "        small_types[facility] = ''\n",
    "\n",
    "# Matching the small categories to the principal ones\n",
    "for small in small_types:\n",
    "    distances = []\n",
    "    for facility in facility_types:\n",
    "        dist = distance.get_jaro_distance(small, facility)\n",
    "        distances.append(dist)\n",
    "    index = np.argmax(distances)\n",
    "    if distances[index] > 0.70:\n",
    "        small_types[small] = facility_types[index]\n",
    "    else:\n",
    "        small_types[small] = 'misc'\n"
   ]
  },
  {
   "cell_type": "code",
   "execution_count": 45,
   "metadata": {
    "ExecuteTime": {
     "end_time": "2019-11-11T10:50:54.433364Z",
     "start_time": "2019-11-11T10:50:54.417737Z"
    }
   },
   "outputs": [
    {
     "name": "stdout",
     "output_type": "stream",
     "text": [
      "Minority categories and their match in the main category pool:\n",
      "{'store': 'misc', 'restaurant/bar': 'restaurant', 'church': 'misc', 'rooftop': 'misc', 'ice cream shop': 'coffee shop', \"1023 childern's services facility\": \"children's services facility\", 'church kitchen': 'shared kitchen', 'cooking school': 'charter school', 'commissary': 'misc', 'pop-up establishment host-tier ii': 'misc', 'culinary school': 'charter school', 'assisted living': 'misc', \"1023-children's services facility\": \"children's services facility\", 'bar': 'bakery', 'grocery & restaurant': 'grocery/restaurant', 'restaurant/grocery store': 'restaurant', 'roof tops': 'misc', 'restaurant/gas station': 'restaurant', 'mobile desserts vendor': 'mobile frozen desserts vendor', 'theater': 'shelter', 'nursing home': 'misc', 'roof top': 'misc', 'gas station/mini mart': 'gas station', 'grocery store/gas station': 'grocery store', 'paleteria': 'cafeteria', 'after school program': 'private school', 'wrigley roof top': 'misc', 'hotel': 'shelter', 'fitness center': 'misc', 'grocery(sushi prep)': 'grocery store', 'supportive living': 'misc', 'mobile food truck': 'mobile food dispenser', 'rooftops': 'misc', 'long term care facility': 'long term care', 'brewery': 'misc', 'wrigley rooftop': 'misc', 'theatre': 'shelter', 'university cafeteria': 'misc', 'grocery store/bakery': 'grocery store', '1023': 'misc', 'slaughter house/ grocery': 'misc', 'public shcool': 'private school', 'movie theatre': 'mobile prepared food vendor', 'health/ juice bar': 'misc', 'airport lounge': 'misc', 'juice bar': 'misc', 'gas station/restaurant': 'gas station', 'banquet facility': 'banquet hall', 'daycare night': 'daycare', 'candy/gelato': 'misc', \"o'hare kiosk\": 'navy pier kiosk', 'college': 'convenience', 'employee kitchen': 'misc', 'church/special events': 'misc', 'wine store': 'misc', 'assisted living senior care': 'misc', 'grocery and butcher': 'grocery store', 'grocery store/taqueria': 'grocery store', 'commissary for soft serve ice cream trucks': 'misc', 'gas station/store': 'gas station', 'banquet dining': 'banquet', 'mobile frozen desserts dispenser-non-motorized': 'mobile frozen desserts vendor', 'restaurant/hospital': 'restaurant', 'grocery& restaurant': 'grocery/restaurant', 'riverwalk': 'misc', 'bakery/deli': 'bakery', 'grocery store/cooking school': 'grocery store', 'pastry school': 'private school', 'banquet rooms': 'banquet', 'custom poultry slaughter': 'misc', 'movie theater': 'misc', 'warehouse': 'wholesale', 'rehab center': 'restaurant', 'grocery/bakery': 'grocery/restaurant', 'other': 'misc', 'brewpub': 'misc', 'grocery/gas station': 'grocery/restaurant', 'dollar store': 'misc', \"1023 childern's service facility\": \"children's services facility\", 'pantry': 'misc', 'coffee cart': 'coffee shop', 'lounge/banquet hall': 'misc', 'grocery store/ restaurant': 'grocery store', 'senior day care': 'misc', 'childrens services facility': \"children's services facility\", 'grocery': 'grocery store', 'rest/grocery': 'grocery store', 'poultry slaughter': 'misc', 'herbalife': 'misc', 'restuarant and bar': 'restaurant', 'mobile food': 'mobile food preparer', 'city of chicago college': 'misc', 'restaurant.banquet halls': 'restaurant', 'ice cream': 'misc', 'convenience/drug store': 'convenience store', \"1023 childern's service s facility\": \"children's services facility\", 'grocery/butcher': 'grocery store', 'banquet/kitchen': 'banquet', 'supportive living facility': 'misc', 'grocery/service gas station': 'grocery/restaurant', 'charity aid kitchen': 'charter school', 'butcher shop': 'charter school', 'banquets': 'banquet', 'event space': 'misc', 'rest/rooftop': 'restaurant', 'culinary arts school': 'charter school', 'donut shop': 'coffee shop', 'restaurant(protein shake bar)': 'restaurant', 'a-not-for-profit chef training program': 'misc', 'meat packing': 'misc', 'banquet hall/catering': 'banquet hall', 'banquet room': 'banquet', 'restaurant/bakery': 'restaurant', 'cafe/store': 'cafeteria', 'fish market': 'misc', 'tea brewing': 'catering', 'regulated business': 'misc', 'tavern grill': 'tavern', 'candy store': 'misc', 'day care 2-14': 'daycare', 'before and after school program': 'misc', 'rest/gym': 'restaurant', 'retail store offers cooking classes': 'misc', 'mobile frozen dessert vendor': 'mobile frozen desserts vendor', 'drug/food store': 'misc', 'school cafeteria': 'school', 'grocery store / gas station': 'grocery store', 'night club': 'misc', \"childern's service facility\": \"children's services facility\", 'pool': 'school', 'hot dog station': 'misc', 'grocery/taqueria': 'grocery/restaurant', 'truck': 'misc', 'dining hall': 'misc', 'grocery/cafe': 'grocery store', 'wine tasting bar': 'misc', 'northerly island': 'misc', 'daycare 2 yrs to 12 yrs': 'daycare (2 years)', 'coffee kiosk': 'coffee shop', 'liquor store': 'liquor', 'charter school cafeteria': 'charter school', \"1023 children's services facility\": \"children's services facility\", 'church (special events)': \"children's services facility\", 'pharmacy/grocery': 'misc', 'daycare combo': 'daycare combo 1586', 'daycare 2-6, under 6': 'daycare (2 - 6 years)', 'not-for-profit club': 'misc', 'theater & restaurant': 'misc', 'grocery/dollar store': 'grocery/restaurant', 'herbal life shop': 'misc', 'catering/cafe': 'catering', 'room service': 'misc', 'juice and salad bar': 'misc', 'grocery store/deli': 'grocery store', '15 monts to 5 years old': 'misc', 'french market space': 'misc', 'packaged liquor': 'misc', 'distribution center': 'misc', 'social club': 'misc', 'riverwalk cafe': 'misc', 'frozen dessert pushcarts': 'misc', 'snack shop': 'coffee shop', 'coffee  shop': 'coffee shop', 'smokehouse': 'misc', \"childern's services  facility\": \"children's services facility\", 'grocery/drug store': 'grocery store', 'bar/grill': 'misc', 'herbal medicine': 'misc', 'health care store': 'misc', 'gas station/store grocery': 'gas station', 'teaching school': 'charter school', 'gas station /grocery': 'gas station', 'deli': 'misc', 'food pantry': 'misc', 'grocery/tavern': 'grocery/restaurant', 'drug/grocery store': 'grocery store', 'retail food/gas station': 'misc', 'beverage/silverware warehouse': 'misc', 'weight loss program': 'misc', 'hostel': 'hospital', 'drug store/grocery': 'misc', 'long-term care facility': 'long term care', 'mexican candy store': 'misc', 'retail store': 'restaurant', 'video store': 'misc', 'restaurant/grocery': 'restaurant', 'newsstand': 'misc', 'theater/bar': 'shelter', 'day care 1023': 'daycare', 'coffee vending machine': 'coffee shop', 'golf course conncession stand': 'misc', 'herbal life': 'misc', 'bowling lanes/banquets': 'misc', 'cold/frozen food storage': 'misc', 'long-term care': 'long term care', 'animal shelter cafe permit': 'misc', 'convenient store': 'convenience store', 'drug store': 'misc', 'push carts': 'misc', 'laundromat': 'misc', 'candy shop': 'coffee shop', 'pharmacy': 'misc', 'vending commissary': 'misc', 'church/special event': 'misc', 'hooka lounge': 'misc', 'banquets/room service': 'banquet', 'catered events': 'catering', 'ice cream parlor': 'misc', 'shuffleboard club with bar': 'misc', 'tavern/store': 'tavern', 'paleteria /icecream shop': 'misc', 'herbalcal': 'misc', 'herbal remedy': 'misc', 'mfd truck': 'misc', 'herabalife': 'misc', 'tavern/restaurant': 'tavern', 'gym store': 'misc', 'herbalife/zumba': 'misc', 'liquor/coffee kiosk': 'liquor', 'cell phone store': 'misc', 'illegal vendor': 'misc', 'daycare 6 wks-5yrs': 'daycare', 'health center': 'misc', 'unlicensed facility': 'misc', 'high school kitchen': 'misc', 'exercise and nutrition bar': 'misc', 'lounge': 'long term care', 'non -profit': 'misc', 'sushi counter': 'misc', 'candy': 'misc', 'prep inside school': 'private school', 'temporary kiosk': 'misc', 'watermelon house': 'misc', 'bakery/grocery': 'bakery', 'day care': 'daycare', 'retail': 'restaurant', 'live butcher': 'live poultry', 'dollar & grocery store': 'misc', 'music venue': 'misc', 'chinese herbs': \"children's services facility\", 'smoothie bar': 'misc', 'adult family care center': 'misc', 'pre packaged': 'misc', '1005 nursing home': 'misc', 'packaged food distribution': 'misc', 'gas': 'gas station', 'golf course': 'golden diner', 'mobilprepared food vendor': 'mobile prepared food vendor', 'gelato shop': 'coffee shop', 'mobile frozen dessert dispenser_non  motorized.': 'mobile frozen desserts vendor', 'church/day care': 'misc', 'gas station/food': 'gas station', 'tent rstaurant': 'restaurant', 'dollar tree': 'misc', 'commisary restaurant': 'grocery/restaurant', 'pop-up food establishment user-tier iii': 'misc', 'fitness studio': 'misc', 'adult daycare': 'misc', 'coffee/tea': 'coffee shop', 'coffee': 'coffee shop', '1584-day care above 2 years': 'daycare above and under 2 years', 'gas station /subway mini mart.': 'gas station', 'food booth': 'misc', 'kitchen demo': 'misc', 'tea store': 'misc', 'convnience store': 'convenience store', 'catering and wholesale': 'catering', 'bakery/restaurant': 'bakery', 'clothing store': 'misc', 'boys and girls club': 'misc', 'liquore store/bar': 'liquor', 'produce stand': 'misc', 'gas station/convenience store': 'gas station', 'main kitchen': 'shared kitchen', 'restaurant/bar/theater': 'restaurant', 'childern activity facility': \"children's services facility\", 'culinary class rooms': 'misc', 'art gallery w/wine and beer': 'misc', 'vfw hall': 'misc', 'popcorn corn': 'misc', 'gas station store': 'gas station', 'liqour brewery tasting': 'liquor', 'tobacco store': 'misc', 'liquor consumption on premises.': 'liquor', 'cafe': 'cafeteria', 'charter school/cafeteria': 'charter school', 'restaurant/liquor': 'restaurant', 'candy maker': 'daycare', 'helicopter terminal': 'shelter', 'daycare 1586': 'daycare combo 1586', 'general store': 'grocery store', '(gas station)': 'gas station', 'packaged health foods': 'misc', 'summer feeding prep area': 'misc', 'retail wine/wine bar': 'misc', 'summer feeding': 'misc', 'youth housing': 'misc', 'distributor': 'misc', 'vending machine': 'misc', 'massage bar': 'misc', 'herbal drinks': 'misc', 'event venu': 'misc', 'assissted living': 'misc', 'not for profit': 'not available', 'nutrition store': 'misc', 'grocery(gas station)': 'grocery/restaurant', 'grocery store /pharmacy': 'grocery store', 'unused storage': 'misc', 'popcorn shop': 'misc', 'soup kitchen': 'shared kitchen', 'blockbuster video': 'misc', '1475 liquor': 'misc', 'gas station/ grocery store': 'gas station', 'grocery/ restaurant': 'grocery/restaurant', 'tavern/bar': 'tavern', 'urban farm': 'misc', 'museum/gallery': 'misc', 'gym': 'misc', 'nutrition/herbalife': 'misc', 'grocery/deli': 'grocery store', 'bakery/ restaurant': 'bakery', 'hot dog cart': 'misc', 'linited business': 'misc', 'food pantry/church': 'misc', 'mobile frozen dessert disp/non-motorized': 'mobile frozen desserts vendor', 'deli/grocery store': 'grocery store', 'pushcart': 'misc', 'herbalife store': 'misc', 'rooftop patio': 'misc', 'mobile frozen desserts dispenser-non- motorized': 'mobile frozen desserts vendor', 'gas station/grocery': 'gas station', 'book store': 'misc', 'mobil food 1315': 'mobile food preparer', 'prepackage meal distributor (1006 retail)': 'misc', 'produce vendor': 'private school', 'grocery/liquor': 'grocery store', 'mobile food desserts vendor': 'mobile prepared food vendor', 'tavern/liquor': 'tavern', 'furniture store': 'misc', 'service bar/theatre': 'misc', 'catered liquor': 'catering', 'mobile frozen desserts dispenser-non-motor': 'mobile frozen desserts vendor', 'dollar store selling grocery': 'misc', 'frozen desserts dispenser -non motorized': 'misc', 'church/after school program': 'charter school', 'pop-up food establishment user-tier ii': 'misc', 'hooka bar': 'misc', 'np-kiosk': 'misc', 'alternative school': 'private school', 'chicago park district': \"children's services facility\", 'spa': 'misc', 'art gallery': 'misc', 'shakes/teas': 'shelter', 'dollar store with grocery': 'misc', 'grocery/liquor store': 'grocery/restaurant', 'religious': 'misc', 'incubator': 'misc', 'meat market': 'misc', 'peddler': 'shelter', 'repackaging plant': 'misc', 'herbalife nutrition': 'misc', 'herbal': 'misc', 'frozen desserts dispenser-non-motorized': 'misc', 'drug treatment facility': 'misc', 'cat/liquor': 'catering', 'after school care': 'private school', 'service gas station': 'misc', 'deli/bakery': 'misc', 'protein shake bar': 'misc', 'prepacakaged foods': 'misc', 'drug store/w/ food': 'misc', 'kids cafe': 'kiosk', 'food vending machines': 'misc', 'commiasary': 'misc', 'gift shop': 'coffee shop', 'shared kitchen user (long trem)': 'shared kitchen user (long term)', 'health center/nutrition classes': 'misc', 'herbal store': 'misc', 'car wash': 'charter school', 'coffee roaster': 'coffee shop', 'tavern/1006': 'tavern', 'non-for profit basement kit': 'misc', 'day care combo (1586)': 'daycare combo 1586', 'gift/card shop with candy': 'misc', \"farmer's market\": 'misc', 'mobile dessert vendor': 'mobile frozen desserts vendor', 'convenience/gas station': 'convenience', 'tap room/tavern/liquor store': 'misc', 'tavern-liquor': 'tavern', '(convenience store)': 'convenience store', 'nail shop': 'misc', 'wholesale & retail': 'wholesale', \"kids cafe'\": 'kiosk', 'restaurant and liquor': 'restaurant', 'assisted living facility': \"children's services facility\", 'day spa': 'daycare', 'wholesale bakery': 'wholesale', 'internet cafe': 'misc', 'mobile dessert cart': 'mobile food dispenser'}\n"
     ]
    }
   ],
   "source": [
    "print('Minority categories and their match in the main category pool:')\n",
    "print(small_types)"
   ]
  },
  {
   "cell_type": "code",
   "execution_count": 46,
   "metadata": {
    "ExecuteTime": {
     "end_time": "2019-11-11T10:51:18.445220Z",
     "start_time": "2019-11-11T10:51:18.366959Z"
    }
   },
   "outputs": [],
   "source": [
    "# Replacing the minority categories by majority ones in the dataframe\n",
    "\n",
    "chicago['new_facility_type'] = chicago['facility_type']\n",
    "def get_new_facility(x):\n",
    "    if x not in small_types:\n",
    "        return x\n",
    "    else:\n",
    "        return small_types[x]\n",
    "    \n",
    "chicago['new_facility_type'] = chicago['new_facility_type'].apply(get_new_facility)"
   ]
  },
  {
   "cell_type": "code",
   "execution_count": 48,
   "metadata": {
    "ExecuteTime": {
     "end_time": "2019-11-11T10:53:18.834580Z",
     "start_time": "2019-11-11T10:53:18.803596Z"
    }
   },
   "outputs": [
    {
     "name": "stdout",
     "output_type": "stream",
     "text": [
      "Number of facilities in the dataset after matching minority types to majority types: 43\n"
     ]
    }
   ],
   "source": [
    "print('Number of facilities in the dataset after matching minority types to majority types:', len(chicago['new_facility_type'].unique()))"
   ]
  },
  {
   "cell_type": "code",
   "execution_count": 50,
   "metadata": {
    "ExecuteTime": {
     "end_time": "2019-11-11T10:53:54.416882Z",
     "start_time": "2019-11-11T10:53:52.807888Z"
    }
   },
   "outputs": [],
   "source": [
    "with open('./chicago-food-inspections/chicago_data.pickle', 'wb') as fp:\n",
    "    pickle.dump(chicago, fp)"
   ]
  },
  {
   "cell_type": "markdown",
   "metadata": {},
   "source": [
    "## Risk\n",
    "Filled nan values by Risk -1 and change risk 'All' to risk 4 (All), so that we can extract the data numerically if we want later\n"
   ]
  },
  {
   "cell_type": "code",
   "execution_count": 51,
   "metadata": {
    "ExecuteTime": {
     "end_time": "2019-11-11T10:53:55.994665Z",
     "start_time": "2019-11-11T10:53:55.338541Z"
    }
   },
   "outputs": [],
   "source": [
    "with open('./chicago-food-inspections/chicago_data.pickle', 'rb') as fp:\n",
    "    chicago = pickle.load(fp)"
   ]
  },
  {
   "cell_type": "code",
   "execution_count": 52,
   "metadata": {
    "ExecuteTime": {
     "end_time": "2019-11-11T10:53:56.182093Z",
     "start_time": "2019-11-11T10:53:55.994665Z"
    }
   },
   "outputs": [],
   "source": [
    "chicago['risk'].unique()\n",
    "chicago['risk'] = chicago['risk'].fillna('Risk -1 (None)')\n",
    "chicago['risk'] = chicago['risk'].str.replace('All', 'Risk 4 (All)')"
   ]
  },
  {
   "cell_type": "code",
   "execution_count": 53,
   "metadata": {
    "ExecuteTime": {
     "end_time": "2019-11-11T10:53:56.213366Z",
     "start_time": "2019-11-11T10:53:56.182093Z"
    }
   },
   "outputs": [
    {
     "data": {
      "text/plain": [
       "array(['Risk 2 (Medium)', 'Risk 1 (High)', 'Risk 3 (Low)',\n",
       "       'Risk -1 (None)', 'Risk 4 (All)'], dtype=object)"
      ]
     },
     "execution_count": 53,
     "metadata": {},
     "output_type": "execute_result"
    }
   ],
   "source": [
    "chicago['risk'].unique()"
   ]
  },
  {
   "cell_type": "code",
   "execution_count": 54,
   "metadata": {
    "ExecuteTime": {
     "end_time": "2019-11-11T10:53:58.650292Z",
     "start_time": "2019-11-11T10:53:57.119373Z"
    }
   },
   "outputs": [],
   "source": [
    "with open('./chicago-food-inspections/chicago_data.pickle', 'wb') as fp:\n",
    "    pickle.dump(chicago, fp)"
   ]
  },
  {
   "cell_type": "markdown",
   "metadata": {},
   "source": [
    "## Address"
   ]
  },
  {
   "cell_type": "code",
   "execution_count": 55,
   "metadata": {
    "ExecuteTime": {
     "end_time": "2019-11-11T10:53:59.306399Z",
     "start_time": "2019-11-11T10:53:58.650292Z"
    }
   },
   "outputs": [],
   "source": [
    "with open('./chicago-food-inspections/chicago_data.pickle', 'rb') as fp:\n",
    "    chicago = pickle.load(fp)"
   ]
  },
  {
   "cell_type": "code",
   "execution_count": 56,
   "metadata": {
    "ExecuteTime": {
     "end_time": "2019-11-11T10:53:59.337602Z",
     "start_time": "2019-11-11T10:53:59.306399Z"
    }
   },
   "outputs": [
    {
     "data": {
      "text/plain": [
       "array(['CHICAGO', nan, 'chicago', 'Chicago', 'GRIFFITH', 'NEW YORK',\n",
       "       'SCHAUMBURG', 'ELMHURST', 'ALGONQUIN', 'NEW HOLSTEIN', 'CCHICAGO',\n",
       "       'NILES NILES', 'EVANSTON', 'CHICAGO.', 'CHESTNUT STREET',\n",
       "       'LANSING', 'CHICAGOCHICAGO', 'WILMETTE', 'WHEATON',\n",
       "       'CHICAGOHICAGO', 'ROSEMONT', 'CHicago', 'CALUMET CITY',\n",
       "       'PLAINFIELD', 'HIGHLAND PARK', 'PALOS PARK', 'ELK GROVE VILLAGE',\n",
       "       'CICERO', 'BRIDGEVIEW', 'OAK PARK', 'MAYWOOD', 'LAKE BLUFF',\n",
       "       '312CHICAGO', 'SCHILLER PARK', 'SKOKIE', 'BEDFORD PARK',\n",
       "       'BANNOCKBURNDEERFIELD', 'CHCICAGO', 'BLOOMINGDALE', 'Norridge',\n",
       "       'CHARLES A HAYES', 'CHCHICAGO', 'CHICAGOI', 'SUMMIT',\n",
       "       'OOLYMPIA FIELDS', 'WESTMONT', 'CHICAGO HEIGHTS', 'JUSTICE',\n",
       "       'TINLEY PARK', 'LOMBARD', 'EAST HAZEL CREST', 'COUNTRY CLUB HILLS',\n",
       "       'STREAMWOOD', 'BOLINGBROOK', 'INACTIVE', 'BERWYN', 'BURNHAM',\n",
       "       'DES PLAINES', 'LAKE ZURICH', 'OLYMPIA FIELDS', 'OAK LAWN',\n",
       "       'BLUE ISLAND', 'GLENCOE', 'FRANKFORT', 'NAPERVILLE', 'BROADVIEW',\n",
       "       'WORTH', 'Maywood', 'ALSIP', 'alsip', 'EVERGREEN PARK'],\n",
       "      dtype=object)"
      ]
     },
     "execution_count": 56,
     "metadata": {},
     "output_type": "execute_result"
    }
   ],
   "source": [
    "chicago['city'].unique()"
   ]
  },
  {
   "cell_type": "code",
   "execution_count": 57,
   "metadata": {
    "ExecuteTime": {
     "end_time": "2019-11-11T10:53:59.978073Z",
     "start_time": "2019-11-11T10:53:59.946873Z"
    }
   },
   "outputs": [],
   "source": [
    "def split_address(address):\n",
    "    liste = address.split(' ')\n",
    "    nr = liste[0]\n",
    "    cardinal = liste[1]\n",
    "    reste = ' '.join(liste[2:])\n",
    "    liste = nr + ('*') + cardinal + '*' + reste\n",
    "    return liste"
   ]
  },
  {
   "cell_type": "code",
   "execution_count": 58,
   "metadata": {
    "ExecuteTime": {
     "end_time": "2019-11-11T10:54:02.055709Z",
     "start_time": "2019-11-11T10:54:01.243401Z"
    }
   },
   "outputs": [],
   "source": [
    "temp = chicago['address'].apply(split_address)\n",
    "temp = temp.str.split('*', expand=True)\n"
   ]
  },
  {
   "cell_type": "code",
   "execution_count": 59,
   "metadata": {
    "ExecuteTime": {
     "end_time": "2019-11-11T10:54:03.727215Z",
     "start_time": "2019-11-11T10:54:02.055709Z"
    }
   },
   "outputs": [],
   "source": [
    "with open('./chicago-food-inspections/chicago_data.pickle', 'wb') as fp:\n",
    "    pickle.dump(chicago, fp)"
   ]
  },
  {
   "cell_type": "markdown",
   "metadata": {},
   "source": [
    "## City"
   ]
  },
  {
   "cell_type": "code",
   "execution_count": 60,
   "metadata": {
    "ExecuteTime": {
     "end_time": "2019-11-11T10:54:03.820944Z",
     "start_time": "2019-11-11T10:54:03.727215Z"
    }
   },
   "outputs": [
    {
     "name": "stdout",
     "output_type": "stream",
     "text": [
      "71\n",
      "66\n"
     ]
    }
   ],
   "source": [
    "print(len(chicago['city'].unique()))\n",
    "chicago['city'] = chicago['city'].str.lower()\n",
    "print(len(chicago['city'].unique()))"
   ]
  },
  {
   "cell_type": "code",
   "execution_count": 61,
   "metadata": {
    "ExecuteTime": {
     "end_time": "2019-11-11T10:54:03.977131Z",
     "start_time": "2019-11-11T10:54:03.820944Z"
    }
   },
   "outputs": [],
   "source": [
    "chicago['city'].unique()\n",
    "chicago['city'] = chicago['city'].replace('cchicago', 'chicago').replace('chicago.', 'chicago')\n",
    "chicago['city'] = chicago['city'].replace('chicagochicago', 'chicago')\n",
    "chicago['city'] = chicago['city'].replace('chicagohicago', 'chicago')\n",
    "chicago['city'] = chicago['city'].replace('312chicago', 'chicago').replace('chicagoi', 'chicago')\n",
    "chicago['city'] = chicago['city'].replace('chchicago', 'chicago')\n",
    "chicago['city'] = chicago['city'].replace('chcicago', 'chicago')\n",
    "chicago['city'] = chicago['city'].fillna('chicago')"
   ]
  },
  {
   "cell_type": "code",
   "execution_count": 62,
   "metadata": {
    "ExecuteTime": {
     "end_time": "2019-11-11T10:54:04.008377Z",
     "start_time": "2019-11-11T10:54:03.977131Z"
    },
    "scrolled": true
   },
   "outputs": [
    {
     "data": {
      "text/plain": [
       "array(['algonquin', 'alsip', 'bannockburndeerfield', 'bedford park',\n",
       "       'berwyn', 'bloomingdale', 'blue island', 'bolingbrook',\n",
       "       'bridgeview', 'broadview', 'burnham', 'calumet city',\n",
       "       'charles a hayes', 'chestnut street', 'chicago', 'chicago heights',\n",
       "       'cicero', 'country club hills', 'des plaines', 'east hazel crest',\n",
       "       'elk grove village', 'elmhurst', 'evanston', 'evergreen park',\n",
       "       'frankfort', 'glencoe', 'griffith', 'highland park', 'inactive',\n",
       "       'justice', 'lake bluff', 'lake zurich', 'lansing', 'lombard',\n",
       "       'maywood', 'naperville', 'new holstein', 'new york', 'niles niles',\n",
       "       'norridge', 'oak lawn', 'oak park', 'olympia fields',\n",
       "       'oolympia fields', 'palos park', 'plainfield', 'rosemont',\n",
       "       'schaumburg', 'schiller park', 'skokie', 'streamwood', 'summit',\n",
       "       'tinley park', 'westmont', 'wheaton', 'wilmette', 'worth'],\n",
       "      dtype=object)"
      ]
     },
     "execution_count": 62,
     "metadata": {},
     "output_type": "execute_result"
    }
   ],
   "source": [
    "np.sort(chicago['city'].unique())"
   ]
  },
  {
   "cell_type": "code",
   "execution_count": 63,
   "metadata": {
    "ExecuteTime": {
     "end_time": "2019-11-11T10:54:05.258080Z",
     "start_time": "2019-11-11T10:54:05.226878Z"
    }
   },
   "outputs": [],
   "source": [
    "cities = pd.read_csv('./chicago-food-inspections/listsChicago.csv', sep=';', header=None)\n",
    "cities[0] = cities[0].str.lower()\n",
    "cities = cities[0].values"
   ]
  },
  {
   "cell_type": "code",
   "execution_count": 64,
   "metadata": {
    "ExecuteTime": {
     "end_time": "2019-11-11T10:54:08.413588Z",
     "start_time": "2019-11-11T10:54:05.461161Z"
    }
   },
   "outputs": [],
   "source": [
    "outs = []\n",
    "ins = []\n",
    "for city in chicago['city'].unique():\n",
    "    if city not in cities:\n",
    "        outs.append(city)\n",
    "        chicago = chicago[chicago['city'] != city]\n",
    "    else:\n",
    "        ins.append(city)"
   ]
  },
  {
   "cell_type": "code",
   "execution_count": 65,
   "metadata": {
    "ExecuteTime": {
     "end_time": "2019-11-11T10:54:08.429206Z",
     "start_time": "2019-11-11T10:54:08.413588Z"
    }
   },
   "outputs": [
    {
     "name": "stdout",
     "output_type": "stream",
     "text": [
      "Here are the real cities from Chicago!\n",
      "['chicago', 'cicero', 'bridgeview', 'oak park', 'maywood', 'bedford park', 'berwyn', 'oak lawn', 'broadview', 'evergreen park']\n"
     ]
    }
   ],
   "source": [
    "print('Here are the real cities from Chicago!')\n",
    "print(ins)"
   ]
  },
  {
   "cell_type": "markdown",
   "metadata": {},
   "source": [
    "## State\n",
    " We make sure that all our remaining entries are from Chicago in Illinois! "
   ]
  },
  {
   "cell_type": "code",
   "execution_count": 66,
   "metadata": {
    "ExecuteTime": {
     "end_time": "2019-11-11T10:54:08.460475Z",
     "start_time": "2019-11-11T10:54:08.429206Z"
    }
   },
   "outputs": [
    {
     "name": "stdout",
     "output_type": "stream",
     "text": [
      "['IL' nan]\n"
     ]
    }
   ],
   "source": [
    "print(chicago['state'].unique())\n",
    "chicago['state'] = np.where(chicago['state'].isnull(), 'IL', chicago['state'])\n",
    "    "
   ]
  },
  {
   "cell_type": "code",
   "execution_count": 67,
   "metadata": {
    "ExecuteTime": {
     "end_time": "2019-11-11T10:54:08.647905Z",
     "start_time": "2019-11-11T10:54:08.616696Z"
    }
   },
   "outputs": [
    {
     "name": "stdout",
     "output_type": "stream",
     "text": [
      "['IL']\n"
     ]
    }
   ],
   "source": [
    "print(chicago['state'].unique())"
   ]
  },
  {
   "cell_type": "code",
   "execution_count": null,
   "metadata": {},
   "outputs": [],
   "source": []
  }
 ],
 "metadata": {
  "kernelspec": {
   "display_name": "Python 3",
   "language": "python",
   "name": "python3"
  },
  "language_info": {
   "codemirror_mode": {
    "name": "ipython",
    "version": 3
   },
   "file_extension": ".py",
   "mimetype": "text/x-python",
   "name": "python",
   "nbconvert_exporter": "python",
   "pygments_lexer": "ipython3",
   "version": "3.7.4"
  },
  "toc": {
   "base_numbering": 1,
   "nav_menu": {},
   "number_sections": true,
   "sideBar": true,
   "skip_h1_title": false,
   "title_cell": "Table of Contents",
   "title_sidebar": "Contents",
   "toc_cell": false,
   "toc_position": {
    "height": "calc(100% - 180px)",
    "left": "10px",
    "top": "150px",
    "width": "165px"
   },
   "toc_section_display": true,
   "toc_window_display": true
  }
 },
 "nbformat": 4,
 "nbformat_minor": 2
}
