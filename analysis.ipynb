{
 "cells": [
  {
   "cell_type": "markdown",
   "metadata": {
    "toc": true
   },
   "source": [
    "<h1>Table of Contents<span class=\"tocSkip\"></span></h1>\n",
    "<div class=\"toc\"><ul class=\"toc-item\"><li><span><a href=\"#DATA-SET:-Chicago's-Food-Inspection\" data-toc-modified-id=\"DATA-SET:-Chicago's-Food-Inspection-1\"><span class=\"toc-item-num\">1&nbsp;&nbsp;</span>DATA SET: Chicago's Food Inspection</a></span></li><li><span><a href=\"#Data-Overview\" data-toc-modified-id=\"Data-Overview-2\"><span class=\"toc-item-num\">2&nbsp;&nbsp;</span>Data Overview</a></span></li><li><span><a href=\"#Treatment-of-the-data\" data-toc-modified-id=\"Treatment-of-the-data-3\"><span class=\"toc-item-num\">3&nbsp;&nbsp;</span>Treatment of the data</a></span><ul class=\"toc-item\"><li><span><a href=\"#inspection_id\" data-toc-modified-id=\"inspection_id-3.1\"><span class=\"toc-item-num\">3.1&nbsp;&nbsp;</span>inspection_id</a></span></li><li><span><a href=\"#DBA-name\" data-toc-modified-id=\"DBA-name-3.2\"><span class=\"toc-item-num\">3.2&nbsp;&nbsp;</span>DBA name</a></span></li><li><span><a href=\"#AKA-Name\" data-toc-modified-id=\"AKA-Name-3.3\"><span class=\"toc-item-num\">3.3&nbsp;&nbsp;</span>AKA Name</a></span></li><li><span><a href=\"#License-Number\" data-toc-modified-id=\"License-Number-3.4\"><span class=\"toc-item-num\">3.4&nbsp;&nbsp;</span>License Number</a></span></li><li><span><a href=\"#Facility-Type\" data-toc-modified-id=\"Facility-Type-3.5\"><span class=\"toc-item-num\">3.5&nbsp;&nbsp;</span>Facility Type</a></span></li><li><span><a href=\"#Risk\" data-toc-modified-id=\"Risk-3.6\"><span class=\"toc-item-num\">3.6&nbsp;&nbsp;</span>Risk</a></span></li><li><span><a href=\"#Address\" data-toc-modified-id=\"Address-3.7\"><span class=\"toc-item-num\">3.7&nbsp;&nbsp;</span>Address</a></span></li><li><span><a href=\"#City\" data-toc-modified-id=\"City-3.8\"><span class=\"toc-item-num\">3.8&nbsp;&nbsp;</span>City</a></span></li><li><span><a href=\"#State\" data-toc-modified-id=\"State-3.9\"><span class=\"toc-item-num\">3.9&nbsp;&nbsp;</span>State</a></span></li><li><span><a href=\"#Location\" data-toc-modified-id=\"Location-3.10\"><span class=\"toc-item-num\">3.10&nbsp;&nbsp;</span>Location</a></span></li><li><span><a href=\"#Inspection-type\" data-toc-modified-id=\"Inspection-type-3.11\"><span class=\"toc-item-num\">3.11&nbsp;&nbsp;</span>Inspection type</a></span></li><li><span><a href=\"#Violations\" data-toc-modified-id=\"Violations-3.12\"><span class=\"toc-item-num\">3.12&nbsp;&nbsp;</span>Violations</a></span></li></ul></li><li><span><a href=\"#Data-Exploration\" data-toc-modified-id=\"Data-Exploration-4\"><span class=\"toc-item-num\">4&nbsp;&nbsp;</span>Data Exploration</a></span><ul class=\"toc-item\"><li><span><a href=\"#Missing-Data\" data-toc-modified-id=\"Missing-Data-4.1\"><span class=\"toc-item-num\">4.1&nbsp;&nbsp;</span>Missing Data</a></span></li><li><span><a href=\"#Inspections-by-type--of-business\" data-toc-modified-id=\"Inspections-by-type--of-business-4.2\"><span class=\"toc-item-num\">4.2&nbsp;&nbsp;</span>Inspections by type  of business</a></span></li><li><span><a href=\"#Relationship-between-columns\" data-toc-modified-id=\"Relationship-between-columns-4.3\"><span class=\"toc-item-num\">4.3&nbsp;&nbsp;</span>Relationship between columns</a></span></li><li><span><a href=\"#Where-are-the-inspections-located?\" data-toc-modified-id=\"Where-are-the-inspections-located?-4.4\"><span class=\"toc-item-num\">4.4&nbsp;&nbsp;</span>Where are the inspections located?</a></span></li><li><span><a href=\"#Big-Chains\" data-toc-modified-id=\"Big-Chains-4.5\"><span class=\"toc-item-num\">4.5&nbsp;&nbsp;</span>Big Chains</a></span></li><li><span><a href=\"#Pass/Fail-Inspections\" data-toc-modified-id=\"Pass/Fail-Inspections-4.6\"><span class=\"toc-item-num\">4.6&nbsp;&nbsp;</span>Pass/Fail Inspections</a></span></li></ul></li><li><span><a href=\"#Ethnicity-Dataset\" data-toc-modified-id=\"Ethnicity-Dataset-5\"><span class=\"toc-item-num\">5&nbsp;&nbsp;</span>Ethnicity Dataset</a></span><ul class=\"toc-item\"><li><span><a href=\"#Read-Data\" data-toc-modified-id=\"Read-Data-5.1\"><span class=\"toc-item-num\">5.1&nbsp;&nbsp;</span>Read Data</a></span><ul class=\"toc-item\"><li><span><a href=\"#Ethnicity-Dataframe\" data-toc-modified-id=\"Ethnicity-Dataframe-5.1.1\"><span class=\"toc-item-num\">5.1.1&nbsp;&nbsp;</span>Ethnicity Dataframe</a></span></li><li><span><a href=\"#Boundaries-for-the-map\" data-toc-modified-id=\"Boundaries-for-the-map-5.1.2\"><span class=\"toc-item-num\">5.1.2&nbsp;&nbsp;</span>Boundaries for the map</a></span><ul class=\"toc-item\"><li><span><a href=\"#Create-geojson-file\" data-toc-modified-id=\"Create-geojson-file-5.1.2.1\"><span class=\"toc-item-num\">5.1.2.1&nbsp;&nbsp;</span>Create geojson file</a></span></li></ul></li><li><span><a href=\"#Chicago-inspections\" data-toc-modified-id=\"Chicago-inspections-5.1.3\"><span class=\"toc-item-num\">5.1.3&nbsp;&nbsp;</span>Chicago inspections</a></span></li></ul></li></ul></li><li><span><a href=\"#Creating-map\" data-toc-modified-id=\"Creating-map-6\"><span class=\"toc-item-num\">6&nbsp;&nbsp;</span>Creating map</a></span><ul class=\"toc-item\"><li><span><a href=\"#Total-density\" data-toc-modified-id=\"Total-density-6.1\"><span class=\"toc-item-num\">6.1&nbsp;&nbsp;</span>Total density</a></span></li><li><span><a href=\"#White-population-alone\" data-toc-modified-id=\"White-population-alone-6.2\"><span class=\"toc-item-num\">6.2&nbsp;&nbsp;</span>White population alone</a></span></li><li><span><a href=\"#Hispanic-or-Latino\" data-toc-modified-id=\"Hispanic-or-Latino-6.3\"><span class=\"toc-item-num\">6.3&nbsp;&nbsp;</span>Hispanic or Latino</a></span></li><li><span><a href=\"#Black-or-African-American-Alone\" data-toc-modified-id=\"Black-or-African-American-Alone-6.4\"><span class=\"toc-item-num\">6.4&nbsp;&nbsp;</span>Black or African American Alone</a></span></li></ul></li><li><span><a href=\"#Google-Local-Reviews\" data-toc-modified-id=\"Google-Local-Reviews-7\"><span class=\"toc-item-num\">7&nbsp;&nbsp;</span>Google Local Reviews</a></span><ul class=\"toc-item\"><li><span><a href=\"#Businesses\" data-toc-modified-id=\"Businesses-7.1\"><span class=\"toc-item-num\">7.1&nbsp;&nbsp;</span>Businesses</a></span></li><li><span><a href=\"#Filtering\" data-toc-modified-id=\"Filtering-7.2\"><span class=\"toc-item-num\">7.2&nbsp;&nbsp;</span>Filtering</a></span></li><li><span><a href=\"#Map-of-businesses\" data-toc-modified-id=\"Map-of-businesses-7.3\"><span class=\"toc-item-num\">7.3&nbsp;&nbsp;</span>Map of businesses</a></span></li></ul></li><li><span><a href=\"#Reviews\" data-toc-modified-id=\"Reviews-8\"><span class=\"toc-item-num\">8&nbsp;&nbsp;</span>Reviews</a></span><ul class=\"toc-item\"><li><span><a href=\"#Filtering\" data-toc-modified-id=\"Filtering-8.1\"><span class=\"toc-item-num\">8.1&nbsp;&nbsp;</span>Filtering</a></span></li><li><span><a href=\"#Number-of-Reviews\" data-toc-modified-id=\"Number-of-Reviews-8.2\"><span class=\"toc-item-num\">8.2&nbsp;&nbsp;</span>Number of Reviews</a></span></li></ul></li><li><span><a href=\"#Merging-Inspections-and-Google's-datasets\" data-toc-modified-id=\"Merging-Inspections-and-Google's-datasets-9\"><span class=\"toc-item-num\">9&nbsp;&nbsp;</span>Merging Inspections and Google's datasets</a></span></li><li><span><a href=\"#Prospective-Work\" data-toc-modified-id=\"Prospective-Work-10\"><span class=\"toc-item-num\">10&nbsp;&nbsp;</span>Prospective Work</a></span><ul class=\"toc-item\"><li><span><a href=\"#How-fair-are-inspections?\" data-toc-modified-id=\"How-fair-are-inspections?-10.1\"><span class=\"toc-item-num\">10.1&nbsp;&nbsp;</span>How fair are inspections?</a></span><ul class=\"toc-item\"><li><span><a href=\"#Which-type-of-restaurants-is-being-controlled-the-most?-And-which-type-of-restaurant-tend-to-pass-the-test-the-most?\" data-toc-modified-id=\"Which-type-of-restaurants-is-being-controlled-the-most?-And-which-type-of-restaurant-tend-to-pass-the-test-the-most?-10.1.1\"><span class=\"toc-item-num\">10.1.1&nbsp;&nbsp;</span>Which type of restaurants is being controlled the most? And which type of restaurant tend to pass the test the most?</a></span></li><li><span><a href=\"#Do-the-inspection-patterns-change-for-large-chain-restaurants-[from-Starbucks-and-McDonald's]-compared-to-smaller-independent-ones?\" data-toc-modified-id=\"Do-the-inspection-patterns-change-for-large-chain-restaurants-[from-Starbucks-and-McDonald's]-compared-to-smaller-independent-ones?-10.1.2\"><span class=\"toc-item-num\">10.1.2&nbsp;&nbsp;</span>Do the inspection patterns change for large chain restaurants [from Starbucks and McDonald's] compared to smaller independent ones?</a></span></li></ul></li><li><span><a href=\"#How-much-do-violations-correlate-with-external-events?\" data-toc-modified-id=\"How-much-do-violations-correlate-with-external-events?-10.2\"><span class=\"toc-item-num\">10.2&nbsp;&nbsp;</span>How much do violations correlate with external events?</a></span><ul class=\"toc-item\"><li><span><a href=\"#How-are-violations/failed-inspections-sensitive-to-permanent-external-factors-such-as-neighborhood,-type-of-establishments?\" data-toc-modified-id=\"How-are-violations/failed-inspections-sensitive-to-permanent-external-factors-such-as-neighborhood,-type-of-establishments?-10.2.1\"><span class=\"toc-item-num\">10.2.1&nbsp;&nbsp;</span>How are violations/failed inspections sensitive to permanent external factors such as neighborhood, type of establishments?</a></span></li></ul></li><li><span><a href=\"#How-do-violations/failed-inspections-correlate-with-temporary-factors-such-as-season,-and-time-of-the-year?-That-is,-for-a-given-area,-are-violations-more-or-less-regular,-or-are-they-susceptible-to-external-factors,-such-as-temperature?\" data-toc-modified-id=\"How-do-violations/failed-inspections-correlate-with-temporary-factors-such-as-season,-and-time-of-the-year?-That-is,-for-a-given-area,-are-violations-more-or-less-regular,-or-are-they-susceptible-to-external-factors,-such-as-temperature?-10.3\"><span class=\"toc-item-num\">10.3&nbsp;&nbsp;</span>How do violations/failed inspections correlate with temporary factors such as season, and time of the year? That is, for a given area, are violations more or less regular, or are they susceptible to external factors, such as temperature?</a></span></li><li><span><a href=\"#Do-violations-and-inspections-reflect-deeper-biases?\" data-toc-modified-id=\"Do-violations-and-inspections-reflect-deeper-biases?-10.4\"><span class=\"toc-item-num\">10.4&nbsp;&nbsp;</span>Do violations and inspections reflect deeper biases?</a></span><ul class=\"toc-item\"><li><span><a href=\"#Is-there-any-correlation-between-the-number-of-violations-and-inspections-with-the-(perceived)-ethnicity-of-each-neighborhood-of-Chicago?\" data-toc-modified-id=\"Is-there-any-correlation-between-the-number-of-violations-and-inspections-with-the-(perceived)-ethnicity-of-each-neighborhood-of-Chicago?-10.4.1\"><span class=\"toc-item-num\">10.4.1&nbsp;&nbsp;</span>Is there any correlation between the number of violations and inspections with the (perceived) ethnicity of each neighborhood of Chicago?</a></span></li><li><span><a href=\"#Is-there-a-relationship-between-the-inspections-and-restaurants'-popularity-on-Google-Local-Review?\" data-toc-modified-id=\"Is-there-a-relationship-between-the-inspections-and-restaurants'-popularity-on-Google-Local-Review?-10.4.2\"><span class=\"toc-item-num\">10.4.2&nbsp;&nbsp;</span>Is there a relationship between the inspections and restaurants' popularity on Google Local Review?</a></span></li></ul></li></ul></li></ul></div>"
   ]
  },
  {
   "cell_type": "code",
   "execution_count": 1,
   "metadata": {
    "ExecuteTime": {
     "end_time": "2019-11-25T19:52:40.476968Z",
     "start_time": "2019-11-25T19:52:36.666685Z"
    }
   },
   "outputs": [],
   "source": [
    "# Data Manipulation Libraries\n",
    "import pandas as pd\n",
    "import numpy as np\n",
    "import pickle \n",
    "import datetime\n",
    "from itertools import combinations\n",
    "from pyjarowinkler import distance\n",
    "import re\n",
    "\n",
    "# NLP Libraries\n",
    "from nltk.corpus import wordnet as wn\n",
    "from nltk.tokenize import RegexpTokenizer\n",
    "from nltk.corpus import stopwords\n",
    "from nltk.stem import WordNetLemmatizer\n",
    "\n",
    "# Data Visualisation Libraries\n",
    "from matplotlib import pyplot as plt\n",
    "import seaborn as sns\n",
    "from IPython.display import HTML\n",
    "\n",
    "# Geographical Data Libraries\n",
    "import geopandas as gpd\n",
    "import folium\n",
    "import pgeocode\n",
    "import shapefile\n",
    "from json import dumps\n",
    "\n",
    "import warnings\n",
    "warnings.filterwarnings(\"ignore\")"
   ]
  },
  {
   "cell_type": "markdown",
   "metadata": {},
   "source": [
    "# DATA SET: Chicago's Food Inspection"
   ]
  },
  {
   "cell_type": "markdown",
   "metadata": {},
   "source": [
    "Chicago's Food Inspection Dataset is derived from a larger initiative from the local authorities of Chicago to make Government's data publicly available to everyone. Other similar datasets are available at https://data.cityofchicago.org\n",
    "\n",
    "This dataset, in particular, is generated from inspections of restaurants and other food establishments in Chicago from January 1, 2010, to the present. Inspections are performed by staff from the Chicago Department of Public Health’s Food Protection Program using a standardized procedure. The results of the inspection are inputted into a database, then reviewed and approved by a State of Illinois Licensed Environmental Health Practitioner (LEHP).\n",
    "\n",
    "- __Data Owner__: Chicago Department of Public Health\n",
    "- __Time Period__: 2010 - Present\n",
    "- __Frequency__: This database was updated with information from new inspections each Friday.\n"
   ]
  },
  {
   "cell_type": "markdown",
   "metadata": {},
   "source": [
    "# Data Overview"
   ]
  },
  {
   "cell_type": "markdown",
   "metadata": {},
   "source": [
    "First of all, we are going to understand the dataset and its content. Initial analyis on the food-inspections dataset in Chicago follows below:"
   ]
  },
  {
   "cell_type": "code",
   "execution_count": 2,
   "metadata": {
    "ExecuteTime": {
     "end_time": "2019-11-25T19:52:43.525061Z",
     "start_time": "2019-11-25T19:52:40.480360Z"
    }
   },
   "outputs": [
    {
     "data": {
      "text/html": [
       "<div>\n",
       "<style scoped>\n",
       "    .dataframe tbody tr th:only-of-type {\n",
       "        vertical-align: middle;\n",
       "    }\n",
       "\n",
       "    .dataframe tbody tr th {\n",
       "        vertical-align: top;\n",
       "    }\n",
       "\n",
       "    .dataframe thead th {\n",
       "        text-align: right;\n",
       "    }\n",
       "</style>\n",
       "<table border=\"1\" class=\"dataframe\">\n",
       "  <thead>\n",
       "    <tr style=\"text-align: right;\">\n",
       "      <th></th>\n",
       "      <th>Inspection ID</th>\n",
       "      <th>DBA Name</th>\n",
       "      <th>AKA Name</th>\n",
       "      <th>License #</th>\n",
       "      <th>Facility Type</th>\n",
       "      <th>Risk</th>\n",
       "      <th>Address</th>\n",
       "      <th>City</th>\n",
       "      <th>State</th>\n",
       "      <th>Zip</th>\n",
       "      <th>...</th>\n",
       "      <th>Results</th>\n",
       "      <th>Violations</th>\n",
       "      <th>Latitude</th>\n",
       "      <th>Longitude</th>\n",
       "      <th>Location</th>\n",
       "      <th>Historical Wards 2003-2015</th>\n",
       "      <th>Zip Codes</th>\n",
       "      <th>Community Areas</th>\n",
       "      <th>Census Tracts</th>\n",
       "      <th>Wards</th>\n",
       "    </tr>\n",
       "  </thead>\n",
       "  <tbody>\n",
       "    <tr>\n",
       "      <td>0</td>\n",
       "      <td>2320830</td>\n",
       "      <td>THE HOXTON, CHICAGO</td>\n",
       "      <td>THE HOXTON, CHICAGO</td>\n",
       "      <td>2694640.0</td>\n",
       "      <td>Restaurant</td>\n",
       "      <td>Risk 2 (Medium)</td>\n",
       "      <td>200 N GREEN ST</td>\n",
       "      <td>CHICAGO</td>\n",
       "      <td>IL</td>\n",
       "      <td>60607.0</td>\n",
       "      <td>...</td>\n",
       "      <td>Pass</td>\n",
       "      <td>36. THERMOMETERS PROVIDED &amp; ACCURATE - Comment...</td>\n",
       "      <td>41.885699</td>\n",
       "      <td>-87.648789</td>\n",
       "      <td>{'latitude': '-87.64878908937915', 'longitude'...</td>\n",
       "      <td>NaN</td>\n",
       "      <td>NaN</td>\n",
       "      <td>NaN</td>\n",
       "      <td>NaN</td>\n",
       "      <td>NaN</td>\n",
       "    </tr>\n",
       "    <tr>\n",
       "      <td>1</td>\n",
       "      <td>2320831</td>\n",
       "      <td>OGDEN PLAZA INC.</td>\n",
       "      <td>OGDEN PLAZA INC.</td>\n",
       "      <td>2475982.0</td>\n",
       "      <td>Grocery Store</td>\n",
       "      <td>Risk 3 (Low)</td>\n",
       "      <td>3459 W OGDEN AVE</td>\n",
       "      <td>CHICAGO</td>\n",
       "      <td>IL</td>\n",
       "      <td>60623.0</td>\n",
       "      <td>...</td>\n",
       "      <td>Out of Business</td>\n",
       "      <td>NaN</td>\n",
       "      <td>41.855266</td>\n",
       "      <td>-87.712402</td>\n",
       "      <td>{'latitude': '-87.71240156240032', 'longitude'...</td>\n",
       "      <td>NaN</td>\n",
       "      <td>NaN</td>\n",
       "      <td>NaN</td>\n",
       "      <td>NaN</td>\n",
       "      <td>NaN</td>\n",
       "    </tr>\n",
       "    <tr>\n",
       "      <td>2</td>\n",
       "      <td>2320829</td>\n",
       "      <td>PLAZA FOOD AND LIQUOR</td>\n",
       "      <td>PLAZA FOOD AND LIQUOR</td>\n",
       "      <td>2689756.0</td>\n",
       "      <td>Grocery Store</td>\n",
       "      <td>Risk 3 (Low)</td>\n",
       "      <td>3455-3459 S OGDEN AVE</td>\n",
       "      <td>CHICAGO</td>\n",
       "      <td>IL</td>\n",
       "      <td>60623.0</td>\n",
       "      <td>...</td>\n",
       "      <td>Not Ready</td>\n",
       "      <td>NaN</td>\n",
       "      <td>NaN</td>\n",
       "      <td>NaN</td>\n",
       "      <td>NaN</td>\n",
       "      <td>NaN</td>\n",
       "      <td>NaN</td>\n",
       "      <td>NaN</td>\n",
       "      <td>NaN</td>\n",
       "      <td>NaN</td>\n",
       "    </tr>\n",
       "    <tr>\n",
       "      <td>3</td>\n",
       "      <td>2320813</td>\n",
       "      <td>PLAZA FOOD AND LIQUOR</td>\n",
       "      <td>PLAZA FOOD AND LIQUOR</td>\n",
       "      <td>2689757.0</td>\n",
       "      <td>Grocery Store</td>\n",
       "      <td>Risk 3 (Low)</td>\n",
       "      <td>3455-3459 S OGDEN AVE</td>\n",
       "      <td>CHICAGO</td>\n",
       "      <td>IL</td>\n",
       "      <td>60623.0</td>\n",
       "      <td>...</td>\n",
       "      <td>Fail</td>\n",
       "      <td>5. PROCEDURES FOR RESPONDING TO VOMITING AND D...</td>\n",
       "      <td>NaN</td>\n",
       "      <td>NaN</td>\n",
       "      <td>NaN</td>\n",
       "      <td>NaN</td>\n",
       "      <td>NaN</td>\n",
       "      <td>NaN</td>\n",
       "      <td>NaN</td>\n",
       "      <td>NaN</td>\n",
       "    </tr>\n",
       "    <tr>\n",
       "      <td>4</td>\n",
       "      <td>2320757</td>\n",
       "      <td>GADS HILL CENTER</td>\n",
       "      <td>GADS HILL CENTER</td>\n",
       "      <td>2698627.0</td>\n",
       "      <td>Daycare Above and Under 2 Years</td>\n",
       "      <td>Risk 1 (High)</td>\n",
       "      <td>4255-4259 S ARCHER AVE</td>\n",
       "      <td>CHICAGO</td>\n",
       "      <td>IL</td>\n",
       "      <td>60632.0</td>\n",
       "      <td>...</td>\n",
       "      <td>Fail</td>\n",
       "      <td>5. PROCEDURES FOR RESPONDING TO VOMITING AND D...</td>\n",
       "      <td>41.816005</td>\n",
       "      <td>-87.700893</td>\n",
       "      <td>{'latitude': '-87.70089338917239', 'longitude'...</td>\n",
       "      <td>NaN</td>\n",
       "      <td>NaN</td>\n",
       "      <td>NaN</td>\n",
       "      <td>NaN</td>\n",
       "      <td>NaN</td>\n",
       "    </tr>\n",
       "  </tbody>\n",
       "</table>\n",
       "<p>5 rows × 22 columns</p>\n",
       "</div>"
      ],
      "text/plain": [
       "   Inspection ID               DBA Name               AKA Name  License #  \\\n",
       "0        2320830    THE HOXTON, CHICAGO    THE HOXTON, CHICAGO  2694640.0   \n",
       "1        2320831       OGDEN PLAZA INC.       OGDEN PLAZA INC.  2475982.0   \n",
       "2        2320829  PLAZA FOOD AND LIQUOR  PLAZA FOOD AND LIQUOR  2689756.0   \n",
       "3        2320813  PLAZA FOOD AND LIQUOR  PLAZA FOOD AND LIQUOR  2689757.0   \n",
       "4        2320757       GADS HILL CENTER       GADS HILL CENTER  2698627.0   \n",
       "\n",
       "                     Facility Type             Risk                  Address  \\\n",
       "0                       Restaurant  Risk 2 (Medium)          200 N GREEN ST    \n",
       "1                    Grocery Store     Risk 3 (Low)        3459 W OGDEN AVE    \n",
       "2                    Grocery Store     Risk 3 (Low)   3455-3459 S OGDEN AVE    \n",
       "3                    Grocery Store     Risk 3 (Low)   3455-3459 S OGDEN AVE    \n",
       "4  Daycare Above and Under 2 Years    Risk 1 (High)  4255-4259 S ARCHER AVE    \n",
       "\n",
       "      City State      Zip  ...          Results  \\\n",
       "0  CHICAGO    IL  60607.0  ...             Pass   \n",
       "1  CHICAGO    IL  60623.0  ...  Out of Business   \n",
       "2  CHICAGO    IL  60623.0  ...        Not Ready   \n",
       "3  CHICAGO    IL  60623.0  ...             Fail   \n",
       "4  CHICAGO    IL  60632.0  ...             Fail   \n",
       "\n",
       "                                          Violations   Latitude  Longitude  \\\n",
       "0  36. THERMOMETERS PROVIDED & ACCURATE - Comment...  41.885699 -87.648789   \n",
       "1                                                NaN  41.855266 -87.712402   \n",
       "2                                                NaN        NaN        NaN   \n",
       "3  5. PROCEDURES FOR RESPONDING TO VOMITING AND D...        NaN        NaN   \n",
       "4  5. PROCEDURES FOR RESPONDING TO VOMITING AND D...  41.816005 -87.700893   \n",
       "\n",
       "                                            Location  \\\n",
       "0  {'latitude': '-87.64878908937915', 'longitude'...   \n",
       "1  {'latitude': '-87.71240156240032', 'longitude'...   \n",
       "2                                                NaN   \n",
       "3                                                NaN   \n",
       "4  {'latitude': '-87.70089338917239', 'longitude'...   \n",
       "\n",
       "   Historical Wards 2003-2015 Zip Codes  Community Areas  Census Tracts  Wards  \n",
       "0                         NaN       NaN              NaN            NaN    NaN  \n",
       "1                         NaN       NaN              NaN            NaN    NaN  \n",
       "2                         NaN       NaN              NaN            NaN    NaN  \n",
       "3                         NaN       NaN              NaN            NaN    NaN  \n",
       "4                         NaN       NaN              NaN            NaN    NaN  \n",
       "\n",
       "[5 rows x 22 columns]"
      ]
     },
     "execution_count": 2,
     "metadata": {},
     "output_type": "execute_result"
    }
   ],
   "source": [
    "chicago_df = pd.read_csv('./data/food-inspections.csv', delimiter=',')\n",
    "chicago_df.head()"
   ]
  },
  {
   "cell_type": "markdown",
   "metadata": {},
   "source": [
    "As we can see, this dataset has 22 different columns, of different type:\n",
    "- **Integer columns**: `'Inspection ID'`, `'License #'`, `'Zip'`\n",
    "- **Floating point columns**: `'Latitude'`, `'Longitude'`\n",
    "- **Date columns**: `'Inspection Date'`\n",
    "- **String Columns**: `'Results'`\\*, `'DBA Name'`, `'Address'`, `'Risk'`\\*, `'Facility Type'`\\*, `'City'`\\*, `'State'`\\*, `'Location'`, `'AKA Name'`, `'Inspection Type'`\\*, `'Violations'`^, where:\n",
    "   - \\*= Categorical\n",
    "   - ^= Too many categories to be called categorical (142431)\n",
    "- **Unknown data-type columns**: `'Wards'`, `'Community Areas'`, `'Zip Codes'`, `'Historical Wards 2003-2015'`, `'Census Tracts'`\n",
    "\n",
    "The contents of the columns whose meaning is not immediate are explained below:\n",
    "\n",
    "- __DBA__: ‘Doing business as.’ This is the legal name of the establishment.\n",
    "- __AKA__: ‘Also known as.’ This is the name the public would know the establishment as.\n",
    "- __License number__: This is a unique number assigned to the establishment for the purposes of licensing by the Department of Business Affairs and Consumer Protection.\n",
    "- __Type of facility__: Each establishment is described by one of the following: bakery, banquet hall, candy store, caterer, coffee shop, day care center (for ages less than 2), day care center (for ages 2 – 6), day care center (combo, for ages less than 2 and 2 – 6 combined), gas station, Golden Diner, grocery store, hospital, long term care center(nursing home), liquor store, mobile food dispenser, restaurant, paleteria, school, shelter, tavern, social club, wholesaler, or Wrigley Field Rooftop.\n",
    "- __Risk category of facility__: Each establishment is categorized as to its risk of adversely affecting the public’s health, with 1 being the highest and 3 the lowest. The frequency of inspection is tied to this risk, with risk 1 establishments inspected most frequently and risk 3 least frequently.\n",
    "- __Street address, city, state and zip code of facility__: This data provides a full address for each business.\n",
    "- __Inspection date__: This is the date the inspection occurred. A particular establishment is likely to have multiple inspections which are denoted by different inspection dates.\n",
    "- __Inspection type__: An inspection can be one of the following types: \n",
    " - *canvass*: the most common type of inspection performed at a frequency relative to the risk of the establishment.\n",
    " - *consultation*: when the inspection is done at the request of the owner prior to the opening of the establishment. \n",
    " - *complaint*: when the inspection is done in response to a complaint against the establishment.\n",
    " - *license*: when the inspection is done as a requirement for the establishment to receive its license to operate.\n",
    " - *suspect food poisoning* when the inspection is done in response to one or more persons claiming to have gotten ill as a result of eating at the establishment (a specific type of complaintbased inspection).\n",
    " - *task-force inspection* when an inspection of a bar or tavern is done.\n",
    " \n",
    " Re-inspections can occur for most types of these inspections and are indicated as such.\n",
    "- __Results__: An inspection can pass, pass with conditions or fail. Establishments receiving a ‘pass’ were found to have no critical or serious violations (violation number 1-14 and 15- 29, respectively). Establishments receiving a ‘pass with conditions’ were found to have critical or serious violations, but these were corrected during the inspection. Establishments receiving a ‘fail’ were found to have critical or serious violations that were not correctable during the inspection. An establishment receiving a ‘fail’ does not necessarily mean the establishment’s licensed is suspended. Establishments found to be out of business or not located are indicated as such.\n",
    "- __Violations__: An establishment can receive one or more of 45 distinct violations (violation numbers 1-44 and 70). For each violation number listed for a given establishment, the requirement the establishment must meet in order for it to NOT receive a violation is noted, followed by a specific description of the findings that caused the violation to be issued.\n"
   ]
  },
  {
   "cell_type": "code",
   "execution_count": 3,
   "metadata": {
    "ExecuteTime": {
     "end_time": "2019-11-25T19:52:48.555091Z",
     "start_time": "2019-11-25T19:52:43.530257Z"
    }
   },
   "outputs": [
    {
     "data": {
      "text/html": [
       "<div>\n",
       "<style scoped>\n",
       "    .dataframe tbody tr th:only-of-type {\n",
       "        vertical-align: middle;\n",
       "    }\n",
       "\n",
       "    .dataframe tbody tr th {\n",
       "        vertical-align: top;\n",
       "    }\n",
       "\n",
       "    .dataframe thead th {\n",
       "        text-align: right;\n",
       "    }\n",
       "</style>\n",
       "<table border=\"1\" class=\"dataframe\">\n",
       "  <thead>\n",
       "    <tr style=\"text-align: right;\">\n",
       "      <th></th>\n",
       "      <th>mins</th>\n",
       "      <th>maxs</th>\n",
       "    </tr>\n",
       "    <tr>\n",
       "      <th>Column</th>\n",
       "      <th></th>\n",
       "      <th></th>\n",
       "    </tr>\n",
       "  </thead>\n",
       "  <tbody>\n",
       "    <tr>\n",
       "      <td>Inspection ID</td>\n",
       "      <td>44247</td>\n",
       "      <td>2341211</td>\n",
       "    </tr>\n",
       "    <tr>\n",
       "      <td>DBA Name</td>\n",
       "      <td>#1 CHINA EXPRESS, LTD.</td>\n",
       "      <td>vitino pizzeria</td>\n",
       "    </tr>\n",
       "    <tr>\n",
       "      <td>License #</td>\n",
       "      <td>0</td>\n",
       "      <td>1e+07</td>\n",
       "    </tr>\n",
       "    <tr>\n",
       "      <td>Address</td>\n",
       "      <td></td>\n",
       "      <td>N2660 HAYTON RD</td>\n",
       "    </tr>\n",
       "    <tr>\n",
       "      <td>Zip</td>\n",
       "      <td>10014</td>\n",
       "      <td>60827</td>\n",
       "    </tr>\n",
       "    <tr>\n",
       "      <td>Inspection Date</td>\n",
       "      <td>2010-01-04T00:00:00.000</td>\n",
       "      <td>2019-10-31T00:00:00.000</td>\n",
       "    </tr>\n",
       "    <tr>\n",
       "      <td>Results</td>\n",
       "      <td>Business Not Located</td>\n",
       "      <td>Pass w/ Conditions</td>\n",
       "    </tr>\n",
       "    <tr>\n",
       "      <td>Latitude</td>\n",
       "      <td>41.6447</td>\n",
       "      <td>42.0211</td>\n",
       "    </tr>\n",
       "    <tr>\n",
       "      <td>Longitude</td>\n",
       "      <td>-87.9144</td>\n",
       "      <td>-87.5251</td>\n",
       "    </tr>\n",
       "    <tr>\n",
       "      <td>Historical Wards 2003-2015</td>\n",
       "      <td>NaN</td>\n",
       "      <td>NaN</td>\n",
       "    </tr>\n",
       "    <tr>\n",
       "      <td>Zip Codes</td>\n",
       "      <td>NaN</td>\n",
       "      <td>NaN</td>\n",
       "    </tr>\n",
       "    <tr>\n",
       "      <td>Community Areas</td>\n",
       "      <td>NaN</td>\n",
       "      <td>NaN</td>\n",
       "    </tr>\n",
       "    <tr>\n",
       "      <td>Census Tracts</td>\n",
       "      <td>NaN</td>\n",
       "      <td>NaN</td>\n",
       "    </tr>\n",
       "    <tr>\n",
       "      <td>Wards</td>\n",
       "      <td>NaN</td>\n",
       "      <td>NaN</td>\n",
       "    </tr>\n",
       "  </tbody>\n",
       "</table>\n",
       "</div>"
      ],
      "text/plain": [
       "                                               mins                     maxs\n",
       "Column                                                                      \n",
       "Inspection ID                                 44247                  2341211\n",
       "DBA Name                     #1 CHINA EXPRESS, LTD.          vitino pizzeria\n",
       "License #                                         0                    1e+07\n",
       "Address                                                     N2660 HAYTON RD \n",
       "Zip                                           10014                    60827\n",
       "Inspection Date             2010-01-04T00:00:00.000  2019-10-31T00:00:00.000\n",
       "Results                        Business Not Located       Pass w/ Conditions\n",
       "Latitude                                    41.6447                  42.0211\n",
       "Longitude                                  -87.9144                 -87.5251\n",
       "Historical Wards 2003-2015                      NaN                      NaN\n",
       "Zip Codes                                       NaN                      NaN\n",
       "Community Areas                                 NaN                      NaN\n",
       "Census Tracts                                   NaN                      NaN\n",
       "Wards                                           NaN                      NaN"
      ]
     },
     "execution_count": 3,
     "metadata": {},
     "output_type": "execute_result"
    }
   ],
   "source": [
    "# get basic min/max statistics to get a feeling of some column's values range\n",
    "basic_stats = (pd.Series(chicago_df.min(), name='mins').to_frame()\n",
    "               .join(pd.Series(chicago_df.max(), name='maxs')))\n",
    "basic_stats.index.name = 'Column'\n",
    "basic_stats"
   ]
  },
  {
   "cell_type": "markdown",
   "metadata": {},
   "source": [
    "We observe there are 5 columns filled with NaN values: `Historical`, `Wards 2003-2015`, `Zip Codes`, `Community Areas`, `Census Tracts`, `Wards`. \n",
    "\n",
    "We are going to remove these columns from our data frame. From now on, we will only work with the dataframe where these colums have been removed (*'chicago_df_noNan'*)."
   ]
  },
  {
   "cell_type": "code",
   "execution_count": 4,
   "metadata": {
    "ExecuteTime": {
     "end_time": "2019-11-25T19:52:48.594007Z",
     "start_time": "2019-11-25T19:52:48.559001Z"
    }
   },
   "outputs": [],
   "source": [
    "chicago_df_noNan = chicago_df.drop(columns=[\"Historical Wards 2003-2015\",\n",
    "                                            \"Zip Codes\",\n",
    "                                            \"Community Areas\",\n",
    "                                            \"Census Tracts\",\n",
    "                                            \"Wards\"])"
   ]
  },
  {
   "cell_type": "code",
   "execution_count": 5,
   "metadata": {
    "ExecuteTime": {
     "end_time": "2019-11-25T19:52:48.622766Z",
     "start_time": "2019-11-25T19:52:48.597900Z"
    }
   },
   "outputs": [
    {
     "data": {
      "text/html": [
       "<div>\n",
       "<style scoped>\n",
       "    .dataframe tbody tr th:only-of-type {\n",
       "        vertical-align: middle;\n",
       "    }\n",
       "\n",
       "    .dataframe tbody tr th {\n",
       "        vertical-align: top;\n",
       "    }\n",
       "\n",
       "    .dataframe thead th {\n",
       "        text-align: right;\n",
       "    }\n",
       "</style>\n",
       "<table border=\"1\" class=\"dataframe\">\n",
       "  <thead>\n",
       "    <tr style=\"text-align: right;\">\n",
       "      <th></th>\n",
       "      <th>Inspection ID</th>\n",
       "      <th>DBA Name</th>\n",
       "      <th>AKA Name</th>\n",
       "      <th>License #</th>\n",
       "      <th>Facility Type</th>\n",
       "      <th>Risk</th>\n",
       "      <th>Address</th>\n",
       "      <th>City</th>\n",
       "      <th>State</th>\n",
       "      <th>Zip</th>\n",
       "      <th>Inspection Date</th>\n",
       "      <th>Inspection Type</th>\n",
       "      <th>Results</th>\n",
       "      <th>Violations</th>\n",
       "      <th>Latitude</th>\n",
       "      <th>Longitude</th>\n",
       "      <th>Location</th>\n",
       "    </tr>\n",
       "  </thead>\n",
       "  <tbody>\n",
       "    <tr>\n",
       "      <td>0</td>\n",
       "      <td>2320830</td>\n",
       "      <td>THE HOXTON, CHICAGO</td>\n",
       "      <td>THE HOXTON, CHICAGO</td>\n",
       "      <td>2694640.0</td>\n",
       "      <td>Restaurant</td>\n",
       "      <td>Risk 2 (Medium)</td>\n",
       "      <td>200 N GREEN ST</td>\n",
       "      <td>CHICAGO</td>\n",
       "      <td>IL</td>\n",
       "      <td>60607.0</td>\n",
       "      <td>2019-10-31T00:00:00.000</td>\n",
       "      <td>License</td>\n",
       "      <td>Pass</td>\n",
       "      <td>36. THERMOMETERS PROVIDED &amp; ACCURATE - Comment...</td>\n",
       "      <td>41.885699</td>\n",
       "      <td>-87.648789</td>\n",
       "      <td>{'latitude': '-87.64878908937915', 'longitude'...</td>\n",
       "    </tr>\n",
       "    <tr>\n",
       "      <td>1</td>\n",
       "      <td>2320831</td>\n",
       "      <td>OGDEN PLAZA INC.</td>\n",
       "      <td>OGDEN PLAZA INC.</td>\n",
       "      <td>2475982.0</td>\n",
       "      <td>Grocery Store</td>\n",
       "      <td>Risk 3 (Low)</td>\n",
       "      <td>3459 W OGDEN AVE</td>\n",
       "      <td>CHICAGO</td>\n",
       "      <td>IL</td>\n",
       "      <td>60623.0</td>\n",
       "      <td>2019-10-31T00:00:00.000</td>\n",
       "      <td>Canvass</td>\n",
       "      <td>Out of Business</td>\n",
       "      <td>NaN</td>\n",
       "      <td>41.855266</td>\n",
       "      <td>-87.712402</td>\n",
       "      <td>{'latitude': '-87.71240156240032', 'longitude'...</td>\n",
       "    </tr>\n",
       "    <tr>\n",
       "      <td>2</td>\n",
       "      <td>2320829</td>\n",
       "      <td>PLAZA FOOD AND LIQUOR</td>\n",
       "      <td>PLAZA FOOD AND LIQUOR</td>\n",
       "      <td>2689756.0</td>\n",
       "      <td>Grocery Store</td>\n",
       "      <td>Risk 3 (Low)</td>\n",
       "      <td>3455-3459 S OGDEN AVE</td>\n",
       "      <td>CHICAGO</td>\n",
       "      <td>IL</td>\n",
       "      <td>60623.0</td>\n",
       "      <td>2019-10-31T00:00:00.000</td>\n",
       "      <td>License</td>\n",
       "      <td>Not Ready</td>\n",
       "      <td>NaN</td>\n",
       "      <td>NaN</td>\n",
       "      <td>NaN</td>\n",
       "      <td>NaN</td>\n",
       "    </tr>\n",
       "    <tr>\n",
       "      <td>3</td>\n",
       "      <td>2320813</td>\n",
       "      <td>PLAZA FOOD AND LIQUOR</td>\n",
       "      <td>PLAZA FOOD AND LIQUOR</td>\n",
       "      <td>2689757.0</td>\n",
       "      <td>Grocery Store</td>\n",
       "      <td>Risk 3 (Low)</td>\n",
       "      <td>3455-3459 S OGDEN AVE</td>\n",
       "      <td>CHICAGO</td>\n",
       "      <td>IL</td>\n",
       "      <td>60623.0</td>\n",
       "      <td>2019-10-31T00:00:00.000</td>\n",
       "      <td>License</td>\n",
       "      <td>Fail</td>\n",
       "      <td>5. PROCEDURES FOR RESPONDING TO VOMITING AND D...</td>\n",
       "      <td>NaN</td>\n",
       "      <td>NaN</td>\n",
       "      <td>NaN</td>\n",
       "    </tr>\n",
       "    <tr>\n",
       "      <td>4</td>\n",
       "      <td>2320757</td>\n",
       "      <td>GADS HILL CENTER</td>\n",
       "      <td>GADS HILL CENTER</td>\n",
       "      <td>2698627.0</td>\n",
       "      <td>Daycare Above and Under 2 Years</td>\n",
       "      <td>Risk 1 (High)</td>\n",
       "      <td>4255-4259 S ARCHER AVE</td>\n",
       "      <td>CHICAGO</td>\n",
       "      <td>IL</td>\n",
       "      <td>60632.0</td>\n",
       "      <td>2019-10-30T00:00:00.000</td>\n",
       "      <td>License</td>\n",
       "      <td>Fail</td>\n",
       "      <td>5. PROCEDURES FOR RESPONDING TO VOMITING AND D...</td>\n",
       "      <td>41.816005</td>\n",
       "      <td>-87.700893</td>\n",
       "      <td>{'latitude': '-87.70089338917239', 'longitude'...</td>\n",
       "    </tr>\n",
       "  </tbody>\n",
       "</table>\n",
       "</div>"
      ],
      "text/plain": [
       "   Inspection ID               DBA Name               AKA Name  License #  \\\n",
       "0        2320830    THE HOXTON, CHICAGO    THE HOXTON, CHICAGO  2694640.0   \n",
       "1        2320831       OGDEN PLAZA INC.       OGDEN PLAZA INC.  2475982.0   \n",
       "2        2320829  PLAZA FOOD AND LIQUOR  PLAZA FOOD AND LIQUOR  2689756.0   \n",
       "3        2320813  PLAZA FOOD AND LIQUOR  PLAZA FOOD AND LIQUOR  2689757.0   \n",
       "4        2320757       GADS HILL CENTER       GADS HILL CENTER  2698627.0   \n",
       "\n",
       "                     Facility Type             Risk                  Address  \\\n",
       "0                       Restaurant  Risk 2 (Medium)          200 N GREEN ST    \n",
       "1                    Grocery Store     Risk 3 (Low)        3459 W OGDEN AVE    \n",
       "2                    Grocery Store     Risk 3 (Low)   3455-3459 S OGDEN AVE    \n",
       "3                    Grocery Store     Risk 3 (Low)   3455-3459 S OGDEN AVE    \n",
       "4  Daycare Above and Under 2 Years    Risk 1 (High)  4255-4259 S ARCHER AVE    \n",
       "\n",
       "      City State      Zip          Inspection Date Inspection Type  \\\n",
       "0  CHICAGO    IL  60607.0  2019-10-31T00:00:00.000         License   \n",
       "1  CHICAGO    IL  60623.0  2019-10-31T00:00:00.000         Canvass   \n",
       "2  CHICAGO    IL  60623.0  2019-10-31T00:00:00.000         License   \n",
       "3  CHICAGO    IL  60623.0  2019-10-31T00:00:00.000         License   \n",
       "4  CHICAGO    IL  60632.0  2019-10-30T00:00:00.000         License   \n",
       "\n",
       "           Results                                         Violations  \\\n",
       "0             Pass  36. THERMOMETERS PROVIDED & ACCURATE - Comment...   \n",
       "1  Out of Business                                                NaN   \n",
       "2        Not Ready                                                NaN   \n",
       "3             Fail  5. PROCEDURES FOR RESPONDING TO VOMITING AND D...   \n",
       "4             Fail  5. PROCEDURES FOR RESPONDING TO VOMITING AND D...   \n",
       "\n",
       "    Latitude  Longitude                                           Location  \n",
       "0  41.885699 -87.648789  {'latitude': '-87.64878908937915', 'longitude'...  \n",
       "1  41.855266 -87.712402  {'latitude': '-87.71240156240032', 'longitude'...  \n",
       "2        NaN        NaN                                                NaN  \n",
       "3        NaN        NaN                                                NaN  \n",
       "4  41.816005 -87.700893  {'latitude': '-87.70089338917239', 'longitude'...  "
      ]
     },
     "execution_count": 5,
     "metadata": {},
     "output_type": "execute_result"
    }
   ],
   "source": [
    "chicago_df_noNan.head()"
   ]
  },
  {
   "cell_type": "markdown",
   "metadata": {},
   "source": [
    "# Treatment of the data\n",
    "In this part, the following columns of the data are examined and cleaned:\n",
    "Inspection ID', 'DBA Name', 'AKA Name', 'License #', 'Facility Type',\n",
    "       'Risk', 'Address', 'City', 'State'"
   ]
  },
  {
   "cell_type": "markdown",
   "metadata": {},
   "source": [
    "## inspection_id\n",
    "Some inspections have been inserted twice in the dataset and need to be deleted to avoid duplicates."
   ]
  },
  {
   "cell_type": "code",
   "execution_count": 6,
   "metadata": {
    "ExecuteTime": {
     "end_time": "2019-11-25T20:03:45.849217Z",
     "start_time": "2019-11-25T20:03:45.744262Z"
    }
   },
   "outputs": [],
   "source": [
    "# Create more coding friendly coding names\n",
    "og_columns = chicago_df_noNan.columns\n",
    "columns = [\n",
    "    'inspection_id', 'dba_name', 'aka_name', 'license', \n",
    "    'facility_type', 'risk', 'address', 'city', 'state', \n",
    "    'zip', 'inspection_date', 'inspection_type', 'results', \n",
    "    'violations', 'latitude', 'longitude', 'location'\n",
    "]\n",
    "chicago_df_noNan.columns = columns"
   ]
  },
  {
   "cell_type": "code",
   "execution_count": 7,
   "metadata": {
    "ExecuteTime": {
     "end_time": "2019-11-25T20:03:46.802441Z",
     "start_time": "2019-11-25T20:03:46.773356Z"
    }
   },
   "outputs": [],
   "source": [
    "inspection_id = chicago_df_noNan['inspection_id']"
   ]
  },
  {
   "cell_type": "markdown",
   "metadata": {},
   "source": [
    "We first verify that no entry has a null id"
   ]
  },
  {
   "cell_type": "code",
   "execution_count": 8,
   "metadata": {
    "ExecuteTime": {
     "end_time": "2019-11-25T20:03:48.095235Z",
     "start_time": "2019-11-25T20:03:47.971682Z"
    }
   },
   "outputs": [
    {
     "data": {
      "text/plain": [
       "0"
      ]
     },
     "execution_count": 8,
     "metadata": {},
     "output_type": "execute_result"
    }
   ],
   "source": [
    "sum(inspection_id.isnull())"
   ]
  },
  {
   "cell_type": "markdown",
   "metadata": {},
   "source": [
    "Then, we check for duplicate entries"
   ]
  },
  {
   "cell_type": "code",
   "execution_count": 9,
   "metadata": {
    "ExecuteTime": {
     "end_time": "2019-11-25T20:03:52.483133Z",
     "start_time": "2019-11-25T20:03:49.282243Z"
    }
   },
   "outputs": [],
   "source": [
    "duplicated = chicago_df_noNan.duplicated(keep='first')"
   ]
  },
  {
   "cell_type": "code",
   "execution_count": 10,
   "metadata": {
    "ExecuteTime": {
     "end_time": "2019-11-25T20:03:54.473882Z",
     "start_time": "2019-11-25T20:03:52.492153Z"
    }
   },
   "outputs": [
    {
     "name": "stdout",
     "output_type": "stream",
     "text": [
      "195116\n",
      "129\n",
      "194987\n"
     ]
    }
   ],
   "source": [
    "print(len(chicago_df_noNan))\n",
    "print(np.sum(duplicated))\n",
    "chicago_df_noNan = chicago_df_noNan.drop_duplicates()\n",
    "print(len(chicago_df_noNan)) "
   ]
  },
  {
   "cell_type": "markdown",
   "metadata": {},
   "source": [
    "## DBA name"
   ]
  },
  {
   "cell_type": "code",
   "execution_count": 11,
   "metadata": {
    "ExecuteTime": {
     "end_time": "2019-11-25T20:03:54.560337Z",
     "start_time": "2019-11-25T20:03:54.490168Z"
    }
   },
   "outputs": [
    {
     "data": {
      "text/plain": [
       "0"
      ]
     },
     "execution_count": 11,
     "metadata": {},
     "output_type": "execute_result"
    }
   ],
   "source": [
    "# Checking if there are any null entries\n",
    "sum(chicago_df_noNan['dba_name'].isnull())"
   ]
  },
  {
   "cell_type": "code",
   "execution_count": 12,
   "metadata": {
    "ExecuteTime": {
     "end_time": "2019-11-25T20:03:55.218244Z",
     "start_time": "2019-11-25T20:03:54.564194Z"
    }
   },
   "outputs": [
    {
     "name": "stdout",
     "output_type": "stream",
     "text": [
      "Number of unique restaurants in the dataset when the names are case sensitive: 27513\n",
      "Number of unique restaurants when the names are not case sensitive: 27227\n"
     ]
    }
   ],
   "source": [
    "# Standardising the name of the chain by lowering the cases\n",
    "print('Number of unique restaurants in the dataset when the names are case sensitive:', len(chicago_df_noNan['dba_name'].unique()))\n",
    "chicago_df_noNan['dba_name'] = chicago_df_noNan['dba_name'].str.lower()\n",
    "print('Number of unique restaurants when the names are not case sensitive:', len(chicago_df_noNan['dba_name'].unique()))"
   ]
  },
  {
   "cell_type": "markdown",
   "metadata": {
    "ExecuteTime": {
     "end_time": "2019-11-04T17:33:41.756617Z",
     "start_time": "2019-11-04T17:33:41.559145Z"
    }
   },
   "source": [
    "## AKA Name\n",
    "In this part, we cast all aka names into lower case, and replace the null entries by their DBA names"
   ]
  },
  {
   "cell_type": "code",
   "execution_count": 13,
   "metadata": {
    "ExecuteTime": {
     "end_time": "2019-11-25T20:03:55.319733Z",
     "start_time": "2019-11-25T20:03:55.231053Z"
    }
   },
   "outputs": [
    {
     "data": {
      "text/plain": [
       "array(['THE HOXTON, CHICAGO', 'OGDEN PLAZA INC.', 'PLAZA FOOD AND LIQUOR',\n",
       "       ..., 'SAFAH FOOD & LIQUOR INC', 'RAINBOW GROCERY', 'MAKIA FOOD'],\n",
       "      dtype=object)"
      ]
     },
     "execution_count": 13,
     "metadata": {},
     "output_type": "execute_result"
    }
   ],
   "source": [
    "chicago_df_noNan['aka_name'].unique()"
   ]
  },
  {
   "cell_type": "code",
   "execution_count": 14,
   "metadata": {
    "ExecuteTime": {
     "end_time": "2019-11-25T20:03:55.421454Z",
     "start_time": "2019-11-25T20:03:55.387434Z"
    },
    "scrolled": true
   },
   "outputs": [
    {
     "name": "stdout",
     "output_type": "stream",
     "text": [
      "Number of entries without an AKA name: 2449\n"
     ]
    }
   ],
   "source": [
    "print('Number of entries without an AKA name:', len(chicago_df_noNan[chicago_df_noNan['aka_name'].isnull()]))"
   ]
  },
  {
   "cell_type": "code",
   "execution_count": 15,
   "metadata": {
    "ExecuteTime": {
     "end_time": "2019-11-25T20:03:56.554555Z",
     "start_time": "2019-11-25T20:03:55.943821Z"
    }
   },
   "outputs": [],
   "source": [
    "# Replacing null entries with their dba name\n",
    "temp0 = chicago_df_noNan[chicago_df_noNan['aka_name'].isnull()]\n",
    "temp0['aka_name'] = temp0['dba_name']\n",
    "temp1 = chicago_df_noNan[~chicago_df_noNan['aka_name'].isnull()]\n",
    "chicago_df_noNan = temp1.append(temp0)"
   ]
  },
  {
   "cell_type": "code",
   "execution_count": 16,
   "metadata": {
    "ExecuteTime": {
     "end_time": "2019-11-25T20:03:57.503328Z",
     "start_time": "2019-11-25T20:03:56.695204Z"
    }
   },
   "outputs": [
    {
     "name": "stdout",
     "output_type": "stream",
     "text": [
      "Number of unique names with case sensitivity: 27181\n",
      "Number of unique names without case sensitivity: 26705\n"
     ]
    }
   ],
   "source": [
    "print('Number of unique names with case sensitivity:', len(chicago_df_noNan['aka_name'].unique()))\n",
    "temp = chicago_df_noNan['aka_name'].str.lower()\n",
    "print('Number of unique names without case sensitivity:', len(temp.unique()))\n",
    "chicago_df_noNan['aka_name'] = chicago_df_noNan['aka_name'].str.lower()"
   ]
  },
  {
   "cell_type": "markdown",
   "metadata": {},
   "source": [
    "## License Number\n",
    "Some business don't have a license number. In this dataframe, we create a boolean column, indicating if the business has a license number or not"
   ]
  },
  {
   "cell_type": "code",
   "execution_count": 17,
   "metadata": {
    "ExecuteTime": {
     "end_time": "2019-11-25T20:03:59.191349Z",
     "start_time": "2019-11-25T20:03:58.488506Z"
    },
    "scrolled": true
   },
   "outputs": [
    {
     "name": "stdout",
     "output_type": "stream",
     "text": [
      "There are  17 entries without a license number\n"
     ]
    }
   ],
   "source": [
    "print('There are ', len(chicago_df_noNan[chicago_df_noNan['license'].isnull()]), 'entries without a license number')"
   ]
  },
  {
   "cell_type": "code",
   "execution_count": 18,
   "metadata": {
    "ExecuteTime": {
     "end_time": "2019-11-25T20:04:00.099947Z",
     "start_time": "2019-11-25T20:04:00.062239Z"
    }
   },
   "outputs": [],
   "source": [
    "chicago_df_noNan['has_license'] = ~chicago_df_noNan['license'].isnull()"
   ]
  },
  {
   "cell_type": "markdown",
   "metadata": {},
   "source": [
    "## Facility Type\n",
    "Some types of facilities only contain one establishment, either because it is a very niche category, or because it was entered in a way that the similar entries don't match because of spelling or specificity. In order to group those categories, we match the facility types grouping less than 40 establishments to the most similar category according to the Jaro Winkler distance. If none of the categories are a match (distance smaller than 0.70), we place them into misc (miscellaneous)."
   ]
  },
  {
   "cell_type": "code",
   "execution_count": 19,
   "metadata": {
    "ExecuteTime": {
     "end_time": "2019-11-25T20:04:02.337386Z",
     "start_time": "2019-11-25T20:04:02.125559Z"
    }
   },
   "outputs": [],
   "source": [
    "# Turn Nan values into a string to be able to operate on the column\n",
    "# Standardising the facility types to lower case categories\n",
    "chicago_df_noNan['facility_type']\n",
    "len(chicago_df_noNan['facility_type'].unique())\n",
    "chicago_df_noNan['facility_type'] = chicago_df_noNan['facility_type'].fillna('not available')\n",
    "chicago_df_noNan['facility_type'] = chicago_df_noNan['facility_type'].str.lower()"
   ]
  },
  {
   "cell_type": "code",
   "execution_count": 20,
   "metadata": {
    "ExecuteTime": {
     "end_time": "2019-11-25T20:04:03.062338Z",
     "start_time": "2019-11-25T20:04:03.041761Z"
    }
   },
   "outputs": [
    {
     "data": {
      "text/plain": [
       "194987"
      ]
     },
     "execution_count": 20,
     "metadata": {},
     "output_type": "execute_result"
    }
   ],
   "source": [
    "len(chicago_df_noNan)"
   ]
  },
  {
   "cell_type": "code",
   "execution_count": 21,
   "metadata": {
    "ExecuteTime": {
     "end_time": "2019-11-25T20:04:03.737678Z",
     "start_time": "2019-11-25T20:04:03.710447Z"
    }
   },
   "outputs": [
    {
     "name": "stdout",
     "output_type": "stream",
     "text": [
      "Number of facility types before standardising: 441\n"
     ]
    }
   ],
   "source": [
    "print('Number of facility types before standardising:', len(chicago_df_noNan['facility_type'].unique()))"
   ]
  },
  {
   "cell_type": "code",
   "execution_count": 22,
   "metadata": {
    "ExecuteTime": {
     "end_time": "2019-11-25T20:04:04.305064Z",
     "start_time": "2019-11-25T20:04:04.269971Z"
    }
   },
   "outputs": [
    {
     "data": {
      "text/plain": [
       "array(['bakery/ restaurant', 'mexican candy store', 'not for profit',\n",
       "       'live butcher', 'meat market', 'drug treatment facility',\n",
       "       'shared kitchen user (long trem)', 'restaurant/liquor', 'np-kiosk',\n",
       "       'day care combo (1586)', 'liquor consumption on premises.',\n",
       "       'mobil food 1315', 'watermelon house', 'assissted living',\n",
       "       'nutrition store', 'daycare 1586', 'food pantry/church',\n",
       "       'paleteria /icecream shop', 'bakery/restaurant',\n",
       "       'unlicensed facility', '(convenience store)', 'peddler',\n",
       "       'hooka bar', 'kids cafe',\n",
       "       'prepackage meal distributor (1006 retail)',\n",
       "       'gift/card shop with candy', '(gas station)',\n",
       "       'coffee vending machine', 'drug store/w/ food', 'commiasary',\n",
       "       'grocery/liquor', 'ice cream parlor', \"farmer's market\",\n",
       "       'produce stand', 'produce vendor', 'pharmacy/grocery',\n",
       "       'soup kitchen', 'hooka lounge', 'candy maker', 'tavern/liquor',\n",
       "       'incubator', 'wholesale bakery', \"kids cafe'\",\n",
       "       'exercise and nutrition bar', 'church/special event',\n",
       "       'restaurant and liquor',\n",
       "       'commissary for soft serve ice cream trucks', 'day care 1023',\n",
       "       'retail store', 'mobile dessert vendor', 'mobile dessert cart',\n",
       "       'cat/liquor', 'alternative school', 'grocery store/deli',\n",
       "       'church/after school program', 'general store',\n",
       "       'after school care', 'rooftop patio', 'linited business',\n",
       "       'religious', 'candy'], dtype=object)"
      ]
     },
     "execution_count": 22,
     "metadata": {},
     "output_type": "execute_result"
    }
   ],
   "source": [
    "# get an idea of the facility types, before standardising\n",
    "chicago_df_noNan['facility_type'].unique()[380:]"
   ]
  },
  {
   "cell_type": "code",
   "execution_count": 23,
   "metadata": {
    "ExecuteTime": {
     "end_time": "2019-11-25T20:04:08.960534Z",
     "start_time": "2019-11-25T20:04:05.017912Z"
    }
   },
   "outputs": [],
   "source": [
    "facility_count = chicago_df_noNan['facility_type'].value_counts()\n",
    "\n",
    "i = 0\n",
    "\n",
    "facility_types = []\n",
    "small_types = {}\n",
    "\n",
    "# Retrieving the main categories, and identifying the smallest ones\n",
    "for facility in facility_count.index:\n",
    "    if facility_count[facility] > 40:\n",
    "        facility_types.append(facility)\n",
    "    elif facility_count[facility] <= 40:\n",
    "        small_types[facility] = ''\n",
    "\n",
    "# Matching the small categories to the principal ones\n",
    "for small in small_types:\n",
    "    distances = []\n",
    "    for facility in facility_types:\n",
    "        dist = distance.get_jaro_distance(small, facility)\n",
    "        distances.append(dist)\n",
    "    index = np.argmax(distances)\n",
    "    if distances[index] > 0.70:\n",
    "        small_types[small] = facility_types[index]\n",
    "    else:\n",
    "        small_types[small] = 'misc'\n"
   ]
  },
  {
   "cell_type": "code",
   "execution_count": 24,
   "metadata": {
    "ExecuteTime": {
     "end_time": "2019-11-25T20:04:09.330995Z",
     "start_time": "2019-11-25T20:04:08.973912Z"
    }
   },
   "outputs": [],
   "source": [
    "# Replacing the minority categories by majority ones in the dataframe\n",
    "chicago_df_noNan['new_facility_type'] = chicago_df_noNan['facility_type']\n",
    "\n",
    "def get_new_facility(x):\n",
    "    if x not in small_types:\n",
    "        return x\n",
    "    else:\n",
    "        return small_types[x]\n",
    "    \n",
    "chicago_df_noNan['new_facility_type'] = chicago_df_noNan['new_facility_type'].apply(get_new_facility)"
   ]
  },
  {
   "cell_type": "code",
   "execution_count": 25,
   "metadata": {
    "ExecuteTime": {
     "end_time": "2019-11-25T20:04:09.402996Z",
     "start_time": "2019-11-25T20:04:09.349436Z"
    }
   },
   "outputs": [
    {
     "name": "stdout",
     "output_type": "stream",
     "text": [
      "Number of facilities in the dataset after matching minority types to majority types: 43\n"
     ]
    }
   ],
   "source": [
    "print('Number of facilities in the dataset after matching minority types to majority types:', len(chicago_df_noNan['new_facility_type'].unique()))"
   ]
  },
  {
   "cell_type": "code",
   "execution_count": null,
   "metadata": {
    "ExecuteTime": {
     "end_time": "2019-11-25T20:30:05.872847Z",
     "start_time": "2019-11-25T20:04:10.368450Z"
    }
   },
   "outputs": [],
   "source": [
    "# (empirically) test validity of this grouping\n",
    "import time\n",
    "from sklearn.preprocessing import LabelEncoder\n",
    "from sklearn.model_selection import train_test_split\n",
    "from sklearn.neural_network import MLPClassifier\n",
    "from sklearn.neighbors import KNeighborsClassifier\n",
    "from sklearn.svm import SVC\n",
    "from sklearn.gaussian_process import GaussianProcessClassifier\n",
    "from sklearn.gaussian_process.kernels import RBF\n",
    "from sklearn.tree import DecisionTreeClassifier\n",
    "from sklearn.ensemble import RandomForestClassifier, AdaBoostClassifier\n",
    "from sklearn.naive_bayes import GaussianNB\n",
    "from sklearn.discriminant_analysis import QuadraticDiscriminantAnalysis\n",
    "\n",
    "\n",
    "y = np.array(chicago_df_noNan['violations'].isnull()).reshape(-1, 1)\n",
    "X_new = np.array(LabelEncoder().fit_transform(chicago_df_noNan['new_facility_type'])).reshape(-1, 1)\n",
    "X_original = np.array(LabelEncoder().fit_transform(chicago_df_noNan['facility_type'])).reshape(-1, 1)\n",
    "\n",
    "names = [\"Nearest Neighbors\", \"Linear SVM\", \"RBF SVM\", \"Gaussian Process\",\n",
    "         \"Decision Tree\", \"Random Forest\", \"Neural Net\", \"AdaBoost\",\n",
    "         \"Naive Bayes\", \"QDA\"]\n",
    "\n",
    "classifiers = [\n",
    "    KNeighborsClassifier(3),\n",
    "    SVC(gamma=2, C=1),\n",
    "    DecisionTreeClassifier(max_depth=5),\n",
    "    RandomForestClassifier(max_depth=5, n_estimators=10, max_features=1),\n",
    "    MLPClassifier(alpha=1, max_iter=1000),\n",
    "    AdaBoostClassifier(),\n",
    "    GaussianNB(),\n",
    "    QuadraticDiscriminantAnalysis()]\n",
    "\n",
    "X_new_train, X_new_test, y_new_train, y_new_test = \\\n",
    "        train_test_split(X_new, y, test_size=.2, random_state=1)\n",
    "\n",
    "X_orig_train, X_orig_test, y_orig_train, y_orig_test = \\\n",
    "        train_test_split(X_original, y, test_size=.2, random_state=1)\n",
    "\n",
    "# iterate over classifiers\n",
    "for name, clf in zip(names, classifiers):\n",
    "    print(\"Classifier: {}\".format(name), end='')\n",
    "    \n",
    "    timer_start = time.time()\n",
    "    clf.fit(X_orig_train, y_orig_train)\n",
    "    score_orig = clf.score(X_orig_test, y_orig_test)\n",
    "    clf.fit(X_new_train, y_new_train)\n",
    "    score_new = clf.score(X_new_test, y_new_test)\n",
    "    timer_end = time.time()\n",
    "    print(\", elapsed time: {0:.2f} seconds\".format(timer_end - timer_start))\n",
    "\n",
    "    print(\"\\t Score with original facility types: \\t{}\".format(score_orig))\n",
    "    print(\"\\t Score with new facility types: \\t{}\".format(score_new))"
   ]
  },
  {
   "cell_type": "markdown",
   "metadata": {},
   "source": [
    "Thus we observe that, depending on the algorithm, our grouping either offers a performance advantage or at the very least does not detract from the performance otherwise."
   ]
  },
  {
   "cell_type": "markdown",
   "metadata": {},
   "source": [
    "## Risk\n",
    "Filled nan values by Risk -1 and change risk 'All' to risk 4 (All), so that we can extract the data numerically if we want later\n"
   ]
  },
  {
   "cell_type": "code",
   "execution_count": 26,
   "metadata": {
    "ExecuteTime": {
     "end_time": "2019-11-25T15:04:05.110056Z",
     "start_time": "2019-11-25T15:04:04.901580Z"
    }
   },
   "outputs": [],
   "source": [
    "chicago_df_noNan['risk'].unique()\n",
    "chicago_df_noNan['risk'] = chicago_df_noNan['risk'].fillna('Risk -1 (None)')\n",
    "chicago_df_noNan['risk'] = chicago_df_noNan['risk'].str.replace('All', 'Risk 4 (All)')"
   ]
  },
  {
   "cell_type": "code",
   "execution_count": 27,
   "metadata": {
    "ExecuteTime": {
     "end_time": "2019-11-25T15:04:05.193684Z",
     "start_time": "2019-11-25T15:04:05.178724Z"
    }
   },
   "outputs": [
    {
     "data": {
      "text/plain": [
       "array(['Risk 2 (Medium)', 'Risk 3 (Low)', 'Risk 1 (High)',\n",
       "       'Risk -1 (None)', 'Risk 4 (All)'], dtype=object)"
      ]
     },
     "execution_count": 27,
     "metadata": {},
     "output_type": "execute_result"
    }
   ],
   "source": [
    "chicago_df_noNan['risk'].unique()"
   ]
  },
  {
   "cell_type": "markdown",
   "metadata": {},
   "source": [
    "## Address"
   ]
  },
  {
   "cell_type": "code",
   "execution_count": 28,
   "metadata": {
    "ExecuteTime": {
     "end_time": "2019-11-25T15:04:06.579420Z",
     "start_time": "2019-11-25T15:04:06.565458Z"
    },
    "scrolled": true
   },
   "outputs": [
    {
     "data": {
      "text/plain": [
       "array(['CHICAGO', nan, 'chicago', 'Chicago', 'GRIFFITH', 'NEW YORK',\n",
       "       'SCHAUMBURG', 'ELMHURST', 'NEW HOLSTEIN', 'ALGONQUIN', 'CCHICAGO',\n",
       "       'NILES NILES', 'EVANSTON', 'CHICAGO.', 'CHESTNUT STREET',\n",
       "       'LANSING', 'CHICAGOCHICAGO', 'WADSWORTH', 'WILMETTE', 'WHEATON',\n",
       "       'CHICAGOHICAGO', 'ROSEMONT', 'CHicago', 'CALUMET CITY',\n",
       "       'PLAINFIELD', 'HIGHLAND PARK', 'PALOS PARK', 'ELK GROVE VILLAGE',\n",
       "       'BRIDGEVIEW', 'CICERO', 'OAK PARK', 'MAYWOOD', 'LAKE BLUFF',\n",
       "       '312CHICAGO', 'SCHILLER PARK', 'SKOKIE', 'BEDFORD PARK',\n",
       "       'BANNOCKBURNDEERFIELD', 'CHCICAGO', 'BLOOMINGDALE', 'Norridge',\n",
       "       'CHARLES A HAYES', 'CHCHICAGO', 'CHICAGOI', 'SUMMIT',\n",
       "       'OOLYMPIA FIELDS', 'WESTMONT', 'CHICAGO HEIGHTS', 'JUSTICE',\n",
       "       'TINLEY PARK', 'LOMBARD', 'EAST HAZEL CREST', 'COUNTRY CLUB HILLS',\n",
       "       'STREAMWOOD', 'BOLINGBROOK', 'INACTIVE', 'BERWYN', 'BURNHAM',\n",
       "       'DES PLAINES', 'LAKE ZURICH', 'OLYMPIA FIELDS', 'OAK LAWN',\n",
       "       'BLUE ISLAND', 'GLENCOE', 'FRANKFORT', 'NAPERVILLE', 'BROADVIEW',\n",
       "       'WORTH', 'Maywood', 'ALSIP', 'alsip', 'EVERGREEN PARK'],\n",
       "      dtype=object)"
      ]
     },
     "execution_count": 28,
     "metadata": {},
     "output_type": "execute_result"
    }
   ],
   "source": [
    "chicago_df_noNan['city'].unique()"
   ]
  },
  {
   "cell_type": "code",
   "execution_count": 29,
   "metadata": {
    "ExecuteTime": {
     "end_time": "2019-11-25T15:04:06.955975Z",
     "start_time": "2019-11-25T15:04:06.951983Z"
    }
   },
   "outputs": [],
   "source": [
    "def split_address(address):\n",
    "    liste = address.upper().split(' ')\n",
    "    nr = liste[0]\n",
    "    cardinal = liste[1]\n",
    "    reste = ' '.join(liste[2:])\n",
    "    liste = nr + ('*') + cardinal + '*' + reste\n",
    "    return liste"
   ]
  },
  {
   "cell_type": "code",
   "execution_count": 30,
   "metadata": {
    "ExecuteTime": {
     "end_time": "2019-11-25T15:04:08.688995Z",
     "start_time": "2019-11-25T15:04:07.994853Z"
    }
   },
   "outputs": [],
   "source": [
    "temp = chicago_df_noNan['address'].apply(split_address)\n",
    "temp = temp.str.split('*', expand=True)\n"
   ]
  },
  {
   "cell_type": "markdown",
   "metadata": {},
   "source": [
    "## City"
   ]
  },
  {
   "cell_type": "code",
   "execution_count": 31,
   "metadata": {
    "ExecuteTime": {
     "end_time": "2019-11-25T15:04:09.026604Z",
     "start_time": "2019-11-25T15:04:08.926870Z"
    }
   },
   "outputs": [
    {
     "name": "stdout",
     "output_type": "stream",
     "text": [
      "72\n",
      "67\n"
     ]
    }
   ],
   "source": [
    "print(len(chicago_df_noNan['city'].unique()))\n",
    "chicago_df_noNan['city'] = chicago_df_noNan['city'].str.lower()\n",
    "print(len(chicago_df_noNan['city'].unique()))"
   ]
  },
  {
   "cell_type": "code",
   "execution_count": 32,
   "metadata": {
    "ExecuteTime": {
     "end_time": "2019-11-25T15:04:10.457999Z",
     "start_time": "2019-11-25T15:04:10.324808Z"
    }
   },
   "outputs": [],
   "source": [
    "chicago_df_noNan['city'].unique()\n",
    "chicago_df_noNan['city'] = chicago_df_noNan['city'].replace('cchicago', 'chicago').replace('chicago.', 'chicago')\n",
    "chicago_df_noNan['city'] = chicago_df_noNan['city'].replace('chicagochicago', 'chicago')\n",
    "chicago_df_noNan['city'] = chicago_df_noNan['city'].replace('chicagohicago', 'chicago')\n",
    "chicago_df_noNan['city'] = chicago_df_noNan['city'].replace('312chicago', 'chicago').replace('chicagoi', 'chicago')\n",
    "chicago_df_noNan['city'] = chicago_df_noNan['city'].replace('chchicago', 'chicago')\n",
    "chicago_df_noNan['city'] = chicago_df_noNan['city'].replace('chcicago', 'chicago')\n",
    "chicago_df_noNan['city'] = chicago_df_noNan['city'].fillna('chicago')"
   ]
  },
  {
   "cell_type": "code",
   "execution_count": 33,
   "metadata": {
    "ExecuteTime": {
     "end_time": "2019-11-25T15:04:10.674423Z",
     "start_time": "2019-11-25T15:04:10.658465Z"
    },
    "scrolled": true
   },
   "outputs": [
    {
     "data": {
      "text/plain": [
       "array(['algonquin', 'alsip', 'bannockburndeerfield', 'bedford park',\n",
       "       'berwyn', 'bloomingdale', 'blue island', 'bolingbrook',\n",
       "       'bridgeview', 'broadview', 'burnham', 'calumet city',\n",
       "       'charles a hayes', 'chestnut street', 'chicago', 'chicago heights',\n",
       "       'cicero', 'country club hills', 'des plaines', 'east hazel crest',\n",
       "       'elk grove village', 'elmhurst', 'evanston', 'evergreen park',\n",
       "       'frankfort', 'glencoe', 'griffith', 'highland park', 'inactive',\n",
       "       'justice', 'lake bluff', 'lake zurich', 'lansing', 'lombard',\n",
       "       'maywood', 'naperville', 'new holstein', 'new york', 'niles niles',\n",
       "       'norridge', 'oak lawn', 'oak park', 'olympia fields',\n",
       "       'oolympia fields', 'palos park', 'plainfield', 'rosemont',\n",
       "       'schaumburg', 'schiller park', 'skokie', 'streamwood', 'summit',\n",
       "       'tinley park', 'wadsworth', 'westmont', 'wheaton', 'wilmette',\n",
       "       'worth'], dtype=object)"
      ]
     },
     "execution_count": 33,
     "metadata": {},
     "output_type": "execute_result"
    }
   ],
   "source": [
    "np.sort(chicago_df_noNan['city'].unique())"
   ]
  },
  {
   "cell_type": "code",
   "execution_count": 34,
   "metadata": {
    "ExecuteTime": {
     "end_time": "2019-11-25T15:04:11.186069Z",
     "start_time": "2019-11-25T15:04:11.172106Z"
    }
   },
   "outputs": [],
   "source": [
    "cities = pd.read_csv('./data/listsChicago.csv', sep=';', header=None)\n",
    "cities[0] = cities[0].str.lower()\n",
    "cities = cities[0].values"
   ]
  },
  {
   "cell_type": "code",
   "execution_count": 35,
   "metadata": {
    "ExecuteTime": {
     "end_time": "2019-11-25T15:04:15.434327Z",
     "start_time": "2019-11-25T15:04:12.328712Z"
    }
   },
   "outputs": [],
   "source": [
    "outs = []\n",
    "ins = []\n",
    "for city in chicago_df_noNan['city'].unique():\n",
    "    if city not in cities:\n",
    "        outs.append(city)\n",
    "        chicago_df_noNan = chicago_df_noNan[chicago_df_noNan['city'] != city]\n",
    "    else:\n",
    "        ins.append(city)"
   ]
  },
  {
   "cell_type": "code",
   "execution_count": 36,
   "metadata": {
    "ExecuteTime": {
     "end_time": "2019-11-25T15:04:15.440310Z",
     "start_time": "2019-11-25T15:04:15.436321Z"
    }
   },
   "outputs": [
    {
     "name": "stdout",
     "output_type": "stream",
     "text": [
      "Here are the real cities from Chicago!\n",
      "['chicago', 'bridgeview', 'cicero', 'oak park', 'maywood', 'bedford park', 'berwyn', 'oak lawn', 'broadview', 'evergreen park']\n"
     ]
    }
   ],
   "source": [
    "print('Here are the real cities from Chicago!')\n",
    "print(ins)"
   ]
  },
  {
   "cell_type": "markdown",
   "metadata": {},
   "source": [
    "## State\n",
    " We make sure that all our remaining entries are from Chicago in Illinois! "
   ]
  },
  {
   "cell_type": "code",
   "execution_count": 37,
   "metadata": {
    "ExecuteTime": {
     "end_time": "2019-11-25T15:04:36.121842Z",
     "start_time": "2019-11-25T15:04:36.109873Z"
    }
   },
   "outputs": [
    {
     "name": "stdout",
     "output_type": "stream",
     "text": [
      "['IL' nan]\n"
     ]
    }
   ],
   "source": [
    "print(chicago_df_noNan['state'].unique())"
   ]
  },
  {
   "cell_type": "code",
   "execution_count": 38,
   "metadata": {
    "ExecuteTime": {
     "end_time": "2019-11-25T15:04:36.818660Z",
     "start_time": "2019-11-25T15:04:36.798713Z"
    }
   },
   "outputs": [
    {
     "name": "stdout",
     "output_type": "stream",
     "text": [
      "['IL']\n"
     ]
    }
   ],
   "source": [
    "chicago_df_noNan['state'] = np.where(chicago_df_noNan['state'].isnull(), 'IL', chicago_df_noNan['state'])\n",
    "print(chicago_df_noNan['state'].unique())"
   ]
  },
  {
   "cell_type": "markdown",
   "metadata": {},
   "source": [
    "## Location"
   ]
  },
  {
   "cell_type": "markdown",
   "metadata": {},
   "source": [
    "In this section, we fill the missing locations by geocoding the zip using the pgeocode library then we use retaurants with multiple entries where only some are missing locations and zip to fill them up."
   ]
  },
  {
   "cell_type": "code",
   "execution_count": 39,
   "metadata": {
    "ExecuteTime": {
     "end_time": "2019-11-25T15:04:39.219285Z",
     "start_time": "2019-11-25T15:04:39.215294Z"
    }
   },
   "outputs": [],
   "source": [
    "missing_longitude_indices = chicago_df_noNan['longitude'].isna()"
   ]
  },
  {
   "cell_type": "code",
   "execution_count": 40,
   "metadata": {
    "ExecuteTime": {
     "end_time": "2019-11-25T15:04:40.011753Z",
     "start_time": "2019-11-25T15:04:40.005769Z"
    }
   },
   "outputs": [
    {
     "data": {
      "text/plain": [
       "556"
      ]
     },
     "execution_count": 40,
     "metadata": {},
     "output_type": "execute_result"
    }
   ],
   "source": [
    "np.sum(missing_longitude_indices)"
   ]
  },
  {
   "cell_type": "code",
   "execution_count": 41,
   "metadata": {
    "ExecuteTime": {
     "end_time": "2019-11-25T15:04:51.625931Z",
     "start_time": "2019-11-25T15:04:51.615958Z"
    },
    "scrolled": true
   },
   "outputs": [
    {
     "data": {
      "text/plain": [
       "latitude    556\n",
       "location    556\n",
       "dtype: int64"
      ]
     },
     "execution_count": 41,
     "metadata": {},
     "output_type": "execute_result"
    }
   ],
   "source": [
    "chicago_df_noNan[missing_longitude_indices][['latitude', 'location']].isna().sum()"
   ]
  },
  {
   "cell_type": "markdown",
   "metadata": {},
   "source": [
    "We can conclude that all location attributes are missing together"
   ]
  },
  {
   "cell_type": "code",
   "execution_count": 42,
   "metadata": {
    "ExecuteTime": {
     "end_time": "2019-11-25T15:04:52.452530Z",
     "start_time": "2019-11-25T15:04:52.444552Z"
    }
   },
   "outputs": [
    {
     "data": {
      "text/plain": [
       "3"
      ]
     },
     "execution_count": 42,
     "metadata": {},
     "output_type": "execute_result"
    }
   ],
   "source": [
    "# Find how many of the rows with missing location attributes have missing zip code also\n",
    "np.sum(chicago_df_noNan['longitude'].isna() & chicago_df_noNan['zip'].isna())"
   ]
  },
  {
   "cell_type": "code",
   "execution_count": 43,
   "metadata": {
    "ExecuteTime": {
     "end_time": "2019-11-25T15:04:54.223749Z",
     "start_time": "2019-11-25T15:04:54.218765Z"
    }
   },
   "outputs": [],
   "source": [
    "# Define methods that performs geocoding using the zipcode\n",
    "\n",
    "def geocode_zip_code(zip_code):\n",
    "    nomi = pgeocode.Nominatim('us')\n",
    "    nomi_query = nomi.query_postal_code(int(zip_code))\n",
    "    return pd.Series([nomi_query.latitude, nomi_query.longitude])"
   ]
  },
  {
   "cell_type": "code",
   "execution_count": 44,
   "metadata": {
    "ExecuteTime": {
     "end_time": "2019-11-25T15:06:30.423813Z",
     "start_time": "2019-11-25T15:04:54.701962Z"
    }
   },
   "outputs": [],
   "source": [
    "# Perform geocoding using the zipcode\n",
    "missing_longitude_indices_with_zip = chicago_df_noNan['longitude'].isna() & chicago_df_noNan['zip'].notna()\n",
    "missing_locations = chicago_df_noNan.loc[missing_longitude_indices_with_zip, 'zip'].apply(geocode_zip_code)"
   ]
  },
  {
   "cell_type": "code",
   "execution_count": 45,
   "metadata": {
    "ExecuteTime": {
     "end_time": "2019-11-25T15:06:30.444757Z",
     "start_time": "2019-11-25T15:06:30.425808Z"
    }
   },
   "outputs": [],
   "source": [
    "chicago_df_noNan.loc[missing_longitude_indices_with_zip, 'latitude'] = missing_locations[0]\n",
    "chicago_df_noNan.loc[missing_longitude_indices_with_zip, 'longitude'] = missing_locations[1]"
   ]
  },
  {
   "cell_type": "code",
   "execution_count": 46,
   "metadata": {
    "ExecuteTime": {
     "end_time": "2019-11-25T15:06:30.452736Z",
     "start_time": "2019-11-25T15:06:30.446752Z"
    }
   },
   "outputs": [],
   "source": [
    "missing_longitude_indices = chicago_df_noNan['latitude'].isna()"
   ]
  },
  {
   "cell_type": "code",
   "execution_count": 47,
   "metadata": {
    "ExecuteTime": {
     "end_time": "2019-11-25T15:06:30.464704Z",
     "start_time": "2019-11-25T15:06:30.455728Z"
    }
   },
   "outputs": [
    {
     "data": {
      "text/plain": [
       "3"
      ]
     },
     "execution_count": 47,
     "metadata": {},
     "output_type": "execute_result"
    }
   ],
   "source": [
    "np.sum(missing_longitude_indices)"
   ]
  },
  {
   "cell_type": "markdown",
   "metadata": {},
   "source": [
    "We have filled most of the missing locations by using geocoding using the zipcode which would help us define the areas, other geocoders using the address leading to more accurate locations exist but they either require keys such as google maps or require better address format such as open street maps which does not work for of all our examples"
   ]
  },
  {
   "cell_type": "code",
   "execution_count": 48,
   "metadata": {
    "ExecuteTime": {
     "end_time": "2019-11-25T15:06:36.771100Z",
     "start_time": "2019-11-25T15:06:30.467696Z"
    }
   },
   "outputs": [],
   "source": [
    "# Create a groupedby data frame on the name and aggeragate to find the count of missing longitude and total counts for each group\n",
    "exp_df = chicago_df_noNan[['longitude', 'dba_name']].groupby('dba_name').agg({\"longitude\": [lambda x: x.isnull().sum()], 'dba_name':'count'})"
   ]
  },
  {
   "cell_type": "code",
   "execution_count": 49,
   "metadata": {
    "ExecuteTime": {
     "end_time": "2019-11-25T15:06:36.778051Z",
     "start_time": "2019-11-25T15:06:36.772065Z"
    }
   },
   "outputs": [],
   "source": [
    "# rename column for more intutive view\n",
    "exp_df.columns.set_levels(['nulls_count', 'count'],level=1,inplace=True)"
   ]
  },
  {
   "cell_type": "code",
   "execution_count": 50,
   "metadata": {
    "ExecuteTime": {
     "end_time": "2019-11-25T15:06:36.800988Z",
     "start_time": "2019-11-25T15:06:36.780045Z"
    }
   },
   "outputs": [
    {
     "data": {
      "text/plain": [
       "2.0"
      ]
     },
     "execution_count": 50,
     "metadata": {},
     "output_type": "execute_result"
    }
   ],
   "source": [
    "# Identify how many entries with missing locations have other entries for the same place with the location not missing\n",
    "\n",
    "bool_1 = (exp_df['longitude']['nulls_count'] != 0)\n",
    "bool_2 = (exp_df['dba_name']['count'] != exp_df['longitude']['nulls_count'])\n",
    "\n",
    "np.sum(exp_df[ bool_1.values & bool_2.values]['longitude']['nulls_count'])"
   ]
  },
  {
   "cell_type": "code",
   "execution_count": 51,
   "metadata": {
    "ExecuteTime": {
     "end_time": "2019-11-25T15:07:28.277995Z",
     "start_time": "2019-11-25T15:07:28.184216Z"
    }
   },
   "outputs": [],
   "source": [
    "# use restaurants with multiple entries where some have their location fields to fill the same restaurant entries with missing location\n",
    "\n",
    "missing_location_names = chicago_df_noNan.loc[missing_longitude_indices]['dba_name']\n",
    "\n",
    "for index, name in missing_location_names.items():\n",
    "    similar_entries = chicago_df_noNan[(chicago_df_noNan['dba_name'] == name) & (chicago_df_noNan['dba_name'].notna())] \n",
    "    chicago_df_noNan.at[index, 'latitude'] = similar_entries.iloc[0]['latitude']\n",
    "    chicago_df_noNan.at[index, 'longitude'] = similar_entries.iloc[0]['longitude']\n",
    "    chicago_df_noNan.at[index, 'zip'] = similar_entries.iloc[0]['zip']"
   ]
  },
  {
   "cell_type": "code",
   "execution_count": 52,
   "metadata": {
    "ExecuteTime": {
     "end_time": "2019-11-25T15:07:28.556194Z",
     "start_time": "2019-11-25T15:07:28.550212Z"
    }
   },
   "outputs": [],
   "source": [
    "missing_longitude_indices = chicago_df_noNan['latitude'].isna()"
   ]
  },
  {
   "cell_type": "code",
   "execution_count": 53,
   "metadata": {
    "ExecuteTime": {
     "end_time": "2019-11-25T15:07:28.919399Z",
     "start_time": "2019-11-25T15:07:28.912411Z"
    }
   },
   "outputs": [
    {
     "data": {
      "text/plain": [
       "1"
      ]
     },
     "execution_count": 53,
     "metadata": {},
     "output_type": "execute_result"
    }
   ],
   "source": [
    "np.sum(missing_longitude_indices)"
   ]
  },
  {
   "cell_type": "code",
   "execution_count": 54,
   "metadata": {
    "ExecuteTime": {
     "end_time": "2019-11-25T15:07:29.260494Z",
     "start_time": "2019-11-25T15:07:29.255506Z"
    }
   },
   "outputs": [
    {
     "data": {
      "text/plain": [
       "Index(['inspection_id', 'dba_name', 'aka_name', 'license', 'facility_type',\n",
       "       'risk', 'address', 'city', 'state', 'zip', 'inspection_date',\n",
       "       'inspection_type', 'results', 'violations', 'latitude', 'longitude',\n",
       "       'location', 'has_license', 'new_facility_type'],\n",
       "      dtype='object')"
      ]
     },
     "execution_count": 54,
     "metadata": {},
     "output_type": "execute_result"
    }
   ],
   "source": [
    "chicago_df_noNan.columns"
   ]
  },
  {
   "cell_type": "markdown",
   "metadata": {},
   "source": [
    "## Inspection type"
   ]
  },
  {
   "cell_type": "markdown",
   "metadata": {},
   "source": [
    "Here we clean the inspection type data by:\n",
    "1. Casefolding\n",
    "1. Removing digits because the examples were for different task forces which are very similar\n",
    "1. Removing stopwords that made sense in our dataset\n",
    "1. Correcting spelling\n",
    "1. Lemmatization of words"
   ]
  },
  {
   "cell_type": "code",
   "execution_count": 55,
   "metadata": {
    "ExecuteTime": {
     "end_time": "2019-11-25T15:07:35.932180Z",
     "start_time": "2019-11-25T15:07:35.859345Z"
    }
   },
   "outputs": [],
   "source": [
    "# lowercase everything\n",
    "chicago_df_noNan['inspection_type'] = chicago_df_noNan['inspection_type'].str.lower()"
   ]
  },
  {
   "cell_type": "code",
   "execution_count": 56,
   "metadata": {
    "ExecuteTime": {
     "end_time": "2019-11-25T15:07:36.616312Z",
     "start_time": "2019-11-25T15:07:36.195839Z"
    }
   },
   "outputs": [
    {
     "data": {
      "text/plain": [
       "[('license', 'license re-inspection'),\n",
       " ('license', 'license-task force'),\n",
       " ('license', 'license task 1474'),\n",
       " ('license', 'license renewal inspection for daycare'),\n",
       " ('license', 'license renewal for daycare'),\n",
       " ('license', 'license request'),\n",
       " ('license', 'license task force / not -for-profit clu'),\n",
       " ('license', 'license task force / not -for-profit club'),\n",
       " ('license', 'license/not ready'),\n",
       " ('license', 'license daycare 1586')]"
      ]
     },
     "execution_count": 56,
     "metadata": {},
     "output_type": "execute_result"
    }
   ],
   "source": [
    "# Check similar entries\n",
    "check_series = chicago_df_noNan['inspection_type']\n",
    "iteratable = combinations(check_series.unique(), r=2)\n",
    "inconsistent_pairs = [pair for pair in iteratable if distance.get_jaro_distance(str(pair[0]), str(pair[1])) > 0.7]\n",
    "inconsistent_pairs[:10]"
   ]
  },
  {
   "cell_type": "code",
   "execution_count": 57,
   "metadata": {
    "ExecuteTime": {
     "end_time": "2019-11-25T15:07:38.819577Z",
     "start_time": "2019-11-25T15:07:38.806611Z"
    }
   },
   "outputs": [],
   "source": [
    "# Identify methods for cleaning the text\n",
    "\n",
    "# Remove digit sequences\n",
    "def remove_digits(list_):\n",
    "    list_ = [i for i in list_ if not i.isdigit()] \n",
    "    return list_\n",
    "\n",
    "# Remove stopwords\n",
    "def remove_stopwords(list_, verbrose=False):\n",
    "    # Set of stop words that made sense with our data the predefined removed words we may need\n",
    "    stop_words = ['by', 'for', 'and', 'from', 'of']\n",
    "    filtered_sentence = [w for w in list_ if not w in stop_words]\n",
    "    if verbrose and len(list_) > len(filtered_sentence):\n",
    "        print(\"Removed Stopwords\")\n",
    "        print(list_)\n",
    "        print(filtered_sentence)\n",
    "    return filtered_sentence\n",
    "\n",
    "# Identify sentence with misspelling\n",
    "def is_misspelled(list_):\n",
    "    stop_words = set(stopwords.words('english'))\n",
    "    for word in list_:\n",
    "        if len(wn.synsets(word)) == 0 and word not in stop_words:\n",
    "            return True\n",
    "    return False\n",
    "\n",
    "# Correct sentences with misspellings\n",
    "def correct_misspellings(list_):\n",
    "    # Correction dictionary that made sense for our data because the dataset is using abbreviations we do not want to remove\n",
    "    correct_dict = {'reinspection': ['re', 'inspection'], 'clu': ['club'], 'questionaire': ['questionaire'], 'taskforce': ['task', 'force']}\n",
    "    misspelled = list(set(list_).intersection(correct_dict.keys()))\n",
    "    for word in misspelled:\n",
    "        index = list_.index(word)\n",
    "        list_[index:index+1] = correct_dict[word]\n",
    "        \n",
    "    return list_    \n",
    "\n",
    "# Lemmatizing words in sentences\n",
    "def lemmatization(list_):\n",
    "    lemmatizer = WordNetLemmatizer() \n",
    "    return [lemmatizer.lemmatize(word) for word in list_]\n",
    "\n",
    "# Define jaccard similarity to compare cleaned strings\n",
    "def jaccard_similarity(string1, string2):\n",
    "    list1 = string1.split(' ')\n",
    "    list2 = string2.split(' ')\n",
    "    intersection = len(list(set(list1).intersection(list2)))\n",
    "    union = (len(list1) + len(list2)) - intersection\n",
    "    return float(intersection) / union"
   ]
  },
  {
   "cell_type": "code",
   "execution_count": 58,
   "metadata": {
    "ExecuteTime": {
     "end_time": "2019-11-25T15:07:41.451941Z",
     "start_time": "2019-11-25T15:07:39.237538Z"
    },
    "scrolled": true
   },
   "outputs": [],
   "source": [
    "# Inspect problems on the unique items first to identify misspellings\n",
    "tokenizer = RegexpTokenizer(r'\\w+')\n",
    "unique_inspection_type = pd.DataFrame(chicago_df_noNan['inspection_type'].unique(), columns=['inspection_type'])\n",
    "unique_inspection_type['inspection_type'] = unique_inspection_type['inspection_type'].map(str)\n",
    "unique_inspection_type['inspection_type'] = unique_inspection_type['inspection_type'].map(tokenizer.tokenize)\n",
    "unique_inspection_type['inspection_type'] = unique_inspection_type['inspection_type'].map(remove_digits)\n",
    "unique_inspection_type['inspection_type'] = unique_inspection_type['inspection_type'].map(remove_stopwords)\n",
    "unique_inspection_type['mispelled'] = unique_inspection_type['inspection_type'].apply(is_misspelled)"
   ]
  },
  {
   "cell_type": "code",
   "execution_count": 59,
   "metadata": {
    "ExecuteTime": {
     "end_time": "2019-11-25T15:07:41.462913Z",
     "start_time": "2019-11-25T15:07:41.453936Z"
    }
   },
   "outputs": [
    {
     "name": "stdout",
     "output_type": "stream",
     "text": [
      "                             inspection_type  mispelled\n",
      "28              [pre, license, consultation]       True\n",
      "39                   [license, reinspection]       True\n",
      "42                                     [sfp]       True\n",
      "44                          [sfp, complaint]       True\n",
      "48                [sfp, recently, inspected]       True\n",
      "54                               [taskforce]       True\n",
      "55  [license, task, force, not, profit, clu]       True\n",
      "59                                    [citf]       True\n",
      "70                     [haccp, questionaire]       True\n",
      "71                         [out, ofbusiness]       True\n",
      "72      [close, up, complaint, reinspection]       True\n",
      "77              [reinspection, hour, notice]       True\n",
      "78                            [reinspection]       True\n",
      "80                      [canvass, rib, fest]       True\n",
      "84         [liqour, task, force, not, ready]       True\n"
     ]
    }
   ],
   "source": [
    "with pd.option_context('display.max_rows', None, 'display.max_columns', None):  # more options can be specified also\n",
    "    print(unique_inspection_type[unique_inspection_type['mispelled']])"
   ]
  },
  {
   "cell_type": "code",
   "execution_count": 60,
   "metadata": {
    "ExecuteTime": {
     "end_time": "2019-11-25T15:09:45.325332Z",
     "start_time": "2019-11-25T15:07:42.179943Z"
    }
   },
   "outputs": [],
   "source": [
    "# Clean full dataset\n",
    "chicago_df_noNan['inspection_type'] = chicago_df_noNan['inspection_type'].map(str)\n",
    "chicago_df_noNan['inspection_type'] = chicago_df_noNan['inspection_type'].map(tokenizer.tokenize)\n",
    "chicago_df_noNan['inspection_type'] = chicago_df_noNan['inspection_type'].map(remove_digits)\n",
    "chicago_df_noNan['inspection_type'] = chicago_df_noNan['inspection_type'].map(remove_stopwords)\n",
    "chicago_df_noNan['mispelled'] = chicago_df_noNan['inspection_type'].apply(is_misspelled)\n",
    "chicago_df_noNan[chicago_df_noNan['mispelled']]['inspection_type'] = chicago_df_noNan[chicago_df_noNan['mispelled']]['inspection_type'].map(correct_misspellings)\n",
    "chicago_df_noNan['mispelled'] = chicago_df_noNan['inspection_type'].apply(is_misspelled)\n",
    "chicago_df_noNan['inspection_type'] = chicago_df_noNan['inspection_type'].map(lemmatization)\n",
    "chicago_df_noNan['inspection_type'] = chicago_df_noNan['inspection_type'].map(' '.join)"
   ]
  },
  {
   "cell_type": "code",
   "execution_count": 61,
   "metadata": {
    "ExecuteTime": {
     "end_time": "2019-11-25T15:09:45.363201Z",
     "start_time": "2019-11-25T15:09:45.326300Z"
    }
   },
   "outputs": [
    {
     "data": {
      "text/plain": [
       "[('complaint re inspection', 'complaint fire re inspection'),\n",
       " ('short form complaint', 'short form fire complaint'),\n",
       " ('fire complaint', 'complaint fire'),\n",
       " ('task force liquor', 'task force liquor inspection'),\n",
       " ('task force liquor', 'task force liquor catering'),\n",
       " ('task force liquor', 'task force liquor tavern'),\n",
       " ('task force liquor', 'task force package liquor'),\n",
       " ('canvas special event', 'canvas school special event'),\n",
       " ('license renewal inspection daycare', 'license renewal daycare'),\n",
       " ('canvas re inspection close up', 're inspection close up'),\n",
       " ('close up complaint re inspection', 're inspection close up'),\n",
       " ('liqour task force not ready', 'task force not ready')]"
      ]
     },
     "execution_count": 61,
     "metadata": {},
     "output_type": "execute_result"
    }
   ],
   "source": [
    "# Look for similar inspection_types\n",
    "iteratable = combinations(chicago_df_noNan['inspection_type'].unique(), r=2)\n",
    "inconsistent_pairs = [pair for pair in iteratable if jaccard_similarity(str(pair[0]), str(pair[1])) > 0.7]\n",
    "inconsistent_pairs"
   ]
  },
  {
   "cell_type": "code",
   "execution_count": 62,
   "metadata": {
    "ExecuteTime": {
     "end_time": "2019-11-25T15:09:45.432047Z",
     "start_time": "2019-11-25T15:09:45.366192Z"
    }
   },
   "outputs": [],
   "source": [
    "# Drop flag column after cleaning\n",
    "chicago_df_noNan = chicago_df_noNan.drop(columns=['mispelled'], axis=1)"
   ]
  },
  {
   "cell_type": "markdown",
   "metadata": {},
   "source": [
    "Now after cleaning there still seem to be different entries that look very similar, However, since we do not know if they will help or not, we will leave them for now."
   ]
  },
  {
   "cell_type": "markdown",
   "metadata": {},
   "source": [
    "## Violations"
   ]
  },
  {
   "cell_type": "markdown",
   "metadata": {},
   "source": [
    "So the violations are a bit trickier because there are nearly as many unique values as there are entries. So, we try to lok for patterns to make this simpler."
   ]
  },
  {
   "cell_type": "code",
   "execution_count": 247,
   "metadata": {},
   "outputs": [
    {
     "data": {
      "text/plain": [
       "(194827, 22)"
      ]
     },
     "execution_count": 247,
     "metadata": {},
     "output_type": "execute_result"
    }
   ],
   "source": [
    "chicago_df_noNan.shape"
   ]
  },
  {
   "cell_type": "code",
   "execution_count": 248,
   "metadata": {},
   "outputs": [
    {
     "data": {
      "text/plain": [
       "142324"
      ]
     },
     "execution_count": 248,
     "metadata": {},
     "output_type": "execute_result"
    }
   ],
   "source": [
    "chicago_df_noNan['violations'].nunique()"
   ]
  },
  {
   "cell_type": "markdown",
   "metadata": {},
   "source": [
    "By printing some examples of the violations, we can see that similar violations have a numeric code, so we extract those numbers to represent the violations instead of the text. However, multiple violations may be reported per inspection. Therefore, we have to keep a list of codes for violations reported during the inspection."
   ]
  },
  {
   "cell_type": "code",
   "execution_count": 249,
   "metadata": {
    "scrolled": true
   },
   "outputs": [
    {
     "data": {
      "text/html": [
       "<div>\n",
       "<style scoped>\n",
       "    .dataframe tbody tr th:only-of-type {\n",
       "        vertical-align: middle;\n",
       "    }\n",
       "\n",
       "    .dataframe tbody tr th {\n",
       "        vertical-align: top;\n",
       "    }\n",
       "\n",
       "    .dataframe thead th {\n",
       "        text-align: right;\n",
       "    }\n",
       "</style>\n",
       "<table border=\"1\" class=\"dataframe\">\n",
       "  <thead>\n",
       "    <tr style=\"text-align: right;\">\n",
       "      <th></th>\n",
       "      <th>violations</th>\n",
       "    </tr>\n",
       "  </thead>\n",
       "  <tbody>\n",
       "    <tr>\n",
       "      <td>0</td>\n",
       "      <td>36. thermometers provided &amp; accurate - comment...</td>\n",
       "    </tr>\n",
       "    <tr>\n",
       "      <td>1</td>\n",
       "      <td>NaN</td>\n",
       "    </tr>\n",
       "    <tr>\n",
       "      <td>2</td>\n",
       "      <td>NaN</td>\n",
       "    </tr>\n",
       "    <tr>\n",
       "      <td>3</td>\n",
       "      <td>5. procedures for responding to vomiting and d...</td>\n",
       "    </tr>\n",
       "    <tr>\n",
       "      <td>4</td>\n",
       "      <td>5. procedures for responding to vomiting and d...</td>\n",
       "    </tr>\n",
       "  </tbody>\n",
       "</table>\n",
       "</div>"
      ],
      "text/plain": [
       "                                          violations\n",
       "0  36. thermometers provided & accurate - comment...\n",
       "1                                                NaN\n",
       "2                                                NaN\n",
       "3  5. procedures for responding to vomiting and d...\n",
       "4  5. procedures for responding to vomiting and d..."
      ]
     },
     "execution_count": 249,
     "metadata": {},
     "output_type": "execute_result"
    }
   ],
   "source": [
    "chicago_df_noNan[['violations']].head()"
   ]
  },
  {
   "cell_type": "code",
   "execution_count": 260,
   "metadata": {},
   "outputs": [
    {
     "data": {
      "text/plain": [
       "'5. procedures for responding to vomiting and diarrheal events - comments: observed procedures for cleaning up vomiting and diarrhea events, but missing some necessary items, and a disinfectant rated for norovirus. priority foundation 7-38-005, no citation issued. | 41. wiping cloths: properly used & stored - comments: observed wiping clothes improperly stored on the rear prep table, instructed to properly store in proper sanitizer, when not in use. | 47. food & non-food contact surfaces cleanable, properly designed, constructed & used - comments: observed the rear prep table storage shelf is rusty,instructed to remove the rust. | 55. physical facilities installed, maintained & clean - comments: observed several water damaged ceiling tiles over the front hood, and in front of the hood, instructed to provide.'"
      ]
     },
     "execution_count": 260,
     "metadata": {},
     "output_type": "execute_result"
    }
   ],
   "source": [
    "chicago_df_noNan['violations'][60]"
   ]
  },
  {
   "cell_type": "code",
   "execution_count": 250,
   "metadata": {
    "scrolled": true
   },
   "outputs": [
    {
     "data": {
      "text/plain": [
       "'49. non-food/food contact surfaces clean - comments: 4-602.13  detail clean the prep coolers, grease traps, food storage containers, storage shelves, proofer, dough sheeter, deep fryer, ovens, hot holding units, prep tables, sinks throughout all food prep areas. | 55. physical facilities installed, maintained & clean - comments: 6-501.12  clean the walls throughout the premises especially in the food prep areas.  clean the floor throughout the food prep areas. | 55. physical facilities installed, maintained & clean - comments: 6-501.11  replace the broken floor tiles under the sandwich prep cooler in the front prep area. | 56. adequate ventilation & lighting; designated areas used - comments: 6-501.14  clean the grease from the ventilation hood and filters. | 59. previous priority foundation violation corrected - comments: 8-404.13(b)(3) previous priority foundation violations not corrected from report #2316023 on 10/17/19:  38 - observed approximately 75 live small flies in the basement storage area, washrooms and food prep areas.  also, observed 10 mouse droppings on the floor inside of the hvac closet in the front food prep area and 10 droppings on the lower shelf of the prep table and on the floor around the prep table in the front prep area.  management instructed to clean and remove all rodent droppings from the affected areas and have pest control company service the premises to eliminate all pest activity.    60 - previous previous core violations from report #2262114 on 2/15/19 not corrected: 40 - observed food handling employees without a hair restraint. management instructed to provide for all food handling employees. 56 - one of the light fixtures is missing a light shield in the rear food prep area. must provide proper light shields for all light fixtures throughout the food prep areas. 57 - observed a food handling employee without a food handler certificate. must provide proof of training.  priority 7-42-090.  citation issued.'"
      ]
     },
     "execution_count": 250,
     "metadata": {},
     "output_type": "execute_result"
    }
   ],
   "source": [
    "chicago_df_noNan[['violations']].loc[90][0]"
   ]
  },
  {
   "cell_type": "code",
   "execution_count": 293,
   "metadata": {},
   "outputs": [],
   "source": [
    "# Define a method to get list of violation codes for each inspection\n",
    "def get_numbers(entry):\n",
    "    if entry == np.nan:\n",
    "        return entry\n",
    "    numbers = re.findall(r\"(\\| +[\\d]+\\. )\", str(entry))\n",
    "    numbers = [int(re.findall(r\"([\\d]+)\", item)[0]) for item in numbers]\n",
    "    if entry == \"\" or entry == np.nan:\n",
    "        return []\n",
    "    first_number = re.findall(r\"([\\d]+\\. )\", str(entry))\n",
    "    if len(first_number) == 0:\n",
    "        return numbers\n",
    "    else:\n",
    "        first_number = first_number[0]\n",
    "#     print(re.findall(r\"([\\d]+)\", first_number)[0])\n",
    "    numbers.append(int(re.findall(r\"([\\d]+)\", first_number)[0]))\n",
    "    return numbers"
   ]
  },
  {
   "cell_type": "markdown",
   "metadata": {},
   "source": [
    "Finally, we have decided to create a new column for the numeric codes to keep the textual information in case they are needed."
   ]
  },
  {
   "cell_type": "code",
   "execution_count": 294,
   "metadata": {},
   "outputs": [],
   "source": [
    "chicago_df_noNan['violations'] = chicago_df_noNan['violations'].str.lower()\n",
    "chicago_df_noNan['new_violations'] = chicago_df_noNan['violations'].apply(get_numbers)"
   ]
  },
  {
   "cell_type": "code",
   "execution_count": 295,
   "metadata": {},
   "outputs": [
    {
     "data": {
      "text/plain": [
       "0                                   [36]\n",
       "1                                     []\n",
       "2                                     []\n",
       "3    [36, 38, 38, 49, 54, 55, 55, 56, 5]\n",
       "4                    [10, 16, 33, 55, 5]\n",
       "Name: new_violations, dtype: object"
      ]
     },
     "execution_count": 295,
     "metadata": {},
     "output_type": "execute_result"
    }
   ],
   "source": [
    "chicago_df_noNan['new_violations'].head()"
   ]
  },
  {
   "cell_type": "code",
   "execution_count": 296,
   "metadata": {},
   "outputs": [
    {
     "data": {
      "text/plain": [
       "64"
      ]
     },
     "execution_count": 296,
     "metadata": {},
     "output_type": "execute_result"
    }
   ],
   "source": [
    "chicago_df_noNan['new_violations'].explode().nunique()"
   ]
  },
  {
   "cell_type": "markdown",
   "metadata": {},
   "source": [
    "# Data Exploration"
   ]
  },
  {
   "cell_type": "markdown",
   "metadata": {},
   "source": [
    "## Missing Data"
   ]
  },
  {
   "cell_type": "markdown",
   "metadata": {},
   "source": [
    "Let us first evaluate how our dataset looks like, after the cleaning."
   ]
  },
  {
   "cell_type": "code",
   "execution_count": 70,
   "metadata": {
    "ExecuteTime": {
     "end_time": "2019-11-25T15:09:49.249336Z",
     "start_time": "2019-11-25T15:09:48.889566Z"
    }
   },
   "outputs": [
    {
     "name": "stdout",
     "output_type": "stream",
     "text": [
      "Number of total entries in dataframe: 194827\n"
     ]
    },
    {
     "data": {
      "text/html": [
       "<div>\n",
       "<style scoped>\n",
       "    .dataframe tbody tr th:only-of-type {\n",
       "        vertical-align: middle;\n",
       "    }\n",
       "\n",
       "    .dataframe tbody tr th {\n",
       "        vertical-align: top;\n",
       "    }\n",
       "\n",
       "    .dataframe thead th {\n",
       "        text-align: right;\n",
       "    }\n",
       "</style>\n",
       "<table border=\"1\" class=\"dataframe\">\n",
       "  <thead>\n",
       "    <tr style=\"text-align: right;\">\n",
       "      <th></th>\n",
       "      <th>Total</th>\n",
       "      <th>Percentage</th>\n",
       "    </tr>\n",
       "    <tr>\n",
       "      <th>Column</th>\n",
       "      <th></th>\n",
       "      <th></th>\n",
       "    </tr>\n",
       "  </thead>\n",
       "  <tbody>\n",
       "    <tr>\n",
       "      <td>violations</td>\n",
       "      <td>51650</td>\n",
       "      <td>26.510699</td>\n",
       "    </tr>\n",
       "    <tr>\n",
       "      <td>location</td>\n",
       "      <td>556</td>\n",
       "      <td>0.285381</td>\n",
       "    </tr>\n",
       "    <tr>\n",
       "      <td>zip</td>\n",
       "      <td>48</td>\n",
       "      <td>0.024637</td>\n",
       "    </tr>\n",
       "    <tr>\n",
       "      <td>license</td>\n",
       "      <td>17</td>\n",
       "      <td>0.008726</td>\n",
       "    </tr>\n",
       "    <tr>\n",
       "      <td>longitude</td>\n",
       "      <td>1</td>\n",
       "      <td>0.000513</td>\n",
       "    </tr>\n",
       "    <tr>\n",
       "      <td>latitude</td>\n",
       "      <td>1</td>\n",
       "      <td>0.000513</td>\n",
       "    </tr>\n",
       "    <tr>\n",
       "      <td>city</td>\n",
       "      <td>0</td>\n",
       "      <td>0.000000</td>\n",
       "    </tr>\n",
       "    <tr>\n",
       "      <td>dba_name</td>\n",
       "      <td>0</td>\n",
       "      <td>0.000000</td>\n",
       "    </tr>\n",
       "    <tr>\n",
       "      <td>aka_name</td>\n",
       "      <td>0</td>\n",
       "      <td>0.000000</td>\n",
       "    </tr>\n",
       "    <tr>\n",
       "      <td>facility_type</td>\n",
       "      <td>0</td>\n",
       "      <td>0.000000</td>\n",
       "    </tr>\n",
       "    <tr>\n",
       "      <td>risk</td>\n",
       "      <td>0</td>\n",
       "      <td>0.000000</td>\n",
       "    </tr>\n",
       "    <tr>\n",
       "      <td>address</td>\n",
       "      <td>0</td>\n",
       "      <td>0.000000</td>\n",
       "    </tr>\n",
       "    <tr>\n",
       "      <td>new_violations</td>\n",
       "      <td>0</td>\n",
       "      <td>0.000000</td>\n",
       "    </tr>\n",
       "    <tr>\n",
       "      <td>state</td>\n",
       "      <td>0</td>\n",
       "      <td>0.000000</td>\n",
       "    </tr>\n",
       "    <tr>\n",
       "      <td>new_facility_type</td>\n",
       "      <td>0</td>\n",
       "      <td>0.000000</td>\n",
       "    </tr>\n",
       "    <tr>\n",
       "      <td>inspection_date</td>\n",
       "      <td>0</td>\n",
       "      <td>0.000000</td>\n",
       "    </tr>\n",
       "    <tr>\n",
       "      <td>inspection_type</td>\n",
       "      <td>0</td>\n",
       "      <td>0.000000</td>\n",
       "    </tr>\n",
       "    <tr>\n",
       "      <td>results</td>\n",
       "      <td>0</td>\n",
       "      <td>0.000000</td>\n",
       "    </tr>\n",
       "    <tr>\n",
       "      <td>has_license</td>\n",
       "      <td>0</td>\n",
       "      <td>0.000000</td>\n",
       "    </tr>\n",
       "    <tr>\n",
       "      <td>inspection_id</td>\n",
       "      <td>0</td>\n",
       "      <td>0.000000</td>\n",
       "    </tr>\n",
       "  </tbody>\n",
       "</table>\n",
       "</div>"
      ],
      "text/plain": [
       "                   Total  Percentage\n",
       "Column                              \n",
       "violations         51650   26.510699\n",
       "location             556    0.285381\n",
       "zip                   48    0.024637\n",
       "license               17    0.008726\n",
       "longitude              1    0.000513\n",
       "latitude               1    0.000513\n",
       "city                   0    0.000000\n",
       "dba_name               0    0.000000\n",
       "aka_name               0    0.000000\n",
       "facility_type          0    0.000000\n",
       "risk                   0    0.000000\n",
       "address                0    0.000000\n",
       "new_violations         0    0.000000\n",
       "state                  0    0.000000\n",
       "new_facility_type      0    0.000000\n",
       "inspection_date        0    0.000000\n",
       "inspection_type        0    0.000000\n",
       "results                0    0.000000\n",
       "has_license            0    0.000000\n",
       "inspection_id          0    0.000000"
      ]
     },
     "execution_count": 70,
     "metadata": {},
     "output_type": "execute_result"
    }
   ],
   "source": [
    "# get missing data percentages\n",
    "total = chicago_df_noNan.isnull().sum().sort_values(ascending=False)\n",
    "percentage = (100*(chicago_df_noNan.isnull().sum()/chicago_df_noNan.isnull().count() \n",
    "                  ).sort_values(ascending=False))\n",
    "missing_data = pd.concat([total, percentage], axis=1, keys=['Total', 'Percentage'])\n",
    "missing_data.index.name = 'Column'\n",
    "print(\"Number of total entries in dataframe: {}\".format(chicago_df_noNan.shape[0]))\n",
    "missing_data"
   ]
  },
  {
   "cell_type": "markdown",
   "metadata": {},
   "source": [
    "From this table, we can obtain some interesting data. \n",
    "\n",
    "For instance, from a **total number of 195212** reports of inspections submitted, 143452 *(= 195212-51760)* violations were found out. This corresponds to **a rate of 73.48% violations found** in the inspections made."
   ]
  },
  {
   "cell_type": "markdown",
   "metadata": {},
   "source": [
    "## Inspections by type  of business"
   ]
  },
  {
   "cell_type": "markdown",
   "metadata": {},
   "source": [
    "First, we'll want to see how inspections are distributed by type of business:"
   ]
  },
  {
   "cell_type": "code",
   "execution_count": 71,
   "metadata": {
    "ExecuteTime": {
     "end_time": "2019-11-25T15:09:53.325012Z",
     "start_time": "2019-11-25T15:09:53.300078Z"
    }
   },
   "outputs": [
    {
     "data": {
      "text/plain": [
       "restaurant                      130140\n",
       "grocery store                    25014\n",
       "school                           12081\n",
       "not available                     4778\n",
       "children's services facility      3152\n",
       "Name: new_facility_type, dtype: int64"
      ]
     },
     "execution_count": 71,
     "metadata": {},
     "output_type": "execute_result"
    }
   ],
   "source": [
    "# Inspections by type of restaurant\n",
    "nInspectionsByType = chicago_df_noNan[\"new_facility_type\"].value_counts()\n",
    "nInspectionsByType.head()"
   ]
  },
  {
   "cell_type": "code",
   "execution_count": 72,
   "metadata": {
    "ExecuteTime": {
     "end_time": "2019-11-25T15:09:55.306808Z",
     "start_time": "2019-11-25T15:09:54.214890Z"
    }
   },
   "outputs": [
    {
     "data": {
      "image/png": "[encoded data removed]",
      "text/plain": [
       "<Figure size 432x288 with 1 Axes>"
      ]
     },
     "metadata": {
      "needs_background": "light"
     },
     "output_type": "display_data"
    }
   ],
   "source": [
    "nInspectionsByType.plot.bar()\n",
    "plt.xticks(fontsize=7)\n",
    "plt.title(\"Inspections by (treated) type of facility\")\n",
    "plt.ylabel(\"(Logarithmic) number of inspections\")\n",
    "plt.yscale('log')\n",
    "plt.show()"
   ]
  },
  {
   "cell_type": "markdown",
   "metadata": {},
   "source": [
    "The plot above presents the number of inspections by type of business - one pertinent observation would be that most of the inspections correspond to restaurants."
   ]
  },
  {
   "cell_type": "markdown",
   "metadata": {},
   "source": [
    "## Relationship between columns"
   ]
  },
  {
   "cell_type": "markdown",
   "metadata": {},
   "source": [
    "Let us see how the columns of the dataset are related. \n",
    "\n",
    "To start, we will plot the correlations between every pair of columns in order to see how they can be connected to each other."
   ]
  },
  {
   "cell_type": "code",
   "execution_count": 73,
   "metadata": {
    "ExecuteTime": {
     "end_time": "2019-11-25T15:10:40.022464Z",
     "start_time": "2019-11-25T15:09:57.262696Z"
    }
   },
   "outputs": [
    {
     "data": {
      "image/png": "[encoded data removed]",
      "text/plain": [
       "<Figure size 1080x1080 with 42 Axes>"
      ]
     },
     "metadata": {},
     "output_type": "display_data"
    }
   ],
   "source": [
    "sns.set()\n",
    "sns.pairplot(chicago_df_noNan.dropna())\n",
    "plt.show()"
   ]
  },
  {
   "cell_type": "markdown",
   "metadata": {},
   "source": [
    "From the previous plot, we can extract some interesting results:\n",
    "- The plot (`Latitude`, `Longitude`) gives us a sense of the city's shape, as it becomes a plot of the data points in space (for comparison, an map of the can also be found further bellow). Furthermore, both `Longitude` and `Latitude` are approximately naturally distributed in their value range. \n",
    "- The `Zip` address is concentrated at 60000, which is not surprising as Chicago's zip codes are concentrated at around 60600. The histogram plot easily evidencies the presence of at least two outliers, due to it's unexpected x-axis value range - these may be restaurants in the outskirts of the city.\n",
    "- We would expect a uniform distribution for the `Inspection ID`, but the plotted histogram may reflect a national-scale license attribution system.\n",
    "- Finally, inspections seem to be pretty uniformly dispersed throughout the different `License #` values, whose histogram also evidencies one outlier.\n",
    "\n",
    "After looking at this plot, we may ask which of these variable are linearly correlated. And this is the next question we are going to answer from our dataset."
   ]
  },
  {
   "cell_type": "markdown",
   "metadata": {
    "ExecuteTime": {
     "end_time": "2019-11-22T13:21:43.630870Z",
     "start_time": "2019-11-22T13:21:43.138644Z"
    }
   },
   "source": [
    "## Where are the inspections located?"
   ]
  },
  {
   "cell_type": "markdown",
   "metadata": {},
   "source": [
    "Previously, we saw the plot of `('Latitude', 'Longitude')` already creates a basic map with the location of the businesses within the city.\n",
    "\n",
    "Let's formalize this map and understand better where the businesses subject to inspections are located"
   ]
  },
  {
   "cell_type": "code",
   "execution_count": 74,
   "metadata": {
    "ExecuteTime": {
     "end_time": "2019-11-25T15:10:40.046399Z",
     "start_time": "2019-11-25T15:10:40.023461Z"
    }
   },
   "outputs": [
    {
     "data": {
      "text/html": [
       "<div>\n",
       "<style scoped>\n",
       "    .dataframe tbody tr th:only-of-type {\n",
       "        vertical-align: middle;\n",
       "    }\n",
       "\n",
       "    .dataframe tbody tr th {\n",
       "        vertical-align: top;\n",
       "    }\n",
       "\n",
       "    .dataframe thead th {\n",
       "        text-align: right;\n",
       "    }\n",
       "</style>\n",
       "<table border=\"1\" class=\"dataframe\">\n",
       "  <thead>\n",
       "    <tr style=\"text-align: right;\">\n",
       "      <th></th>\n",
       "      <th>zip</th>\n",
       "      <th>nInspections</th>\n",
       "    </tr>\n",
       "  </thead>\n",
       "  <tbody>\n",
       "    <tr>\n",
       "      <td>0</td>\n",
       "      <td>60153</td>\n",
       "      <td>16</td>\n",
       "    </tr>\n",
       "    <tr>\n",
       "      <td>1</td>\n",
       "      <td>60155</td>\n",
       "      <td>1</td>\n",
       "    </tr>\n",
       "    <tr>\n",
       "      <td>2</td>\n",
       "      <td>60302</td>\n",
       "      <td>5</td>\n",
       "    </tr>\n",
       "  </tbody>\n",
       "</table>\n",
       "</div>"
      ],
      "text/plain": [
       "     zip  nInspections\n",
       "0  60153            16\n",
       "1  60155             1\n",
       "2  60302             5"
      ]
     },
     "execution_count": 74,
     "metadata": {},
     "output_type": "execute_result"
    }
   ],
   "source": [
    "# New DataFrame with the zip codes and #inspections per zip code\n",
    "businessesByZip = chicago_df_noNan.groupby('zip')[['inspection_id']].count()\n",
    "businessesByZip = businessesByZip.rename(columns={'inspection_id':'nInspections'})\n",
    "businessesByZip.reset_index(inplace=True)\n",
    "businessesByZip['zip'] = businessesByZip['zip'].astype(int).astype('str')\n",
    "businessesByZip.head(3)"
   ]
  },
  {
   "cell_type": "markdown",
   "metadata": {},
   "source": [
    "The following map can also be found <a href=\"https://github.com/obiwit/ADAknow/blob/master/maps/BusinessPerZipMap.html\"> here </a>!"
   ]
  },
  {
   "cell_type": "code",
   "execution_count": 75,
   "metadata": {
    "ExecuteTime": {
     "end_time": "2019-11-25T15:14:38.641756Z",
     "start_time": "2019-11-25T15:14:37.736600Z"
    }
   },
   "outputs": [
    {
     "data": {
      "text/html": [
       "<iframe src=./data/maps/BusinessPerZipMap.html width=700 height=450></iframe>"
      ],
      "text/plain": [
       "<IPython.core.display.HTML object>"
      ]
     },
     "execution_count": 75,
     "metadata": {},
     "output_type": "execute_result"
    }
   ],
   "source": [
    "m = folium.Map(location=[41.8781, -87.6298])\n",
    "zip_geo = f'./data/zipCodesBoundaries.geojson'\n",
    "\n",
    "folium.Choropleth(\n",
    "    geo_data=zip_geo,\n",
    "    name='choropleth',\n",
    "    data=businessesByZip,\n",
    "    columns=['zip','nInspections'],\n",
    "    key_on='feature.properties.zip',\n",
    "    fill_color='BuPu',\n",
    "    fill_opacity=0.7,\n",
    "    line_opacity=0.2,\n",
    "    legend_name='Businesses per zip'\n",
    ").add_to(m)\n",
    "\n",
    "folium.LayerControl().add_to(m)\n",
    "\n",
    "m.save('./data/maps/BusinessPerZipMap.html')\n",
    "\n",
    "HTML('<iframe src=./data/maps/BusinessPerZipMap.html width=700 height=450></iframe>')"
   ]
  },
  {
   "cell_type": "markdown",
   "metadata": {},
   "source": [
    "This map contains the number of inspections made by zip code area, and reflects how the majority of inspections are located in downtown Chicago"
   ]
  },
  {
   "cell_type": "code",
   "execution_count": 76,
   "metadata": {
    "ExecuteTime": {
     "end_time": "2019-11-25T15:16:01.239893Z",
     "start_time": "2019-11-25T15:15:58.790727Z"
    }
   },
   "outputs": [],
   "source": [
    "# Saving the data to avoid rerunning the entire notebook\n",
    "with open('./data/chicago_processed.pkl', 'wb') as fp:\n",
    "    pickle.dump(chicago_df_noNan, fp)"
   ]
  },
  {
   "cell_type": "markdown",
   "metadata": {},
   "source": [
    "## Big Chains"
   ]
  },
  {
   "cell_type": "markdown",
   "metadata": {},
   "source": [
    "In this sections, we are going to analyze the data available from big chains. First and foremost, we will see how many establishments of the same chain have been evaluated by Chicago's Food Inspections services."
   ]
  },
  {
   "cell_type": "code",
   "execution_count": 80,
   "metadata": {},
   "outputs": [],
   "source": [
    "path = \"./data/chicago_processed.pkl\"\n",
    "chicago_df_noNan = pd.read_pickle(path)"
   ]
  },
  {
   "cell_type": "markdown",
   "metadata": {},
   "source": [
    "Below, we are going to obtain the number of establishments by chain"
   ]
  },
  {
   "cell_type": "code",
   "execution_count": 81,
   "metadata": {},
   "outputs": [
    {
     "data": {
      "text/html": [
       "<div>\n",
       "<style scoped>\n",
       "    .dataframe tbody tr th:only-of-type {\n",
       "        vertical-align: middle;\n",
       "    }\n",
       "\n",
       "    .dataframe tbody tr th {\n",
       "        vertical-align: top;\n",
       "    }\n",
       "\n",
       "    .dataframe thead th {\n",
       "        text-align: right;\n",
       "    }\n",
       "</style>\n",
       "<table border=\"1\" class=\"dataframe\">\n",
       "  <thead>\n",
       "    <tr style=\"text-align: right;\">\n",
       "      <th></th>\n",
       "      <th>aka_name</th>\n",
       "      <th>license</th>\n",
       "    </tr>\n",
       "  </thead>\n",
       "  <tbody>\n",
       "    <tr>\n",
       "      <td>0</td>\n",
       "      <td>subway</td>\n",
       "      <td>401</td>\n",
       "    </tr>\n",
       "    <tr>\n",
       "      <td>1</td>\n",
       "      <td>7eleven</td>\n",
       "      <td>278</td>\n",
       "    </tr>\n",
       "    <tr>\n",
       "      <td>2</td>\n",
       "      <td>starbucks</td>\n",
       "      <td>227</td>\n",
       "    </tr>\n",
       "    <tr>\n",
       "      <td>3</td>\n",
       "      <td>walgreens</td>\n",
       "      <td>219</td>\n",
       "    </tr>\n",
       "    <tr>\n",
       "      <td>4</td>\n",
       "      <td>dunkindonuts</td>\n",
       "      <td>210</td>\n",
       "    </tr>\n",
       "    <tr>\n",
       "      <td>5</td>\n",
       "      <td>mcdonalds</td>\n",
       "      <td>176</td>\n",
       "    </tr>\n",
       "    <tr>\n",
       "      <td>6</td>\n",
       "      <td>burgerking</td>\n",
       "      <td>106</td>\n",
       "    </tr>\n",
       "    <tr>\n",
       "      <td>7</td>\n",
       "      <td>citgo</td>\n",
       "      <td>91</td>\n",
       "    </tr>\n",
       "    <tr>\n",
       "      <td>8</td>\n",
       "      <td>familydollar</td>\n",
       "      <td>63</td>\n",
       "    </tr>\n",
       "    <tr>\n",
       "      <td>9</td>\n",
       "      <td>cvs/pharmacy</td>\n",
       "      <td>58</td>\n",
       "    </tr>\n",
       "  </tbody>\n",
       "</table>\n",
       "</div>"
      ],
      "text/plain": [
       "       aka_name  license\n",
       "0        subway      401\n",
       "1       7eleven      278\n",
       "2     starbucks      227\n",
       "3     walgreens      219\n",
       "4  dunkindonuts      210\n",
       "5     mcdonalds      176\n",
       "6    burgerking      106\n",
       "7         citgo       91\n",
       "8  familydollar       63\n",
       "9  cvs/pharmacy       58"
      ]
     },
     "execution_count": 81,
     "metadata": {},
     "output_type": "execute_result"
    }
   ],
   "source": [
    "bigChains = chicago_df_noNan.copy()\n",
    "bigChains[\"aka_name\"] = bigChains[\"aka_name\"].str.replace(\"((\\#\\d+)|( )|(')|(-))\",\"\")\n",
    "bigChains[\"aka_name\"] = bigChains[\"aka_name\"].str.replace(\"starbuckscoffee\",\"starbucks\")\n",
    "bigChains = bigChains.groupby(\"aka_name\").nunique()[[\"license\"]]\n",
    "bigChains.sort_values(\"license\", ascending=False, inplace=True)\n",
    "bigChains = bigChains[:10]\n",
    "bigChains = bigChains.reset_index()\n",
    "bigChains"
   ]
  },
  {
   "cell_type": "markdown",
   "metadata": {},
   "source": [
    "The table above shows the top-10 chains in Chicago by the number of establishments they have located in the city. By doing this, it is proven that our dataset contains businesses inspectioned by big corporations.\n",
    "\n",
    "We have noticed the names in the database have some inconsistencies. We have tried to remove these inconsistencies in names by removing spaces, dashes and similar characters. After doing so, showed the top 10 names. In addition, we had to manually change the name of \"Starbucks\". It is sometimes stored as \"Starbucks\" and other times as \"Starbucks coffee\". \n",
    "\n",
    "Provided that we know we have this data available, we will be able to answer questions suchs how does the rate of pass/fail inspections compare between big chains and small businesses. Similarly, we can also compare this rate between different chains."
   ]
  },
  {
   "cell_type": "markdown",
   "metadata": {},
   "source": [
    "## Pass/Fail Inspections\n",
    "\n",
    "In this section we are going to visualize how the inspections are conducted throughout the year and what the distribution of the results is per month."
   ]
  },
  {
   "cell_type": "code",
   "execution_count": 82,
   "metadata": {},
   "outputs": [
    {
     "ename": "FileNotFoundError",
     "evalue": "[Errno 2] No such file or directory: './../Project Data/data/chicago_processed.pkl'",
     "output_type": "error",
     "traceback": [
      "\u001b[0;31m---------------------------------------------------------------------------\u001b[0m",
      "\u001b[0;31mFileNotFoundError\u001b[0m                         Traceback (most recent call last)",
      "\u001b[0;32m<ipython-input-82-99d479e1c865>\u001b[0m in \u001b[0;36m<module>\u001b[0;34m\u001b[0m\n\u001b[0;32m----> 1\u001b[0;31m \u001b[0;32mwith\u001b[0m \u001b[0mopen\u001b[0m\u001b[0;34m(\u001b[0m\u001b[0;34m'./../Project Data/data/chicago_processed.pkl'\u001b[0m\u001b[0;34m,\u001b[0m \u001b[0;34m'rb'\u001b[0m\u001b[0;34m)\u001b[0m \u001b[0;32mas\u001b[0m \u001b[0mfp\u001b[0m\u001b[0;34m:\u001b[0m\u001b[0;34m\u001b[0m\u001b[0;34m\u001b[0m\u001b[0m\n\u001b[0m\u001b[1;32m      2\u001b[0m     \u001b[0mchicago\u001b[0m \u001b[0;34m=\u001b[0m \u001b[0mpickle\u001b[0m\u001b[0;34m.\u001b[0m\u001b[0mload\u001b[0m\u001b[0;34m(\u001b[0m\u001b[0mfp\u001b[0m\u001b[0;34m)\u001b[0m\u001b[0;34m\u001b[0m\u001b[0;34m\u001b[0m\u001b[0m\n",
      "\u001b[0;31mFileNotFoundError\u001b[0m: [Errno 2] No such file or directory: './../Project Data/data/chicago_processed.pkl'"
     ]
    }
   ],
   "source": [
    "with open('./../Project Data/data/chicago_processed.pkl', 'rb') as fp:\n",
    "    chicago = pickle.load(fp)"
   ]
  },
  {
   "cell_type": "code",
   "execution_count": null,
   "metadata": {},
   "outputs": [],
   "source": [
    "chicago['inspection_date'] = chicago['inspection_date'].astype(np.datetime64)\n",
    "chicago['insp_year'] = [x.year for x in chicago['inspection_date']]\n",
    "chicago['insp_month'] = [x.month for x in chicago['inspection_date']]\n",
    "chicago['insp_day'] = [x.day for x in chicago['inspection_date']]"
   ]
  },
  {
   "cell_type": "code",
   "execution_count": null,
   "metadata": {},
   "outputs": [],
   "source": [
    "normalising = chicago.groupby(['insp_month']).count()[['dba_name']].reset_index()\n",
    "ax = sns.barplot(x='insp_month', y=\"dba_name\", data=normalising)\n",
    "plt.title('Inspections per months')\n",
    "plt.show()"
   ]
  },
  {
   "cell_type": "code",
   "execution_count": null,
   "metadata": {},
   "outputs": [],
   "source": [
    "normalising.columns = ['month', 'normalising']"
   ]
  },
  {
   "cell_type": "markdown",
   "metadata": {},
   "source": [
    "\n",
    "In the following plots, we normalise the amount of passed/failed/out of business inspections by the amount of inspections per months. We can observe that in the summer, less restaurant pass the inspection while more fail it. As the year go, we can also see that the amount of restaurants going out of business increase. Whether this is linked to the temperature, or just the time in the year can be easily verified by crossing the different datasets."
   ]
  },
  {
   "cell_type": "code",
   "execution_count": null,
   "metadata": {},
   "outputs": [],
   "source": [
    "plt.figure(figsize=(30, 10))\n",
    "plt.subplot(1, 3, 1)\n",
    "groups = chicago[chicago['results'] == \"Pass\"]\n",
    "groups = groups.groupby(['insp_month']).count()[['dba_name']].reset_index()\n",
    "groups['dba_name'] = groups['dba_name'] / normalising['normalising']\n",
    "ax = sns.barplot(x='insp_month', y=\"dba_name\", data=groups)\n",
    "plt.title('Passed Inspections per months')\n",
    "plt.subplot(1, 3, 2)\n",
    "groups = chicago[chicago['results'] == \"Fail\"]\n",
    "groups = groups.groupby(['insp_month']).count()[['dba_name']].reset_index()\n",
    "groups['dba_name'] = groups['dba_name'] / normalising['normalising']\n",
    "ax = sns.barplot(x='insp_month', y=\"dba_name\", data=groups)\n",
    "plt.title('Failed Inspections per months')\n",
    "plt.subplot(1, 3, 3)\n",
    "groups = chicago[chicago['results'] == \"Out of Business\"]\n",
    "groups = groups.groupby(['insp_month']).count()[['dba_name']].reset_index()\n",
    "groups['dba_name'] = groups['dba_name'] / normalising['normalising']\n",
    "ax = sns.barplot(x='insp_month', y=\"dba_name\", data=groups)\n",
    "plt.title('Out of business Inspections per months')\n",
    "plt.show()"
   ]
  },
  {
   "cell_type": "markdown",
   "metadata": {},
   "source": [
    "# Ethnicity Dataset"
   ]
  },
  {
   "cell_type": "markdown",
   "metadata": {},
   "source": [
    "## Read Data"
   ]
  },
  {
   "cell_type": "markdown",
   "metadata": {},
   "source": [
    "### Ethnicity Dataframe\n",
    "This data contains the data about the amount of people from a specific ethnicity per group block. It contains 8 columns:\n",
    "- **Integer columns**: `'Innumber'`, `'CIT_EST'`, `'CIT_MOE'`, `'CVAP_EST'`, `'CVAP_MODE'`\n",
    "    - `'Innumber'` : categorical\n",
    "- **String Columns**: `'GEONAME'`, `'lntitle'`, `'geoid'` where all are categorical\n",
    "\n",
    "The contents of the columns whose meaning is not immediate are explained below:\n",
    "\n",
    "- __GEONAME__: The name of the geographic area\n",
    "- __lntitle__: The description of the line, which can be one of the following:\n",
    " - Not Hispanic or Latino\n",
    " - American Indian or Alaska Native Alone\n",
    " - Asian Alone\n",
    " - Black or African American Alone\n",
    " - Native Hawaiian or Other Pacific Islander Alone\n",
    " - White Alone\n",
    " - American Indian or Alaska Native and White\n",
    " - Asian and White\n",
    " - Black or African American and White\n",
    " - American Indian or Alaska Native and Black or African American\n",
    " - Remainder of Two or More Race Responses\n",
    " - Hispanic or Latino\n",
    "- __geoid__: Identification number of the geographic are, in the following format *15000USsscccttttttb* where:\n",
    " - ss: two-digit state FIPS code\n",
    " - ccc: three-digit county FIPS code\n",
    " - tttttt: sixdigit tract group code\n",
    " - b: one-digit block group code\n",
    "- __lnnumber__: Number of the category of lntitle\n",
    "- __CIT_EST__: Rounded estimate of the total number of United States citizens for that geographic area and group\n",
    "- __CIT_MOE__: The margin of error for the total number of United States citizens for that geographic area and group.\n",
    "- __CVAP_EST__: Rounded estimate of the total number of United States citizens 18 years of age or older for that geographic area and group\n",
    "- __CVAP_MOE__: The margin of error for the total number of United States citizens 18 years of age or older for that geographic area and group.\n",
    "\n",
    "\n",
    "<br>\n",
    "This data has been retrieved at the <a href='https://www.census.gov/data/datasets/2016/dec/rdo/2013-2017-CVAP.html'> United States Census Bureau Website </a>, where the metadata is also available."
   ]
  },
  {
   "cell_type": "code",
   "execution_count": 83,
   "metadata": {
    "ExecuteTime": {
     "end_time": "2019-11-25T15:16:22.520856Z",
     "start_time": "2019-11-25T15:16:18.801412Z"
    }
   },
   "outputs": [
    {
     "ename": "FileNotFoundError",
     "evalue": "[Errno 2] File b'./data/ethnicity/BlockGr.csv' does not exist: b'./data/ethnicity/BlockGr.csv'",
     "output_type": "error",
     "traceback": [
      "\u001b[0;31m---------------------------------------------------------------------------\u001b[0m",
      "\u001b[0;31mFileNotFoundError\u001b[0m                         Traceback (most recent call last)",
      "\u001b[0;32m<ipython-input-83-834db7183f5e>\u001b[0m in \u001b[0;36m<module>\u001b[0;34m\u001b[0m\n\u001b[0;32m----> 1\u001b[0;31m \u001b[0methnicity_df\u001b[0m \u001b[0;34m=\u001b[0m \u001b[0mpd\u001b[0m\u001b[0;34m.\u001b[0m\u001b[0mread_csv\u001b[0m\u001b[0;34m(\u001b[0m\u001b[0;34m'./data/ethnicity/BlockGr.csv'\u001b[0m\u001b[0;34m,\u001b[0m \u001b[0msep\u001b[0m\u001b[0;34m=\u001b[0m\u001b[0;34m','\u001b[0m\u001b[0;34m,\u001b[0m \u001b[0mencoding\u001b[0m\u001b[0;34m=\u001b[0m\u001b[0;34m\"ISO-8859-1\"\u001b[0m\u001b[0;34m)\u001b[0m\u001b[0;34m\u001b[0m\u001b[0;34m\u001b[0m\u001b[0m\n\u001b[0m\u001b[1;32m      2\u001b[0m \u001b[0methnicity_df\u001b[0m\u001b[0;34m.\u001b[0m\u001b[0mhead\u001b[0m\u001b[0;34m(\u001b[0m\u001b[0;34m)\u001b[0m\u001b[0;34m\u001b[0m\u001b[0;34m\u001b[0m\u001b[0m\n",
      "\u001b[0;32m~/Anaconda3/envs/ada/lib/python3.7/site-packages/pandas/io/parsers.py\u001b[0m in \u001b[0;36mparser_f\u001b[0;34m(filepath_or_buffer, sep, delimiter, header, names, index_col, usecols, squeeze, prefix, mangle_dupe_cols, dtype, engine, converters, true_values, false_values, skipinitialspace, skiprows, skipfooter, nrows, na_values, keep_default_na, na_filter, verbose, skip_blank_lines, parse_dates, infer_datetime_format, keep_date_col, date_parser, dayfirst, cache_dates, iterator, chunksize, compression, thousands, decimal, lineterminator, quotechar, quoting, doublequote, escapechar, comment, encoding, dialect, error_bad_lines, warn_bad_lines, delim_whitespace, low_memory, memory_map, float_precision)\u001b[0m\n\u001b[1;32m    683\u001b[0m         )\n\u001b[1;32m    684\u001b[0m \u001b[0;34m\u001b[0m\u001b[0m\n\u001b[0;32m--> 685\u001b[0;31m         \u001b[0;32mreturn\u001b[0m \u001b[0m_read\u001b[0m\u001b[0;34m(\u001b[0m\u001b[0mfilepath_or_buffer\u001b[0m\u001b[0;34m,\u001b[0m \u001b[0mkwds\u001b[0m\u001b[0;34m)\u001b[0m\u001b[0;34m\u001b[0m\u001b[0;34m\u001b[0m\u001b[0m\n\u001b[0m\u001b[1;32m    686\u001b[0m \u001b[0;34m\u001b[0m\u001b[0m\n\u001b[1;32m    687\u001b[0m     \u001b[0mparser_f\u001b[0m\u001b[0;34m.\u001b[0m\u001b[0m__name__\u001b[0m \u001b[0;34m=\u001b[0m \u001b[0mname\u001b[0m\u001b[0;34m\u001b[0m\u001b[0;34m\u001b[0m\u001b[0m\n",
      "\u001b[0;32m~/Anaconda3/envs/ada/lib/python3.7/site-packages/pandas/io/parsers.py\u001b[0m in \u001b[0;36m_read\u001b[0;34m(filepath_or_buffer, kwds)\u001b[0m\n\u001b[1;32m    455\u001b[0m \u001b[0;34m\u001b[0m\u001b[0m\n\u001b[1;32m    456\u001b[0m     \u001b[0;31m# Create the parser.\u001b[0m\u001b[0;34m\u001b[0m\u001b[0;34m\u001b[0m\u001b[0;34m\u001b[0m\u001b[0m\n\u001b[0;32m--> 457\u001b[0;31m     \u001b[0mparser\u001b[0m \u001b[0;34m=\u001b[0m \u001b[0mTextFileReader\u001b[0m\u001b[0;34m(\u001b[0m\u001b[0mfp_or_buf\u001b[0m\u001b[0;34m,\u001b[0m \u001b[0;34m**\u001b[0m\u001b[0mkwds\u001b[0m\u001b[0;34m)\u001b[0m\u001b[0;34m\u001b[0m\u001b[0;34m\u001b[0m\u001b[0m\n\u001b[0m\u001b[1;32m    458\u001b[0m \u001b[0;34m\u001b[0m\u001b[0m\n\u001b[1;32m    459\u001b[0m     \u001b[0;32mif\u001b[0m \u001b[0mchunksize\u001b[0m \u001b[0;32mor\u001b[0m \u001b[0miterator\u001b[0m\u001b[0;34m:\u001b[0m\u001b[0;34m\u001b[0m\u001b[0;34m\u001b[0m\u001b[0m\n",
      "\u001b[0;32m~/Anaconda3/envs/ada/lib/python3.7/site-packages/pandas/io/parsers.py\u001b[0m in \u001b[0;36m__init__\u001b[0;34m(self, f, engine, **kwds)\u001b[0m\n\u001b[1;32m    893\u001b[0m             \u001b[0mself\u001b[0m\u001b[0;34m.\u001b[0m\u001b[0moptions\u001b[0m\u001b[0;34m[\u001b[0m\u001b[0;34m\"has_index_names\"\u001b[0m\u001b[0;34m]\u001b[0m \u001b[0;34m=\u001b[0m \u001b[0mkwds\u001b[0m\u001b[0;34m[\u001b[0m\u001b[0;34m\"has_index_names\"\u001b[0m\u001b[0;34m]\u001b[0m\u001b[0;34m\u001b[0m\u001b[0;34m\u001b[0m\u001b[0m\n\u001b[1;32m    894\u001b[0m \u001b[0;34m\u001b[0m\u001b[0m\n\u001b[0;32m--> 895\u001b[0;31m         \u001b[0mself\u001b[0m\u001b[0;34m.\u001b[0m\u001b[0m_make_engine\u001b[0m\u001b[0;34m(\u001b[0m\u001b[0mself\u001b[0m\u001b[0;34m.\u001b[0m\u001b[0mengine\u001b[0m\u001b[0;34m)\u001b[0m\u001b[0;34m\u001b[0m\u001b[0;34m\u001b[0m\u001b[0m\n\u001b[0m\u001b[1;32m    896\u001b[0m \u001b[0;34m\u001b[0m\u001b[0m\n\u001b[1;32m    897\u001b[0m     \u001b[0;32mdef\u001b[0m \u001b[0mclose\u001b[0m\u001b[0;34m(\u001b[0m\u001b[0mself\u001b[0m\u001b[0;34m)\u001b[0m\u001b[0;34m:\u001b[0m\u001b[0;34m\u001b[0m\u001b[0;34m\u001b[0m\u001b[0m\n",
      "\u001b[0;32m~/Anaconda3/envs/ada/lib/python3.7/site-packages/pandas/io/parsers.py\u001b[0m in \u001b[0;36m_make_engine\u001b[0;34m(self, engine)\u001b[0m\n\u001b[1;32m   1133\u001b[0m     \u001b[0;32mdef\u001b[0m \u001b[0m_make_engine\u001b[0m\u001b[0;34m(\u001b[0m\u001b[0mself\u001b[0m\u001b[0;34m,\u001b[0m \u001b[0mengine\u001b[0m\u001b[0;34m=\u001b[0m\u001b[0;34m\"c\"\u001b[0m\u001b[0;34m)\u001b[0m\u001b[0;34m:\u001b[0m\u001b[0;34m\u001b[0m\u001b[0;34m\u001b[0m\u001b[0m\n\u001b[1;32m   1134\u001b[0m         \u001b[0;32mif\u001b[0m \u001b[0mengine\u001b[0m \u001b[0;34m==\u001b[0m \u001b[0;34m\"c\"\u001b[0m\u001b[0;34m:\u001b[0m\u001b[0;34m\u001b[0m\u001b[0;34m\u001b[0m\u001b[0m\n\u001b[0;32m-> 1135\u001b[0;31m             \u001b[0mself\u001b[0m\u001b[0;34m.\u001b[0m\u001b[0m_engine\u001b[0m \u001b[0;34m=\u001b[0m \u001b[0mCParserWrapper\u001b[0m\u001b[0;34m(\u001b[0m\u001b[0mself\u001b[0m\u001b[0;34m.\u001b[0m\u001b[0mf\u001b[0m\u001b[0;34m,\u001b[0m \u001b[0;34m**\u001b[0m\u001b[0mself\u001b[0m\u001b[0;34m.\u001b[0m\u001b[0moptions\u001b[0m\u001b[0;34m)\u001b[0m\u001b[0;34m\u001b[0m\u001b[0;34m\u001b[0m\u001b[0m\n\u001b[0m\u001b[1;32m   1136\u001b[0m         \u001b[0;32melse\u001b[0m\u001b[0;34m:\u001b[0m\u001b[0;34m\u001b[0m\u001b[0;34m\u001b[0m\u001b[0m\n\u001b[1;32m   1137\u001b[0m             \u001b[0;32mif\u001b[0m \u001b[0mengine\u001b[0m \u001b[0;34m==\u001b[0m \u001b[0;34m\"python\"\u001b[0m\u001b[0;34m:\u001b[0m\u001b[0;34m\u001b[0m\u001b[0;34m\u001b[0m\u001b[0m\n",
      "\u001b[0;32m~/Anaconda3/envs/ada/lib/python3.7/site-packages/pandas/io/parsers.py\u001b[0m in \u001b[0;36m__init__\u001b[0;34m(self, src, **kwds)\u001b[0m\n\u001b[1;32m   1915\u001b[0m         \u001b[0mkwds\u001b[0m\u001b[0;34m[\u001b[0m\u001b[0;34m\"usecols\"\u001b[0m\u001b[0;34m]\u001b[0m \u001b[0;34m=\u001b[0m \u001b[0mself\u001b[0m\u001b[0;34m.\u001b[0m\u001b[0musecols\u001b[0m\u001b[0;34m\u001b[0m\u001b[0;34m\u001b[0m\u001b[0m\n\u001b[1;32m   1916\u001b[0m \u001b[0;34m\u001b[0m\u001b[0m\n\u001b[0;32m-> 1917\u001b[0;31m         \u001b[0mself\u001b[0m\u001b[0;34m.\u001b[0m\u001b[0m_reader\u001b[0m \u001b[0;34m=\u001b[0m \u001b[0mparsers\u001b[0m\u001b[0;34m.\u001b[0m\u001b[0mTextReader\u001b[0m\u001b[0;34m(\u001b[0m\u001b[0msrc\u001b[0m\u001b[0;34m,\u001b[0m \u001b[0;34m**\u001b[0m\u001b[0mkwds\u001b[0m\u001b[0;34m)\u001b[0m\u001b[0;34m\u001b[0m\u001b[0;34m\u001b[0m\u001b[0m\n\u001b[0m\u001b[1;32m   1918\u001b[0m         \u001b[0mself\u001b[0m\u001b[0;34m.\u001b[0m\u001b[0munnamed_cols\u001b[0m \u001b[0;34m=\u001b[0m \u001b[0mself\u001b[0m\u001b[0;34m.\u001b[0m\u001b[0m_reader\u001b[0m\u001b[0;34m.\u001b[0m\u001b[0munnamed_cols\u001b[0m\u001b[0;34m\u001b[0m\u001b[0;34m\u001b[0m\u001b[0m\n\u001b[1;32m   1919\u001b[0m \u001b[0;34m\u001b[0m\u001b[0m\n",
      "\u001b[0;32mpandas/_libs/parsers.pyx\u001b[0m in \u001b[0;36mpandas._libs.parsers.TextReader.__cinit__\u001b[0;34m()\u001b[0m\n",
      "\u001b[0;32mpandas/_libs/parsers.pyx\u001b[0m in \u001b[0;36mpandas._libs.parsers.TextReader._setup_parser_source\u001b[0;34m()\u001b[0m\n",
      "\u001b[0;31mFileNotFoundError\u001b[0m: [Errno 2] File b'./data/ethnicity/BlockGr.csv' does not exist: b'./data/ethnicity/BlockGr.csv'"
     ]
    }
   ],
   "source": [
    "ethnicity_df = pd.read_csv('./data/ethnicity/BlockGr.csv', sep=',', encoding=\"ISO-8859-1\")\n",
    "ethnicity_df.head()"
   ]
  },
  {
   "cell_type": "code",
   "execution_count": null,
   "metadata": {
    "ExecuteTime": {
     "end_time": "2019-11-25T15:16:25.630477Z",
     "start_time": "2019-11-25T15:16:22.523843Z"
    }
   },
   "outputs": [],
   "source": [
    "chicago = ethnicity_df['GEONAME'].str.extract(\"( Cook County)\") \n",
    "chicago = chicago.dropna()\n",
    "chicago = chicago.reset_index()\n",
    "ethnicity_df = ethnicity_df.iloc[chicago['index']]\n",
    "ethnicity_df.head()"
   ]
  },
  {
   "cell_type": "markdown",
   "metadata": {},
   "source": [
    "### Boundaries for the map\n",
    "This dataset is used to plot the data with folium. It contains the boundaries of the different block group used to aggregate the ethnicity data in the us voting census. Each geoid in the ethnicity dataset can be linked to the same geoid tag in this dataset. This dataset was downloaded from the <a href='https://www.census.gov/programs-surveys/acs/geography-acs/geography-boundaries-by-year.2017.html'> US Census Survey Bureau </a>.\n",
    "<br>\n",
    "We create chicago_df, a geojson file containing the boundaries present in Chicago and in the ethnicity dataset only."
   ]
  },
  {
   "cell_type": "code",
   "execution_count": null,
   "metadata": {
    "ExecuteTime": {
     "end_time": "2019-11-25T15:16:26.656733Z",
     "start_time": "2019-11-25T15:16:25.633471Z"
    }
   },
   "outputs": [],
   "source": [
    "# Reading the shapefile format file.\n",
    "sf = shapefile.Reader(\"./data/tl_2016_17_bg.shp\")\n",
    "shapeRecs = sf.shapeRecords()"
   ]
  },
  {
   "cell_type": "code",
   "execution_count": null,
   "metadata": {
    "ExecuteTime": {
     "end_time": "2019-11-25T15:16:26.671693Z",
     "start_time": "2019-11-25T15:16:26.660722Z"
    }
   },
   "outputs": [],
   "source": [
    "# Matching the geoid with its latitude and longitude\n",
    "def create_geoids(shapeRecs, dic_id):\n",
    "    for i in range(len(shapeRecs)):\n",
    "        geoid = shapeRecs[i].record[4]\n",
    "        lat = float(shapeRecs[i].record[10])\n",
    "        lon = float(shapeRecs[i].record[11])\n",
    "\n",
    "        dic_id[geoid] = [lat, lon]\n",
    "    return dic_id\n",
    "\n",
    "# Determining if a block group is located inside our available boundaries\n",
    "def on_the_map(geoid):\n",
    "    if geoid[-12:] in geoids:\n",
    "        return 1\n",
    "    else:\n",
    "        return -1\n",
    "\n",
    "# Inpute the latitude and longitude in the ethnicity dataframe\n",
    "def inpute_lat(geoid):\n",
    "    return geoids[geoid[-12:]][0]\n",
    "def inpute_long(geoid):\n",
    "    return geoids[geoid[-12:]][1]\n",
    "    "
   ]
  },
  {
   "cell_type": "code",
   "execution_count": null,
   "metadata": {
    "ExecuteTime": {
     "end_time": "2019-11-25T15:16:26.890108Z",
     "start_time": "2019-11-25T15:16:26.674685Z"
    }
   },
   "outputs": [],
   "source": [
    "# Adding the columns latitude and longitude to our ethnicity dataset\n",
    "geoids = {}\n",
    "geoids = create_geoids(shapeRecs, geoids)\n",
    "chicago_df = ethnicity_df.copy()\n",
    "chicago_df[\"onmap\"] = chicago_df[\"geoid\"].apply(on_the_map)\n",
    "chicago_df = chicago_df[chicago_df[\"onmap\"] == 1]\n",
    "\n",
    "chicago_df[\"latitude\"] = chicago_df[\"geoid\"].apply(inpute_lat)\n",
    "chicago_df[\"longitude\"] = chicago_df[\"geoid\"].apply(inpute_long)\n",
    "chicago_df[\"geoid_match\"] = chicago_df['geoid'].str[-12:]\n",
    "chicago_df.head()"
   ]
  },
  {
   "cell_type": "markdown",
   "metadata": {},
   "source": [
    "#### Create geojson file\n",
    "This cell should only be ran once, if you are only in possessions of the shp file."
   ]
  },
  {
   "cell_type": "code",
   "execution_count": null,
   "metadata": {
    "ExecuteTime": {
     "end_time": "2019-11-25T15:17:19.520225Z",
     "start_time": "2019-11-25T15:16:27.561388Z"
    }
   },
   "outputs": [],
   "source": [
    "reader = shapefile.Reader(\"./data/tl_2016_17_bg.shp\")\n",
    "fields = reader.fields[1:]\n",
    "field_names = [field[0] for field in fields]\n",
    "buffer = []\n",
    "for sr in reader.shapeRecords():\n",
    "    if sr.record[4] in chicago_df['geoid_match'].unique():\n",
    "        atr = dict(zip(field_names, sr.record))\n",
    "        geom = sr.shape.__geo_interface__\n",
    "        buffer.append(dict(type=\"Feature\", \\\n",
    "        geometry=geom, properties=atr)) \n",
    "\n",
    "# write the GeoJSON file\n",
    "geojson = open(\"./data/usBlocksGroups.geojson\", \"w\")\n",
    "geojson.write(dumps({\"type\": \"FeatureCollection\",\\\n",
    "\"features\": buffer}, indent=2))\n",
    "geojson.close()"
   ]
  },
  {
   "cell_type": "markdown",
   "metadata": {},
   "source": [
    "### Chicago inspections\n",
    "Here, we load the processed inspection dataset processed above, and only keep those entries where the latitude exists. We are allowed to do this, because the amount of null entries is trivial."
   ]
  },
  {
   "cell_type": "code",
   "execution_count": null,
   "metadata": {
    "ExecuteTime": {
     "end_time": "2019-11-25T15:17:21.073179Z",
     "start_time": "2019-11-25T15:17:19.527206Z"
    }
   },
   "outputs": [],
   "source": [
    "with open('./data/chicago_processed.pkl', 'rb') as fp:\n",
    "    chicago_inspections = pickle.load(fp)\n",
    "chicago_inspections.head()\n",
    "print(len(chicago_inspections))\n",
    "chicago_inspections = chicago_inspections[~chicago_inspections['latitude'].isnull()]\n",
    "print(len(chicago_inspections))"
   ]
  },
  {
   "cell_type": "markdown",
   "metadata": {},
   "source": [
    "# Creating map"
   ]
  },
  {
   "cell_type": "markdown",
   "metadata": {
    "ExecuteTime": {
     "end_time": "2019-11-24T11:31:50.542860Z",
     "start_time": "2019-11-24T11:31:50.526875Z"
    }
   },
   "source": [
    "In this section, we visualise the correlation between different ethnicities and different results. Our create map function plots a choropleth map of the ethnicity density per group block, as well as a bubbles representing the amount of restaurant having <span style=\"color:lightgreen\">passed</span> or <span style=\"color:crimson\">failed</span> the inspection, as well as those <span style=\"color:maroon\">out of business</span>. \n",
    "<br>\n",
    "In order to not be biased by the absolute values of the population per block group, we compute a normalising factor, namely the total density"
   ]
  },
  {
   "cell_type": "code",
   "execution_count": null,
   "metadata": {
    "ExecuteTime": {
     "end_time": "2019-11-25T15:18:36.689336Z",
     "start_time": "2019-11-25T15:18:12.143446Z"
    }
   },
   "outputs": [],
   "source": [
    "# Normalising factor\n",
    "geoid_normalising = {}\n",
    "for geoid in chicago_df['geoid'].unique():\n",
    "    norm = chicago_df[chicago_df['geoid'] == geoid]\n",
    "    norm = norm[norm['lntitle'] == \"Total\"]\n",
    "    geoid_normalising[geoid] = norm['CIT_EST'].values[0]\n",
    "    \n",
    "def inpute_normalisation_factor(geoid):\n",
    "    return geoid_normalising[geoid]\n",
    "\n",
    "chicago_df['normalisation_factor'] = chicago_df['geoid']\n",
    "chicago_df['normalisation_factor'] = chicago_df['normalisation_factor'].apply(inpute_normalisation_factor)\n"
   ]
  },
  {
   "cell_type": "code",
   "execution_count": null,
   "metadata": {
    "ExecuteTime": {
     "end_time": "2019-11-25T15:18:45.794914Z",
     "start_time": "2019-11-25T15:18:45.772973Z"
    }
   },
   "outputs": [],
   "source": [
    "chicago_df['normalised_estimation'] = chicago_df['CIT_EST']\n",
    "chicago_df['normalised_estimation'] = 100 * chicago_df['normalised_estimation'] / chicago_df['normalisation_factor']\n",
    "chicago_df.head()"
   ]
  },
  {
   "cell_type": "code",
   "execution_count": null,
   "metadata": {
    "ExecuteTime": {
     "end_time": "2019-11-25T15:52:46.327180Z",
     "start_time": "2019-11-25T15:52:46.297407Z"
    }
   },
   "outputs": [],
   "source": [
    "def create_map(chicago_df, ethnicity, chicago_inspection, result, total=False, count=False):\n",
    "    \"\"\"\n",
    "    result : list of the index to plot (1: Pass, 2:Fail, 3:Out of business)\n",
    "    \"\"\"\n",
    "    # Plotting the density of the population\n",
    "    ethnicity_density = chicago_df[chicago_df['lntitle'] == ethnicity]\n",
    "    if total==True:\n",
    "        ethnicity_density['normalised_estimation'] = np.sqrt(np.sqrt(ethnicity_density['CIT_EST']))\n",
    "    ethnicity_density = ethnicity_density.groupby(\"geoid_match\").sum()[\"normalised_estimation\"].reset_index()    \n",
    "    ethnicity_density['normalised_estimation'] = ethnicity_density['normalised_estimation'].astype(float)\n",
    "    \n",
    "    \n",
    "    chicago_map = folium.Map(location=[41.806167, -87.985366])\n",
    "    folium.Choropleth(geo_data=\"./data/usBlocksGroups.geojson\",\n",
    "                        name =\"choropleth\",\n",
    "                        data=ethnicity_density, # my dataset\n",
    "                        columns=['geoid_match', 'normalised_estimation'], # zip code is here for matching the geojson zipcode, sales price is the column that changes the color of zipcode areas\n",
    "                        key_on='feature.properties.GEOID', # this path contains zipcodes in str type, this zipcodes should match with our ZIP CODE column\n",
    "                        fill_color='YlGnBu', \n",
    "                        fill_opacity=0.7, \n",
    "                        line_opacity=0.2,\n",
    "                        legend_name='Population Density'\n",
    "                     ).add_to(chicago_map)##\n",
    "\n",
    "    \n",
    "    if 1 in result:\n",
    "        # Plotting the amount of restaurants whose result during the inspection was \"result\"\n",
    "        results = chicago_inspection[chicago_inspection['results']=='Pass']\n",
    "        zip_latitude = {}\n",
    "        for zipcode in results['zip'].unique():\n",
    "            temp = results[results[\"zip\"] == zipcode]\n",
    "            if len(temp) !=0:\n",
    "                lat = temp.iloc[0]['latitude']\n",
    "                long = temp.iloc[0]['longitude']\n",
    "                zip_latitude[zipcode] = [lat, long]\n",
    "\n",
    "        if not count:\n",
    "            bubbles = results.groupby('zip').nunique()[['license']].reset_index()\n",
    "        else:\n",
    "            bubbles = results.groupby('zip').count()[['license']].reset_index()\n",
    "            \n",
    "\n",
    "        for i in range(len(bubbles)):\n",
    "            zipcode = bubbles.iloc[i]['zip']\n",
    "            location = zip_latitude[zipcode]\n",
    "            name = str(bubbles.iloc[i]['zip'])\n",
    "            folium.Circle(\n",
    "                location=location,\n",
    "                popup=name,\n",
    "                radius = bubbles.iloc[i]['license']/3,\n",
    "                color='lightgreen',\n",
    "                fill=True,\n",
    "                fill_color='lightgreen'\n",
    "\n",
    "            ).add_to(chicago_map)\n",
    "        \n",
    "    # Plotting the amount of restaurants whose result during the inspection was \"result\"\n",
    "    if 2 in result:\n",
    "        results = chicago_inspection[chicago_inspection['results']=='Fail']\n",
    "        zip_latitude = {}\n",
    "        for zipcode in results['zip'].unique():\n",
    "            temp = results[results[\"zip\"] == zipcode]\n",
    "            if len(temp) !=0:\n",
    "                lat = temp.iloc[0]['latitude']\n",
    "                long = temp.iloc[0]['longitude']\n",
    "                zip_latitude[zipcode] = [lat, long]\n",
    "\n",
    "        if not count:\n",
    "            bubbles = results.groupby('zip').nunique()[['license']].reset_index()\n",
    "        else:\n",
    "            bubbles = results.groupby('zip').count()[['license']].reset_index()\n",
    "\n",
    "        for i in range(len(bubbles)):\n",
    "            zipcode = bubbles.iloc[i]['zip']\n",
    "            location = zip_latitude[zipcode]\n",
    "            name = str(bubbles.iloc[i]['zip'])\n",
    "            folium.Circle(\n",
    "                location=location,\n",
    "                popup=name,\n",
    "                radius = bubbles.iloc[i]['license']/3,\n",
    "                color='crimson',\n",
    "                fill=True,\n",
    "                fill_color='crimson'\n",
    "\n",
    "            ).add_to(chicago_map)\n",
    "\n",
    "        \n",
    "    # Plotting the amount of restaurants whose result during the inspection was \"result\"\n",
    "    if 3 in result:\n",
    "        results = chicago_inspection[chicago_inspection['results']=='Out of Business']\n",
    "        zip_latitude = {}\n",
    "        for zipcode in results['zip'].unique():\n",
    "            temp = results[results[\"zip\"] == zipcode]\n",
    "            if len(temp) !=0:\n",
    "                lat = temp.iloc[0]['latitude']\n",
    "                long = temp.iloc[0]['longitude']\n",
    "                zip_latitude[zipcode] = [lat, long]\n",
    "\n",
    "        if not count:\n",
    "            bubbles = results.groupby('zip').nunique()[['license']].reset_index()\n",
    "        else:\n",
    "            bubbles = results.groupby('zip').count()[['license']].reset_index()\n",
    "        for i in range(len(bubbles)):\n",
    "            zipcode = bubbles.iloc[i]['zip']\n",
    "            location = zip_latitude[zipcode]\n",
    "            name = str(bubbles.iloc[i]['zip'])\n",
    "            folium.Circle(\n",
    "                location=location,\n",
    "                popup=name,\n",
    "                radius = bubbles.iloc[i]['license']/3,\n",
    "                color='maroon',\n",
    "                fill=True,\n",
    "                fill_color='maroon'\n",
    "\n",
    "            ).add_to(chicago_map)\n",
    "\n",
    "\n",
    "    folium.LayerControl().add_to(chicago_map)\n",
    "    return chicago_map\n",
    "\n",
    "\n"
   ]
  },
  {
   "cell_type": "markdown",
   "metadata": {},
   "source": [
    "## Total density\n",
    "In the following map, we can observe that most business who went bankrupt or had to close are centralised around the populated area of Chicago. However, business that have passed the inspection are more evenly spread accross different areas of Chicago. <par>\n",
    "In the following maps, we plot first the occurences of passed/failed/out of business inspections, then the occurences of businesse who have received a pass/fail/went out of business. We can thus observe that, because the number of passed inspections is higher then the number of businesses who passed an inspection, we can thus infer that businesses that have passed an inspections will still be inspected later on to check for consistency.\n",
    "<br> In the other sections, we will focus on plotting the businesses occurences, rather than the inspections occurences"
   ]
  },
  {
   "cell_type": "markdown",
   "metadata": {
    "ExecuteTime": {
     "end_time": "2019-11-25T17:34:43.748088Z",
     "start_time": "2019-11-25T17:34:43.727974Z"
    }
   },
   "source": [
    "The following map can also be found <a href=\"https://github.com/obiwit/ADAknow/blob/master/maps/ethnicity_total_map_inspections.html\"> here </a>!"
   ]
  },
  {
   "cell_type": "code",
   "execution_count": null,
   "metadata": {
    "ExecuteTime": {
     "end_time": "2019-11-25T15:52:52.747441Z",
     "start_time": "2019-11-25T15:52:47.047513Z"
    }
   },
   "outputs": [],
   "source": [
    "ethnicity = 'Total'\n",
    "ethnicity_total_map = create_map(chicago_df, ethnicity, chicago_inspections, [1, 2, 3], True, True)\n",
    "ethnicity_total_map.save('./maps/ethnicity_total_map_inspections.html')\n",
    "\n",
    "HTML('<iframe src=./maps/ethnicity_total_map_inspections.html width=700 height=450></iframe>')"
   ]
  },
  {
   "cell_type": "markdown",
   "metadata": {},
   "source": [
    "The following map can also be found <a href=\"https://github.com/obiwit/ADAknow/blob/master/maps/ethnicity_total_map_businesses.html\"> here </a>!"
   ]
  },
  {
   "cell_type": "code",
   "execution_count": null,
   "metadata": {
    "ExecuteTime": {
     "end_time": "2019-11-25T15:53:16.497417Z",
     "start_time": "2019-11-25T15:53:04.357449Z"
    }
   },
   "outputs": [],
   "source": [
    "ethnicity = 'Total'\n",
    "ethnicity_total_map = create_map(chicago_df, ethnicity, chicago_inspections, [1, 2, 3], True)\n",
    "ethnicity_total_map.save('./maps/ethnicity_total_map_businesses.html')\n",
    "\n",
    "HTML('<iframe src=./maps/ethnicity_total_map_businesses.html width=700 height=450></iframe>')"
   ]
  },
  {
   "cell_type": "markdown",
   "metadata": {},
   "source": [
    "## White population alone\n",
    "It looks like where there exists a cluster of restaurants that have been inspected in the center of Chicago. In that cluster, it seems that the restaurants that have mostly gone out of business are located in areas where more than 83% of the population is white. However, we have not normalised this data by the number of restaurants, nor have we looked into more precise correlation algorithms and formulae. This will be inspected in more details in milestone 2.\n",
    "Another possibility is that they were more complaints in those neighbourhood, hence this tendency."
   ]
  },
  {
   "cell_type": "markdown",
   "metadata": {},
   "source": [
    "The following map can also be found <a href=\"https://github.com/obiwit/ADAknow/blob/master/maps/ethnicity_white_map.html\"> here </a>!"
   ]
  },
  {
   "cell_type": "code",
   "execution_count": null,
   "metadata": {
    "ExecuteTime": {
     "end_time": "2019-11-25T15:53:39.407076Z",
     "start_time": "2019-11-25T15:53:31.557592Z"
    }
   },
   "outputs": [],
   "source": [
    "ethnicity = 'White Alone'\n",
    "ethnicity_total_map = create_map(chicago_df, ethnicity, chicago_inspections, [1,2,3])\n",
    "ethnicity_total_map.save('./maps/ethnicity_white_map.html')\n",
    "\n",
    "HTML('<iframe src=./maps/ethnicity_white_map.html width=700 height=450></iframe>')"
   ]
  },
  {
   "cell_type": "markdown",
   "metadata": {},
   "source": [
    "## Hispanic or Latino\n",
    "On the following map, we can observe that the amount of inspected restaurants is considerately smaller than in the neighbourhood were the population is mostly white. Whether it is related to the absolute oamount of restaurants located in those areas or because the inspections are targetted in \"white neighbourhood\" will be further inspected by crossing the google review dataset (which will give us an overview of the existing restaurants, inspected or not). We can observe that in the places where the latino and hispanic population is more than 67% of the group blocks, the restaurants located on the eastern side of those blocks tend to pass the inspections, while those located on the western side ten to fail or go out of business."
   ]
  },
  {
   "cell_type": "markdown",
   "metadata": {},
   "source": [
    "The following map can also be found <a href=\"https://github.com/obiwit/ADAknow/blob/master/maps/ethnicity_hispanic_latino_map.html\"> here </a>!"
   ]
  },
  {
   "cell_type": "code",
   "execution_count": null,
   "metadata": {
    "ExecuteTime": {
     "end_time": "2019-11-25T15:53:49.527279Z",
     "start_time": "2019-11-25T15:53:39.407076Z"
    }
   },
   "outputs": [],
   "source": [
    "ethnicity = 'Hispanic or Latino'\n",
    "ethnicity_total_map = create_map(chicago_df, ethnicity, chicago_inspections, [1,2,3])\n",
    "ethnicity_total_map.save('./maps/ethnicity_hispanic_latino_map.html')\n",
    "\n",
    "HTML('<iframe src=./maps/ethnicity_hispanic_latino_map.html width=700 height=450></iframe>')"
   ]
  },
  {
   "cell_type": "markdown",
   "metadata": {},
   "source": [
    "## Black or African American Alone"
   ]
  },
  {
   "cell_type": "markdown",
   "metadata": {},
   "source": [
    "The following map can also be found <a href=\"https://github.com/obiwit/ADAknow/blob/master/maps/ethnicity_black_african_map.html\"> here </a>!"
   ]
  },
  {
   "cell_type": "code",
   "execution_count": null,
   "metadata": {
    "ExecuteTime": {
     "end_time": "2019-11-25T15:53:58.317480Z",
     "start_time": "2019-11-25T15:53:49.527279Z"
    }
   },
   "outputs": [],
   "source": [
    "ethnicity = 'Black or African American Alone'\n",
    "ethnicity_total_map = create_map(chicago_df, ethnicity, chicago_inspections, [1,2,3])\n",
    "ethnicity_total_map.save('./maps/ethnicity_black_african_map.html')\n",
    "\n",
    "HTML('<iframe src=./maps/ethnicity_black_african_map.html width=700 height=450></iframe>')\n"
   ]
  },
  {
   "cell_type": "markdown",
   "metadata": {},
   "source": [
    "# Google Local Reviews\n",
    "\n",
    "These datasets contain reviews about businesses from Google Local (Google Maps). Data includes geographic information for each business as well as reviews.\n",
    "\n",
    "The dataset has been extracted from the _Recommender Systems Dataset_ by Julian McAuley, professor at the University of California, San Diego: http://cseweb.ucsd.edu/~jmcauley/datasets.html\n",
    "\n",
    "The dataset is divided into 3 files:\n",
    "- Businesses: Contains the information related to the businesses\n",
    "- Reviews: Contains all the reviews made by users\n",
    "- Users: Contains the information related to the users\n",
    "\n",
    "In this notebook we analyze the dataset and find important features for our cross-analysis with the food inspections"
   ]
  },
  {
   "cell_type": "markdown",
   "metadata": {},
   "source": [
    "## Businesses\n",
    "\n",
    "First, we are going to analyze the businesses contained in the dataset. The dataset contains businesses listed in Google's services from all over the worlds. \n",
    "\n",
    "This file contains each business with the following details:\n",
    "- **Name**: Name of the business\n",
    "- **Price**: Price level reported by users\n",
    "- **Address**: Address of the establishement\n",
    "- **Hours**: Open hours\n",
    "- **Phone**: Phone contact\n",
    "- **Closed**: Boolean value reporting whether the business is closed or not\n",
    "- **gPlusPlaceId**: Google's unique identifier of the business\n",
    "- **gps**: Coordinates of the place"
   ]
  },
  {
   "cell_type": "markdown",
   "metadata": {},
   "source": [
    "## Filtering\n",
    "One of the first things to do is to filter them and obtain only the businesses located in Chicago. To do so, we need to obtain the city from the address."
   ]
  },
  {
   "cell_type": "markdown",
   "metadata": {},
   "source": [
    "First of all, we read the file line by line because the format is not accepted by pandas reading method"
   ]
  },
  {
   "cell_type": "code",
   "execution_count": null,
   "metadata": {},
   "outputs": [],
   "source": [
    "f = open(\"./../Project Data/google/places.json\")\n",
    "data = []\n",
    "for line in f:\n",
    "    data.append(eval(line))"
   ]
  },
  {
   "cell_type": "code",
   "execution_count": null,
   "metadata": {},
   "outputs": [],
   "source": [
    "business_df = pd.DataFrame.from_records(data)\n",
    "business_df.head(5)"
   ]
  },
  {
   "cell_type": "markdown",
   "metadata": {},
   "source": [
    "The dataset contains businesses from all over the world. Therefore, we need to extract the city for each business so we can filter the businesses and obtain only the ones in Chicago.\n",
    "\n",
    "Now, we will split the address and create 2 new columns: \"city\" and \"zip\""
   ]
  },
  {
   "cell_type": "markdown",
   "metadata": {},
   "source": [
    "The dataset contains businesses from all over the world. Therefore, we need to extract the city for each business so we can filter the businesses and obtain only the ones in Chicago.\n",
    "\n",
    "Now, we will split the address and create 2 new columns: \"city\" and \"zip\""
   ]
  },
  {
   "cell_type": "code",
   "execution_count": null,
   "metadata": {},
   "outputs": [],
   "source": [
    "addressSplit = pd.DataFrame(business_df.address.tolist())\n",
    "addressSplit.head(5)"
   ]
  },
  {
   "cell_type": "code",
   "execution_count": null,
   "metadata": {},
   "outputs": [],
   "source": [
    "addressSplit = addressSplit[1].str.split(',',n=1,expand=True)\n",
    "addressSplit.head(5)"
   ]
  },
  {
   "cell_type": "code",
   "execution_count": null,
   "metadata": {},
   "outputs": [],
   "source": [
    "business_df[\"city\"] = addressSplit[0]\n",
    "business_df[\"zip\"] = addressSplit[1]\n",
    "business_df.head(5)"
   ]
  },
  {
   "cell_type": "markdown",
   "metadata": {},
   "source": [
    "So far, we have a dataframe with the businesses on Google's dataset where we have obtained the city and the zip for each business.\n",
    "\n",
    "Now, we can filter the businesses by city and select only those that are in Chicago"
   ]
  },
  {
   "cell_type": "code",
   "execution_count": null,
   "metadata": {},
   "outputs": [],
   "source": [
    "chicagoBiz_df =business_df[ business_df[\"city\"]==\"Chicago\" ]\n",
    "chicagoBiz_df.head(5)"
   ]
  },
  {
   "cell_type": "markdown",
   "metadata": {},
   "source": [
    "We decide to drop the columns of \"phone\" and \"hours\" because they will not be relevant for our analysis. In our future analysis, these columns will not be used."
   ]
  },
  {
   "cell_type": "code",
   "execution_count": null,
   "metadata": {},
   "outputs": [],
   "source": [
    "chicagoBiz_df = chicagoBiz_df.drop(columns=[\"phone\", \"hours\"])\n",
    "chicagoBiz_df.head(5)"
   ]
  },
  {
   "cell_type": "markdown",
   "metadata": {},
   "source": [
    "And we also select only the businesses that are still open"
   ]
  },
  {
   "cell_type": "code",
   "execution_count": null,
   "metadata": {},
   "outputs": [],
   "source": [
    "openChicagoBiz_df = chicagoBiz_df[chicagoBiz_df[\"closed\"]==False]"
   ]
  },
  {
   "cell_type": "markdown",
   "metadata": {},
   "source": [
    "We remove from state predix from the zip code since it will be \"IL\" for all of them."
   ]
  },
  {
   "cell_type": "code",
   "execution_count": null,
   "metadata": {},
   "outputs": [],
   "source": [
    "split = openChicagoBiz_df[\"zip\"].str.split(n=1,expand=True)\n",
    "openChicagoBiz_df = openChicagoBiz_df.drop(columns=[\"zip\"])\n",
    "openChicagoBiz_df[\"zipPrefix\"] = split[0]\n",
    "openChicagoBiz_df[\"zip\"] = split[1]"
   ]
  },
  {
   "cell_type": "markdown",
   "metadata": {},
   "source": [
    "Eventually, we reset the index of our dataframe"
   ]
  },
  {
   "cell_type": "code",
   "execution_count": null,
   "metadata": {},
   "outputs": [],
   "source": [
    "openChicagoBiz_df = openChicagoBiz_df.dropna(axis=\"rows\", subset=[\"zip\"])\n",
    "openChicagoBiz_df.reset_index(inplace=True)\n",
    "openChicagoBiz_df = openChicagoBiz_df.drop(columns=[\"index\"])"
   ]
  },
  {
   "cell_type": "markdown",
   "metadata": {},
   "source": [
    "Finally, we are ready to store the table in a pickle file for later use. This pickle files contains the businesses in Google's dataset that are located in Chicago."
   ]
  },
  {
   "cell_type": "code",
   "execution_count": null,
   "metadata": {},
   "outputs": [],
   "source": [
    "path = \"./../Project Data/google/businessesChicago.pkl\"\n",
    "openChicagoBiz_df.to_pickle(path)"
   ]
  },
  {
   "cell_type": "markdown",
   "metadata": {},
   "source": [
    "## Map of businesses\n",
    "It is interesting to see where these businesses are located within Chicago in order to get a feeling when comparing them to the Food Inspections dataset"
   ]
  },
  {
   "cell_type": "code",
   "execution_count": null,
   "metadata": {},
   "outputs": [],
   "source": [
    "openChicagoBiz_df.head(5)"
   ]
  },
  {
   "cell_type": "code",
   "execution_count": null,
   "metadata": {},
   "outputs": [],
   "source": [
    "# New DataFrame with the zip codes and #inspections per zip code\n",
    "businessesByZip = openChicagoBiz_df.groupby('zip')[[\"gPlusPlaceId\"]].count()\n",
    "businessesByZip = businessesByZip.rename(columns={'gPlusPlaceId':'nBusinesses'})\n",
    "businessesByZip.reset_index(inplace=True)\n",
    "businessesByZip.head(5)"
   ]
  },
  {
   "cell_type": "markdown",
   "metadata": {},
   "source": [
    "The following map present a view of the number of businesses per zip code contained in Google's dataset.\n",
    "\n",
    "When compared to the Food Inspections Chicago, we see we have fewer data points but they are distributed similarly over the zip areas."
   ]
  },
  {
   "cell_type": "code",
   "execution_count": null,
   "metadata": {},
   "outputs": [],
   "source": [
    "m = folium.Map(location=[41.8781, -87.6298])\n",
    "zip_geo = f'./../Project Data/data/zipCodesBoundaries.geojson'\n",
    "\n",
    "folium.Choropleth(\n",
    "    geo_data=zip_geo,\n",
    "    name='choropleth',\n",
    "    data=businessesByZip,\n",
    "    columns=['zip','nBusinesses'],\n",
    "    key_on='feature.properties.zip',\n",
    "    fill_color='BuPu',\n",
    "    fill_opacity=0.7,\n",
    "    line_opacity=0.2,\n",
    "    legend_name='Businesses per zip'\n",
    ").add_to(m)\n",
    "\n",
    "folium.LayerControl().add_to(m)\n",
    "\n",
    "m"
   ]
  },
  {
   "cell_type": "markdown",
   "metadata": {},
   "source": [
    "# Reviews\n",
    "\n",
    "Another file contained in Google's dataset is the \"reviews\". In this file, we can find all the reviews posted by users on Google Maps. This file is fairly bigger than the previous one: 5.14 GB\n",
    "\n",
    "In this file, the following information is provided for each review:\n",
    "- **Rating**: Score given by the user to the business\n",
    "- **Reviewer Name**: Public name of the users who posts the review\n",
    "- **Categories**: Categories reported in the review\n",
    "- **gPlusPlaceId**: Google's unique identifier for every business\n",
    "- **unixReviewTime**: Time at which the review was posted\n",
    "- **reviewTime**: Date of the review\n",
    "- **gPlusUserId**: Google's unique identifier for every user"
   ]
  },
  {
   "cell_type": "markdown",
   "metadata": {},
   "source": [
    "## Filtering\n",
    "\n",
    "Similarly to the previous file, we need to obtain the reviews that were given to the businesses in Chicago. The first task is to filter all the reviews in the dataset and obtain only the ones within the preivous businesses"
   ]
  },
  {
   "cell_type": "markdown",
   "metadata": {},
   "source": [
    "Again, we read the file line by line due to some incompatbility between the file format and Pandas library."
   ]
  },
  {
   "cell_type": "code",
   "execution_count": null,
   "metadata": {},
   "outputs": [],
   "source": [
    "f = open(\"./../Project Data/google/reviews.json\")\n",
    "data = []\n",
    "for line in f:\n",
    "    data.append(eval(line))"
   ]
  },
  {
   "cell_type": "code",
   "execution_count": null,
   "metadata": {},
   "outputs": [],
   "source": [
    "reviews_df = pd.DataFrame.from_records(data)\n",
    "reviews_df.head(5)"
   ]
  },
  {
   "cell_type": "markdown",
   "metadata": {},
   "source": [
    "Join businesses and reviews\n",
    "\n",
    "First, read the pickle file for businesses. This pickle file contains the businesses names from Chicago's Food Inspections dataset."
   ]
  },
  {
   "cell_type": "code",
   "execution_count": null,
   "metadata": {},
   "outputs": [],
   "source": [
    "path = \"./../Project Data/google/businessesChicago.pkl\"\n",
    "openChicagoBiz_df = pd.read_pickle(path)"
   ]
  },
  {
   "cell_type": "code",
   "execution_count": null,
   "metadata": {},
   "outputs": [],
   "source": [
    "openChicagoBiz_df.dtypes"
   ]
  },
  {
   "cell_type": "markdown",
   "metadata": {},
   "source": [
    "Google identifies each business and user with a unique identifier. We can use this unique identifier to merge the reviews and businesses.\n",
    "\n",
    "Bewlo, we join reviews and businesses in Chicago by their unique identifier."
   ]
  },
  {
   "cell_type": "code",
   "execution_count": null,
   "metadata": {},
   "outputs": [],
   "source": [
    "businessesIds = openChicagoBiz_df[\"gPlusPlaceId\"].to_list()\n",
    "businessesIds = set(businessesIds)"
   ]
  },
  {
   "cell_type": "code",
   "execution_count": null,
   "metadata": {},
   "outputs": [],
   "source": [
    "reviewBizIds = reviews_df[\"gPlusPlaceId\"].to_list()\n",
    "reviewBizIds = set(reviewBizIds)"
   ]
  },
  {
   "cell_type": "code",
   "execution_count": null,
   "metadata": {},
   "outputs": [],
   "source": [
    "interS = businessesIds.intersection(reviewBizIds)"
   ]
  },
  {
   "cell_type": "code",
   "execution_count": null,
   "metadata": {},
   "outputs": [],
   "source": [
    "reviewsChicago_df = reviews_df[reviews_df[\"gPlusPlaceId\"].isin(interS) ]"
   ]
  },
  {
   "cell_type": "code",
   "execution_count": null,
   "metadata": {},
   "outputs": [],
   "source": [
    "reviewsChicago_df.head(5)"
   ]
  },
  {
   "cell_type": "code",
   "execution_count": null,
   "metadata": {},
   "outputs": [],
   "source": [
    "reviewsChicago_df.count()[0]"
   ]
  },
  {
   "cell_type": "code",
   "execution_count": null,
   "metadata": {},
   "outputs": [],
   "source": [
    "path = \"./../Project Data/google/reviewsChicago.pkl\"\n",
    "reviewsChicago_df.to_pickle(path)"
   ]
  },
  {
   "cell_type": "markdown",
   "metadata": {},
   "source": [
    "## Number of Reviews"
   ]
  },
  {
   "cell_type": "markdown",
   "metadata": {},
   "source": [
    "We have **110541** revies for around 14000 businesses in Chicago. It is important to see how these reviews are disgtributed over businesses."
   ]
  },
  {
   "cell_type": "code",
   "execution_count": null,
   "metadata": {},
   "outputs": [],
   "source": [
    "cntReviews = reviewsChicago_df.groupby(\"gPlusPlaceId\").count()[[\"gPlusUserId\"]]\n",
    "cntReviews = cntReviews.rename(columns={\"gPlusUserId\": \"nReviews\"})\n",
    "mean = reviewsChicago_df.groupby(\"gPlusPlaceId\").mean()[[\"rating\"]]"
   ]
  },
  {
   "cell_type": "code",
   "execution_count": null,
   "metadata": {},
   "outputs": [],
   "source": [
    "cntReviews.reset_index(inplace=True)"
   ]
  },
  {
   "cell_type": "code",
   "execution_count": null,
   "metadata": {},
   "outputs": [],
   "source": [
    "cntReviews = cntReviews.merge(openChicagoBiz_df, how=\"inner\", on=\"gPlusPlaceId\")[[\"gPlusPlaceId\", \"name\", \"nReviews\", \"zip\"]]\n",
    "cntReviews.head(5)"
   ]
  },
  {
   "cell_type": "code",
   "execution_count": null,
   "metadata": {},
   "outputs": [],
   "source": [
    "ax = cntReviews.plot.hist(\"nReviews\", bins=35, figsize=(12,5))\n",
    "ax.set_xlabel(\"Number of reviews\")\n",
    "ax.set_title(\"Histogram of reviews per business\")\n",
    "plt.show()"
   ]
  },
  {
   "cell_type": "markdown",
   "metadata": {},
   "source": [
    "The plot above shows the histogram for the reviews per business in the city of Chicago. We can clearly see this is a heavy-tailed distribution, where a lot of businesses have few reviews and very few businesses have a lot of reviews."
   ]
  },
  {
   "cell_type": "markdown",
   "metadata": {},
   "source": [
    "# Merging Inspections and Google's datasets"
   ]
  },
  {
   "cell_type": "markdown",
   "metadata": {},
   "source": [
    "After seeing that we have a considerable amount of reviews for the businesses, we can could argue how many of these businesses are contained in the Food Inspections dataset. \n",
    "\n",
    "In a very first approach, we can analyze this by creating a list of businesses names in the Chicago's food inspections dataset and crossing it with the list of businesses in Google's dataset."
   ]
  },
  {
   "cell_type": "markdown",
   "metadata": {},
   "source": [
    "_bizNames_ is the set of businesses names present in Chicagos Food Inspections dataset"
   ]
  },
  {
   "cell_type": "code",
   "execution_count": null,
   "metadata": {},
   "outputs": [],
   "source": [
    "# Read business names from Chicago's \n",
    "path = \"./../Project Data/google/bizNames.pkl\"\n",
    "bizNames = pd.read_pickle(path)\n",
    "bizNames.head(3)"
   ]
  },
  {
   "cell_type": "code",
   "execution_count": null,
   "metadata": {},
   "outputs": [],
   "source": [
    "# Read Google's businesses\n",
    "path = \"./../Project Data/google/businessesChicago.pkl\"\n",
    "openChicagoBiz_df = pd.read_pickle(path)\n",
    "openChicagoBiz_df.head(3)"
   ]
  },
  {
   "cell_type": "code",
   "execution_count": null,
   "metadata": {},
   "outputs": [],
   "source": [
    "# Read Google's reviews\n",
    "path = \"./../Project Data/google/reviewsChicago.pkl\"\n",
    "reviewsChicago_df = pd.read_pickle(path)\n",
    "reviewsChicago_df.head(3)"
   ]
  },
  {
   "cell_type": "markdown",
   "metadata": {},
   "source": [
    "In orther to increase the number of coincidences between both datset, we lowercase the names of the businesses in both datasets "
   ]
  },
  {
   "cell_type": "code",
   "execution_count": null,
   "metadata": {},
   "outputs": [],
   "source": [
    "openChicagoBiz_df[\"name\"] = openChicagoBiz_df[\"name\"].str.lower()"
   ]
  },
  {
   "cell_type": "markdown",
   "metadata": {},
   "source": [
    "Below, we see the table of businesses in Google's dataset that are also contained in the Food Inspections datasets. This table has been created by joining both dataset by business name. "
   ]
  },
  {
   "cell_type": "code",
   "execution_count": null,
   "metadata": {},
   "outputs": [],
   "source": [
    "crossedBusinesses = openChicagoBiz_df[openChicagoBiz_df[\"name\"].isin(bizNames)]\n",
    "crossedBusinesses[\"name\"].count()"
   ]
  },
  {
   "cell_type": "code",
   "execution_count": null,
   "metadata": {},
   "outputs": [],
   "source": [
    "crossedReviews = reviewsChicago_df[reviewsChicago_df[\"gPlusPlaceId\"].isin(crossedBusinesses[\"gPlusPlaceId\"])]\n",
    "crossedReviews.count()[0]"
   ]
  },
  {
   "cell_type": "markdown",
   "metadata": {},
   "source": [
    "The number of businesses in both datasets is __3717__, down from __14556__ on Google's. And __43213__ reviews for these businesses.\n",
    "\n",
    "We are going to store these businesses and reviews in a pickle file for later use."
   ]
  },
  {
   "cell_type": "code",
   "execution_count": null,
   "metadata": {},
   "outputs": [],
   "source": [
    "path = \"./../Project Data/google/crossedBiz.pkl\"\n",
    "crossedBusinesses.to_pickle(path)"
   ]
  },
  {
   "cell_type": "code",
   "execution_count": null,
   "metadata": {},
   "outputs": [],
   "source": [
    "path = \"./../Project Data/google/crossedReviews.pkl\"\n",
    "crossedReviews.to_pickle(path)"
   ]
  },
  {
   "cell_type": "markdown",
   "metadata": {},
   "source": [
    "Finally, we are going to plot histogram for the reviews in the businesses that are in both of our datasets. "
   ]
  },
  {
   "cell_type": "code",
   "execution_count": null,
   "metadata": {},
   "outputs": [],
   "source": [
    "reviewsByBusiness = crossedReviews.groupby(\"gPlusPlaceId\").count()[[\"rating\"]]\n",
    "reviewsByBusiness = reviewsByBusiness.rename(columns={\"rating\":\"nReviews\"})\n",
    "reviewsByBusiness.sort_values(by=\"nReviews\", ascending=False, inplace=True)\n",
    "reviewsByBusiness.head(3)"
   ]
  },
  {
   "cell_type": "code",
   "execution_count": null,
   "metadata": {},
   "outputs": [],
   "source": [
    "ax = reviewsByBusiness.plot.hist(figsize=(8,5), bins=50)\n",
    "ax.set_xlabel(\"#reviews\")\n",
    "plt.title(\"Histogram on reviews\")\n",
    "plt.show()"
   ]
  },
  {
   "cell_type": "markdown",
   "metadata": {},
   "source": [
    "The Histogram above, shows that most businesses do not have any review, while very few businesses have a large number of reviews. It is a **heavy-tailed** distribution. This might have an impact in future works on these reviews."
   ]
  },
  {
   "cell_type": "markdown",
   "metadata": {},
   "source": [
    "# Prospective Work"
   ]
  },
  {
   "cell_type": "markdown",
   "metadata": {},
   "source": [
    "## How fair are inspections?"
   ]
  },
  {
   "cell_type": "markdown",
   "metadata": {},
   "source": [
    "### Which type of restaurants is being controlled the most? And which type of restaurant tend to pass the test the most?"
   ]
  },
  {
   "cell_type": "markdown",
   "metadata": {},
   "source": [
    "Count for the most common facility type"
   ]
  },
  {
   "cell_type": "code",
   "execution_count": null,
   "metadata": {},
   "outputs": [],
   "source": []
  },
  {
   "cell_type": "markdown",
   "metadata": {},
   "source": [
    "calculate the ratios of pass/fail for each facility type"
   ]
  },
  {
   "cell_type": "code",
   "execution_count": null,
   "metadata": {},
   "outputs": [],
   "source": []
  },
  {
   "cell_type": "markdown",
   "metadata": {},
   "source": [
    "### Do the inspection patterns change for large chain restaurants [from Starbucks and McDonald's] compared to smaller independent ones?"
   ]
  },
  {
   "cell_type": "markdown",
   "metadata": {},
   "source": [
    "compare ratios of pass/fail/out-of-business/pass-with-conditions/not-yet-ready for the same facility type in similar locations (and possibly their google reviews evaluations as well)\n",
    "   "
   ]
  },
  {
   "cell_type": "code",
   "execution_count": null,
   "metadata": {},
   "outputs": [],
   "source": []
  },
  {
   "cell_type": "markdown",
   "metadata": {},
   "source": [
    "## How much do violations correlate with external events?"
   ]
  },
  {
   "cell_type": "markdown",
   "metadata": {},
   "source": [
    "### How are violations/failed inspections sensitive to permanent external factors such as neighborhood, type of establishments?"
   ]
  },
  {
   "cell_type": "markdown",
   "metadata": {},
   "source": [
    "Compute the ratios of pass/fail/out-of-business/pass-with-conditions/not-yet-ready for business in the same location and/or business type groups\n"
   ]
  },
  {
   "cell_type": "code",
   "execution_count": null,
   "metadata": {},
   "outputs": [],
   "source": []
  },
  {
   "cell_type": "code",
   "execution_count": null,
   "metadata": {},
   "outputs": [],
   "source": []
  },
  {
   "cell_type": "markdown",
   "metadata": {},
   "source": [
    "## How do violations/failed inspections correlate with temporary factors such as season, and time of the year? That is, for a given area, are violations more or less regular, or are they susceptible to external factors, such as temperature?\n"
   ]
  },
  {
   "cell_type": "markdown",
   "metadata": {},
   "source": [
    "create a model and see whether time of year information allows for a greater accuracy when predicting pass/fail/out-of-business/pass-with-conditions/not-yet-ready (that is, whether time of year carries any extra information to a business performance in the inspection)"
   ]
  },
  {
   "cell_type": "markdown",
   "metadata": {},
   "source": [
    "## Failure of inspections"
   ]
  },
  {
   "cell_type": "markdown",
   "metadata": {},
   "source": [
    "We start by analyzing how does the aforementioned factors impact the number and frequency of inspection failures."
   ]
  },
  {
   "cell_type": "code",
   "execution_count": 77,
   "metadata": {
    "scrolled": true
   },
   "outputs": [],
   "source": [
    "chicago_df_noNan['inspection_date'] = pd.to_datetime(chicago_df_noNan['inspection_date'])"
   ]
  },
  {
   "cell_type": "markdown",
   "metadata": {},
   "source": [
    "To answer this question we drive a new column for the season."
   ]
  },
  {
   "cell_type": "code",
   "execution_count": 147,
   "metadata": {},
   "outputs": [],
   "source": [
    "def get_season(date):\n",
    "    season_dict = {1: 'Winter', 2: 'Spring', 3: 'Summer', 4: 'Fall'}\n",
    "    month = date.month\n",
    "    numeric_season = (month%12 + 3)//3\n",
    "    return season_dict[numeric_season]\n",
    "\n",
    "def get_month(date):\n",
    "    months = ['Jan', 'Feb', 'Mar', 'Apr', 'May', 'Jun', 'Jul', 'Aug', 'Sep', 'Oct',\n",
    "              'Nov', 'Dec']\n",
    "    month = date.month\n",
    "    return months[month - 1]"
   ]
  },
  {
   "cell_type": "code",
   "execution_count": 79,
   "metadata": {},
   "outputs": [],
   "source": [
    "chicago_df_noNan['season'] = chicago_df_noNan['inspection_date'].apply(get_season)"
   ]
  },
  {
   "cell_type": "code",
   "execution_count": 80,
   "metadata": {},
   "outputs": [
    {
     "data": {
      "text/html": [
       "<div>\n",
       "<style scoped>\n",
       "    .dataframe tbody tr th:only-of-type {\n",
       "        vertical-align: middle;\n",
       "    }\n",
       "\n",
       "    .dataframe tbody tr th {\n",
       "        vertical-align: top;\n",
       "    }\n",
       "\n",
       "    .dataframe thead th {\n",
       "        text-align: right;\n",
       "    }\n",
       "</style>\n",
       "<table border=\"1\" class=\"dataframe\">\n",
       "  <thead>\n",
       "    <tr style=\"text-align: right;\">\n",
       "      <th></th>\n",
       "      <th>inspection_id</th>\n",
       "      <th>dba_name</th>\n",
       "      <th>aka_name</th>\n",
       "      <th>license</th>\n",
       "      <th>facility_type</th>\n",
       "      <th>risk</th>\n",
       "      <th>address</th>\n",
       "      <th>city</th>\n",
       "      <th>state</th>\n",
       "      <th>zip</th>\n",
       "      <th>...</th>\n",
       "      <th>inspection_type</th>\n",
       "      <th>results</th>\n",
       "      <th>violations</th>\n",
       "      <th>latitude</th>\n",
       "      <th>longitude</th>\n",
       "      <th>location</th>\n",
       "      <th>has_license</th>\n",
       "      <th>new_facility_type</th>\n",
       "      <th>new_violations</th>\n",
       "      <th>season</th>\n",
       "    </tr>\n",
       "  </thead>\n",
       "  <tbody>\n",
       "    <tr>\n",
       "      <td>0</td>\n",
       "      <td>2320830</td>\n",
       "      <td>the hoxton, chicago</td>\n",
       "      <td>the hoxton, chicago</td>\n",
       "      <td>2694640.0</td>\n",
       "      <td>restaurant</td>\n",
       "      <td>Risk 2 (Medium)</td>\n",
       "      <td>200 N GREEN ST</td>\n",
       "      <td>chicago</td>\n",
       "      <td>IL</td>\n",
       "      <td>60607.0</td>\n",
       "      <td>...</td>\n",
       "      <td>license</td>\n",
       "      <td>Pass</td>\n",
       "      <td>36. thermometers provided &amp; accurate - comment...</td>\n",
       "      <td>41.885699</td>\n",
       "      <td>-87.648789</td>\n",
       "      <td>{'latitude': '-87.64878908937915', 'longitude'...</td>\n",
       "      <td>True</td>\n",
       "      <td>restaurant</td>\n",
       "      <td>[36]</td>\n",
       "      <td>Fall</td>\n",
       "    </tr>\n",
       "    <tr>\n",
       "      <td>1</td>\n",
       "      <td>2320831</td>\n",
       "      <td>ogden plaza inc.</td>\n",
       "      <td>ogden plaza inc.</td>\n",
       "      <td>2475982.0</td>\n",
       "      <td>grocery store</td>\n",
       "      <td>Risk 3 (Low)</td>\n",
       "      <td>3459 W OGDEN AVE</td>\n",
       "      <td>chicago</td>\n",
       "      <td>IL</td>\n",
       "      <td>60623.0</td>\n",
       "      <td>...</td>\n",
       "      <td>canvas</td>\n",
       "      <td>Out of Business</td>\n",
       "      <td>NaN</td>\n",
       "      <td>41.855266</td>\n",
       "      <td>-87.712402</td>\n",
       "      <td>{'latitude': '-87.71240156240032', 'longitude'...</td>\n",
       "      <td>True</td>\n",
       "      <td>grocery store</td>\n",
       "      <td>[]</td>\n",
       "      <td>Fall</td>\n",
       "    </tr>\n",
       "    <tr>\n",
       "      <td>2</td>\n",
       "      <td>2320829</td>\n",
       "      <td>plaza food and liquor</td>\n",
       "      <td>plaza food and liquor</td>\n",
       "      <td>2689756.0</td>\n",
       "      <td>grocery store</td>\n",
       "      <td>Risk 3 (Low)</td>\n",
       "      <td>3455-3459 S OGDEN AVE</td>\n",
       "      <td>chicago</td>\n",
       "      <td>IL</td>\n",
       "      <td>60623.0</td>\n",
       "      <td>...</td>\n",
       "      <td>license</td>\n",
       "      <td>Not Ready</td>\n",
       "      <td>NaN</td>\n",
       "      <td>41.849000</td>\n",
       "      <td>-87.715700</td>\n",
       "      <td>NaN</td>\n",
       "      <td>True</td>\n",
       "      <td>grocery store</td>\n",
       "      <td>[]</td>\n",
       "      <td>Fall</td>\n",
       "    </tr>\n",
       "    <tr>\n",
       "      <td>3</td>\n",
       "      <td>2320813</td>\n",
       "      <td>plaza food and liquor</td>\n",
       "      <td>plaza food and liquor</td>\n",
       "      <td>2689757.0</td>\n",
       "      <td>grocery store</td>\n",
       "      <td>Risk 3 (Low)</td>\n",
       "      <td>3455-3459 S OGDEN AVE</td>\n",
       "      <td>chicago</td>\n",
       "      <td>IL</td>\n",
       "      <td>60623.0</td>\n",
       "      <td>...</td>\n",
       "      <td>license</td>\n",
       "      <td>Fail</td>\n",
       "      <td>5. procedures for responding to vomiting and d...</td>\n",
       "      <td>41.849000</td>\n",
       "      <td>-87.715700</td>\n",
       "      <td>NaN</td>\n",
       "      <td>True</td>\n",
       "      <td>grocery store</td>\n",
       "      <td>[5, 5, 36, 5, 38, 38, 49, 54, 55, 55, 56]</td>\n",
       "      <td>Fall</td>\n",
       "    </tr>\n",
       "    <tr>\n",
       "      <td>4</td>\n",
       "      <td>2320757</td>\n",
       "      <td>gads hill center</td>\n",
       "      <td>gads hill center</td>\n",
       "      <td>2698627.0</td>\n",
       "      <td>daycare above and under 2 years</td>\n",
       "      <td>Risk 1 (High)</td>\n",
       "      <td>4255-4259 S ARCHER AVE</td>\n",
       "      <td>chicago</td>\n",
       "      <td>IL</td>\n",
       "      <td>60632.0</td>\n",
       "      <td>...</td>\n",
       "      <td>license</td>\n",
       "      <td>Fail</td>\n",
       "      <td>5. procedures for responding to vomiting and d...</td>\n",
       "      <td>41.816005</td>\n",
       "      <td>-87.700893</td>\n",
       "      <td>{'latitude': '-87.70089338917239', 'longitude'...</td>\n",
       "      <td>True</td>\n",
       "      <td>daycare above and under 2 years</td>\n",
       "      <td>[5, 5, 10, 16, 33, 5, 55]</td>\n",
       "      <td>Fall</td>\n",
       "    </tr>\n",
       "  </tbody>\n",
       "</table>\n",
       "<p>5 rows × 21 columns</p>\n",
       "</div>"
      ],
      "text/plain": [
       "   inspection_id               dba_name               aka_name    license  \\\n",
       "0        2320830    the hoxton, chicago    the hoxton, chicago  2694640.0   \n",
       "1        2320831       ogden plaza inc.       ogden plaza inc.  2475982.0   \n",
       "2        2320829  plaza food and liquor  plaza food and liquor  2689756.0   \n",
       "3        2320813  plaza food and liquor  plaza food and liquor  2689757.0   \n",
       "4        2320757       gads hill center       gads hill center  2698627.0   \n",
       "\n",
       "                     facility_type             risk                  address  \\\n",
       "0                       restaurant  Risk 2 (Medium)          200 N GREEN ST    \n",
       "1                    grocery store     Risk 3 (Low)        3459 W OGDEN AVE    \n",
       "2                    grocery store     Risk 3 (Low)   3455-3459 S OGDEN AVE    \n",
       "3                    grocery store     Risk 3 (Low)   3455-3459 S OGDEN AVE    \n",
       "4  daycare above and under 2 years    Risk 1 (High)  4255-4259 S ARCHER AVE    \n",
       "\n",
       "      city state      zip  ... inspection_type          results  \\\n",
       "0  chicago    IL  60607.0  ...         license             Pass   \n",
       "1  chicago    IL  60623.0  ...          canvas  Out of Business   \n",
       "2  chicago    IL  60623.0  ...         license        Not Ready   \n",
       "3  chicago    IL  60623.0  ...         license             Fail   \n",
       "4  chicago    IL  60632.0  ...         license             Fail   \n",
       "\n",
       "                                          violations   latitude  longitude  \\\n",
       "0  36. thermometers provided & accurate - comment...  41.885699 -87.648789   \n",
       "1                                                NaN  41.855266 -87.712402   \n",
       "2                                                NaN  41.849000 -87.715700   \n",
       "3  5. procedures for responding to vomiting and d...  41.849000 -87.715700   \n",
       "4  5. procedures for responding to vomiting and d...  41.816005 -87.700893   \n",
       "\n",
       "                                            location has_license  \\\n",
       "0  {'latitude': '-87.64878908937915', 'longitude'...        True   \n",
       "1  {'latitude': '-87.71240156240032', 'longitude'...        True   \n",
       "2                                                NaN        True   \n",
       "3                                                NaN        True   \n",
       "4  {'latitude': '-87.70089338917239', 'longitude'...        True   \n",
       "\n",
       "                 new_facility_type                             new_violations  \\\n",
       "0                       restaurant                                       [36]   \n",
       "1                    grocery store                                         []   \n",
       "2                    grocery store                                         []   \n",
       "3                    grocery store  [5, 5, 36, 5, 38, 38, 49, 54, 55, 55, 56]   \n",
       "4  daycare above and under 2 years                  [5, 5, 10, 16, 33, 5, 55]   \n",
       "\n",
       "  season  \n",
       "0   Fall  \n",
       "1   Fall  \n",
       "2   Fall  \n",
       "3   Fall  \n",
       "4   Fall  \n",
       "\n",
       "[5 rows x 21 columns]"
      ]
     },
     "execution_count": 80,
     "metadata": {},
     "output_type": "execute_result"
    }
   ],
   "source": [
    "chicago_df_noNan.head()"
   ]
  },
  {
   "cell_type": "code",
   "execution_count": 143,
   "metadata": {},
   "outputs": [
    {
     "data": {
      "text/plain": [
       "Text(0, 0.5, 'Number of Failed inspections')"
      ]
     },
     "execution_count": 143,
     "metadata": {},
     "output_type": "execute_result"
    },
    {
     "data": {
      "image/png": "[encoded data removed]",
      "text/plain": [
       "<Figure size 648x504 with 1 Axes>"
      ]
     },
     "metadata": {},
     "output_type": "display_data"
    }
   ],
   "source": [
    "# Calculate the number of failed inspection each season\n",
    "grouped_fails_df = chicago_df_noNan[chicago_df_noNan['results'] == 'Fail']\\\n",
    "                                .groupby('season',as_index=False)['zip']\\\n",
    "                                .count()\n",
    "ax = plt.axes()\n",
    "sns.set(rc={'figure.figsize':(9,7)})\n",
    "sns.barplot(x='season', y='zip', data=grouped_fails_df.sort_values('zip', ascending=False))\n",
    "ax.set_title('Failed insections per season')\n",
    "ax.set_ylabel('Number of Failed inspections')"
   ]
  },
  {
   "cell_type": "code",
   "execution_count": 145,
   "metadata": {},
   "outputs": [
    {
     "name": "stdout",
     "output_type": "stream",
     "text": [
      "   season    zip\n",
      "0    Fall  50270\n",
      "1  Spring  51959\n",
      "2  Summer  50426\n",
      "3  Winter  42124\n"
     ]
    },
    {
     "data": {
      "text/plain": [
       "Text(0, 0.5, 'Number of Failed inspections')"
      ]
     },
     "execution_count": 145,
     "metadata": {},
     "output_type": "execute_result"
    },
    {
     "data": {
      "image/png": "[encoded data removed]",
      "text/plain": [
       "<Figure size 648x504 with 1 Axes>"
      ]
     },
     "metadata": {},
     "output_type": "display_data"
    }
   ],
   "source": [
    "# Calculate the ratio of failed inspection each season\n",
    "grouped_df = chicago_df_noNan.groupby(['season'],as_index=False)['zip'].count()\n",
    "print(grouped_df)\n",
    "grouped_df['zip'] = grouped_fails_df['zip'] / grouped_df['zip']\n",
    "ax = plt.axes()\n",
    "sns.set(rc={'figure.figsize':(9,7)})\n",
    "sns.barplot(x='season', y='zip', data=grouped_df.sort_values('zip', ascending=False))\n",
    "ax.set_title('Failed insections per season')\n",
    "ax.set_ylabel('Number of Failed inspections')"
   ]
  },
  {
   "cell_type": "markdown",
   "metadata": {},
   "source": [
    "We find our first interesting result which is as that as the season's temperature goes down fails increases, however, we create some further plots to confirm that. However, as we can also observe that plotting the ratios instead of the absolute number shows that the difference is not very large, that indicate a pattern in behavior were inspection numbers are just smaller during winter."
   ]
  },
  {
   "cell_type": "markdown",
   "metadata": {},
   "source": [
    "Next to get a clearer image we do the same thing by month"
   ]
  },
  {
   "cell_type": "code",
   "execution_count": 148,
   "metadata": {},
   "outputs": [],
   "source": [
    "chicago_df_noNan['month'] = chicago_df_noNan['inspection_date'].apply(get_month)"
   ]
  },
  {
   "cell_type": "code",
   "execution_count": 178,
   "metadata": {},
   "outputs": [],
   "source": [
    "max_temp_df = pickle.load(open('./data/max_temp_df.pkl', 'rb'))"
   ]
  },
  {
   "cell_type": "code",
   "execution_count": 186,
   "metadata": {},
   "outputs": [],
   "source": [
    "max_temp_df.loc['2019', 'Dec'] = np.nan\n",
    "max_temp_df = max_temp_df.astype(float)"
   ]
  },
  {
   "cell_type": "code",
   "execution_count": 209,
   "metadata": {},
   "outputs": [],
   "source": [
    "means_temp = pd.DataFrame(max_temp_df.mean(), columns=['temp'])\n",
    "means_temp.index.name = 'month'"
   ]
  },
  {
   "cell_type": "code",
   "execution_count": 210,
   "metadata": {},
   "outputs": [
    {
     "data": {
      "text/html": [
       "<div>\n",
       "<style scoped>\n",
       "    .dataframe tbody tr th:only-of-type {\n",
       "        vertical-align: middle;\n",
       "    }\n",
       "\n",
       "    .dataframe tbody tr th {\n",
       "        vertical-align: top;\n",
       "    }\n",
       "\n",
       "    .dataframe thead th {\n",
       "        text-align: right;\n",
       "    }\n",
       "</style>\n",
       "<table border=\"1\" class=\"dataframe\">\n",
       "  <thead>\n",
       "    <tr style=\"text-align: right;\">\n",
       "      <th></th>\n",
       "      <th>month</th>\n",
       "      <th>temp</th>\n",
       "    </tr>\n",
       "  </thead>\n",
       "  <tbody>\n",
       "    <tr>\n",
       "      <td>0</td>\n",
       "      <td>Jan</td>\n",
       "      <td>30.720000</td>\n",
       "    </tr>\n",
       "    <tr>\n",
       "      <td>1</td>\n",
       "      <td>Feb</td>\n",
       "      <td>34.430000</td>\n",
       "    </tr>\n",
       "    <tr>\n",
       "      <td>2</td>\n",
       "      <td>Mar</td>\n",
       "      <td>46.840000</td>\n",
       "    </tr>\n",
       "    <tr>\n",
       "      <td>3</td>\n",
       "      <td>Apr</td>\n",
       "      <td>58.720000</td>\n",
       "    </tr>\n",
       "    <tr>\n",
       "      <td>4</td>\n",
       "      <td>May</td>\n",
       "      <td>70.940000</td>\n",
       "    </tr>\n",
       "    <tr>\n",
       "      <td>5</td>\n",
       "      <td>Jun</td>\n",
       "      <td>80.410000</td>\n",
       "    </tr>\n",
       "    <tr>\n",
       "      <td>6</td>\n",
       "      <td>Jul</td>\n",
       "      <td>85.000000</td>\n",
       "    </tr>\n",
       "    <tr>\n",
       "      <td>7</td>\n",
       "      <td>Aug</td>\n",
       "      <td>82.920000</td>\n",
       "    </tr>\n",
       "    <tr>\n",
       "      <td>8</td>\n",
       "      <td>Sep</td>\n",
       "      <td>75.930000</td>\n",
       "    </tr>\n",
       "    <tr>\n",
       "      <td>9</td>\n",
       "      <td>Oct</td>\n",
       "      <td>62.940000</td>\n",
       "    </tr>\n",
       "    <tr>\n",
       "      <td>10</td>\n",
       "      <td>Nov</td>\n",
       "      <td>47.610000</td>\n",
       "    </tr>\n",
       "    <tr>\n",
       "      <td>11</td>\n",
       "      <td>Dec</td>\n",
       "      <td>36.755556</td>\n",
       "    </tr>\n",
       "    <tr>\n",
       "      <td>12</td>\n",
       "      <td>Annual</td>\n",
       "      <td>59.620000</td>\n",
       "    </tr>\n",
       "  </tbody>\n",
       "</table>\n",
       "</div>"
      ],
      "text/plain": [
       "     month       temp\n",
       "0      Jan  30.720000\n",
       "1      Feb  34.430000\n",
       "2      Mar  46.840000\n",
       "3      Apr  58.720000\n",
       "4      May  70.940000\n",
       "5      Jun  80.410000\n",
       "6      Jul  85.000000\n",
       "7      Aug  82.920000\n",
       "8      Sep  75.930000\n",
       "9      Oct  62.940000\n",
       "10     Nov  47.610000\n",
       "11     Dec  36.755556\n",
       "12  Annual  59.620000"
      ]
     },
     "execution_count": 210,
     "metadata": {},
     "output_type": "execute_result"
    }
   ],
   "source": [
    "means_temp.reset_index()"
   ]
  },
  {
   "cell_type": "code",
   "execution_count": 214,
   "metadata": {},
   "outputs": [
    {
     "data": {
      "text/plain": [
       "Text(0, 0.5, 'temperature')"
      ]
     },
     "execution_count": 214,
     "metadata": {},
     "output_type": "execute_result"
    },
    {
     "data": {
      "image/png": "[encoded data removed]",
      "text/plain": [
       "<Figure size 1440x720 with 2 Axes>"
      ]
     },
     "metadata": {},
     "output_type": "display_data"
    }
   ],
   "source": [
    "# Calculate the number of failed inspection each season\n",
    "grouped_fails_df = chicago_df_noNan[chicago_df_noNan['results'] == 'Fail']\\\n",
    "                                .groupby('month',as_index=False)['zip']\\\n",
    "                                .count()\n",
    "grouped_fails_df = grouped_fails_df.merge(means_temp, on='month')\n",
    "f, ax = plt.subplots(1, 2, figsize=(20, 10))\n",
    "sns.barplot(x='month', y='zip', data=grouped_fails_df.sort_values('zip', ascending=False), ax=ax[0])\n",
    "ax[0].set_title('Failed insections per month')\n",
    "ax[0].set_ylabel('Number of Failed inspections')\n",
    "sns.barplot(x='month', y='temp', data=grouped_fails_df.sort_values('zip', ascending=False), ax=ax[1])\n",
    "ax[1].set_title('Average temperature per month')\n",
    "ax[1].set_ylabel('temperature')"
   ]
  },
  {
   "cell_type": "code",
   "execution_count": 216,
   "metadata": {
    "scrolled": true
   },
   "outputs": [
    {
     "data": {
      "text/plain": [
       "Text(0, 0.5, 'temperature')"
      ]
     },
     "execution_count": 216,
     "metadata": {},
     "output_type": "execute_result"
    },
    {
     "data": {
      "image/png": "[encoded data removed]",
      "text/plain": [
       "<Figure size 1440x720 with 2 Axes>"
      ]
     },
     "metadata": {},
     "output_type": "display_data"
    }
   ],
   "source": [
    "# Calculate the ratio of failed inspection each season\n",
    "grouped_df = chicago_df_noNan.groupby(['month'],as_index=False)['zip'].count()\n",
    "grouped_df['zip'] = grouped_fails_df['zip'] / grouped_df['zip']\n",
    "grouped_df = grouped_df.merge(means_temp, on='month')\n",
    "f, ax = plt.subplots(1, 2, figsize=(20, 10))\n",
    "sns.barplot(x='month', y='zip', data=grouped_df.sort_values('zip', ascending=False), ax=ax[0])\n",
    "ax[0].set_title('Failed insections per month')\n",
    "ax[0].set_ylabel('Number of Failed inspections')\n",
    "sns.barplot(x='month', y='temp', data=grouped_df.sort_values('zip', ascending=False), ax=ax[1])\n",
    "ax[1].set_title('Average temperature per month')\n",
    "ax[1].set_ylabel('temperature')"
   ]
  },
  {
   "cell_type": "markdown",
   "metadata": {},
   "source": [
    "The per month analysis confirms the same reults except for February."
   ]
  },
  {
   "cell_type": "markdown",
   "metadata": {},
   "source": []
  },
  {
   "cell_type": "markdown",
   "metadata": {},
   "source": [
    "## Violations"
   ]
  },
  {
   "cell_type": "markdown",
   "metadata": {},
   "source": [
    "Next we try to see if certain violations are more promenent when viewed in light of time and temperature."
   ]
  },
  {
   "cell_type": "markdown",
   "metadata": {},
   "source": [
    "We start by filtering for failed inspections only."
   ]
  },
  {
   "cell_type": "code",
   "execution_count": 240,
   "metadata": {},
   "outputs": [],
   "source": [
    "failed_df = chicago_df_noNan[chicago_df_noNan['results'] == 'Fail'].explode('new_violations')"
   ]
  },
  {
   "cell_type": "code",
   "execution_count": 310,
   "metadata": {},
   "outputs": [
    {
     "data": {
      "text/plain": [
       "array([5, 36, 10, 16, 33, 1, 2, 3, 23, 25, 19, 9, 14, 29, 32, 22, 12, 21,\n",
       "       28, 15, 18, 8, 30, 13, 17, 31, 0, 6, 35, 7, 11, 20, 24, 4, 34, 26,\n",
       "       27], dtype=object)"
      ]
     },
     "execution_count": 310,
     "metadata": {},
     "output_type": "execute_result"
    }
   ],
   "source": [
    "failed_df['new_violations'].unique()"
   ]
  },
  {
   "cell_type": "markdown",
   "metadata": {},
   "source": [
    "First let's take a look at the distributions of violations"
   ]
  },
  {
   "cell_type": "code",
   "execution_count": 314,
   "metadata": {},
   "outputs": [
    {
     "data": {
      "text/plain": [
       "<matplotlib.axes._subplots.AxesSubplot at 0x7f766fab48d0>"
      ]
     },
     "execution_count": 314,
     "metadata": {},
     "output_type": "execute_result"
    },
    {
     "data": {
      "image/png": "[encoded data removed]",
      "text/plain": [
       "<Figure size 648x504 with 1 Axes>"
      ]
     },
     "metadata": {},
     "output_type": "display_data"
    }
   ],
   "source": [
    "first_group = failed_df.groupby(['new_violations'], as_index=False).count()\n",
    "sns.barplot(x='new_violations', y='zip', data=first_group.sort_values('zip', ascending=False))"
   ]
  },
  {
   "cell_type": "markdown",
   "metadata": {},
   "source": [
    "To better visualize we filter only for violations of more then 2500 counts, because the other are rare within our data."
   ]
  },
  {
   "cell_type": "code",
   "execution_count": 315,
   "metadata": {},
   "outputs": [],
   "source": [
    "new_violations_high = first_group[first_group['zip'] > 2500]['new_violations'] \n",
    "failed_df = failed_df[failed_df['new_violations'].isin(new_violations_high)]"
   ]
  },
  {
   "cell_type": "code",
   "execution_count": 316,
   "metadata": {},
   "outputs": [
    {
     "data": {
      "text/plain": [
       "<matplotlib.axes._subplots.AxesSubplot at 0x7f766f743d10>"
      ]
     },
     "execution_count": 316,
     "metadata": {},
     "output_type": "execute_result"
    },
    {
     "data": {
      "image/png": "[encoded data removed]",
      "text/plain": [
       "<Figure size 648x504 with 1 Axes>"
      ]
     },
     "metadata": {},
     "output_type": "display_data"
    }
   ],
   "source": [
    "first_group = failed_df.groupby(['new_violations'], as_index=False).count()\n",
    "sns.barplot(x='new_violations', y='zip', data=first_group.sort_values('zip', ascending=False))"
   ]
  },
  {
   "cell_type": "code",
   "execution_count": null,
   "metadata": {},
   "outputs": [],
   "source": []
  },
  {
   "cell_type": "markdown",
   "metadata": {},
   "source": [
    "## Do violations and inspections reflect deeper biases?\n"
   ]
  },
  {
   "cell_type": "markdown",
   "metadata": {},
   "source": [
    "### Is there any correlation between the number of violations and inspections with the (perceived) ethnicity of each neighborhood of Chicago?"
   ]
  },
  {
   "cell_type": "markdown",
   "metadata": {},
   "source": [
    "Group by ethnicity majorities and computing odds of pass/fail/out-of-business/pass-with-conditions/not-yet-ready"
   ]
  },
  {
   "cell_type": "code",
   "execution_count": null,
   "metadata": {},
   "outputs": [],
   "source": []
  },
  {
   "cell_type": "code",
   "execution_count": null,
   "metadata": {},
   "outputs": [],
   "source": []
  },
  {
   "cell_type": "markdown",
   "metadata": {},
   "source": [
    "Create a prediction model using the several ethnicities presence percentage and evaluate whether it improves performance - and if so, what weights are assigned to which ethnicity (are there implicit biases?)"
   ]
  },
  {
   "cell_type": "code",
   "execution_count": null,
   "metadata": {},
   "outputs": [],
   "source": []
  },
  {
   "cell_type": "code",
   "execution_count": null,
   "metadata": {},
   "outputs": [],
   "source": []
  },
  {
   "cell_type": "markdown",
   "metadata": {},
   "source": [
    "### Is there a relationship between the inspections and restaurants' popularity on Google Local Review?"
   ]
  },
  {
   "cell_type": "markdown",
   "metadata": {},
   "source": [
    "Investigate the impact of the average review score on the possible outcomes of an inspection (pass/fail/out-of-business/pass-with-conditions/not-yet-ready)"
   ]
  },
  {
   "cell_type": "code",
   "execution_count": null,
   "metadata": {},
   "outputs": [],
   "source": []
  },
  {
   "cell_type": "code",
   "execution_count": null,
   "metadata": {},
   "outputs": [],
   "source": []
  },
  {
   "cell_type": "code",
   "execution_count": null,
   "metadata": {},
   "outputs": [],
   "source": []
  },
  {
   "cell_type": "code",
   "execution_count": null,
   "metadata": {},
   "outputs": [],
   "source": []
  },
  {
   "cell_type": "code",
   "execution_count": null,
   "metadata": {},
   "outputs": [],
   "source": []
  },
  {
   "cell_type": "code",
   "execution_count": null,
   "metadata": {},
   "outputs": [],
   "source": []
  },
  {
   "cell_type": "code",
   "execution_count": null,
   "metadata": {},
   "outputs": [],
   "source": []
  },
  {
   "cell_type": "code",
   "execution_count": null,
   "metadata": {},
   "outputs": [],
   "source": []
  }
 ],
 "metadata": {
  "kernelspec": {
   "display_name": "Python [conda env:ada] *",
   "language": "python",
   "name": "conda-env-ada-py"
  },
  "language_info": {
   "codemirror_mode": {
    "name": "ipython",
    "version": 3
   },
   "file_extension": ".py",
   "mimetype": "text/x-python",
   "name": "python",
   "nbconvert_exporter": "python",
   "pygments_lexer": "ipython3",
   "version": "3.7.4"
  },
  "toc": {
   "base_numbering": 1,
   "nav_menu": {},
   "number_sections": true,
   "sideBar": true,
   "skip_h1_title": false,
   "title_cell": "Table of Contents",
   "title_sidebar": "Contents",
   "toc_cell": true,
   "toc_position": {},
   "toc_section_display": true,
   "toc_window_display": false
  }
 },
 "nbformat": 4,
 "nbformat_minor": 2
}
