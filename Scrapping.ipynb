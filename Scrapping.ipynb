{
 "cells": [
  {
   "cell_type": "code",
   "execution_count": 73,
   "metadata": {},
   "outputs": [],
   "source": [
    "import requests\n",
    "import urllib.request\n",
    "import time\n",
    "import pandas as pd\n",
    "from bs4 import BeautifulSoup"
   ]
  },
  {
   "cell_type": "code",
   "execution_count": 74,
   "metadata": {},
   "outputs": [],
   "source": [
    "url = 'https://w2.weather.gov/climate/xmacis.php?wfo=lot'\n",
    "response = requests.get(url)"
   ]
  },
  {
   "cell_type": "code",
   "execution_count": 75,
   "metadata": {},
   "outputs": [],
   "source": [
    "max_temp = '<table class=\"tablesorter tablesorter-default\"><caption>Monthly Mean Max Temperature for Chicago Area, IL (ThreadEx)<br><span class=\"subtitle noprint\">Click column heading to sort ascending, click again to sort descending.</span></caption><thead><tr class=\"tablesorter-headerRow\"><th class=\"sorter-text tablesorter-header tablesorter-headerAsc\" data-column=\"0\" tabindex=\"0\" unselectable=\"on\" style=\"user-select: none;\"><div class=\"tablesorter-header-inner\">Year</div></th><th class=\"sorter-sorttrace string-bottom tablesorter-header\" data-column=\"1\" tabindex=\"0\" unselectable=\"on\" style=\"user-select: none;\"><div class=\"tablesorter-header-inner\">Jan</div></th><th class=\"sorter-sorttrace string-bottom tablesorter-header\" data-column=\"2\" tabindex=\"0\" unselectable=\"on\" style=\"user-select: none;\"><div class=\"tablesorter-header-inner\">Feb</div></th><th class=\"sorter-sorttrace string-bottom tablesorter-header\" data-column=\"3\" tabindex=\"0\" unselectable=\"on\" style=\"user-select: none;\"><div class=\"tablesorter-header-inner\">Mar</div></th><th class=\"sorter-sorttrace string-bottom tablesorter-header\" data-column=\"4\" tabindex=\"0\" unselectable=\"on\" style=\"user-select: none;\"><div class=\"tablesorter-header-inner\">Apr</div></th><th class=\"sorter-sorttrace string-bottom tablesorter-header\" data-column=\"5\" tabindex=\"0\" unselectable=\"on\" style=\"user-select: none;\"><div class=\"tablesorter-header-inner\">May</div></th><th class=\"sorter-sorttrace string-bottom tablesorter-header\" data-column=\"6\" tabindex=\"0\" unselectable=\"on\" style=\"user-select: none;\"><div class=\"tablesorter-header-inner\">Jun</div></th><th class=\"sorter-sorttrace string-bottom tablesorter-header\" data-column=\"7\" tabindex=\"0\" unselectable=\"on\" style=\"user-select: none;\"><div class=\"tablesorter-header-inner\">Jul</div></th><th class=\"sorter-sorttrace string-bottom tablesorter-header\" data-column=\"8\" tabindex=\"0\" unselectable=\"on\" style=\"user-select: none;\"><div class=\"tablesorter-header-inner\">Aug</div></th><th class=\"sorter-sorttrace string-bottom tablesorter-header\" data-column=\"9\" tabindex=\"0\" unselectable=\"on\" style=\"user-select: none;\"><div class=\"tablesorter-header-inner\">Sep</div></th><th class=\"sorter-sorttrace string-bottom tablesorter-header\" data-column=\"10\" tabindex=\"0\" unselectable=\"on\" style=\"user-select: none;\"><div class=\"tablesorter-header-inner\">Oct</div></th><th class=\"sorter-sorttrace string-bottom tablesorter-header\" data-column=\"11\" tabindex=\"0\" unselectable=\"on\" style=\"user-select: none;\"><div class=\"tablesorter-header-inner\">Nov</div></th><th class=\"sorter-sorttrace string-bottom tablesorter-header\" data-column=\"12\" tabindex=\"0\" unselectable=\"on\" style=\"user-select: none;\"><div class=\"tablesorter-header-inner\">Dec</div></th><th class=\"sorter-sorttrace string-bottom tablesorter-header\" data-column=\"13\" tabindex=\"0\" unselectable=\"on\" style=\"user-select: none;\"><div class=\"tablesorter-header-inner\">Annual</div></th></tr></thead><tbody><tr><td>2010</td><td>27.4</td><td>32.3</td><td>50.4</td><td>65.5</td><td>71.2</td><td>80.2</td><td>87.1</td><td>85.7</td><td>74.2</td><td>66.8</td><td>50.8</td><td>29.0</td><td class=\"seasonCol\">60.0</td></tr><tr><td>2011</td><td>26.7</td><td>32.7</td><td>43.8</td><td>56.1</td><td>67.8</td><td>79.4</td><td>88.5</td><td>82.5</td><td>69.9</td><td>65.2</td><td>52.4</td><td>41.8</td><td class=\"seasonCol\">58.9</td></tr><tr><td>2012</td><td>38.5</td><td>40.2</td><td>63.3</td><td>59.8</td><td>76.5</td><td>85.5</td><td>91.5</td><td>84.0</td><td>74.5</td><td>60.5</td><td>49.0</td><td>42.5</td><td class=\"seasonCol\">63.8</td></tr><tr><td>2013</td><td>35.3</td><td>33.1</td><td>39.6</td><td>56.3</td><td>71.2</td><td>78.2</td><td>81.8</td><td>82.7</td><td>77.1</td><td>62.4</td><td>45.3</td><td>31.1</td><td class=\"seasonCol\">57.8</td></tr><tr><td>2014</td><td>24.6</td><td>25.7</td><td>40.9</td><td>59.2</td><td>71.0</td><td>81.0</td><td>79.8</td><td>82.1</td><td>73.7</td><td>60.6</td><td>41.4</td><td>36.9</td><td class=\"seasonCol\">56.4</td></tr><tr><td>2015</td><td>29.0</td><td>23.4</td><td>44.4</td><td>60.0</td><td>70.0</td><td>76.9</td><td>81.9</td><td>80.9</td><td>78.1</td><td>63.2</td><td>53.7</td><td>44.5</td><td class=\"seasonCol\">58.8</td></tr><tr><td>2016</td><td>31.7</td><td>37.2</td><td>51.5</td><td>57.4</td><td>70.1</td><td>81.9</td><td>84.4</td><td>84.3</td><td>77.7</td><td>65.8</td><td>55.3</td><td>31.1</td><td class=\"seasonCol\">60.7</td></tr><tr><td>2017</td><td>34.6</td><td>47.7</td><td>47.1</td><td>63.8</td><td>67.7</td><td>83.3</td><td>83.8</td><td>80.7</td><td>79.7</td><td>65.5</td><td>46.9</td><td>34.2</td><td class=\"seasonCol\">61.3</td></tr><tr><td>2018</td><td>31.9</td><td>38.0</td><td>44.7</td><td>50.0</td><td>76.4</td><td>80.4</td><td>85.1</td><td>84.8</td><td>77.5</td><td>60.7</td><td>39.7</td><td>39.7</td><td class=\"seasonCol\">59.1</td></tr><tr><td>2019</td><td>27.5</td><td>34.0</td><td>42.7</td><td>59.1</td><td>67.5</td><td>77.3</td><td>86.1</td><td>81.5</td><td>76.9</td><td>58.7</td><td>41.6</td><td>M</td><td class=\"seasonCol\">59.4</td></tr></tbody><tfoot><tr class=\"rowtopblue\"><th data-column=\"0\" class=\"tablesorter-headerAsc\">Mean</th><td style=\"border-right:0px;\" data-column=\"1\">30.7</td><td style=\"border-right:0px;\" data-column=\"2\">34.4</td><td style=\"border-right:0px;\" data-column=\"3\">46.8</td><td style=\"border-right:0px;\" data-column=\"4\">58.7</td><td style=\"border-right:0px;\" data-column=\"5\">70.9</td><td style=\"border-right:0px;\" data-column=\"6\">80.4</td><td style=\"border-right:0px;\" data-column=\"7\">85.0</td><td style=\"border-right:0px;\" data-column=\"8\">82.9</td><td style=\"border-right:0px;\" data-column=\"9\">75.9</td><td style=\"border-right:0px;\" data-column=\"10\">62.9</td><td style=\"border-right:0px;\" data-column=\"11\">47.6</td><td style=\"border-right:0px;\" data-column=\"12\">36.8</td><td class=\"seasonSmry\" data-column=\"13\">59.6</td></tr><tr><th data-column=\"0\">Max</th><td style=\"border-right:0px;\" data-column=\"1\">38.5<br>2012</td><td style=\"border-right:0px;\" data-column=\"2\">47.7<br>2017</td><td style=\"border-right:0px;\" data-column=\"3\">63.3<br>2012</td><td style=\"border-right:0px;\" data-column=\"4\">65.5<br>2010</td><td style=\"border-right:0px;\" data-column=\"5\">76.5<br>2012</td><td style=\"border-right:0px;\" data-column=\"6\">85.5<br>2012</td><td style=\"border-right:0px;\" data-column=\"7\">91.5<br>2012</td><td style=\"border-right:0px;\" data-column=\"8\">85.7<br>2010</td><td style=\"border-right:0px;\" data-column=\"9\">79.7<br>2017</td><td style=\"border-right:0px;\" data-column=\"10\">66.8<br>2010</td><td style=\"border-right:0px;\" data-column=\"11\">55.3<br>2016</td><td style=\"border-right:0px;\" data-column=\"12\">44.5<br>2015</td><td class=\"seasonSmry\" data-column=\"13\">63.8</td></tr><tr><th data-column=\"0\">Min</th><td style=\"border-right:0px;\" data-column=\"1\">24.6<br>2014</td><td style=\"border-right:0px;\" data-column=\"2\">23.4<br>2015</td><td style=\"border-right:0px;\" data-column=\"3\">39.6<br>2013</td><td style=\"border-right:0px;\" data-column=\"4\">50.0<br>2018</td><td style=\"border-right:0px;\" data-column=\"5\">67.5<br>2019</td><td style=\"border-right:0px;\" data-column=\"6\">76.9<br>2015</td><td style=\"border-right:0px;\" data-column=\"7\">79.8<br>2014</td><td style=\"border-right:0px;\" data-column=\"8\">80.7<br>2017</td><td style=\"border-right:0px;\" data-column=\"9\">69.9<br>2011</td><td style=\"border-right:0px;\" data-column=\"10\">58.7<br>2019</td><td style=\"border-right:0px;\" data-column=\"11\">39.7<br>2018</td><td style=\"border-right:0px;\" data-column=\"12\">29.0<br>2010</td><td class=\"seasonSmry\" data-column=\"13\">56.4</td></tr></tfoot></table>'"
   ]
  },
  {
   "cell_type": "code",
   "execution_count": 81,
   "metadata": {},
   "outputs": [],
   "source": [
    "preciptation = '<table class=\"tablesorter tablesorter-default\"><caption>Monthly Mean Precipitation for Chicago Area, IL (ThreadEx)<br><span class=\"subtitle noprint\">Click column heading to sort ascending, click again to sort descending.</span></caption><thead><tr class=\"tablesorter-headerRow\"><th class=\"sorter-text tablesorter-header tablesorter-headerAsc\" data-column=\"0\" tabindex=\"0\" unselectable=\"on\" style=\"user-select: none;\"><div class=\"tablesorter-header-inner\">Year</div></th><th class=\"sorter-sorttrace string-bottom tablesorter-header\" data-column=\"1\" tabindex=\"0\" unselectable=\"on\" style=\"user-select: none;\"><div class=\"tablesorter-header-inner\">Jan</div></th><th class=\"sorter-sorttrace string-bottom tablesorter-header\" data-column=\"2\" tabindex=\"0\" unselectable=\"on\" style=\"user-select: none;\"><div class=\"tablesorter-header-inner\">Feb</div></th><th class=\"sorter-sorttrace string-bottom tablesorter-header\" data-column=\"3\" tabindex=\"0\" unselectable=\"on\" style=\"user-select: none;\"><div class=\"tablesorter-header-inner\">Mar</div></th><th class=\"sorter-sorttrace string-bottom tablesorter-header\" data-column=\"4\" tabindex=\"0\" unselectable=\"on\" style=\"user-select: none;\"><div class=\"tablesorter-header-inner\">Apr</div></th><th class=\"sorter-sorttrace string-bottom tablesorter-header\" data-column=\"5\" tabindex=\"0\" unselectable=\"on\" style=\"user-select: none;\"><div class=\"tablesorter-header-inner\">May</div></th><th class=\"sorter-sorttrace string-bottom tablesorter-header\" data-column=\"6\" tabindex=\"0\" unselectable=\"on\" style=\"user-select: none;\"><div class=\"tablesorter-header-inner\">Jun</div></th><th class=\"sorter-sorttrace string-bottom tablesorter-header\" data-column=\"7\" tabindex=\"0\" unselectable=\"on\" style=\"user-select: none;\"><div class=\"tablesorter-header-inner\">Jul</div></th><th class=\"sorter-sorttrace string-bottom tablesorter-header\" data-column=\"8\" tabindex=\"0\" unselectable=\"on\" style=\"user-select: none;\"><div class=\"tablesorter-header-inner\">Aug</div></th><th class=\"sorter-sorttrace string-bottom tablesorter-header\" data-column=\"9\" tabindex=\"0\" unselectable=\"on\" style=\"user-select: none;\"><div class=\"tablesorter-header-inner\">Sep</div></th><th class=\"sorter-sorttrace string-bottom tablesorter-header\" data-column=\"10\" tabindex=\"0\" unselectable=\"on\" style=\"user-select: none;\"><div class=\"tablesorter-header-inner\">Oct</div></th><th class=\"sorter-sorttrace string-bottom tablesorter-header\" data-column=\"11\" tabindex=\"0\" unselectable=\"on\" style=\"user-select: none;\"><div class=\"tablesorter-header-inner\">Nov</div></th><th class=\"sorter-sorttrace string-bottom tablesorter-header\" data-column=\"12\" tabindex=\"0\" unselectable=\"on\" style=\"user-select: none;\"><div class=\"tablesorter-header-inner\">Dec</div></th><th class=\"sorter-sorttrace string-bottom tablesorter-header\" data-column=\"13\" tabindex=\"0\" unselectable=\"on\" style=\"user-select: none;\"><div class=\"tablesorter-header-inner\">Annual</div></th></tr></thead><tbody><tr><td>2010</td><td>0.04</td><td>0.06</td><td>0.05</td><td>0.10</td><td>0.16</td><td>0.21</td><td>0.29</td><td>0.06</td><td>0.09</td><td>0.03</td><td>0.08</td><td>0.08</td><td class=\"seasonCol\">0.10</td></tr><tr><td>2011</td><td>0.03</td><td>0.13</td><td>0.08</td><td>0.16</td><td>0.23</td><td>0.11</td><td>0.36</td><td>0.15</td><td>0.12</td><td>0.06</td><td>0.11</td><td>0.09</td><td class=\"seasonCol\">0.14</td></tr><tr><td>2012</td><td>0.06</td><td>0.06</td><td>0.09</td><td>0.06</td><td>0.14</td><td>0.03</td><td>0.12</td><td>0.07</td><td>0.06</td><td>0.10</td><td>0.03</td><td>0.07</td><td class=\"seasonCol\">0.07</td></tr><tr><td>2013</td><td>0.12</td><td>0.11</td><td>0.06</td><td>0.29</td><td>0.16</td><td>0.21</td><td>0.07</td><td>0.05</td><td>0.09</td><td>0.10</td><td>0.07</td><td>0.06</td><td class=\"seasonCol\">0.12</td></tr><tr><td>2014</td><td>0.09</td><td>0.09</td><td>0.06</td><td>0.09</td><td>0.16</td><td>0.26</td><td>0.07</td><td>0.24</td><td>0.09</td><td>0.08</td><td>0.05</td><td>0.03</td><td class=\"seasonCol\">0.11</td></tr><tr><td>2015</td><td>0.05</td><td>0.05</td><td>0.04</td><td>0.10</td><td>0.15</td><td>0.24</td><td>0.09</td><td>0.07</td><td>0.15</td><td>0.07</td><td>0.15</td><td>0.16</td><td class=\"seasonCol\">0.11</td></tr><tr><td>2016</td><td>0.03</td><td>0.04</td><td>0.11</td><td>0.09</td><td>0.18</td><td>0.10</td><td>0.20</td><td>0.14</td><td>0.06</td><td>0.12</td><td>0.06</td><td>0.06</td><td class=\"seasonCol\">0.10</td></tr><tr><td>2017</td><td>0.09</td><td>0.05</td><td>0.13</td><td>0.21</td><td>0.11</td><td>0.11</td><td>0.25</td><td>0.08</td><td>0.01</td><td>0.28</td><td>0.06</td><td>0.02</td><td class=\"seasonCol\">0.12</td></tr><tr><td>2018</td><td>0.05</td><td>0.17</td><td>0.06</td><td>0.09</td><td>0.26</td><td>0.25</td><td>0.04</td><td>0.21</td><td>0.12</td><td>0.15</td><td>0.11</td><td>0.11</td><td class=\"seasonCol\">0.14</td></tr><tr><td>2019</td><td>0.06</td><td>0.10</td><td>0.07</td><td>0.20</td><td>0.27</td><td>0.10</td><td>0.13</td><td>0.12</td><td>0.25</td><td>0.22</td><td>0.06</td><td>M</td><td class=\"seasonCol\">0.14</td></tr></tbody><tfoot><tr class=\"rowtopblue\"><th data-column=\"0\" class=\"tablesorter-headerAsc\">Mean</th><td style=\"border-right:0px;\" data-column=\"1\">0.06</td><td style=\"border-right:0px;\" data-column=\"2\">0.08</td><td style=\"border-right:0px;\" data-column=\"3\">0.07</td><td style=\"border-right:0px;\" data-column=\"4\">0.14</td><td style=\"border-right:0px;\" data-column=\"5\">0.18</td><td style=\"border-right:0px;\" data-column=\"6\">0.16</td><td style=\"border-right:0px;\" data-column=\"7\">0.16</td><td style=\"border-right:0px;\" data-column=\"8\">0.12</td><td style=\"border-right:0px;\" data-column=\"9\">0.10</td><td style=\"border-right:0px;\" data-column=\"10\">0.12</td><td style=\"border-right:0px;\" data-column=\"11\">0.08</td><td style=\"border-right:0px;\" data-column=\"12\">0.07</td><td class=\"seasonSmry\" data-column=\"13\">0.11</td></tr><tr><th data-column=\"0\">Max</th><td style=\"border-right:0px;\" data-column=\"1\">0.12<br>2013</td><td style=\"border-right:0px;\" data-column=\"2\">0.17<br>2018</td><td style=\"border-right:0px;\" data-column=\"3\">0.13<br>2017</td><td style=\"border-right:0px;\" data-column=\"4\">0.29<br>2013</td><td style=\"border-right:0px;\" data-column=\"5\">0.27<br>2019</td><td style=\"border-right:0px;\" data-column=\"6\">0.26<br>2014</td><td style=\"border-right:0px;\" data-column=\"7\">0.36<br>2011</td><td style=\"border-right:0px;\" data-column=\"8\">0.24<br>2014</td><td style=\"border-right:0px;\" data-column=\"9\">0.25<br>2019</td><td style=\"border-right:0px;\" data-column=\"10\">0.28<br>2017</td><td style=\"border-right:0px;\" data-column=\"11\">0.15<br>2015</td><td style=\"border-right:0px;\" data-column=\"12\">0.16<br>2015</td><td class=\"seasonSmry\" data-column=\"13\">0.14</td></tr><tr><th data-column=\"0\">Min</th><td style=\"border-right:0px;\" data-column=\"1\">0.03<br>2016</td><td style=\"border-right:0px;\" data-column=\"2\">0.04<br>2016</td><td style=\"border-right:0px;\" data-column=\"3\">0.04<br>2015</td><td style=\"border-right:0px;\" data-column=\"4\">0.06<br>2012</td><td style=\"border-right:0px;\" data-column=\"5\">0.11<br>2017</td><td style=\"border-right:0px;\" data-column=\"6\">0.03<br>2012</td><td style=\"border-right:0px;\" data-column=\"7\">0.04<br>2018</td><td style=\"border-right:0px;\" data-column=\"8\">0.05<br>2013</td><td style=\"border-right:0px;\" data-column=\"9\">0.01<br>2017</td><td style=\"border-right:0px;\" data-column=\"10\">0.03<br>2010</td><td style=\"border-right:0px;\" data-column=\"11\">0.03<br>2012</td><td style=\"border-right:0px;\" data-column=\"12\">0.02<br>2017</td><td class=\"seasonSmry\" data-column=\"13\">0.07</td></tr></tfoot></table>'"
   ]
  },
  {
   "cell_type": "code",
   "execution_count": 77,
   "metadata": {},
   "outputs": [],
   "source": [
    "def html_to_dataframe(html):\n",
    "    soup = BeautifulSoup(html, \"html.parser\")\n",
    "    head = soup.find('thead')\n",
    "    headers = [ element.text for element in head.findAll('div')]\n",
    "    body = soup.find('tbody').findAll('tr')\n",
    "    body_arr = []\n",
    "\n",
    "    for element in body:\n",
    "        row = element.findAll('td')\n",
    "        row_arr = []\n",
    "\n",
    "        for value in row:\n",
    "            row_arr.append(value.text)\n",
    "\n",
    "        body_arr.append(row_arr)\n",
    "        \n",
    "    df = pd.DataFrame(data=body_arr, columns=headers, index=index)\n",
    "    df.set_index('Year', inplace=True)\n",
    "    \n",
    "    return df\n"
   ]
  },
  {
   "cell_type": "code",
   "execution_count": 83,
   "metadata": {},
   "outputs": [],
   "source": [
    "max_temp_df = html_to_dataframe(max_temp)\n",
    "max_temp_df.to_pickle('./data/max_temp_df.pkl')"
   ]
  },
  {
   "cell_type": "code",
   "execution_count": 84,
   "metadata": {},
   "outputs": [],
   "source": [
    "preciptation_df = html_to_dataframe(preciptation)\n",
    "preciptation_df.to_pickle('./data/preciptation_df.pkl')"
   ]
  },
  {
   "cell_type": "markdown",
   "metadata": {},
   "source": [
    "https://w2.weather.gov/climate/xmacis.php?wfo=lot"
   ]
  }
 ],
 "metadata": {
  "kernelspec": {
   "display_name": "Python [conda env:ada] *",
   "language": "python",
   "name": "conda-env-ada-py"
  },
  "language_info": {
   "codemirror_mode": {
    "name": "ipython",
    "version": 3
   },
   "file_extension": ".py",
   "mimetype": "text/x-python",
   "name": "python",
   "nbconvert_exporter": "python",
   "pygments_lexer": "ipython3",
   "version": "3.7.4"
  }
 },
 "nbformat": 4,
 "nbformat_minor": 2
}
