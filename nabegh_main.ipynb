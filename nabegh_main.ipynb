{
 "cells": [
  {
   "cell_type": "markdown",
   "metadata": {
    "toc": true
   },
   "source": [
    "<h1>Table of Contents<span class=\"tocSkip\"></span></h1>\n",
    "<div class=\"toc\"><ul class=\"toc-item\"><li><span><a href=\"#DATA-SET:-Chicago's-Food-Inspection\" data-toc-modified-id=\"DATA-SET:-Chicago's-Food-Inspection-1\"><span class=\"toc-item-num\">1&nbsp;&nbsp;</span>DATA SET: Chicago's Food Inspection</a></span></li><li><span><a href=\"#Data-Overview\" data-toc-modified-id=\"Data-Overview-2\"><span class=\"toc-item-num\">2&nbsp;&nbsp;</span>Data Overview</a></span></li><li><span><a href=\"#Treatment-of-the-data\" data-toc-modified-id=\"Treatment-of-the-data-3\"><span class=\"toc-item-num\">3&nbsp;&nbsp;</span>Treatment of the data</a></span><ul class=\"toc-item\"><li><span><a href=\"#inspection_id\" data-toc-modified-id=\"inspection_id-3.1\"><span class=\"toc-item-num\">3.1&nbsp;&nbsp;</span>inspection_id</a></span></li><li><span><a href=\"#DBA-name\" data-toc-modified-id=\"DBA-name-3.2\"><span class=\"toc-item-num\">3.2&nbsp;&nbsp;</span>DBA name</a></span></li><li><span><a href=\"#AKA-Name\" data-toc-modified-id=\"AKA-Name-3.3\"><span class=\"toc-item-num\">3.3&nbsp;&nbsp;</span>AKA Name</a></span></li><li><span><a href=\"#License-Number\" data-toc-modified-id=\"License-Number-3.4\"><span class=\"toc-item-num\">3.4&nbsp;&nbsp;</span>License Number</a></span></li><li><span><a href=\"#Facility-Type\" data-toc-modified-id=\"Facility-Type-3.5\"><span class=\"toc-item-num\">3.5&nbsp;&nbsp;</span>Facility Type</a></span></li><li><span><a href=\"#Risk\" data-toc-modified-id=\"Risk-3.6\"><span class=\"toc-item-num\">3.6&nbsp;&nbsp;</span>Risk</a></span></li><li><span><a href=\"#Address\" data-toc-modified-id=\"Address-3.7\"><span class=\"toc-item-num\">3.7&nbsp;&nbsp;</span>Address</a></span></li><li><span><a href=\"#City\" data-toc-modified-id=\"City-3.8\"><span class=\"toc-item-num\">3.8&nbsp;&nbsp;</span>City</a></span></li><li><span><a href=\"#State\" data-toc-modified-id=\"State-3.9\"><span class=\"toc-item-num\">3.9&nbsp;&nbsp;</span>State</a></span></li><li><span><a href=\"#Location\" data-toc-modified-id=\"Location-3.10\"><span class=\"toc-item-num\">3.10&nbsp;&nbsp;</span>Location</a></span></li><li><span><a href=\"#Inspection-type\" data-toc-modified-id=\"Inspection-type-3.11\"><span class=\"toc-item-num\">3.11&nbsp;&nbsp;</span>Inspection type</a></span></li></ul></li><li><span><a href=\"#Data-Exploration\" data-toc-modified-id=\"Data-Exploration-4\"><span class=\"toc-item-num\">4&nbsp;&nbsp;</span>Data Exploration</a></span><ul class=\"toc-item\"><li><span><a href=\"#Missing-Data\" data-toc-modified-id=\"Missing-Data-4.1\"><span class=\"toc-item-num\">4.1&nbsp;&nbsp;</span>Missing Data</a></span></li><li><span><a href=\"#Inspections-by-type--of-business\" data-toc-modified-id=\"Inspections-by-type--of-business-4.2\"><span class=\"toc-item-num\">4.2&nbsp;&nbsp;</span>Inspections by type  of business</a></span></li><li><span><a href=\"#Relationship-between-columns\" data-toc-modified-id=\"Relationship-between-columns-4.3\"><span class=\"toc-item-num\">4.3&nbsp;&nbsp;</span>Relationship between columns</a></span></li><li><span><a href=\"#Where-are-the-inspections-located?\" data-toc-modified-id=\"Where-are-the-inspections-located?-4.4\"><span class=\"toc-item-num\">4.4&nbsp;&nbsp;</span>Where are the inspections located?</a></span></li></ul></li></ul></div>"
   ]
  },
  {
   "cell_type": "code",
   "execution_count": 1,
   "metadata": {
    "ExecuteTime": {
     "end_time": "2019-11-22T12:55:30.933199Z",
     "start_time": "2019-11-22T12:55:28.483794Z"
    }
   },
   "outputs": [],
   "source": [
    "import pandas as pd\n",
    "import numpy as np\n",
    "import pickle \n",
    "from matplotlib import pyplot as plt\n",
    "import warnings\n",
    "from pyjarowinkler import distance\n",
    "import geopandas as gpd\n",
    "import folium\n",
    "import seaborn as sns\n",
    "import pgeocode\n",
    "from itertools import combinations\n",
    "warnings.filterwarnings(\"ignore\")"
   ]
  },
  {
   "cell_type": "markdown",
   "metadata": {},
   "source": [
    "# DATA SET: Chicago's Food Inspection"
   ]
  },
  {
   "cell_type": "markdown",
   "metadata": {},
   "source": [
    "Chicago's Food Inspection Dataset is derived from a larger initiative from the local authorities of Chicago to make Government's data publicly available to everyone. Other similar datasets are available at https://data.cityofchicago.org\n",
    "\n",
    "This dataset, in particular, is generated from inspections of restaurants and other food establishments in Chicago from January 1, 2010, to the present. Inspections are performed by staff from the Chicago Department of Public Health’s Food Protection Program using a standardized procedure. The results of the inspection are inputted into a database, then reviewed and approved by a State of Illinois Licensed Environmental Health Practitioner (LEHP).\n",
    "\n",
    "- __Data Owner__: Chicago Department of Public Health\n",
    "- __Time Period__: 2010 - Present\n",
    "- __Frequency__: This database was updated with information from new inspections each Friday.\n"
   ]
  },
  {
   "cell_type": "markdown",
   "metadata": {},
   "source": [
    "# Data Overview"
   ]
  },
  {
   "cell_type": "markdown",
   "metadata": {},
   "source": [
    "First of all, we are going to understand the dataset and its content. Initial analyis on the food-inspections dataset in Chicago follows below:"
   ]
  },
  {
   "cell_type": "code",
   "execution_count": 2,
   "metadata": {
    "ExecuteTime": {
     "end_time": "2019-11-22T12:55:52.222582Z",
     "start_time": "2019-11-22T12:55:49.598239Z"
    }
   },
   "outputs": [
    {
     "data": {
      "text/html": [
       "<div>\n",
       "<style scoped>\n",
       "    .dataframe tbody tr th:only-of-type {\n",
       "        vertical-align: middle;\n",
       "    }\n",
       "\n",
       "    .dataframe tbody tr th {\n",
       "        vertical-align: top;\n",
       "    }\n",
       "\n",
       "    .dataframe thead th {\n",
       "        text-align: right;\n",
       "    }\n",
       "</style>\n",
       "<table border=\"1\" class=\"dataframe\">\n",
       "  <thead>\n",
       "    <tr style=\"text-align: right;\">\n",
       "      <th></th>\n",
       "      <th>Inspection ID</th>\n",
       "      <th>DBA Name</th>\n",
       "      <th>AKA Name</th>\n",
       "      <th>License #</th>\n",
       "      <th>Facility Type</th>\n",
       "      <th>Risk</th>\n",
       "      <th>Address</th>\n",
       "      <th>City</th>\n",
       "      <th>State</th>\n",
       "      <th>Zip</th>\n",
       "      <th>...</th>\n",
       "      <th>Results</th>\n",
       "      <th>Violations</th>\n",
       "      <th>Latitude</th>\n",
       "      <th>Longitude</th>\n",
       "      <th>Location</th>\n",
       "      <th>Historical Wards 2003-2015</th>\n",
       "      <th>Zip Codes</th>\n",
       "      <th>Community Areas</th>\n",
       "      <th>Census Tracts</th>\n",
       "      <th>Wards</th>\n",
       "    </tr>\n",
       "  </thead>\n",
       "  <tbody>\n",
       "    <tr>\n",
       "      <td>0</td>\n",
       "      <td>2320830</td>\n",
       "      <td>THE HOXTON, CHICAGO</td>\n",
       "      <td>THE HOXTON, CHICAGO</td>\n",
       "      <td>2694640.0</td>\n",
       "      <td>Restaurant</td>\n",
       "      <td>Risk 2 (Medium)</td>\n",
       "      <td>200 N GREEN ST</td>\n",
       "      <td>CHICAGO</td>\n",
       "      <td>IL</td>\n",
       "      <td>60607.0</td>\n",
       "      <td>...</td>\n",
       "      <td>Pass</td>\n",
       "      <td>36. THERMOMETERS PROVIDED &amp; ACCURATE - Comment...</td>\n",
       "      <td>41.885699</td>\n",
       "      <td>-87.648789</td>\n",
       "      <td>{'latitude': '-87.64878908937915', 'longitude'...</td>\n",
       "      <td>NaN</td>\n",
       "      <td>NaN</td>\n",
       "      <td>NaN</td>\n",
       "      <td>NaN</td>\n",
       "      <td>NaN</td>\n",
       "    </tr>\n",
       "    <tr>\n",
       "      <td>1</td>\n",
       "      <td>2320831</td>\n",
       "      <td>OGDEN PLAZA INC.</td>\n",
       "      <td>OGDEN PLAZA INC.</td>\n",
       "      <td>2475982.0</td>\n",
       "      <td>Grocery Store</td>\n",
       "      <td>Risk 3 (Low)</td>\n",
       "      <td>3459 W OGDEN AVE</td>\n",
       "      <td>CHICAGO</td>\n",
       "      <td>IL</td>\n",
       "      <td>60623.0</td>\n",
       "      <td>...</td>\n",
       "      <td>Out of Business</td>\n",
       "      <td>NaN</td>\n",
       "      <td>41.855266</td>\n",
       "      <td>-87.712402</td>\n",
       "      <td>{'latitude': '-87.71240156240032', 'longitude'...</td>\n",
       "      <td>NaN</td>\n",
       "      <td>NaN</td>\n",
       "      <td>NaN</td>\n",
       "      <td>NaN</td>\n",
       "      <td>NaN</td>\n",
       "    </tr>\n",
       "    <tr>\n",
       "      <td>2</td>\n",
       "      <td>2320829</td>\n",
       "      <td>PLAZA FOOD AND LIQUOR</td>\n",
       "      <td>PLAZA FOOD AND LIQUOR</td>\n",
       "      <td>2689756.0</td>\n",
       "      <td>Grocery Store</td>\n",
       "      <td>Risk 3 (Low)</td>\n",
       "      <td>3455-3459 S OGDEN AVE</td>\n",
       "      <td>CHICAGO</td>\n",
       "      <td>IL</td>\n",
       "      <td>60623.0</td>\n",
       "      <td>...</td>\n",
       "      <td>Not Ready</td>\n",
       "      <td>NaN</td>\n",
       "      <td>NaN</td>\n",
       "      <td>NaN</td>\n",
       "      <td>NaN</td>\n",
       "      <td>NaN</td>\n",
       "      <td>NaN</td>\n",
       "      <td>NaN</td>\n",
       "      <td>NaN</td>\n",
       "      <td>NaN</td>\n",
       "    </tr>\n",
       "    <tr>\n",
       "      <td>3</td>\n",
       "      <td>2320813</td>\n",
       "      <td>PLAZA FOOD AND LIQUOR</td>\n",
       "      <td>PLAZA FOOD AND LIQUOR</td>\n",
       "      <td>2689757.0</td>\n",
       "      <td>Grocery Store</td>\n",
       "      <td>Risk 3 (Low)</td>\n",
       "      <td>3455-3459 S OGDEN AVE</td>\n",
       "      <td>CHICAGO</td>\n",
       "      <td>IL</td>\n",
       "      <td>60623.0</td>\n",
       "      <td>...</td>\n",
       "      <td>Fail</td>\n",
       "      <td>5. PROCEDURES FOR RESPONDING TO VOMITING AND D...</td>\n",
       "      <td>NaN</td>\n",
       "      <td>NaN</td>\n",
       "      <td>NaN</td>\n",
       "      <td>NaN</td>\n",
       "      <td>NaN</td>\n",
       "      <td>NaN</td>\n",
       "      <td>NaN</td>\n",
       "      <td>NaN</td>\n",
       "    </tr>\n",
       "    <tr>\n",
       "      <td>4</td>\n",
       "      <td>2320757</td>\n",
       "      <td>GADS HILL CENTER</td>\n",
       "      <td>GADS HILL CENTER</td>\n",
       "      <td>2698627.0</td>\n",
       "      <td>Daycare Above and Under 2 Years</td>\n",
       "      <td>Risk 1 (High)</td>\n",
       "      <td>4255-4259 S ARCHER AVE</td>\n",
       "      <td>CHICAGO</td>\n",
       "      <td>IL</td>\n",
       "      <td>60632.0</td>\n",
       "      <td>...</td>\n",
       "      <td>Fail</td>\n",
       "      <td>5. PROCEDURES FOR RESPONDING TO VOMITING AND D...</td>\n",
       "      <td>41.816005</td>\n",
       "      <td>-87.700893</td>\n",
       "      <td>{'latitude': '-87.70089338917239', 'longitude'...</td>\n",
       "      <td>NaN</td>\n",
       "      <td>NaN</td>\n",
       "      <td>NaN</td>\n",
       "      <td>NaN</td>\n",
       "      <td>NaN</td>\n",
       "    </tr>\n",
       "  </tbody>\n",
       "</table>\n",
       "<p>5 rows × 22 columns</p>\n",
       "</div>"
      ],
      "text/plain": [
       "   Inspection ID               DBA Name               AKA Name  License #  \\\n",
       "0        2320830    THE HOXTON, CHICAGO    THE HOXTON, CHICAGO  2694640.0   \n",
       "1        2320831       OGDEN PLAZA INC.       OGDEN PLAZA INC.  2475982.0   \n",
       "2        2320829  PLAZA FOOD AND LIQUOR  PLAZA FOOD AND LIQUOR  2689756.0   \n",
       "3        2320813  PLAZA FOOD AND LIQUOR  PLAZA FOOD AND LIQUOR  2689757.0   \n",
       "4        2320757       GADS HILL CENTER       GADS HILL CENTER  2698627.0   \n",
       "\n",
       "                     Facility Type             Risk                  Address  \\\n",
       "0                       Restaurant  Risk 2 (Medium)          200 N GREEN ST    \n",
       "1                    Grocery Store     Risk 3 (Low)        3459 W OGDEN AVE    \n",
       "2                    Grocery Store     Risk 3 (Low)   3455-3459 S OGDEN AVE    \n",
       "3                    Grocery Store     Risk 3 (Low)   3455-3459 S OGDEN AVE    \n",
       "4  Daycare Above and Under 2 Years    Risk 1 (High)  4255-4259 S ARCHER AVE    \n",
       "\n",
       "      City State      Zip  ...          Results  \\\n",
       "0  CHICAGO    IL  60607.0  ...             Pass   \n",
       "1  CHICAGO    IL  60623.0  ...  Out of Business   \n",
       "2  CHICAGO    IL  60623.0  ...        Not Ready   \n",
       "3  CHICAGO    IL  60623.0  ...             Fail   \n",
       "4  CHICAGO    IL  60632.0  ...             Fail   \n",
       "\n",
       "                                          Violations   Latitude  Longitude  \\\n",
       "0  36. THERMOMETERS PROVIDED & ACCURATE - Comment...  41.885699 -87.648789   \n",
       "1                                                NaN  41.855266 -87.712402   \n",
       "2                                                NaN        NaN        NaN   \n",
       "3  5. PROCEDURES FOR RESPONDING TO VOMITING AND D...        NaN        NaN   \n",
       "4  5. PROCEDURES FOR RESPONDING TO VOMITING AND D...  41.816005 -87.700893   \n",
       "\n",
       "                                            Location  \\\n",
       "0  {'latitude': '-87.64878908937915', 'longitude'...   \n",
       "1  {'latitude': '-87.71240156240032', 'longitude'...   \n",
       "2                                                NaN   \n",
       "3                                                NaN   \n",
       "4  {'latitude': '-87.70089338917239', 'longitude'...   \n",
       "\n",
       "   Historical Wards 2003-2015 Zip Codes  Community Areas  Census Tracts  Wards  \n",
       "0                         NaN       NaN              NaN            NaN    NaN  \n",
       "1                         NaN       NaN              NaN            NaN    NaN  \n",
       "2                         NaN       NaN              NaN            NaN    NaN  \n",
       "3                         NaN       NaN              NaN            NaN    NaN  \n",
       "4                         NaN       NaN              NaN            NaN    NaN  \n",
       "\n",
       "[5 rows x 22 columns]"
      ]
     },
     "execution_count": 2,
     "metadata": {},
     "output_type": "execute_result"
    }
   ],
   "source": [
    "chicago_df = pd.read_csv('./data/food-inspections.csv', delimiter=',')\n",
    "chicago_df.head()"
   ]
  },
  {
   "cell_type": "code",
   "execution_count": 3,
   "metadata": {
    "ExecuteTime": {
     "end_time": "2019-11-22T12:55:52.263724Z",
     "start_time": "2019-11-22T12:55:52.226832Z"
    }
   },
   "outputs": [
    {
     "data": {
      "text/plain": [
       "Index(['Inspection ID', 'DBA Name', 'AKA Name', 'License #', 'Facility Type',\n",
       "       'Risk', 'Address', 'City', 'State', 'Zip', 'Inspection Date',\n",
       "       'Inspection Type', 'Results', 'Violations', 'Latitude', 'Longitude',\n",
       "       'Location', 'Historical Wards 2003-2015', 'Zip Codes',\n",
       "       'Community Areas', 'Census Tracts', 'Wards'],\n",
       "      dtype='object')"
      ]
     },
     "execution_count": 3,
     "metadata": {},
     "output_type": "execute_result"
    }
   ],
   "source": [
    "chicago_df.columns"
   ]
  },
  {
   "cell_type": "markdown",
   "metadata": {},
   "source": [
    "As we can see, this dataset has 22 different columns, of different type:\n",
    "- **Integer columns**: `'Inspection ID'`, `'License #'`, `'Zip'`\n",
    "- **Floating point columns**: `'Latitude'`, `'Longitude'`\n",
    "- **Date columns**: `'Inspection Date'`\n",
    "- **String Columns**: `'Results'`\\*, `'DBA Name'`, `'Address'`, `'Risk'`\\*, `'Facility Type'`\\*, `'City'`\\*, `'State'`\\*, `'Location'`, `'AKA Name'`, `'Inspection Type'`\\*, `'Violations'`^, where:\n",
    "   - \\*= Categorical\n",
    "   - ^= Too many categories to be called categorical (142431)\n",
    "- **Unknown data-type columns**: `'Wards'`, `'Community Areas'`, `'Zip Codes'`, `'Historical Wards 2003-2015'`, `'Census Tracts'`\n",
    "\n",
    "The contents of the columns whose meaning is not immediate are explained below:\n",
    "\n",
    "- __DBA__: ‘Doing business as.’ This is the legal name of the establishment.\n",
    "- __AKA__: ‘Also known as.’ This is the name the public would know the establishment as.\n",
    "- __License number__: This is a unique number assigned to the establishment for the purposes of licensing by the Department of Business Affairs and Consumer Protection.\n",
    "- __Type of facility__: Each establishment is described by one of the following: bakery, banquet hall, candy store, caterer, coffee shop, day care center (for ages less than 2), day care center (for ages 2 – 6), day care center (combo, for ages less than 2 and 2 – 6 combined), gas station, Golden Diner, grocery store, hospital, long term care center(nursing home), liquor store, mobile food dispenser, restaurant, paleteria, school, shelter, tavern, social club, wholesaler, or Wrigley Field Rooftop.\n",
    "- __Risk category of facility__: Each establishment is categorized as to its risk of adversely affecting the public’s health, with 1 being the highest and 3 the lowest. The frequency of inspection is tied to this risk, with risk 1 establishments inspected most frequently and risk 3 least frequently.\n",
    "- __Street address, city, state and zip code of facility__: This data provides a full address for each business.\n",
    "- __Inspection date__: This is the date the inspection occurred. A particular establishment is likely to have multiple inspections which are denoted by different inspection dates.\n",
    "- __Inspection type__: An inspection can be one of the following types: \n",
    " - *canvass*: the most common type of inspection performed at a frequency relative to the risk of the establishment.\n",
    " - *consultation*: when the inspection is done at the request of the owner prior to the opening of the establishment. \n",
    " - *complaint*: when the inspection is done in response to a complaint against the establishment.\n",
    " - *license*: when the inspection is done as a requirement for the establishment to receive its license to operate.\n",
    " - *suspect food poisoning* when the inspection is done in response to one or more persons claiming to have gotten ill as a result of eating at the establishment (a specific type of complaintbased inspection).\n",
    " - *task-force inspection* when an inspection of a bar or tavern is done.\n",
    " \n",
    " Re-inspections can occur for most types of these inspections and are indicated as such.\n",
    "- __Results__: An inspection can pass, pass with conditions or fail. Establishments receiving a ‘pass’ were found to have no critical or serious violations (violation number 1-14 and 15- 29, respectively). Establishments receiving a ‘pass with conditions’ were found to have critical or serious violations, but these were corrected during the inspection. Establishments receiving a ‘fail’ were found to have critical or serious violations that were not correctable during the inspection. An establishment receiving a ‘fail’ does not necessarily mean the establishment’s licensed is suspended. Establishments found to be out of business or not located are indicated as such.\n",
    "- __Violations__: An establishment can receive one or more of 45 distinct violations (violation numbers 1-44 and 70). For each violation number listed for a given establishment, the requirement the establishment must meet in order for it to NOT receive a violation is noted, followed by a specific description of the findings that caused the violation to be issued.\n"
   ]
  },
  {
   "cell_type": "code",
   "execution_count": 4,
   "metadata": {
    "ExecuteTime": {
     "end_time": "2019-11-22T12:55:56.494159Z",
     "start_time": "2019-11-22T12:55:52.268656Z"
    }
   },
   "outputs": [
    {
     "data": {
      "text/html": [
       "<div>\n",
       "<style scoped>\n",
       "    .dataframe tbody tr th:only-of-type {\n",
       "        vertical-align: middle;\n",
       "    }\n",
       "\n",
       "    .dataframe tbody tr th {\n",
       "        vertical-align: top;\n",
       "    }\n",
       "\n",
       "    .dataframe thead th {\n",
       "        text-align: right;\n",
       "    }\n",
       "</style>\n",
       "<table border=\"1\" class=\"dataframe\">\n",
       "  <thead>\n",
       "    <tr style=\"text-align: right;\">\n",
       "      <th></th>\n",
       "      <th>mins</th>\n",
       "      <th>maxs</th>\n",
       "    </tr>\n",
       "    <tr>\n",
       "      <th>Column</th>\n",
       "      <th></th>\n",
       "      <th></th>\n",
       "    </tr>\n",
       "  </thead>\n",
       "  <tbody>\n",
       "    <tr>\n",
       "      <td>Inspection ID</td>\n",
       "      <td>44247</td>\n",
       "      <td>2341211</td>\n",
       "    </tr>\n",
       "    <tr>\n",
       "      <td>DBA Name</td>\n",
       "      <td>#1 CHINA EXPRESS, LTD.</td>\n",
       "      <td>vitino pizzeria</td>\n",
       "    </tr>\n",
       "    <tr>\n",
       "      <td>License #</td>\n",
       "      <td>0</td>\n",
       "      <td>1e+07</td>\n",
       "    </tr>\n",
       "    <tr>\n",
       "      <td>Address</td>\n",
       "      <td></td>\n",
       "      <td>N2660 HAYTON RD</td>\n",
       "    </tr>\n",
       "    <tr>\n",
       "      <td>Zip</td>\n",
       "      <td>10014</td>\n",
       "      <td>60827</td>\n",
       "    </tr>\n",
       "    <tr>\n",
       "      <td>Inspection Date</td>\n",
       "      <td>2010-01-04T00:00:00.000</td>\n",
       "      <td>2019-10-31T00:00:00.000</td>\n",
       "    </tr>\n",
       "    <tr>\n",
       "      <td>Results</td>\n",
       "      <td>Business Not Located</td>\n",
       "      <td>Pass w/ Conditions</td>\n",
       "    </tr>\n",
       "    <tr>\n",
       "      <td>Latitude</td>\n",
       "      <td>41.6447</td>\n",
       "      <td>42.0211</td>\n",
       "    </tr>\n",
       "    <tr>\n",
       "      <td>Longitude</td>\n",
       "      <td>-87.9144</td>\n",
       "      <td>-87.5251</td>\n",
       "    </tr>\n",
       "    <tr>\n",
       "      <td>Historical Wards 2003-2015</td>\n",
       "      <td>NaN</td>\n",
       "      <td>NaN</td>\n",
       "    </tr>\n",
       "    <tr>\n",
       "      <td>Zip Codes</td>\n",
       "      <td>NaN</td>\n",
       "      <td>NaN</td>\n",
       "    </tr>\n",
       "    <tr>\n",
       "      <td>Community Areas</td>\n",
       "      <td>NaN</td>\n",
       "      <td>NaN</td>\n",
       "    </tr>\n",
       "    <tr>\n",
       "      <td>Census Tracts</td>\n",
       "      <td>NaN</td>\n",
       "      <td>NaN</td>\n",
       "    </tr>\n",
       "    <tr>\n",
       "      <td>Wards</td>\n",
       "      <td>NaN</td>\n",
       "      <td>NaN</td>\n",
       "    </tr>\n",
       "  </tbody>\n",
       "</table>\n",
       "</div>"
      ],
      "text/plain": [
       "                                               mins                     maxs\n",
       "Column                                                                      \n",
       "Inspection ID                                 44247                  2341211\n",
       "DBA Name                     #1 CHINA EXPRESS, LTD.          vitino pizzeria\n",
       "License #                                         0                    1e+07\n",
       "Address                                                     N2660 HAYTON RD \n",
       "Zip                                           10014                    60827\n",
       "Inspection Date             2010-01-04T00:00:00.000  2019-10-31T00:00:00.000\n",
       "Results                        Business Not Located       Pass w/ Conditions\n",
       "Latitude                                    41.6447                  42.0211\n",
       "Longitude                                  -87.9144                 -87.5251\n",
       "Historical Wards 2003-2015                      NaN                      NaN\n",
       "Zip Codes                                       NaN                      NaN\n",
       "Community Areas                                 NaN                      NaN\n",
       "Census Tracts                                   NaN                      NaN\n",
       "Wards                                           NaN                      NaN"
      ]
     },
     "execution_count": 4,
     "metadata": {},
     "output_type": "execute_result"
    }
   ],
   "source": [
    "# get basic min/max statistics to get a feeling of some column's values range\n",
    "basic_stats = (pd.Series(chicago_df.min(), name='mins').to_frame()\n",
    "               .join(pd.Series(chicago_df.max(), name='maxs')))\n",
    "basic_stats.index.name = 'Column'\n",
    "basic_stats"
   ]
  },
  {
   "cell_type": "markdown",
   "metadata": {},
   "source": [
    "We observe there are 5 columns filled with NaN values: `Historical`, `Wards 2003-2015`, `Zip Codes`, `Community Areas`, `Census Tracts`, `Wards`. \n",
    "\n",
    "We are going to remove these columns from our data frame. From now on, we will only work with the dataframe where these colums have been removed (*'chicago_df_noNan'*)."
   ]
  },
  {
   "cell_type": "code",
   "execution_count": 5,
   "metadata": {
    "ExecuteTime": {
     "end_time": "2019-11-22T12:56:01.351361Z",
     "start_time": "2019-11-22T12:56:01.312566Z"
    }
   },
   "outputs": [],
   "source": [
    "chicago_df_noNan = chicago_df.drop(columns=[\"Historical Wards 2003-2015\",\n",
    "                                            \"Zip Codes\",\n",
    "                                            \"Community Areas\",\n",
    "                                            \"Census Tracts\",\n",
    "                                            \"Wards\"])"
   ]
  },
  {
   "cell_type": "code",
   "execution_count": 6,
   "metadata": {
    "ExecuteTime": {
     "end_time": "2019-11-22T12:56:01.586289Z",
     "start_time": "2019-11-22T12:56:01.562217Z"
    }
   },
   "outputs": [
    {
     "data": {
      "text/html": [
       "<div>\n",
       "<style scoped>\n",
       "    .dataframe tbody tr th:only-of-type {\n",
       "        vertical-align: middle;\n",
       "    }\n",
       "\n",
       "    .dataframe tbody tr th {\n",
       "        vertical-align: top;\n",
       "    }\n",
       "\n",
       "    .dataframe thead th {\n",
       "        text-align: right;\n",
       "    }\n",
       "</style>\n",
       "<table border=\"1\" class=\"dataframe\">\n",
       "  <thead>\n",
       "    <tr style=\"text-align: right;\">\n",
       "      <th></th>\n",
       "      <th>Inspection ID</th>\n",
       "      <th>DBA Name</th>\n",
       "      <th>AKA Name</th>\n",
       "      <th>License #</th>\n",
       "      <th>Facility Type</th>\n",
       "      <th>Risk</th>\n",
       "      <th>Address</th>\n",
       "      <th>City</th>\n",
       "      <th>State</th>\n",
       "      <th>Zip</th>\n",
       "      <th>Inspection Date</th>\n",
       "      <th>Inspection Type</th>\n",
       "      <th>Results</th>\n",
       "      <th>Violations</th>\n",
       "      <th>Latitude</th>\n",
       "      <th>Longitude</th>\n",
       "      <th>Location</th>\n",
       "    </tr>\n",
       "  </thead>\n",
       "  <tbody>\n",
       "    <tr>\n",
       "      <td>0</td>\n",
       "      <td>2320830</td>\n",
       "      <td>THE HOXTON, CHICAGO</td>\n",
       "      <td>THE HOXTON, CHICAGO</td>\n",
       "      <td>2694640.0</td>\n",
       "      <td>Restaurant</td>\n",
       "      <td>Risk 2 (Medium)</td>\n",
       "      <td>200 N GREEN ST</td>\n",
       "      <td>CHICAGO</td>\n",
       "      <td>IL</td>\n",
       "      <td>60607.0</td>\n",
       "      <td>2019-10-31T00:00:00.000</td>\n",
       "      <td>License</td>\n",
       "      <td>Pass</td>\n",
       "      <td>36. THERMOMETERS PROVIDED &amp; ACCURATE - Comment...</td>\n",
       "      <td>41.885699</td>\n",
       "      <td>-87.648789</td>\n",
       "      <td>{'latitude': '-87.64878908937915', 'longitude'...</td>\n",
       "    </tr>\n",
       "    <tr>\n",
       "      <td>1</td>\n",
       "      <td>2320831</td>\n",
       "      <td>OGDEN PLAZA INC.</td>\n",
       "      <td>OGDEN PLAZA INC.</td>\n",
       "      <td>2475982.0</td>\n",
       "      <td>Grocery Store</td>\n",
       "      <td>Risk 3 (Low)</td>\n",
       "      <td>3459 W OGDEN AVE</td>\n",
       "      <td>CHICAGO</td>\n",
       "      <td>IL</td>\n",
       "      <td>60623.0</td>\n",
       "      <td>2019-10-31T00:00:00.000</td>\n",
       "      <td>Canvass</td>\n",
       "      <td>Out of Business</td>\n",
       "      <td>NaN</td>\n",
       "      <td>41.855266</td>\n",
       "      <td>-87.712402</td>\n",
       "      <td>{'latitude': '-87.71240156240032', 'longitude'...</td>\n",
       "    </tr>\n",
       "    <tr>\n",
       "      <td>2</td>\n",
       "      <td>2320829</td>\n",
       "      <td>PLAZA FOOD AND LIQUOR</td>\n",
       "      <td>PLAZA FOOD AND LIQUOR</td>\n",
       "      <td>2689756.0</td>\n",
       "      <td>Grocery Store</td>\n",
       "      <td>Risk 3 (Low)</td>\n",
       "      <td>3455-3459 S OGDEN AVE</td>\n",
       "      <td>CHICAGO</td>\n",
       "      <td>IL</td>\n",
       "      <td>60623.0</td>\n",
       "      <td>2019-10-31T00:00:00.000</td>\n",
       "      <td>License</td>\n",
       "      <td>Not Ready</td>\n",
       "      <td>NaN</td>\n",
       "      <td>NaN</td>\n",
       "      <td>NaN</td>\n",
       "      <td>NaN</td>\n",
       "    </tr>\n",
       "    <tr>\n",
       "      <td>3</td>\n",
       "      <td>2320813</td>\n",
       "      <td>PLAZA FOOD AND LIQUOR</td>\n",
       "      <td>PLAZA FOOD AND LIQUOR</td>\n",
       "      <td>2689757.0</td>\n",
       "      <td>Grocery Store</td>\n",
       "      <td>Risk 3 (Low)</td>\n",
       "      <td>3455-3459 S OGDEN AVE</td>\n",
       "      <td>CHICAGO</td>\n",
       "      <td>IL</td>\n",
       "      <td>60623.0</td>\n",
       "      <td>2019-10-31T00:00:00.000</td>\n",
       "      <td>License</td>\n",
       "      <td>Fail</td>\n",
       "      <td>5. PROCEDURES FOR RESPONDING TO VOMITING AND D...</td>\n",
       "      <td>NaN</td>\n",
       "      <td>NaN</td>\n",
       "      <td>NaN</td>\n",
       "    </tr>\n",
       "    <tr>\n",
       "      <td>4</td>\n",
       "      <td>2320757</td>\n",
       "      <td>GADS HILL CENTER</td>\n",
       "      <td>GADS HILL CENTER</td>\n",
       "      <td>2698627.0</td>\n",
       "      <td>Daycare Above and Under 2 Years</td>\n",
       "      <td>Risk 1 (High)</td>\n",
       "      <td>4255-4259 S ARCHER AVE</td>\n",
       "      <td>CHICAGO</td>\n",
       "      <td>IL</td>\n",
       "      <td>60632.0</td>\n",
       "      <td>2019-10-30T00:00:00.000</td>\n",
       "      <td>License</td>\n",
       "      <td>Fail</td>\n",
       "      <td>5. PROCEDURES FOR RESPONDING TO VOMITING AND D...</td>\n",
       "      <td>41.816005</td>\n",
       "      <td>-87.700893</td>\n",
       "      <td>{'latitude': '-87.70089338917239', 'longitude'...</td>\n",
       "    </tr>\n",
       "  </tbody>\n",
       "</table>\n",
       "</div>"
      ],
      "text/plain": [
       "   Inspection ID               DBA Name               AKA Name  License #  \\\n",
       "0        2320830    THE HOXTON, CHICAGO    THE HOXTON, CHICAGO  2694640.0   \n",
       "1        2320831       OGDEN PLAZA INC.       OGDEN PLAZA INC.  2475982.0   \n",
       "2        2320829  PLAZA FOOD AND LIQUOR  PLAZA FOOD AND LIQUOR  2689756.0   \n",
       "3        2320813  PLAZA FOOD AND LIQUOR  PLAZA FOOD AND LIQUOR  2689757.0   \n",
       "4        2320757       GADS HILL CENTER       GADS HILL CENTER  2698627.0   \n",
       "\n",
       "                     Facility Type             Risk                  Address  \\\n",
       "0                       Restaurant  Risk 2 (Medium)          200 N GREEN ST    \n",
       "1                    Grocery Store     Risk 3 (Low)        3459 W OGDEN AVE    \n",
       "2                    Grocery Store     Risk 3 (Low)   3455-3459 S OGDEN AVE    \n",
       "3                    Grocery Store     Risk 3 (Low)   3455-3459 S OGDEN AVE    \n",
       "4  Daycare Above and Under 2 Years    Risk 1 (High)  4255-4259 S ARCHER AVE    \n",
       "\n",
       "      City State      Zip          Inspection Date Inspection Type  \\\n",
       "0  CHICAGO    IL  60607.0  2019-10-31T00:00:00.000         License   \n",
       "1  CHICAGO    IL  60623.0  2019-10-31T00:00:00.000         Canvass   \n",
       "2  CHICAGO    IL  60623.0  2019-10-31T00:00:00.000         License   \n",
       "3  CHICAGO    IL  60623.0  2019-10-31T00:00:00.000         License   \n",
       "4  CHICAGO    IL  60632.0  2019-10-30T00:00:00.000         License   \n",
       "\n",
       "           Results                                         Violations  \\\n",
       "0             Pass  36. THERMOMETERS PROVIDED & ACCURATE - Comment...   \n",
       "1  Out of Business                                                NaN   \n",
       "2        Not Ready                                                NaN   \n",
       "3             Fail  5. PROCEDURES FOR RESPONDING TO VOMITING AND D...   \n",
       "4             Fail  5. PROCEDURES FOR RESPONDING TO VOMITING AND D...   \n",
       "\n",
       "    Latitude  Longitude                                           Location  \n",
       "0  41.885699 -87.648789  {'latitude': '-87.64878908937915', 'longitude'...  \n",
       "1  41.855266 -87.712402  {'latitude': '-87.71240156240032', 'longitude'...  \n",
       "2        NaN        NaN                                                NaN  \n",
       "3        NaN        NaN                                                NaN  \n",
       "4  41.816005 -87.700893  {'latitude': '-87.70089338917239', 'longitude'...  "
      ]
     },
     "execution_count": 6,
     "metadata": {},
     "output_type": "execute_result"
    }
   ],
   "source": [
    "chicago_df_noNan.head()"
   ]
  },
  {
   "cell_type": "markdown",
   "metadata": {},
   "source": [
    "# Treatment of the data\n",
    "In this part, the following columns of the data are examined and cleaned:\n",
    "Inspection ID', 'DBA Name', 'AKA Name', 'License #', 'Facility Type',\n",
    "       'Risk', 'Address', 'City', 'State'"
   ]
  },
  {
   "cell_type": "markdown",
   "metadata": {},
   "source": [
    "## inspection_id\n",
    "Some inspections have been inserted twice in the dataset and need to be deleted to avoid duplicates."
   ]
  },
  {
   "cell_type": "code",
   "execution_count": 7,
   "metadata": {
    "ExecuteTime": {
     "end_time": "2019-11-22T12:56:02.513533Z",
     "start_time": "2019-11-22T12:56:02.506540Z"
    }
   },
   "outputs": [],
   "source": [
    "# Create more coding friendly coding names\n",
    "og_columns = chicago_df_noNan.columns\n",
    "columns = [\n",
    "    'inspection_id', 'dba_name', 'aka_name', 'license', \n",
    "    'facility_type', 'risk', 'address', 'city', 'state', \n",
    "    'zip', 'inspection_date', 'inspection_type', 'results', \n",
    "    'violations', 'latitude', 'longitude', 'location'\n",
    "]\n",
    "chicago_df_noNan.columns = columns"
   ]
  },
  {
   "cell_type": "code",
   "execution_count": 8,
   "metadata": {
    "ExecuteTime": {
     "end_time": "2019-11-22T12:56:02.884667Z",
     "start_time": "2019-11-22T12:56:02.849905Z"
    }
   },
   "outputs": [],
   "source": [
    "inspection_id = chicago_df_noNan['inspection_id']"
   ]
  },
  {
   "cell_type": "markdown",
   "metadata": {},
   "source": [
    "We first verify that no entry has a null id"
   ]
  },
  {
   "cell_type": "code",
   "execution_count": 9,
   "metadata": {
    "ExecuteTime": {
     "end_time": "2019-11-22T12:56:03.554681Z",
     "start_time": "2019-11-22T12:56:03.521971Z"
    }
   },
   "outputs": [
    {
     "data": {
      "text/plain": [
       "0"
      ]
     },
     "execution_count": 9,
     "metadata": {},
     "output_type": "execute_result"
    }
   ],
   "source": [
    "sum(inspection_id.isnull())"
   ]
  },
  {
   "cell_type": "markdown",
   "metadata": {},
   "source": [
    "Then, we check for duplicate entries"
   ]
  },
  {
   "cell_type": "code",
   "execution_count": 10,
   "metadata": {
    "ExecuteTime": {
     "end_time": "2019-11-22T12:56:04.767351Z",
     "start_time": "2019-11-22T12:56:04.230167Z"
    }
   },
   "outputs": [],
   "source": [
    "duplicated = chicago_df_noNan.duplicated(keep='first')"
   ]
  },
  {
   "cell_type": "code",
   "execution_count": 11,
   "metadata": {
    "ExecuteTime": {
     "end_time": "2019-11-22T12:56:05.424239Z",
     "start_time": "2019-11-22T12:56:04.769998Z"
    }
   },
   "outputs": [
    {
     "name": "stdout",
     "output_type": "stream",
     "text": [
      "195116\n",
      "129\n",
      "194987\n"
     ]
    }
   ],
   "source": [
    "print(len(chicago_df_noNan))\n",
    "print(np.sum(duplicated))\n",
    "chicago_df_noNan = chicago_df_noNan.drop_duplicates()\n",
    "print(len(chicago_df_noNan)) "
   ]
  },
  {
   "cell_type": "markdown",
   "metadata": {},
   "source": [
    "## DBA name"
   ]
  },
  {
   "cell_type": "code",
   "execution_count": 12,
   "metadata": {
    "ExecuteTime": {
     "end_time": "2019-11-22T12:56:05.486742Z",
     "start_time": "2019-11-22T12:56:05.429347Z"
    }
   },
   "outputs": [
    {
     "data": {
      "text/plain": [
       "0"
      ]
     },
     "execution_count": 12,
     "metadata": {},
     "output_type": "execute_result"
    }
   ],
   "source": [
    "# Checking if there are any null entries\n",
    "sum(chicago_df_noNan['dba_name'].isnull())"
   ]
  },
  {
   "cell_type": "code",
   "execution_count": 13,
   "metadata": {
    "ExecuteTime": {
     "end_time": "2019-11-22T12:56:05.811002Z",
     "start_time": "2019-11-22T12:56:05.492871Z"
    }
   },
   "outputs": [
    {
     "name": "stdout",
     "output_type": "stream",
     "text": [
      "Number of unique restaurants in the dataset when the names are case sensitive: 27513\n",
      "Number of unique restaurants when the names are not case sensitive: 27227\n"
     ]
    }
   ],
   "source": [
    "# Standardising the name of the chain by lowering the cases\n",
    "print('Number of unique restaurants in the dataset when the names are case sensitive:', len(chicago_df_noNan['dba_name'].unique()))\n",
    "chicago_df_noNan['dba_name'] = chicago_df_noNan['dba_name'].str.lower()\n",
    "print('Number of unique restaurants when the names are not case sensitive:', len(chicago_df_noNan['dba_name'].unique()))"
   ]
  },
  {
   "cell_type": "markdown",
   "metadata": {
    "ExecuteTime": {
     "end_time": "2019-11-04T17:33:41.756617Z",
     "start_time": "2019-11-04T17:33:41.559145Z"
    }
   },
   "source": [
    "## AKA Name\n",
    "In this part, we cast all aka names into lower case, and replace the null entries by their DBA names"
   ]
  },
  {
   "cell_type": "code",
   "execution_count": 14,
   "metadata": {
    "ExecuteTime": {
     "end_time": "2019-11-22T12:56:06.111558Z",
     "start_time": "2019-11-22T12:56:06.060246Z"
    }
   },
   "outputs": [
    {
     "data": {
      "text/plain": [
       "array(['THE HOXTON, CHICAGO', 'OGDEN PLAZA INC.', 'PLAZA FOOD AND LIQUOR',\n",
       "       ..., 'SAFAH FOOD & LIQUOR INC', 'RAINBOW GROCERY', 'MAKIA FOOD'],\n",
       "      dtype=object)"
      ]
     },
     "execution_count": 14,
     "metadata": {},
     "output_type": "execute_result"
    }
   ],
   "source": [
    "chicago_df_noNan['aka_name'].unique()"
   ]
  },
  {
   "cell_type": "code",
   "execution_count": 15,
   "metadata": {
    "ExecuteTime": {
     "end_time": "2019-11-22T12:56:06.327749Z",
     "start_time": "2019-11-22T12:56:06.296432Z"
    },
    "scrolled": true
   },
   "outputs": [
    {
     "name": "stdout",
     "output_type": "stream",
     "text": [
      "Number of entries without an AKA name: 2449\n"
     ]
    }
   ],
   "source": [
    "print('Number of entries without an AKA name:', len(chicago_df_noNan[chicago_df_noNan['aka_name'].isnull()]))"
   ]
  },
  {
   "cell_type": "code",
   "execution_count": 16,
   "metadata": {
    "ExecuteTime": {
     "end_time": "2019-11-22T12:56:06.834262Z",
     "start_time": "2019-11-22T12:56:06.546812Z"
    }
   },
   "outputs": [],
   "source": [
    "# Replacing null entries with their dba name\n",
    "temp0 = chicago_df_noNan[chicago_df_noNan['aka_name'].isnull()]\n",
    "temp0['aka_name'] = temp0['dba_name']\n",
    "temp1 = chicago_df_noNan[~chicago_df_noNan['aka_name'].isnull()]\n",
    "chicago_df_noNan = temp1.append(temp0)"
   ]
  },
  {
   "cell_type": "code",
   "execution_count": 17,
   "metadata": {
    "ExecuteTime": {
     "end_time": "2019-11-22T12:56:07.196293Z",
     "start_time": "2019-11-22T12:56:06.837447Z"
    }
   },
   "outputs": [
    {
     "name": "stdout",
     "output_type": "stream",
     "text": [
      "Number of unique names with case sensitivity: 27181\n",
      "Number of unique names without case sensitivity: 26705\n"
     ]
    }
   ],
   "source": [
    "print('Number of unique names with case sensitivity:', len(chicago_df_noNan['aka_name'].unique()))\n",
    "temp = chicago_df_noNan['aka_name'].str.lower()\n",
    "print('Number of unique names without case sensitivity:', len(temp.unique()))\n",
    "chicago_df_noNan['aka_name'] = chicago_df_noNan['aka_name'].str.lower()"
   ]
  },
  {
   "cell_type": "markdown",
   "metadata": {},
   "source": [
    "## License Number\n",
    "Some business don't have a license number. In this dataframe, we create a boolean column, indicating if the business has a license number or not"
   ]
  },
  {
   "cell_type": "code",
   "execution_count": 18,
   "metadata": {
    "ExecuteTime": {
     "end_time": "2019-11-22T12:56:07.588425Z",
     "start_time": "2019-11-22T12:56:07.297327Z"
    },
    "scrolled": true
   },
   "outputs": [
    {
     "name": "stdout",
     "output_type": "stream",
     "text": [
      "There are  17 entries without a license number\n"
     ]
    }
   ],
   "source": [
    "print('There are ', len(chicago_df_noNan[chicago_df_noNan['license'].isnull()]), 'entries without a license number')"
   ]
  },
  {
   "cell_type": "code",
   "execution_count": 19,
   "metadata": {
    "ExecuteTime": {
     "end_time": "2019-11-22T12:56:07.604871Z",
     "start_time": "2019-11-22T12:56:07.592027Z"
    }
   },
   "outputs": [],
   "source": [
    "chicago_df_noNan['has_license'] = ~chicago_df_noNan['license'].isnull()"
   ]
  },
  {
   "cell_type": "markdown",
   "metadata": {},
   "source": [
    "## Facility Type\n",
    "Some types of facilities only contain one establishment, either because it is a very niche category, or because it was entered in a way that the similar entries don't match because of spelling or specificity. In order to group those categories, we match the facility types grouping less than 40 establishments to the most similar category according to the Jaro Winkler distance. If none of the categories are a match (distance smaller than 0.70), we place them into misc (miscellaneous)."
   ]
  },
  {
   "cell_type": "code",
   "execution_count": 20,
   "metadata": {
    "ExecuteTime": {
     "end_time": "2019-11-22T12:56:08.160972Z",
     "start_time": "2019-11-22T12:56:08.023288Z"
    }
   },
   "outputs": [],
   "source": [
    "# Turn Nan values into a string to be able to operate on the column\n",
    "# Standardising the facility types to lower case categories\n",
    "chicago_df_noNan['facility_type']\n",
    "len(chicago_df_noNan['facility_type'].unique())\n",
    "chicago_df_noNan['facility_type'] = chicago_df_noNan['facility_type'].fillna('not available')\n",
    "chicago_df_noNan['facility_type'] = chicago_df_noNan['facility_type'].str.lower()"
   ]
  },
  {
   "cell_type": "code",
   "execution_count": 21,
   "metadata": {
    "ExecuteTime": {
     "end_time": "2019-11-22T12:56:08.245019Z",
     "start_time": "2019-11-22T12:56:08.232185Z"
    }
   },
   "outputs": [
    {
     "data": {
      "text/plain": [
       "194987"
      ]
     },
     "execution_count": 21,
     "metadata": {},
     "output_type": "execute_result"
    }
   ],
   "source": [
    "len(chicago_df_noNan)"
   ]
  },
  {
   "cell_type": "code",
   "execution_count": 22,
   "metadata": {
    "ExecuteTime": {
     "end_time": "2019-11-22T12:56:08.477196Z",
     "start_time": "2019-11-22T12:56:08.450909Z"
    }
   },
   "outputs": [
    {
     "name": "stdout",
     "output_type": "stream",
     "text": [
      "Number of facility types before standardising: 441\n"
     ]
    }
   ],
   "source": [
    "print('Number of facility types before standardising:', len(chicago_df_noNan['facility_type'].unique()))"
   ]
  },
  {
   "cell_type": "code",
   "execution_count": 23,
   "metadata": {
    "ExecuteTime": {
     "end_time": "2019-11-22T12:56:08.671539Z",
     "start_time": "2019-11-22T12:56:08.643542Z"
    }
   },
   "outputs": [
    {
     "data": {
      "text/plain": [
       "array(['bakery/ restaurant', 'mexican candy store', 'not for profit',\n",
       "       'live butcher', 'meat market', 'drug treatment facility',\n",
       "       'shared kitchen user (long trem)', 'restaurant/liquor', 'np-kiosk',\n",
       "       'day care combo (1586)', 'liquor consumption on premises.',\n",
       "       'mobil food 1315', 'watermelon house', 'assissted living',\n",
       "       'nutrition store', 'daycare 1586', 'food pantry/church',\n",
       "       'paleteria /icecream shop', 'bakery/restaurant',\n",
       "       'unlicensed facility', '(convenience store)', 'peddler',\n",
       "       'hooka bar', 'kids cafe',\n",
       "       'prepackage meal distributor (1006 retail)',\n",
       "       'gift/card shop with candy', '(gas station)',\n",
       "       'coffee vending machine', 'drug store/w/ food', 'commiasary',\n",
       "       'grocery/liquor', 'ice cream parlor', \"farmer's market\",\n",
       "       'produce stand', 'produce vendor', 'pharmacy/grocery',\n",
       "       'soup kitchen', 'hooka lounge', 'candy maker', 'tavern/liquor',\n",
       "       'incubator', 'wholesale bakery', \"kids cafe'\",\n",
       "       'exercise and nutrition bar', 'church/special event',\n",
       "       'restaurant and liquor',\n",
       "       'commissary for soft serve ice cream trucks', 'day care 1023',\n",
       "       'retail store', 'mobile dessert vendor', 'mobile dessert cart',\n",
       "       'cat/liquor', 'alternative school', 'grocery store/deli',\n",
       "       'church/after school program', 'general store',\n",
       "       'after school care', 'rooftop patio', 'linited business',\n",
       "       'religious', 'candy'], dtype=object)"
      ]
     },
     "execution_count": 23,
     "metadata": {},
     "output_type": "execute_result"
    }
   ],
   "source": [
    "# get an idea of the facility types, before standardising\n",
    "chicago_df_noNan['facility_type'].unique()[380:]"
   ]
  },
  {
   "cell_type": "code",
   "execution_count": 24,
   "metadata": {
    "ExecuteTime": {
     "end_time": "2019-11-22T12:56:09.726641Z",
     "start_time": "2019-11-22T12:56:08.821581Z"
    }
   },
   "outputs": [],
   "source": [
    "facility_count = chicago_df_noNan['facility_type'].value_counts()\n",
    "\n",
    "i = 0\n",
    "\n",
    "facility_types = []\n",
    "small_types = {}\n",
    "\n",
    "# Retrieving the main categories, and identifying the smallest ones\n",
    "for facility in facility_count.index:\n",
    "    if facility_count[facility] > 40:\n",
    "        facility_types.append(facility)\n",
    "    elif facility_count[facility] <= 40:\n",
    "        small_types[facility] = ''\n",
    "\n",
    "# Matching the small categories to the principal ones\n",
    "for small in small_types:\n",
    "    distances = []\n",
    "    for facility in facility_types:\n",
    "        dist = distance.get_jaro_distance(small, facility)\n",
    "        distances.append(dist)\n",
    "    index = np.argmax(distances)\n",
    "    if distances[index] > 0.70:\n",
    "        small_types[small] = facility_types[index]\n",
    "    else:\n",
    "        small_types[small] = 'misc'\n"
   ]
  },
  {
   "cell_type": "code",
   "execution_count": 25,
   "metadata": {
    "ExecuteTime": {
     "end_time": "2019-11-22T12:56:09.748318Z",
     "start_time": "2019-11-22T12:56:09.729933Z"
    }
   },
   "outputs": [
    {
     "name": "stdout",
     "output_type": "stream",
     "text": [
      "Minority categories and their match in the main category pool:\n",
      "{'store': 'misc', 'church': 'misc', 'restaurant/bar': 'restaurant', 'rooftop': 'misc', 'ice cream shop': 'coffee shop', \"1023 childern's services facility\": \"children's services facility\", 'church kitchen': 'shared kitchen', 'commissary': 'misc', 'cooking school': 'charter school', 'bar': 'bakery', 'assisted living': 'misc', \"1023-children's services facility\": \"children's services facility\", 'pop-up establishment host-tier ii': 'misc', 'grocery & restaurant': 'grocery/restaurant', 'culinary school': 'charter school', 'restaurant/grocery store': 'restaurant', 'roof tops': 'misc', 'theater': 'shelter', 'mobile desserts vendor': 'mobile frozen desserts vendor', 'nursing home': 'misc', 'restaurant/gas station': 'restaurant', 'roof top': 'misc', 'grocery store/gas station': 'grocery store', 'gas station/mini mart': 'gas station', 'after school program': 'private school', 'wrigley roof top': 'misc', 'paleteria': 'cafeteria', 'grocery(sushi prep)': 'grocery store', 'mobile food truck': 'mobile food dispenser', 'supportive living': 'misc', 'fitness center': 'misc', 'hotel': 'shelter', 'brewery': 'misc', 'rooftops': 'misc', 'long term care facility': 'long term care', 'theatre': 'shelter', 'wrigley rooftop': 'misc', 'grocery store/bakery': 'grocery store', '1023': 'misc', 'university cafeteria': 'misc', 'public shcool': 'private school', 'slaughter house/ grocery': 'misc', 'airport lounge': 'misc', 'juice bar': 'misc', 'gas station/restaurant': 'gas station', 'health/ juice bar': 'misc', 'movie theatre': 'mobile prepared food vendor', 'banquet facility': 'banquet hall', 'daycare night': 'daycare', 'assisted living senior care': 'misc', \"o'hare kiosk\": 'navy pier kiosk', 'employee kitchen': 'misc', 'riverwalk': 'misc', 'commissary for soft serve ice cream trucks': 'misc', 'gas station/store': 'gas station', 'college': 'convenience', 'candy/gelato': 'misc', 'wine store': 'misc', 'grocery store/taqueria': 'grocery store', 'church/special events': 'misc', 'grocery and butcher': 'grocery store', 'grocery& restaurant': 'grocery/restaurant', 'movie theater': 'misc', 'mobile frozen desserts dispenser-non-motorized': 'mobile frozen desserts vendor', 'banquet dining': 'banquet', 'pastry school': 'private school', 'banquet rooms': 'banquet', 'grocery store/cooking school': 'grocery store', 'bakery/deli': 'bakery', 'restaurant/hospital': 'restaurant', 'rehab center': 'restaurant', 'grocery/gas station': 'grocery/restaurant', 'grocery': 'grocery store', 'grocery/bakery': 'grocery/restaurant', 'warehouse': 'wholesale', 'custom poultry slaughter': 'misc', 'brewpub': 'misc', 'other': 'misc', \"1023 childern's service facility\": \"children's services facility\", 'dollar store': 'misc', 'herbalife': 'misc', 'ice cream': 'misc', 'lounge/banquet hall': 'misc', 'grocery store/ restaurant': 'grocery store', 'mobile food': 'mobile food preparer', 'poultry slaughter': 'misc', 'pantry': 'misc', 'childrens services facility': \"children's services facility\", 'coffee cart': 'coffee shop', 'restaurant.banquet halls': 'restaurant', 'restuarant and bar': 'restaurant', 'convenience/drug store': 'convenience store', 'senior day care': 'misc', 'city of chicago college': 'misc', 'rest/grocery': 'grocery store', \"1023 childern's service s facility\": \"children's services facility\", 'banquets': 'banquet', 'banquet room': 'banquet', 'donut shop': 'coffee shop', 'banquet/kitchen': 'banquet', 'a-not-for-profit chef training program': 'misc', 'supportive living facility': 'misc', 'event space': 'misc', 'banquet hall/catering': 'banquet hall', 'grocery/service gas station': 'grocery/restaurant', 'rest/rooftop': 'restaurant', 'charity aid kitchen': 'charter school', 'culinary arts school': 'charter school', 'restaurant(protein shake bar)': 'restaurant', 'butcher shop': 'charter school', 'grocery/butcher': 'grocery store', 'meat packing': 'misc', 'before and after school program': 'misc', \"childern's service facility\": \"children's services facility\", 'tavern grill': 'tavern', 'school cafeteria': 'school', 'mobile frozen dessert vendor': 'mobile frozen desserts vendor', 'retail store offers cooking classes': 'misc', 'fish market': 'misc', 'regulated business': 'misc', 'drug/food store': 'misc', 'night club': 'misc', 'day care 2-14': 'daycare', 'candy store': 'misc', 'rest/gym': 'restaurant', 'tea brewing': 'catering', 'restaurant/bakery': 'restaurant', 'grocery store / gas station': 'grocery store', 'cafe/store': 'cafeteria', 'hot dog station': 'misc', 'truck': 'misc', 'charter school cafeteria': 'charter school', 'wine tasting bar': 'misc', 'church (special events)': \"children's services facility\", 'theater & restaurant': 'misc', 'daycare 2 yrs to 12 yrs': 'daycare (2 years)', 'daycare combo': 'daycare combo 1586', 'pool': 'school', 'grocery/cafe': 'grocery store', 'coffee kiosk': 'coffee shop', 'room service': 'misc', 'northerly island': 'misc', 'grocery/taqueria': 'grocery/restaurant', 'pharmacy/grocery': 'misc', 'not-for-profit club': 'misc', 'herbal life shop': 'misc', 'dining hall': 'misc', 'liquor store': 'liquor', 'catering/cafe': 'catering', 'daycare 2-6, under 6': 'daycare (2 - 6 years)', \"1023 children's services facility\": \"children's services facility\", 'grocery/dollar store': 'grocery/restaurant', \"childern's services  facility\": \"children's services facility\", 'health care store': 'misc', 'frozen dessert pushcarts': 'misc', 'teaching school': 'charter school', 'bar/grill': 'misc', 'coffee  shop': 'coffee shop', 'herbal medicine': 'misc', 'french market space': 'misc', 'social club': 'misc', 'gas station/store grocery': 'gas station', 'grocery/drug store': 'grocery store', 'snack shop': 'coffee shop', 'deli': 'misc', 'juice and salad bar': 'misc', 'riverwalk cafe': 'misc', 'packaged liquor': 'misc', 'gas station /grocery': 'gas station', 'distribution center': 'misc', 'golf course conncession stand': 'misc', 'grocery store/deli': 'grocery store', '15 monts to 5 years old': 'misc', 'smokehouse': 'misc', 'convenient store': 'convenience store', 'day care 1023': 'daycare', 'newsstand': 'misc', 'push carts': 'misc', 'grocery/tavern': 'grocery/restaurant', 'bowling lanes/banquets': 'misc', 'retail store': 'restaurant', 'drug/grocery store': 'grocery store', 'candy shop': 'coffee shop', 'cold/frozen food storage': 'misc', 'mexican candy store': 'misc', 'food pantry': 'misc', 'long-term care facility': 'long term care', 'laundromat': 'misc', 'long-term care': 'long term care', 'drug store/grocery': 'misc', 'vending commissary': 'misc', 'animal shelter cafe permit': 'misc', 'pharmacy': 'misc', 'weight loss program': 'misc', 'hostel': 'hospital', 'herbal life': 'misc', 'theater/bar': 'shelter', 'coffee vending machine': 'coffee shop', 'video store': 'misc', 'beverage/silverware warehouse': 'misc', 'restaurant/grocery': 'restaurant', 'drug store': 'misc', 'retail food/gas station': 'misc', 'dollar tree': 'misc', 'bakery/grocery': 'bakery', 'coffee': 'coffee shop', 'tavern/restaurant': 'tavern', 'gas station/food': 'gas station', 'catered events': 'catering', 'commisary restaurant': 'grocery/restaurant', 'day care': 'daycare', 'golf course': 'golden diner', 'high school kitchen': 'misc', 'watermelon house': 'misc', 'herbal remedy': 'misc', 'tavern/store': 'tavern', 'retail': 'restaurant', 'herbalcal': 'misc', 'sushi counter': 'misc', 'exercise and nutrition bar': 'misc', 'gas': 'gas station', 'church/special event': 'misc', 'pre packaged': 'misc', 'herbalife/zumba': 'misc', 'lounge': 'long term care', 'chinese herbs': \"children's services facility\", '1005 nursing home': 'misc', 'temporary kiosk': 'misc', 'liquor/coffee kiosk': 'liquor', 'music venue': 'misc', 'pop-up food establishment user-tier iii': 'misc', 'cell phone store': 'misc', 'dollar & grocery store': 'misc', 'gym store': 'misc', 'adult family care center': 'misc', 'hooka lounge': 'misc', 'mobile frozen dessert dispenser_non  motorized.': 'mobile frozen desserts vendor', 'gelato shop': 'coffee shop', 'mfd truck': 'misc', 'fitness studio': 'misc', 'daycare 6 wks-5yrs': 'daycare', 'packaged food distribution': 'misc', 'mobilprepared food vendor': 'mobile prepared food vendor', 'illegal vendor': 'misc', 'herabalife': 'misc', 'live butcher': 'live poultry', 'tent rstaurant': 'restaurant', 'smoothie bar': 'misc', 'banquets/room service': 'banquet', 'ice cream parlor': 'misc', 'paleteria /icecream shop': 'misc', 'prep inside school': 'private school', 'coffee/tea': 'coffee shop', 'health center': 'misc', 'adult daycare': 'misc', 'church/day care': 'misc', 'non -profit': 'misc', 'shuffleboard club with bar': 'misc', 'unlicensed facility': 'misc', 'candy': 'misc', 'summer feeding': 'misc', 'packaged health foods': 'misc', 'herbal drinks': 'misc', 'nutrition/herbalife': 'misc', 'vfw hall': 'misc', 'gas station store': 'gas station', 'grocery/deli': 'grocery store', '1584-day care above 2 years': 'daycare above and under 2 years', 'pushcart': 'misc', 'art gallery w/wine and beer': 'misc', 'urban farm': 'misc', 'gas station/convenience store': 'gas station', 'assissted living': 'misc', 'massage bar': 'misc', 'youth housing': 'misc', 'summer feeding prep area': 'misc', 'tavern/bar': 'tavern', 'bakery/ restaurant': 'bakery', 'cafe': 'cafeteria', 'nutrition store': 'misc', 'produce stand': 'misc', 'restaurant/bar/theater': 'restaurant', 'bakery/restaurant': 'bakery', '1475 liquor': 'misc', 'gas station/ grocery store': 'gas station', 'liquore store/bar': 'liquor', 'tobacco store': 'misc', 'main kitchen': 'shared kitchen', 'food booth': 'misc', 'convnience store': 'convenience store', 'blockbuster video': 'misc', 'liquor consumption on premises.': 'liquor', 'deli/grocery store': 'grocery store', 'museum/gallery': 'misc', 'boys and girls club': 'misc', 'popcorn shop': 'misc', 'culinary class rooms': 'misc', 'catering and wholesale': 'catering', 'helicopter terminal': 'shelter', 'grocery/ restaurant': 'grocery/restaurant', '(gas station)': 'gas station', 'kitchen demo': 'misc', 'food pantry/church': 'misc', 'charter school/cafeteria': 'charter school', 'not for profit': 'not available', 'linited business': 'misc', 'gas station /subway mini mart.': 'gas station', 'soup kitchen': 'shared kitchen', 'hot dog cart': 'misc', 'tea store': 'misc', 'retail wine/wine bar': 'misc', 'vending machine': 'misc', 'candy maker': 'daycare', 'childern activity facility': \"children's services facility\", 'unused storage': 'misc', 'grocery store /pharmacy': 'grocery store', 'mobile frozen dessert disp/non-motorized': 'mobile frozen desserts vendor', 'clothing store': 'misc', 'daycare 1586': 'daycare combo 1586', 'gym': 'misc', 'popcorn corn': 'misc', 'event venu': 'misc', 'general store': 'grocery store', 'distributor': 'misc', 'restaurant/liquor': 'restaurant', 'grocery(gas station)': 'grocery/restaurant', 'liqour brewery tasting': 'liquor', 'grocery/liquor': 'grocery store', 'coffee roaster': 'coffee shop', 'mobile dessert cart': 'mobile food dispenser', 'religious': 'misc', 'drug store/w/ food': 'misc', 'mobile food desserts vendor': 'mobile prepared food vendor', 'rooftop patio': 'misc', 'service bar/theatre': 'misc', 'mobile dessert vendor': 'mobile frozen desserts vendor', 'internet cafe': 'misc', 'day care combo (1586)': 'daycare combo 1586', 'assisted living facility': \"children's services facility\", 'gift/card shop with candy': 'misc', 'gas station/grocery': 'gas station', 'mobile frozen desserts dispenser-non- motorized': 'mobile frozen desserts vendor', 'nail shop': 'misc', 'herbal store': 'misc', 'church/after school program': 'charter school', 'commiasary': 'misc', 'dollar store selling grocery': 'misc', 'tavern/1006': 'tavern', 'service gas station': 'misc', 'art gallery': 'misc', 'incubator': 'misc', 'non-for profit basement kit': 'misc', 'book store': 'misc', \"farmer's market\": 'misc', 'mobil food 1315': 'mobile food preparer', 'produce vendor': 'private school', 'herbalife nutrition': 'misc', 'prepacakaged foods': 'misc', 'cat/liquor': 'catering', 'prepackage meal distributor (1006 retail)': 'misc', 'peddler': 'shelter', 'drug treatment facility': 'misc', 'wholesale & retail': 'wholesale', 'food vending machines': 'misc', 'convenience/gas station': 'convenience', 'frozen desserts dispenser-non-motorized': 'misc', 'wholesale bakery': 'wholesale', 'herbalife store': 'misc', 'shakes/teas': 'shelter', 'hooka bar': 'misc', 'grocery/liquor store': 'grocery/restaurant', 'tavern/liquor': 'tavern', 'pop-up food establishment user-tier ii': 'misc', 'alternative school': 'private school', 'dollar store with grocery': 'misc', 'catered liquor': 'catering', 'gift shop': 'coffee shop', 'tap room/tavern/liquor store': 'misc', 'car wash': 'charter school', 'restaurant and liquor': 'restaurant', 'np-kiosk': 'misc', 'deli/bakery': 'misc', '(convenience store)': 'convenience store', 'kids cafe': 'kiosk', 'tavern-liquor': 'tavern', 'health center/nutrition classes': 'misc', 'after school care': 'private school', \"kids cafe'\": 'kiosk', 'repackaging plant': 'misc', 'mobile frozen desserts dispenser-non-motor': 'mobile frozen desserts vendor', 'day spa': 'daycare', 'chicago park district': \"children's services facility\", 'shared kitchen user (long trem)': 'shared kitchen user (long term)', 'frozen desserts dispenser -non motorized': 'misc', 'spa': 'misc', 'herbal': 'misc', 'protein shake bar': 'misc', 'meat market': 'misc', 'furniture store': 'misc'}\n"
     ]
    }
   ],
   "source": [
    "print('Minority categories and their match in the main category pool:')\n",
    "print(small_types)"
   ]
  },
  {
   "cell_type": "code",
   "execution_count": 26,
   "metadata": {
    "ExecuteTime": {
     "end_time": "2019-11-22T12:56:09.866864Z",
     "start_time": "2019-11-22T12:56:09.753245Z"
    }
   },
   "outputs": [],
   "source": [
    "# Replacing the minority categories by majority ones in the dataframe\n",
    "chicago_df_noNan['new_facility_type'] = chicago_df_noNan['facility_type']\n",
    "\n",
    "def get_new_facility(x):\n",
    "    if x not in small_types:\n",
    "        return x\n",
    "    else:\n",
    "        return small_types[x]\n",
    "    \n",
    "chicago_df_noNan['new_facility_type'] = chicago_df_noNan['new_facility_type'].apply(get_new_facility)"
   ]
  },
  {
   "cell_type": "code",
   "execution_count": 27,
   "metadata": {
    "ExecuteTime": {
     "end_time": "2019-11-22T12:56:09.894184Z",
     "start_time": "2019-11-22T12:56:09.872152Z"
    }
   },
   "outputs": [
    {
     "name": "stdout",
     "output_type": "stream",
     "text": [
      "Number of facilities in the dataset after matching minority types to majority types: 43\n"
     ]
    }
   ],
   "source": [
    "print('Number of facilities in the dataset after matching minority types to majority types:', len(chicago_df_noNan['new_facility_type'].unique()))"
   ]
  },
  {
   "cell_type": "markdown",
   "metadata": {},
   "source": [
    "## Risk\n",
    "Filled nan values by Risk -1 and change risk 'All' to risk 4 (All), so that we can extract the data numerically if we want later\n"
   ]
  },
  {
   "cell_type": "code",
   "execution_count": 28,
   "metadata": {
    "ExecuteTime": {
     "end_time": "2019-11-22T12:56:10.297313Z",
     "start_time": "2019-11-22T12:56:10.105116Z"
    }
   },
   "outputs": [],
   "source": [
    "chicago_df_noNan['risk'].unique()\n",
    "chicago_df_noNan['risk'] = chicago_df_noNan['risk'].fillna('Risk -1 (None)')\n",
    "chicago_df_noNan['risk'] = chicago_df_noNan['risk'].str.replace('All', 'Risk 4 (All)')"
   ]
  },
  {
   "cell_type": "code",
   "execution_count": 29,
   "metadata": {
    "ExecuteTime": {
     "end_time": "2019-11-22T12:56:10.393435Z",
     "start_time": "2019-11-22T12:56:10.374695Z"
    }
   },
   "outputs": [
    {
     "data": {
      "text/plain": [
       "array(['Risk 2 (Medium)', 'Risk 3 (Low)', 'Risk 1 (High)',\n",
       "       'Risk -1 (None)', 'Risk 4 (All)'], dtype=object)"
      ]
     },
     "execution_count": 29,
     "metadata": {},
     "output_type": "execute_result"
    }
   ],
   "source": [
    "chicago_df_noNan['risk'].unique()"
   ]
  },
  {
   "cell_type": "markdown",
   "metadata": {},
   "source": [
    "## Address"
   ]
  },
  {
   "cell_type": "code",
   "execution_count": 30,
   "metadata": {
    "ExecuteTime": {
     "end_time": "2019-11-22T12:56:10.898062Z",
     "start_time": "2019-11-22T12:56:10.876113Z"
    },
    "scrolled": true
   },
   "outputs": [
    {
     "data": {
      "text/plain": [
       "array(['CHICAGO', nan, 'chicago', 'Chicago', 'GRIFFITH', 'NEW YORK',\n",
       "       'SCHAUMBURG', 'ELMHURST', 'NEW HOLSTEIN', 'ALGONQUIN', 'CCHICAGO',\n",
       "       'NILES NILES', 'EVANSTON', 'CHICAGO.', 'CHESTNUT STREET',\n",
       "       'LANSING', 'CHICAGOCHICAGO', 'WADSWORTH', 'WILMETTE', 'WHEATON',\n",
       "       'CHICAGOHICAGO', 'ROSEMONT', 'CHicago', 'CALUMET CITY',\n",
       "       'PLAINFIELD', 'HIGHLAND PARK', 'PALOS PARK', 'ELK GROVE VILLAGE',\n",
       "       'BRIDGEVIEW', 'CICERO', 'OAK PARK', 'MAYWOOD', 'LAKE BLUFF',\n",
       "       '312CHICAGO', 'SCHILLER PARK', 'SKOKIE', 'BEDFORD PARK',\n",
       "       'BANNOCKBURNDEERFIELD', 'CHCICAGO', 'BLOOMINGDALE', 'Norridge',\n",
       "       'CHARLES A HAYES', 'CHCHICAGO', 'CHICAGOI', 'SUMMIT',\n",
       "       'OOLYMPIA FIELDS', 'WESTMONT', 'CHICAGO HEIGHTS', 'JUSTICE',\n",
       "       'TINLEY PARK', 'LOMBARD', 'EAST HAZEL CREST', 'COUNTRY CLUB HILLS',\n",
       "       'STREAMWOOD', 'BOLINGBROOK', 'INACTIVE', 'BERWYN', 'BURNHAM',\n",
       "       'DES PLAINES', 'LAKE ZURICH', 'OLYMPIA FIELDS', 'OAK LAWN',\n",
       "       'BLUE ISLAND', 'GLENCOE', 'FRANKFORT', 'NAPERVILLE', 'BROADVIEW',\n",
       "       'WORTH', 'Maywood', 'ALSIP', 'alsip', 'EVERGREEN PARK'],\n",
       "      dtype=object)"
      ]
     },
     "execution_count": 30,
     "metadata": {},
     "output_type": "execute_result"
    }
   ],
   "source": [
    "chicago_df_noNan['city'].unique()"
   ]
  },
  {
   "cell_type": "code",
   "execution_count": 31,
   "metadata": {
    "ExecuteTime": {
     "end_time": "2019-11-22T12:56:11.196948Z",
     "start_time": "2019-11-22T12:56:11.188655Z"
    }
   },
   "outputs": [],
   "source": [
    "def split_address(address):\n",
    "    liste = address.upper().split(' ')\n",
    "    nr = liste[0]\n",
    "    cardinal = liste[1]\n",
    "    reste = ' '.join(liste[2:])\n",
    "    liste = nr + ('*') + cardinal + '*' + reste\n",
    "    return liste"
   ]
  },
  {
   "cell_type": "code",
   "execution_count": 32,
   "metadata": {
    "ExecuteTime": {
     "end_time": "2019-11-22T12:56:12.310567Z",
     "start_time": "2019-11-22T12:56:11.438579Z"
    }
   },
   "outputs": [],
   "source": [
    "temp = chicago_df_noNan['address'].apply(split_address)\n",
    "temp = temp.str.split('*', expand=True)\n"
   ]
  },
  {
   "cell_type": "markdown",
   "metadata": {},
   "source": [
    "## City"
   ]
  },
  {
   "cell_type": "code",
   "execution_count": 33,
   "metadata": {
    "ExecuteTime": {
     "end_time": "2019-11-22T12:56:12.455287Z",
     "start_time": "2019-11-22T12:56:12.313481Z"
    }
   },
   "outputs": [
    {
     "name": "stdout",
     "output_type": "stream",
     "text": [
      "72\n",
      "67\n"
     ]
    }
   ],
   "source": [
    "print(len(chicago_df_noNan['city'].unique()))\n",
    "chicago_df_noNan['city'] = chicago_df_noNan['city'].str.lower()\n",
    "print(len(chicago_df_noNan['city'].unique()))"
   ]
  },
  {
   "cell_type": "code",
   "execution_count": 34,
   "metadata": {
    "ExecuteTime": {
     "end_time": "2019-11-22T12:56:12.828145Z",
     "start_time": "2019-11-22T12:56:12.474272Z"
    }
   },
   "outputs": [],
   "source": [
    "chicago_df_noNan['city'].unique()\n",
    "chicago_df_noNan['city'] = chicago_df_noNan['city'].replace('cchicago', 'chicago').replace('chicago.', 'chicago')\n",
    "chicago_df_noNan['city'] = chicago_df_noNan['city'].replace('chicagochicago', 'chicago')\n",
    "chicago_df_noNan['city'] = chicago_df_noNan['city'].replace('chicagohicago', 'chicago')\n",
    "chicago_df_noNan['city'] = chicago_df_noNan['city'].replace('312chicago', 'chicago').replace('chicagoi', 'chicago')\n",
    "chicago_df_noNan['city'] = chicago_df_noNan['city'].replace('chchicago', 'chicago')\n",
    "chicago_df_noNan['city'] = chicago_df_noNan['city'].replace('chcicago', 'chicago')\n",
    "chicago_df_noNan['city'] = chicago_df_noNan['city'].fillna('chicago')"
   ]
  },
  {
   "cell_type": "code",
   "execution_count": 35,
   "metadata": {
    "ExecuteTime": {
     "end_time": "2019-11-22T12:56:12.893855Z",
     "start_time": "2019-11-22T12:56:12.840835Z"
    },
    "scrolled": true
   },
   "outputs": [
    {
     "data": {
      "text/plain": [
       "array(['algonquin', 'alsip', 'bannockburndeerfield', 'bedford park',\n",
       "       'berwyn', 'bloomingdale', 'blue island', 'bolingbrook',\n",
       "       'bridgeview', 'broadview', 'burnham', 'calumet city',\n",
       "       'charles a hayes', 'chestnut street', 'chicago', 'chicago heights',\n",
       "       'cicero', 'country club hills', 'des plaines', 'east hazel crest',\n",
       "       'elk grove village', 'elmhurst', 'evanston', 'evergreen park',\n",
       "       'frankfort', 'glencoe', 'griffith', 'highland park', 'inactive',\n",
       "       'justice', 'lake bluff', 'lake zurich', 'lansing', 'lombard',\n",
       "       'maywood', 'naperville', 'new holstein', 'new york', 'niles niles',\n",
       "       'norridge', 'oak lawn', 'oak park', 'olympia fields',\n",
       "       'oolympia fields', 'palos park', 'plainfield', 'rosemont',\n",
       "       'schaumburg', 'schiller park', 'skokie', 'streamwood', 'summit',\n",
       "       'tinley park', 'wadsworth', 'westmont', 'wheaton', 'wilmette',\n",
       "       'worth'], dtype=object)"
      ]
     },
     "execution_count": 35,
     "metadata": {},
     "output_type": "execute_result"
    }
   ],
   "source": [
    "np.sort(chicago_df_noNan['city'].unique())"
   ]
  },
  {
   "cell_type": "code",
   "execution_count": 36,
   "metadata": {
    "ExecuteTime": {
     "end_time": "2019-11-22T12:56:13.020712Z",
     "start_time": "2019-11-22T12:56:13.004117Z"
    }
   },
   "outputs": [],
   "source": [
    "cities = pd.read_csv('./data/listsChicago.csv', sep=';', header=None)\n",
    "cities[0] = cities[0].str.lower()\n",
    "cities = cities[0].values"
   ]
  },
  {
   "cell_type": "code",
   "execution_count": 37,
   "metadata": {
    "ExecuteTime": {
     "end_time": "2019-11-22T12:56:17.020744Z",
     "start_time": "2019-11-22T12:56:13.363392Z"
    }
   },
   "outputs": [],
   "source": [
    "outs = []\n",
    "ins = []\n",
    "for city in chicago_df_noNan['city'].unique():\n",
    "    if city not in cities:\n",
    "        outs.append(city)\n",
    "        chicago_df_noNan = chicago_df_noNan[chicago_df_noNan['city'] != city]\n",
    "    else:\n",
    "        ins.append(city)"
   ]
  },
  {
   "cell_type": "code",
   "execution_count": 38,
   "metadata": {
    "ExecuteTime": {
     "end_time": "2019-11-22T12:56:18.198254Z",
     "start_time": "2019-11-22T12:56:18.192744Z"
    }
   },
   "outputs": [
    {
     "name": "stdout",
     "output_type": "stream",
     "text": [
      "Here are the real cities from Chicago!\n",
      "['chicago', 'bridgeview', 'cicero', 'oak park', 'maywood', 'bedford park', 'berwyn', 'oak lawn', 'broadview', 'evergreen park']\n"
     ]
    }
   ],
   "source": [
    "print('Here are the real cities from Chicago!')\n",
    "print(ins)"
   ]
  },
  {
   "cell_type": "markdown",
   "metadata": {},
   "source": [
    "## State\n",
    " We make sure that all our remaining entries are from Chicago in Illinois! "
   ]
  },
  {
   "cell_type": "code",
   "execution_count": 39,
   "metadata": {
    "ExecuteTime": {
     "end_time": "2019-11-22T12:56:20.546500Z",
     "start_time": "2019-11-22T12:56:20.531520Z"
    }
   },
   "outputs": [
    {
     "name": "stdout",
     "output_type": "stream",
     "text": [
      "['IL' nan]\n"
     ]
    }
   ],
   "source": [
    "print(chicago_df_noNan['state'].unique())"
   ]
  },
  {
   "cell_type": "code",
   "execution_count": 40,
   "metadata": {
    "ExecuteTime": {
     "end_time": "2019-11-22T12:56:21.048233Z",
     "start_time": "2019-11-22T12:56:21.008872Z"
    }
   },
   "outputs": [
    {
     "name": "stdout",
     "output_type": "stream",
     "text": [
      "['IL']\n"
     ]
    }
   ],
   "source": [
    "chicago_df_noNan['state'] = np.where(chicago_df_noNan['state'].isnull(), 'IL', chicago_df_noNan['state'])\n",
    "print(chicago_df_noNan['state'].unique())"
   ]
  },
  {
   "cell_type": "markdown",
   "metadata": {},
   "source": [
    "## Location"
   ]
  },
  {
   "cell_type": "code",
   "execution_count": 41,
   "metadata": {
    "ExecuteTime": {
     "end_time": "2019-11-22T12:56:23.549597Z",
     "start_time": "2019-11-22T12:56:23.544275Z"
    }
   },
   "outputs": [],
   "source": [
    "missing_longitude_indices = chicago_df_noNan['longitude'].isna()"
   ]
  },
  {
   "cell_type": "code",
   "execution_count": 42,
   "metadata": {
    "ExecuteTime": {
     "end_time": "2019-11-22T12:56:24.095793Z",
     "start_time": "2019-11-22T12:56:24.088506Z"
    }
   },
   "outputs": [
    {
     "data": {
      "text/plain": [
       "556"
      ]
     },
     "execution_count": 42,
     "metadata": {},
     "output_type": "execute_result"
    }
   ],
   "source": [
    "np.sum(missing_longitude_indices)"
   ]
  },
  {
   "cell_type": "code",
   "execution_count": 43,
   "metadata": {
    "ExecuteTime": {
     "end_time": "2019-11-22T12:56:24.588456Z",
     "start_time": "2019-11-22T12:56:24.569857Z"
    },
    "scrolled": true
   },
   "outputs": [
    {
     "data": {
      "text/plain": [
       "latitude    556\n",
       "location    556\n",
       "dtype: int64"
      ]
     },
     "execution_count": 43,
     "metadata": {},
     "output_type": "execute_result"
    }
   ],
   "source": [
    "chicago_df_noNan[missing_longitude_indices][['latitude', 'location']].isna().sum()"
   ]
  },
  {
   "cell_type": "markdown",
   "metadata": {},
   "source": [
    "We can conclude that all location attributes are missing together"
   ]
  },
  {
   "cell_type": "code",
   "execution_count": 44,
   "metadata": {
    "ExecuteTime": {
     "end_time": "2019-11-22T12:56:25.582312Z",
     "start_time": "2019-11-22T12:56:25.568381Z"
    }
   },
   "outputs": [
    {
     "data": {
      "text/plain": [
       "3"
      ]
     },
     "execution_count": 44,
     "metadata": {},
     "output_type": "execute_result"
    }
   ],
   "source": [
    "# Find how many of the rows with missing location attributes have missing zip code also\n",
    "np.sum(chicago_df_noNan['longitude'].isna() & chicago_df_noNan['zip'].isna())"
   ]
  },
  {
   "cell_type": "code",
   "execution_count": 45,
   "metadata": {
    "ExecuteTime": {
     "end_time": "2019-11-22T12:56:26.015931Z",
     "start_time": "2019-11-22T12:56:26.010181Z"
    }
   },
   "outputs": [],
   "source": [
    "# Define methods that performs geocoding using the zipcode\n",
    "\n",
    "def geocode_zip_code(zip_code):\n",
    "    nomi = pgeocode.Nominatim('us')\n",
    "    nomi_query = nomi.query_postal_code(int(zip_code))\n",
    "    return pd.Series([nomi_query.latitude, nomi_query.longitude])"
   ]
  },
  {
   "cell_type": "code",
   "execution_count": 46,
   "metadata": {
    "ExecuteTime": {
     "end_time": "2019-11-22T12:58:41.731000Z",
     "start_time": "2019-11-22T12:56:26.440202Z"
    }
   },
   "outputs": [],
   "source": [
    "# Perform geocoding using the zipcode\n",
    "missing_longitude_indices_with_zip = chicago_df_noNan['longitude'].isna() & chicago_df_noNan['zip'].notna()\n",
    "missing_locations = chicago_df_noNan.loc[missing_longitude_indices_with_zip, 'zip'].apply(geocode_zip_code)"
   ]
  },
  {
   "cell_type": "code",
   "execution_count": 47,
   "metadata": {},
   "outputs": [],
   "source": [
    "chicago_df_noNan.loc[missing_longitude_indices_with_zip, 'latitude'] = missing_locations[0]\n",
    "chicago_df_noNan.loc[missing_longitude_indices_with_zip, 'longitude'] = missing_locations[1]"
   ]
  },
  {
   "cell_type": "code",
   "execution_count": 48,
   "metadata": {
    "ExecuteTime": {
     "end_time": "2019-11-22T12:58:41.761016Z",
     "start_time": "2019-11-22T12:58:41.734721Z"
    }
   },
   "outputs": [],
   "source": [
    "missing_longitude_indices = chicago_df_noNan['latitude'].isna()"
   ]
  },
  {
   "cell_type": "code",
   "execution_count": 49,
   "metadata": {
    "ExecuteTime": {
     "end_time": "2019-11-22T12:58:41.778279Z",
     "start_time": "2019-11-22T12:58:41.769494Z"
    }
   },
   "outputs": [
    {
     "data": {
      "text/plain": [
       "3"
      ]
     },
     "execution_count": 49,
     "metadata": {},
     "output_type": "execute_result"
    }
   ],
   "source": [
    "np.sum(missing_longitude_indices)"
   ]
  },
  {
   "cell_type": "markdown",
   "metadata": {},
   "source": [
    "We have filled most of the missing locations by using geocoding using the zipcode which would help us define the areas, other geocoders using the address leading to more accurate locations exist but they either require keys such as google maps or require better address format such as open street maps which does not work for of all our examples"
   ]
  },
  {
   "cell_type": "code",
   "execution_count": 50,
   "metadata": {
    "ExecuteTime": {
     "end_time": "2019-11-22T12:58:48.283910Z",
     "start_time": "2019-11-22T12:58:41.782621Z"
    }
   },
   "outputs": [],
   "source": [
    "# Create a groupedby data frame on the name and aggeragate to find the count of missing longitude and total counts for each group\n",
    "exp_df = chicago_df_noNan[['longitude', 'dba_name']].groupby('dba_name').agg({\"longitude\": [lambda x: x.isnull().sum()], 'dba_name':'count'})"
   ]
  },
  {
   "cell_type": "code",
   "execution_count": 51,
   "metadata": {
    "ExecuteTime": {
     "end_time": "2019-11-22T12:58:48.316766Z",
     "start_time": "2019-11-22T12:58:48.286806Z"
    }
   },
   "outputs": [],
   "source": [
    "# rename column for more intutive view\n",
    "exp_df.columns.set_levels(['nulls_count', 'count'],level=1,inplace=True)"
   ]
  },
  {
   "cell_type": "code",
   "execution_count": 52,
   "metadata": {
    "ExecuteTime": {
     "end_time": "2019-11-22T12:58:48.360662Z",
     "start_time": "2019-11-22T12:58:48.331247Z"
    }
   },
   "outputs": [
    {
     "data": {
      "text/plain": [
       "2.0"
      ]
     },
     "execution_count": 52,
     "metadata": {},
     "output_type": "execute_result"
    }
   ],
   "source": [
    "# Identify how many entries with missing locations have other entries for the same place with the location not missing\n",
    "\n",
    "bool_1 = (exp_df['longitude']['nulls_count'] != 0)\n",
    "bool_2 = (exp_df['dba_name']['count'] != exp_df['longitude']['nulls_count'])\n",
    "\n",
    "np.sum(exp_df[ bool_1.values & bool_2.values]['longitude']['nulls_count'])"
   ]
  },
  {
   "cell_type": "code",
   "execution_count": 53,
   "metadata": {
    "ExecuteTime": {
     "end_time": "2019-11-22T12:59:01.670490Z",
     "start_time": "2019-11-22T12:58:48.367320Z"
    }
   },
   "outputs": [],
   "source": [
    "# use restaurants with multiple entries where some have their location fields to fill the same restaurant entries with missing location\n",
    "\n",
    "missing_location_names = chicago_df_noNan.loc[missing_longitude_indices]['dba_name']\n",
    "\n",
    "for index, name in missing_location_names.items():\n",
    "    similar_entries = chicago_df_noNan[(chicago_df_noNan['dba_name'] == name) & (chicago_df_noNan['dba_name'].notna())] \n",
    "    chicago_df_noNan.at[index, 'latitude'] = similar_entries.iloc[0]['latitude']\n",
    "    chicago_df_noNan.at[index, 'longitude'] = similar_entries.iloc[0]['longitude']\n",
    "    chicago_df_noNan.at[index, 'zip'] = similar_entries.iloc[0]['zip']"
   ]
  },
  {
   "cell_type": "code",
   "execution_count": 54,
   "metadata": {
    "ExecuteTime": {
     "end_time": "2019-11-22T12:59:01.695993Z",
     "start_time": "2019-11-22T12:59:01.677946Z"
    }
   },
   "outputs": [],
   "source": [
    "missing_longitude_indices = chicago_df_noNan['latitude'].isna()"
   ]
  },
  {
   "cell_type": "code",
   "execution_count": 55,
   "metadata": {
    "ExecuteTime": {
     "end_time": "2019-11-22T12:59:01.708083Z",
     "start_time": "2019-11-22T12:59:01.700337Z"
    }
   },
   "outputs": [
    {
     "data": {
      "text/plain": [
       "1"
      ]
     },
     "execution_count": 55,
     "metadata": {},
     "output_type": "execute_result"
    }
   ],
   "source": [
    "np.sum(missing_longitude_indices)"
   ]
  },
  {
   "cell_type": "code",
   "execution_count": 56,
   "metadata": {
    "ExecuteTime": {
     "end_time": "2019-11-22T12:59:01.720127Z",
     "start_time": "2019-11-22T12:59:01.711324Z"
    }
   },
   "outputs": [
    {
     "data": {
      "text/plain": [
       "Index(['inspection_id', 'dba_name', 'aka_name', 'license', 'facility_type',\n",
       "       'risk', 'address', 'city', 'state', 'zip', 'inspection_date',\n",
       "       'inspection_type', 'results', 'violations', 'latitude', 'longitude',\n",
       "       'location', 'has_license', 'new_facility_type'],\n",
       "      dtype='object')"
      ]
     },
     "execution_count": 56,
     "metadata": {},
     "output_type": "execute_result"
    }
   ],
   "source": [
    "chicago_df_noNan.columns"
   ]
  },
  {
   "cell_type": "markdown",
   "metadata": {},
   "source": [
    "## Inspection type"
   ]
  },
  {
   "cell_type": "markdown",
   "metadata": {},
   "source": [
    "Here we clean the inspection type data by:\n",
    "1. Casefolding\n",
    "1. Removing digits because the examples were for different task forces which are very similar\n",
    "1. Removing stopwords that made sense in our dataset\n",
    "1. Correcting spelling\n",
    "1. Lemmatization of words"
   ]
  },
  {
   "cell_type": "code",
   "execution_count": 57,
   "metadata": {},
   "outputs": [],
   "source": [
    "from nltk.corpus import wordnet as wn\n",
    "from nltk.tokenize import RegexpTokenizer\n",
    "from nltk.corpus import stopwords\n",
    "from nltk.stem import WordNetLemmatizer"
   ]
  },
  {
   "cell_type": "code",
   "execution_count": 58,
   "metadata": {
    "ExecuteTime": {
     "end_time": "2019-11-22T12:59:01.807387Z",
     "start_time": "2019-11-22T12:59:01.722845Z"
    }
   },
   "outputs": [],
   "source": [
    "# lowercase everything\n",
    "chicago_df_noNan['inspection_type'] = chicago_df_noNan['inspection_type'].str.lower()"
   ]
  },
  {
   "cell_type": "code",
   "execution_count": 59,
   "metadata": {},
   "outputs": [
    {
     "data": {
      "text/plain": [
       "[('license', 'license re-inspection'),\n",
       " ('license', 'license-task force'),\n",
       " ('license', 'license task 1474'),\n",
       " ('license', 'license renewal inspection for daycare'),\n",
       " ('license', 'license renewal for daycare'),\n",
       " ('license', 'license request'),\n",
       " ('license', 'license task force / not -for-profit clu'),\n",
       " ('license', 'license task force / not -for-profit club'),\n",
       " ('license', 'license/not ready'),\n",
       " ('license', 'license daycare 1586'),\n",
       " ('license', 'license canceled by owner'),\n",
       " ('license', 'license consultation'),\n",
       " ('license', 'license wrong address'),\n",
       " ('canvass', 'canvass re-inspection'),\n",
       " ('canvass', 'canvass special events'),\n",
       " ('canvass', 'canvass school/special event'),\n",
       " ('canvass', 'canvas'),\n",
       " ('canvass', 'canvass re inspection of close up'),\n",
       " ('canvass', 'canvass/special event'),\n",
       " ('canvass', 'canvass for rib fest'),\n",
       " ('license re-inspection', 'canvass re-inspection'),\n",
       " ('license re-inspection', 'complaint re-inspection'),\n",
       " ('license re-inspection', 'recent inspection'),\n",
       " ('license re-inspection', 'license-task force'),\n",
       " ('license re-inspection', 'complaint-fire re-inspection'),\n",
       " ('license re-inspection', 'pre-license consultation'),\n",
       " ('license re-inspection', 'license task 1474'),\n",
       " ('license re-inspection', '1315 license reinspection'),\n",
       " ('license re-inspection', 'sfp recently inspected'),\n",
       " ('license re-inspection', 'license renewal inspection for daycare'),\n",
       " ('license re-inspection', 'license renewal for daycare'),\n",
       " ('license re-inspection', 'license request'),\n",
       " ('license re-inspection', 'license task force / not -for-profit clu'),\n",
       " ('license re-inspection', 'license task force / not -for-profit club'),\n",
       " ('license re-inspection', 'license/not ready'),\n",
       " ('license re-inspection', 'license daycare 1586'),\n",
       " ('license re-inspection', 'recall inspection'),\n",
       " ('license re-inspection', 'license canceled by owner'),\n",
       " ('license re-inspection', 'license consultation'),\n",
       " ('license re-inspection', 'license wrong address'),\n",
       " ('canvass re-inspection', 'complaint re-inspection'),\n",
       " ('canvass re-inspection', 'recent inspection'),\n",
       " ('canvass re-inspection', 'non-inspection'),\n",
       " ('canvass re-inspection', 'complaint-fire re-inspection'),\n",
       " ('canvass re-inspection', 'canvass special events'),\n",
       " ('canvass re-inspection', 'canvass school/special event'),\n",
       " ('canvass re-inspection', 'canvas'),\n",
       " ('canvass re-inspection', 'canvass re inspection of close up'),\n",
       " ('canvass re-inspection', 'canvass/special event'),\n",
       " ('canvass re-inspection', 'recall inspection'),\n",
       " ('canvass re-inspection', 'canvass for rib fest'),\n",
       " ('complaint re-inspection', 'complaint'),\n",
       " ('complaint re-inspection', 'recent inspection'),\n",
       " ('complaint re-inspection', 'complaint-fire re-inspection'),\n",
       " ('complaint re-inspection', 'complaint-fire'),\n",
       " ('complaint re-inspection', 'corrective action'),\n",
       " ('complaint re-inspection', 'pre-license consultation'),\n",
       " ('complaint re-inspection', '1315 license reinspection'),\n",
       " ('complaint re-inspection', 'close-up/complaint reinspection'),\n",
       " ('complaint re-inspection', 'recall inspection'),\n",
       " ('complaint', 'consultation'),\n",
       " ('complaint', 'complaint-fire re-inspection'),\n",
       " ('complaint', 'complaint-fire'),\n",
       " ('complaint', 'sfp/complaint'),\n",
       " ('recent inspection', 'pre-license consultation'),\n",
       " ('recent inspection', 'recall inspection'),\n",
       " ('recent inspection', 'reinspection of 48 hour notice'),\n",
       " ('recent inspection', 'reinspection'),\n",
       " ('recent inspection', 're-inspection of close-up'),\n",
       " ('short form complaint', 'fire complaint'),\n",
       " ('short form complaint', 'short form fire-complaint'),\n",
       " ('short form complaint', 'smoking complaint'),\n",
       " ('short form complaint', 'no entry-short complaint)'),\n",
       " ('suspected food poisoning', 'suspected food poisoning re-inspection'),\n",
       " ('not ready', 'no entry'),\n",
       " ('consultation', 'corrective action'),\n",
       " ('special events (festivals)', 'canvass special events'),\n",
       " ('special events (festivals)', 'special task force'),\n",
       " ('fire complaint', 'fire'),\n",
       " ('fire complaint', 'fire/complain'),\n",
       " ('fire complaint', 'sfp/complaint'),\n",
       " ('fire complaint', 'finish complaint inspection from 5-18-10'),\n",
       " ('fire', 'fire/complain'),\n",
       " ('tag removal', 'task force'),\n",
       " ('license-task force', 'license task 1474'),\n",
       " ('license-task force', 'license renewal inspection for daycare'),\n",
       " ('license-task force', 'license renewal for daycare'),\n",
       " ('license-task force', 'license request'),\n",
       " ('license-task force', 'license task force / not -for-profit clu'),\n",
       " ('license-task force', 'license task force / not -for-profit club'),\n",
       " ('license-task force', 'license/not ready'),\n",
       " ('license-task force', 'license daycare 1586'),\n",
       " ('license-task force', 'special task force'),\n",
       " ('license-task force', 'liqour task force not ready'),\n",
       " ('license-task force', 'license canceled by owner'),\n",
       " ('license-task force', 'license consultation'),\n",
       " ('license-task force', 'license wrong address'),\n",
       " ('complaint-fire re-inspection', 'complaint-fire'),\n",
       " ('complaint-fire re-inspection', 'pre-license consultation'),\n",
       " ('complaint-fire re-inspection', 'close-up/complaint reinspection'),\n",
       " ('short form fire-complaint', 'smoking complaint'),\n",
       " ('short form fire-complaint', 'no entry-short complaint)'),\n",
       " ('kitchen closed for renovation', 'reinspection of 48 hour notice'),\n",
       " ('task force liquor 1475', 'package liquor 1474'),\n",
       " ('task force liquor 1475', 'task force liquor 1470'),\n",
       " ('task force liquor 1475', 'task force for liquor 1474'),\n",
       " ('task force liquor 1475', 'task force liquor inspection 1474'),\n",
       " ('task force liquor 1475', 'task force liquor catering'),\n",
       " ('task force liquor 1475', 'task force night'),\n",
       " ('task force liquor 1475', 'taskforce'),\n",
       " ('task force liquor 1475', 'taste of chicago'),\n",
       " ('task force liquor 1475', 'task force'),\n",
       " ('task force liquor 1475', 'task force liquor (1481)'),\n",
       " ('task force liquor 1475', 'task force not ready'),\n",
       " ('task force liquor 1475', 'task force liquor 1474'),\n",
       " ('task force liquor 1475', 'task force package goods 1474'),\n",
       " ('task force liquor 1475', 'task force(1470) liquor tavern'),\n",
       " ('task force liquor 1475', 'task force package liquor'),\n",
       " ('package liquor 1474', 'task force liquor 1470'),\n",
       " ('package liquor 1474', 'license task 1474'),\n",
       " ('package liquor 1474', 'task force for liquor 1474'),\n",
       " ('package liquor 1474', 'task force liquor 1474'),\n",
       " ('pre-license consultation', 'close-up/complaint reinspection'),\n",
       " ('pre-license consultation', 'recall inspection'),\n",
       " ('pre-license consultation', 're-inspection of close-up'),\n",
       " ('pre-license consultation', 'license consultation'),\n",
       " ('canvass special events', 'canvass school/special event'),\n",
       " ('canvass special events', 'canvas'),\n",
       " ('canvass special events', 'canvass re inspection of close up'),\n",
       " ('canvass special events', 'canvass/special event'),\n",
       " ('canvass special events', 'canvass for rib fest'),\n",
       " ('canvass school/special event', 'canvas'),\n",
       " ('canvass school/special event', 'canvass re inspection of close up'),\n",
       " ('canvass school/special event', 'canvass/special event'),\n",
       " ('canvass school/special event', 'canvass for rib fest'),\n",
       " ('out of business', 'out ofbusiness'),\n",
       " ('no entry', 'no entry-short complaint)'),\n",
       " ('task force liquor 1470', 'task force for liquor 1474'),\n",
       " ('task force liquor 1470', 'task force liquor inspection 1474'),\n",
       " ('task force liquor 1470', 'task force liquor catering'),\n",
       " ('task force liquor 1470', 'task force night'),\n",
       " ('task force liquor 1470', 'taskforce'),\n",
       " ('task force liquor 1470', 'taste of chicago'),\n",
       " ('task force liquor 1470', 'task force'),\n",
       " ('task force liquor 1470', 'task force liquor (1481)'),\n",
       " ('task force liquor 1470', 'task force not ready'),\n",
       " ('task force liquor 1470', 'task force liquor 1474'),\n",
       " ('task force liquor 1470', 'task force package goods 1474'),\n",
       " ('task force liquor 1470', 'task force(1470) liquor tavern'),\n",
       " ('task force liquor 1470', 'task force package liquor'),\n",
       " ('sample collection', 'illegal operation'),\n",
       " ('license task 1474', 'license renewal inspection for daycare'),\n",
       " ('license task 1474', 'license renewal for daycare'),\n",
       " ('license task 1474', 'license request'),\n",
       " ('license task 1474', 'license task force / not -for-profit clu'),\n",
       " ('license task 1474', 'license task force / not -for-profit club'),\n",
       " ('license task 1474', 'license/not ready'),\n",
       " ('license task 1474', 'license daycare 1586'),\n",
       " ('license task 1474', 'license canceled by owner'),\n",
       " ('license task 1474', 'license consultation'),\n",
       " ('license task 1474', 'license wrong address'),\n",
       " ('fire/complain', 'sfp/complaint'),\n",
       " ('fire/complain', 'finish complaint inspection from 5-18-10'),\n",
       " ('task force for liquor 1474', 'task force liquor inspection 1474'),\n",
       " ('task force for liquor 1474', 'task force liquor catering'),\n",
       " ('task force for liquor 1474', 'task force night'),\n",
       " ('task force for liquor 1474', 'taskforce'),\n",
       " ('task force for liquor 1474', 'taste of chicago'),\n",
       " ('task force for liquor 1474', 'task force'),\n",
       " ('task force for liquor 1474', 'task force liquor (1481)'),\n",
       " ('task force for liquor 1474', 'task force not ready'),\n",
       " ('task force for liquor 1474', 'task force liquor 1474'),\n",
       " ('task force for liquor 1474', 'task force package goods 1474'),\n",
       " ('task force for liquor 1474', 'task force(1470) liquor tavern'),\n",
       " ('task force for liquor 1474', 'task force package liquor'),\n",
       " ('task force liquor inspection 1474', 'task force liquor catering'),\n",
       " ('task force liquor inspection 1474', 'task force night'),\n",
       " ('task force liquor inspection 1474', 'taskforce'),\n",
       " ('task force liquor inspection 1474', 'taste of chicago'),\n",
       " ('task force liquor inspection 1474', 'task force'),\n",
       " ('task force liquor inspection 1474', 'task force liquor (1481)'),\n",
       " ('task force liquor inspection 1474', 'task force not ready'),\n",
       " ('task force liquor inspection 1474', 'task force liquor 1474'),\n",
       " ('task force liquor inspection 1474', 'task force package goods 1474'),\n",
       " ('task force liquor inspection 1474', 'task force(1470) liquor tavern'),\n",
       " ('task force liquor inspection 1474', 'task force package liquor'),\n",
       " ('task force liquor catering', 'task force night'),\n",
       " ('task force liquor catering', 'taskforce'),\n",
       " ('task force liquor catering', 'taste of chicago'),\n",
       " ('task force liquor catering', 'task force'),\n",
       " ('task force liquor catering', 'task force liquor (1481)'),\n",
       " ('task force liquor catering', 'liqour task force not ready'),\n",
       " ('task force liquor catering', 'task force not ready'),\n",
       " ('task force liquor catering', 'task force liquor 1474'),\n",
       " ('task force liquor catering', 'task force package goods 1474'),\n",
       " ('task force liquor catering', 'task force(1470) liquor tavern'),\n",
       " ('task force liquor catering', 'task force package liquor'),\n",
       " ('sfp', 'sfp/complaint'),\n",
       " ('sfp', 'sfp recently inspected'),\n",
       " ('canvas', 'canvass re inspection of close up'),\n",
       " ('canvas', 'canvass/special event'),\n",
       " ('canvas', 'canvass for rib fest'),\n",
       " ('sfp/complaint', 'smoking complaint'),\n",
       " ('sfp/complaint', 'close-up/complaint reinspection'),\n",
       " ('task force night', 'taskforce'),\n",
       " ('task force night', 'taste of chicago'),\n",
       " ('task force night', 'task force'),\n",
       " ('task force night', 'task force liquor (1481)'),\n",
       " ('task force night', 'task force not ready'),\n",
       " ('task force night', 'task force liquor 1474'),\n",
       " ('task force night', 'task force package goods 1474'),\n",
       " ('task force night', 'task force(1470) liquor tavern'),\n",
       " ('task force night', 'task force package liquor'),\n",
       " ('expansion', 'reinspection'),\n",
       " ('license renewal inspection for daycare', 'license renewal for daycare'),\n",
       " ('license renewal inspection for daycare', 'license request'),\n",
       " ('license renewal inspection for daycare',\n",
       "  'license task force / not -for-profit clu'),\n",
       " ('license renewal inspection for daycare',\n",
       "  'license task force / not -for-profit club'),\n",
       " ('license renewal inspection for daycare', 'license/not ready'),\n",
       " ('license renewal inspection for daycare', 'license daycare 1586'),\n",
       " ('license renewal inspection for daycare', 'liqour task force not ready'),\n",
       " ('license renewal inspection for daycare', 'license canceled by owner'),\n",
       " ('license renewal inspection for daycare', 'license consultation'),\n",
       " ('license renewal inspection for daycare', 'license wrong address'),\n",
       " ('license renewal for daycare', 'license request'),\n",
       " ('license renewal for daycare', 'license task force / not -for-profit clu'),\n",
       " ('license renewal for daycare', 'license task force / not -for-profit club'),\n",
       " ('license renewal for daycare', 'license/not ready'),\n",
       " ('license renewal for daycare', 'license daycare 1586'),\n",
       " ('license renewal for daycare', 'day care license renewal'),\n",
       " ('license renewal for daycare', 'liqour task force not ready'),\n",
       " ('license renewal for daycare', 'license canceled by owner'),\n",
       " ('license renewal for daycare', 'license consultation'),\n",
       " ('license renewal for daycare', 'license wrong address'),\n",
       " ('canvass re inspection of close up', 'canvass/special event'),\n",
       " ('canvass re inspection of close up', 'canvass for rib fest'),\n",
       " ('canvass re inspection of close up', 're-inspection of close-up'),\n",
       " ('license request', 'license task force / not -for-profit clu'),\n",
       " ('license request', 'license task force / not -for-profit club'),\n",
       " ('license request', 'license/not ready'),\n",
       " ('license request', 'license daycare 1586'),\n",
       " ('license request', 'license canceled by owner'),\n",
       " ('license request', 'license consultation'),\n",
       " ('license request', 'license wrong address'),\n",
       " ('taskforce', 'taste of chicago'),\n",
       " ('taskforce', 'task force'),\n",
       " ('taskforce', 'task force liquor (1481)'),\n",
       " ('taskforce', 'task force not ready'),\n",
       " ('taskforce', 'task force liquor 1474'),\n",
       " ('taskforce', 'task force package goods 1474'),\n",
       " ('taskforce', 'task force(1470) liquor tavern'),\n",
       " ('taskforce', 'task force package liquor'),\n",
       " ('license task force / not -for-profit clu',\n",
       "  'license task force / not -for-profit club'),\n",
       " ('license task force / not -for-profit clu', 'license/not ready'),\n",
       " ('license task force / not -for-profit clu', 'license daycare 1586'),\n",
       " ('license task force / not -for-profit clu', 'liqour task force not ready'),\n",
       " ('license task force / not -for-profit clu', 'license canceled by owner'),\n",
       " ('license task force / not -for-profit clu', 'license consultation'),\n",
       " ('license task force / not -for-profit clu', 'license wrong address'),\n",
       " ('license task force / not -for-profit club', 'license/not ready'),\n",
       " ('license task force / not -for-profit club', 'license daycare 1586'),\n",
       " ('license task force / not -for-profit club', 'liqour task force not ready'),\n",
       " ('license task force / not -for-profit club', 'license canceled by owner'),\n",
       " ('license task force / not -for-profit club', 'license consultation'),\n",
       " ('license task force / not -for-profit club', 'license wrong address'),\n",
       " ('license/not ready', 'license daycare 1586'),\n",
       " ('license/not ready', 'license canceled by owner'),\n",
       " ('license/not ready', 'license consultation'),\n",
       " ('license/not ready', 'license wrong address'),\n",
       " ('citf', 'citation re-issued'),\n",
       " ('kids cafe', \"kids cafe'\"),\n",
       " ('license daycare 1586', 'license canceled by owner'),\n",
       " ('license daycare 1586', 'license consultation'),\n",
       " ('license daycare 1586', 'license wrong address'),\n",
       " ('canvass/special event', 'canvass for rib fest'),\n",
       " ('day care license renewal', 'license canceled by owner'),\n",
       " ('liquor catering', 'liqour task force not ready'),\n",
       " ('taste of chicago', 'task force'),\n",
       " ('taste of chicago', 'task force liquor (1481)'),\n",
       " ('taste of chicago', 'task force not ready'),\n",
       " ('taste of chicago', 'task force liquor 1474'),\n",
       " ('taste of chicago', 'task force package goods 1474'),\n",
       " ('taste of chicago', 'task force(1470) liquor tavern'),\n",
       " ('taste of chicago', 'task force package liquor'),\n",
       " ('recall inspection', 'reinspection'),\n",
       " ('recall inspection', 're-inspection of close-up'),\n",
       " ('recall inspection', 'illegal operation'),\n",
       " ('reinspection of 48 hour notice', 'reinspection'),\n",
       " ('reinspection of 48 hour notice', 're-inspection of close-up'),\n",
       " ('reinspection', 're-inspection of close-up'),\n",
       " ('task force', 'task force liquor (1481)'),\n",
       " ('task force', 'task force not ready'),\n",
       " ('task force', 'task force liquor 1474'),\n",
       " ('task force', 'task force package goods 1474'),\n",
       " ('task force', 'task force(1470) liquor tavern'),\n",
       " ('task force', 'task force package liquor'),\n",
       " ('task force liquor (1481)', 'task force not ready'),\n",
       " ('task force liquor (1481)', 'task force liquor 1474'),\n",
       " ('task force liquor (1481)', 'task force package goods 1474'),\n",
       " ('task force liquor (1481)', 'task force(1470) liquor tavern'),\n",
       " ('task force liquor (1481)', 'task force package liquor'),\n",
       " ('liqour task force not ready', 'task force not ready'),\n",
       " ('task force not ready', 'task force liquor 1474'),\n",
       " ('task force not ready', 'task force package goods 1474'),\n",
       " ('task force not ready', 'task force(1470) liquor tavern'),\n",
       " ('task force not ready', 'task force package liquor'),\n",
       " ('task force liquor 1474', 'task force package goods 1474'),\n",
       " ('task force liquor 1474', 'task force(1470) liquor tavern'),\n",
       " ('task force liquor 1474', 'task force package liquor'),\n",
       " ('task force package goods 1474', 'task force(1470) liquor tavern'),\n",
       " ('task force package goods 1474', 'task force package liquor'),\n",
       " ('license canceled by owner', 'license consultation'),\n",
       " ('license canceled by owner', 'license wrong address'),\n",
       " ('license consultation', 'license wrong address'),\n",
       " ('task force(1470) liquor tavern', 'task force package liquor')]"
      ]
     },
     "execution_count": 59,
     "metadata": {},
     "output_type": "execute_result"
    }
   ],
   "source": [
    "# Check similar entries\n",
    "check_series = chicago_df_noNan['inspection_type']\n",
    "iteratable = combinations(check_series.unique(), r=2)\n",
    "inconsistent_pairs = [pair for pair in iteratable if distance.get_jaro_distance(str(pair[0]), str(pair[1])) > 0.7]\n",
    "inconsistent_pairs"
   ]
  },
  {
   "cell_type": "code",
   "execution_count": 60,
   "metadata": {},
   "outputs": [],
   "source": [
    "# Identify methods for cleaning the text\n",
    "\n",
    "# Remove digit sequences\n",
    "def remove_digits(list_):\n",
    "    list_ = [i for i in list_ if not i.isdigit()] \n",
    "    return list_\n",
    "\n",
    "# Remove stopwords\n",
    "def remove_stopwords(list_, verbrose=False):\n",
    "    # Set of stop words that made sense with our data the predefined removed words we may need\n",
    "    stop_words = ['by', 'for', 'and', 'from', 'of']\n",
    "    filtered_sentence = [w for w in list_ if not w in stop_words]\n",
    "    if verbrose and len(list_) > len(filtered_sentence):\n",
    "        print(\"Removed Stopwords\")\n",
    "        print(list_)\n",
    "        print(filtered_sentence)\n",
    "    return filtered_sentence\n",
    "\n",
    "# Identify sentence with misspelling\n",
    "def is_misspelled(list_):\n",
    "    stop_words = set(stopwords.words('english'))\n",
    "    for word in list_:\n",
    "        if len(wn.synsets(word)) == 0 and word not in stop_words:\n",
    "            return True\n",
    "    return False\n",
    "\n",
    "# Correct sentences with misspellings\n",
    "def correct_misspellings(list_):\n",
    "    # Correction dictionary that made sense for our data because the dataset is using abbreviations we do not want to remove\n",
    "    correct_dict = {'reinspection': ['re', 'inspection'], 'clu': ['club'], 'questionaire': ['questionaire'], 'taskforce': ['task', 'force']}\n",
    "    misspelled = list(set(list_).intersection(correct_dict.keys()))\n",
    "    for word in misspelled:\n",
    "        index = list_.index(word)\n",
    "        list_[index:index+1] = correct_dict[word]\n",
    "        \n",
    "    return list_    \n",
    "\n",
    "# Lemmatizing words in sentences\n",
    "def lemmatization(list_):\n",
    "    lemmatizer = WordNetLemmatizer() \n",
    "    return [lemmatizer.lemmatize(word) for word in list_]\n",
    "\n",
    "# Define jaccard similarity to compare cleaned strings\n",
    "def jaccard_similarity(string1, string2):\n",
    "    list1 = string1.split(' ')\n",
    "    list2 = string2.split(' ')\n",
    "    intersection = len(list(set(list1).intersection(list2)))\n",
    "    union = (len(list1) + len(list2)) - intersection\n",
    "    return float(intersection) / union"
   ]
  },
  {
   "cell_type": "code",
   "execution_count": 61,
   "metadata": {
    "scrolled": true
   },
   "outputs": [],
   "source": [
    "# Inspect problems on the unique items first to identify misspellings\n",
    "tokenizer = RegexpTokenizer(r'\\w+')\n",
    "unique_inspection_type = pd.DataFrame(chicago_df_noNan['inspection_type'].unique(), columns=['inspection_type'])\n",
    "unique_inspection_type['inspection_type'] = unique_inspection_type['inspection_type'].map(str)\n",
    "unique_inspection_type['inspection_type'] = unique_inspection_type['inspection_type'].map(tokenizer.tokenize)\n",
    "unique_inspection_type['inspection_type'] = unique_inspection_type['inspection_type'].map(remove_digits)\n",
    "unique_inspection_type['inspection_type'] = unique_inspection_type['inspection_type'].map(remove_stopwords)\n",
    "unique_inspection_type['mispelled'] = unique_inspection_type['inspection_type'].apply(is_misspelled)"
   ]
  },
  {
   "cell_type": "code",
   "execution_count": 62,
   "metadata": {},
   "outputs": [
    {
     "name": "stdout",
     "output_type": "stream",
     "text": [
      "                             inspection_type  mispelled\n",
      "28              [pre, license, consultation]       True\n",
      "39                   [license, reinspection]       True\n",
      "42                                     [sfp]       True\n",
      "44                          [sfp, complaint]       True\n",
      "48                [sfp, recently, inspected]       True\n",
      "54                               [taskforce]       True\n",
      "55  [license, task, force, not, profit, clu]       True\n",
      "59                                    [citf]       True\n",
      "70                     [haccp, questionaire]       True\n",
      "71                         [out, ofbusiness]       True\n",
      "72      [close, up, complaint, reinspection]       True\n",
      "77              [reinspection, hour, notice]       True\n",
      "78                            [reinspection]       True\n",
      "80                      [canvass, rib, fest]       True\n",
      "84         [liqour, task, force, not, ready]       True\n"
     ]
    }
   ],
   "source": [
    "with pd.option_context('display.max_rows', None, 'display.max_columns', None):  # more options can be specified also\n",
    "    print(unique_inspection_type[unique_inspection_type['mispelled']])"
   ]
  },
  {
   "cell_type": "code",
   "execution_count": null,
   "metadata": {},
   "outputs": [],
   "source": [
    "# Clean full dataset\n",
    "chicago_df_noNan['inspection_type'] = chicago_df_noNan['inspection_type'].map(str)\n",
    "chicago_df_noNan['inspection_type'] = chicago_df_noNan['inspection_type'].map(tokenizer.tokenize)\n",
    "chicago_df_noNan['inspection_type'] = chicago_df_noNan['inspection_type'].map(remove_digits)\n",
    "chicago_df_noNan['inspection_type'] = chicago_df_noNan['inspection_type'].map(remove_stopwords)\n",
    "chicago_df_noNan['mispelled'] = chicago_df_noNan['inspection_type'].apply(is_misspelled)\n",
    "chicago_df_noNan[chicago_df_noNan['mispelled']]['inspection_type'] = chicago_df_noNan[chicago_df_noNan['mispelled']]['inspection_type'].map(correct_misspellings)\n",
    "chicago_df_noNan['mispelled'] = chicago_df_noNan['inspection_type'].apply(is_misspelled)\n",
    "chicago_df_noNan['inspection_type'] = chicago_df_noNan['inspection_type'].map(lemmatization)\n",
    "chicago_df_noNan['inspection_type'] = chicago_df_noNan['inspection_type'].map(' '.join)"
   ]
  },
  {
   "cell_type": "code",
   "execution_count": null,
   "metadata": {},
   "outputs": [],
   "source": [
    "# Look for similar inspection_types\n",
    "iteratable = combinations(chicago_df_noNan['inspection_type'].unique(), r=2)\n",
    "inconsistent_pairs = [pair for pair in iteratable if jaccard_similarity(str(pair[0]), str(pair[1])) > 0.7]\n",
    "inconsistent_pairs"
   ]
  },
  {
   "cell_type": "code",
   "execution_count": null,
   "metadata": {},
   "outputs": [],
   "source": [
    "# Drop flag column after cleaning\n",
    "chicago_df_noNan = chicago_df_noNan.drop(columns=['mispelled'], axis=1)"
   ]
  },
  {
   "cell_type": "markdown",
   "metadata": {},
   "source": [
    "Now after cleaning there still seem to be different entries that look very similar, However, since we do not know if they will help or not, we will them for now."
   ]
  },
  {
   "cell_type": "markdown",
   "metadata": {},
   "source": [
    "# Data Exploration"
   ]
  },
  {
   "cell_type": "markdown",
   "metadata": {},
   "source": [
    "## Missing Data"
   ]
  },
  {
   "cell_type": "markdown",
   "metadata": {},
   "source": [
    "Let us first evaluate how our dataset looks like, after the cleaning."
   ]
  },
  {
   "cell_type": "code",
   "execution_count": null,
   "metadata": {
    "ExecuteTime": {
     "end_time": "2019-11-22T13:00:21.110627Z",
     "start_time": "2019-11-22T13:00:20.720702Z"
    }
   },
   "outputs": [],
   "source": [
    "# get missing data percentages\n",
    "total = chicago_df_noNan.isnull().sum().sort_values(ascending=False)\n",
    "percentage = (100*(chicago_df_noNan.isnull().sum()/chicago_df_noNan.isnull().count() \n",
    "                  ).sort_values(ascending=False))\n",
    "missing_data = pd.concat([total, percentage], axis=1, keys=['Total', 'Percentage'])\n",
    "missing_data.index.name = 'Column'\n",
    "print(\"Number of total entries in dataframe: {}\".format(chicago_df_noNan.shape[0]))\n",
    "missing_data"
   ]
  },
  {
   "cell_type": "markdown",
   "metadata": {},
   "source": [
    "From this table, we can obtain some interesting data. \n",
    "\n",
    "For instance, from a **total number of 195212** reports of inspections submitted, 143452 *(= 195212-51760)* violations were found out. This corresponds to **a rate of 73.48% violations found** in the inspections made."
   ]
  },
  {
   "cell_type": "markdown",
   "metadata": {},
   "source": [
    "## Inspections by type  of business"
   ]
  },
  {
   "cell_type": "markdown",
   "metadata": {},
   "source": [
    "First, we'll want to see how inspections are distributed by type of business:"
   ]
  },
  {
   "cell_type": "code",
   "execution_count": null,
   "metadata": {
    "ExecuteTime": {
     "end_time": "2019-11-22T13:03:25.281505Z",
     "start_time": "2019-11-22T13:03:25.250180Z"
    }
   },
   "outputs": [],
   "source": [
    "# Inspections by type of restaurant\n",
    "nInspectionsByType = chicago_df_noNan[\"new_facility_type\"].value_counts()\n",
    "nInspectionsByType.head()"
   ]
  },
  {
   "cell_type": "code",
   "execution_count": null,
   "metadata": {
    "ExecuteTime": {
     "end_time": "2019-11-22T13:07:07.837200Z",
     "start_time": "2019-11-22T13:07:07.185909Z"
    }
   },
   "outputs": [],
   "source": [
    "nInspectionsByType.plot.bar()\n",
    "plt.xticks(fontsize=7)\n",
    "plt.title(\"Inspections by (treated) type of facility\")\n",
    "plt.ylabel(\"(Logarithmic) number of inspections\")\n",
    "plt.yscale('log')\n",
    "plt.show()"
   ]
  },
  {
   "cell_type": "markdown",
   "metadata": {},
   "source": [
    "The plot above presents the number of inspections by type of business - one pertinent observation would be that most of the inspections correspond to restaurants."
   ]
  },
  {
   "cell_type": "markdown",
   "metadata": {},
   "source": [
    "## Relationship between columns"
   ]
  },
  {
   "cell_type": "markdown",
   "metadata": {},
   "source": [
    "Let us see how the columns of the dataset are related. \n",
    "\n",
    "To start, we will plot the correlations between every pair of columns in order to see how they can be connected to each other."
   ]
  },
  {
   "cell_type": "code",
   "execution_count": null,
   "metadata": {
    "ExecuteTime": {
     "end_time": "2019-11-22T13:10:30.585318Z",
     "start_time": "2019-11-22T13:09:45.870403Z"
    }
   },
   "outputs": [],
   "source": [
    "sns.set()\n",
    "sns.pairplot(chicago_df_noNan.dropna())\n",
    "plt.show()"
   ]
  },
  {
   "cell_type": "markdown",
   "metadata": {},
   "source": [
    "From the previous plot, we can extract some interesting results:\n",
    "- The plot (`Latitude`, `Longitude`) gives us a sense of the city's shape, as it becomes a plot of the data points in space (for comparison, an map of the can also be found further bellow). Furthermore, both `Longitude` and `Latitude` are approximately naturally distributed in their value range. \n",
    "- The `Zip` address is concentrated at 60000, which is not surprising as Chicago's zip codes are concentrated at around 60600. The histogram plot easily evidencies the presence of at least two outliers, due to it's unexpected x-axis value range - these may be restaurants in the outskirts of the city.\n",
    "- We would expect a uniform distribution for the `Inspection ID`, but the plotted histogram may reflect a national-scale license attribution system.\n",
    "- Finally, inspections seem to be pretty uniformly dispersed throughout the different `License #` values, whose histogram also evidencies one outlier.\n",
    "\n",
    "After looking at this plot, we may ask which of these variable are linearly correlated. And this is the next question we are going to answer from our dataset."
   ]
  },
  {
   "cell_type": "markdown",
   "metadata": {
    "ExecuteTime": {
     "end_time": "2019-11-22T13:21:43.630870Z",
     "start_time": "2019-11-22T13:21:43.138644Z"
    }
   },
   "source": [
    "## Where are the inspections located?"
   ]
  },
  {
   "cell_type": "markdown",
   "metadata": {},
   "source": [
    "Previously, we saw the plot of `('Latitude', 'Longitude')` already creates a basic map with the location of the businesses within the city.\n",
    "\n",
    "Let's formalize this map and understand better where the businesses subject to inspections are located"
   ]
  },
  {
   "cell_type": "code",
   "execution_count": null,
   "metadata": {
    "ExecuteTime": {
     "end_time": "2019-11-22T13:24:03.650182Z",
     "start_time": "2019-11-22T13:24:03.620959Z"
    }
   },
   "outputs": [],
   "source": [
    "# New DataFrame with the zip codes and #inspections per zip code\n",
    "businessesByZip = chicago_df_noNan.groupby('zip')[['inspection_id']].count()\n",
    "businessesByZip = businessesByZip.rename(columns={'inspection_id':'nInspections'})\n",
    "businessesByZip.reset_index(inplace=True)\n",
    "businessesByZip['zip'] = businessesByZip['zip'].astype(int).astype('str')\n",
    "businessesByZip.head(3)"
   ]
  },
  {
   "cell_type": "code",
   "execution_count": null,
   "metadata": {
    "ExecuteTime": {
     "end_time": "2019-11-22T13:24:26.526660Z",
     "start_time": "2019-11-22T13:24:25.993914Z"
    }
   },
   "outputs": [],
   "source": [
    "m = folium.Map(location=[41.8781, -87.6298])\n",
    "zip_geo = f'./data/zipCodesBoundaries.geojson'\n",
    "\n",
    "folium.Choropleth(\n",
    "    geo_data=zip_geo,\n",
    "    name='choropleth',\n",
    "    data=businessesByZip,\n",
    "    columns=['zip','nInspections'],\n",
    "    key_on='feature.properties.zip',\n",
    "    fill_color='BuPu',\n",
    "    fill_opacity=0.7,\n",
    "    line_opacity=0.2,\n",
    "    legend_name='Businesses per zip'\n",
    ").add_to(m)\n",
    "\n",
    "folium.LayerControl().add_to(m)\n",
    "\n",
    "m"
   ]
  },
  {
   "cell_type": "markdown",
   "metadata": {},
   "source": [
    "This map contains the number of inspections made by zip code area, and reflects how the majority of inspections are located in downtown Chicago"
   ]
  },
  {
   "cell_type": "code",
   "execution_count": null,
   "metadata": {},
   "outputs": [],
   "source": []
  },
  {
   "cell_type": "code",
   "execution_count": null,
   "metadata": {},
   "outputs": [],
   "source": []
  }
 ],
 "metadata": {
  "kernelspec": {
   "display_name": "Python [conda env:ada] *",
   "language": "python",
   "name": "conda-env-ada-py"
  },
  "language_info": {
   "codemirror_mode": {
    "name": "ipython",
    "version": 3
   },
   "file_extension": ".py",
   "mimetype": "text/x-python",
   "name": "python",
   "nbconvert_exporter": "python",
   "pygments_lexer": "ipython3",
   "version": "3.7.4"
  },
  "toc": {
   "base_numbering": 1,
   "nav_menu": {},
   "number_sections": true,
   "sideBar": true,
   "skip_h1_title": false,
   "title_cell": "Table of Contents",
   "title_sidebar": "Contents",
   "toc_cell": true,
   "toc_position": {},
   "toc_section_display": true,
   "toc_window_display": false
  }
 },
 "nbformat": 4,
 "nbformat_minor": 2
}
